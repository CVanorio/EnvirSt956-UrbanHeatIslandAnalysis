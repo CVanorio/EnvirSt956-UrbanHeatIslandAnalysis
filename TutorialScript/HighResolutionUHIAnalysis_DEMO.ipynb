{
  "nbformat": 4,
  "nbformat_minor": 0,
  "metadata": {
    "colab": {
      "provenance": [],
      "gpuType": "T4",
      "mount_file_id": "13HdoksFrckkJEhsJRTrcmewviziQKaj1",
      "authorship_tag": "ABX9TyP11TKf0SDskCmABPWjKIpU",
      "include_colab_link": true
    },
    "kernelspec": {
      "name": "python3",
      "display_name": "Python 3"
    },
    "language_info": {
      "name": "python"
    }
  },
  "cells": [
    {
      "cell_type": "markdown",
      "metadata": {
        "id": "view-in-github",
        "colab_type": "text"
      },
      "source": [
        "<a href=\"https://colab.research.google.com/github/CVanorio/EnvirSt956-UrbanHeatIslandAnalysis/blob/main/TutorialScript/HighResolutionUHIAnalysis_DEMO.ipynb\" target=\"_parent\"><img src=\"https://colab.research.google.com/assets/colab-badge.svg\" alt=\"Open In Colab\"/></a>"
      ]
    },
    {
      "cell_type": "markdown",
      "source": [
        "# **Comparing High Resoltuion Thermal Imagery to Landsat 8 for Urban Heat Islands**\n",
        "### This code analyzes high resolution thermal imagery to assess urban heat island characteristics and compares the results to Landsat 8 thermal imagery. The aerial thermal imagery used in this analysis was acquired by the [Wisconsin DNR](https://data-wi-dnr.opendata.arcgis.com/search?q=temperature) in July of 2022 and has a resolution of 10 meters.\n",
        "\n",
        "####**Pre-requesites for this project include:**\n",
        "\n",
        "\n",
        "*   Your high resolution thermal data uploaded to your Google Drive account\n",
        "*   A Google Earth Engine Account with a registered cloud project\n",
        "*   Your urban or boundary shapefile\n",
        "*   Data for this example can be found at [this repository](https://github.com/CVanorio/EnvirSt956-UrbanHeatIslandAnalysis)\n",
        "\n"
      ],
      "metadata": {
        "id": "jJRAKjLFDG0M"
      }
    },
    {
      "cell_type": "markdown",
      "source": [
        "## 1. Connect to your Google Drive and Google Earth Engine Account"
      ],
      "metadata": {
        "id": "u2kOuT9voHEY"
      }
    },
    {
      "cell_type": "code",
      "source": [
        "# the following two lines establishes the connection\n",
        "# to your google drive and \"mounts\" your drive as gdrive\n",
        "from google.colab import drive\n",
        "drive.mount('/content/gdrive')"
      ],
      "metadata": {
        "id": "RgGAGgAmHJNU"
      },
      "execution_count": null,
      "outputs": []
    },
    {
      "cell_type": "code",
      "source": [
        "# Import the Earth Engine Python API\n",
        "import ee\n",
        "# Authenticate the user with Earth Engine\n",
        "ee.Authenticate()\n",
        "# Initialize the Earth Engine library with a specific project\n",
        "ee.Initialize(project='ee-cvanorio')"
      ],
      "metadata": {
        "id": "tcz2WvLAADY5"
      },
      "execution_count": null,
      "outputs": []
    },
    {
      "cell_type": "markdown",
      "source": [
        "## 2. Install and import necessary modules and update all existing packages"
      ],
      "metadata": {
        "id": "pXu8KAgCo3Lt"
      }
    },
    {
      "cell_type": "code",
      "source": [
        "# install the missing modules\n",
        "!pip install rasterio\n",
        "!pip install geopandas\n",
        "#!add-apt-repository ppa:ubuntugis/ppa #This requires user input to finish installing\n",
        "!apt install gdal-bin\n",
        "!pip install geemap\n",
        "!pip install ipyleaflet==0.18.2\n",
        "\n",
        "# update all packages\n",
        "!apt update"
      ],
      "metadata": {
        "id": "_no7wnt2FefX"
      },
      "execution_count": null,
      "outputs": []
    },
    {
      "cell_type": "code",
      "source": [
        "import subprocess\n",
        "\n",
        "# Command to add repository\n",
        "command = \"add-apt-repository ppa:ubuntugis/ppa\"\n",
        "\n",
        "# Run the command with automatic input of Enter\n",
        "subprocess.run(['echo', '', '|', 'yes', '|'] + command.split())"
      ],
      "metadata": {
        "id": "-SW-Rm6tbUKM"
      },
      "execution_count": null,
      "outputs": []
    },
    {
      "cell_type": "code",
      "source": [
        "# import necessary modules\n",
        "from osgeo import gdal\n",
        "import rasterio\n",
        "from rasterio.plot import reshape_as_raster, reshape_as_image\n",
        "from rasterio.mask import mask\n",
        "import matplotlib.pyplot as plt\n",
        "import geopandas as gpd\n",
        "import numpy as np\n",
        "import pandas as pd\n",
        "from shapely.geometry import mapping\n",
        "import json\n",
        "import geemap\n",
        "import time"
      ],
      "metadata": {
        "id": "W4PfF345BnAJ"
      },
      "execution_count": null,
      "outputs": []
    },
    {
      "cell_type": "markdown",
      "source": [
        "## 3. This project uses a city boundary shapefile. For the shapefile, be sure to include all of the supporting files such as the .cpg, .dbf, .prj, and .shx files."
      ],
      "metadata": {
        "id": "KHtxJmaRpmMa"
      }
    },
    {
      "cell_type": "code",
      "source": [
        "# now copy the files of interest using linux copy\n",
        "# NOTE your files will be located at a different path!\n",
        "# You can rename the files by adding a new file name in quotes after the file path\n",
        "!cp '/content/gdrive/MyDrive/MilwaukeeAerial/Milwaukee_City_Boundary.cpg' .\n",
        "!cp '/content/gdrive/MyDrive/MilwaukeeAerial/Milwaukee_City_Boundary.dbf' .\n",
        "!cp '/content/gdrive/MyDrive/MilwaukeeAerial/Milwaukee_City_Boundary.prj' .\n",
        "!cp '/content/gdrive/MyDrive/MilwaukeeAerial/Milwaukee_City_Boundary.shp' .\n",
        "!cp '/content/gdrive/MyDrive/MilwaukeeAerial/Milwaukee_City_Boundary.shx' .\n",
        "\n",
        "# List all of the files in the working directory to confirm all were copied successfully\n",
        "!ls"
      ],
      "metadata": {
        "id": "_YV0ll3gHLHH"
      },
      "execution_count": null,
      "outputs": []
    },
    {
      "cell_type": "markdown",
      "source": [
        "## 4. Read the shapefile and create a GEE feature collection for the ROI"
      ],
      "metadata": {
        "id": "kOFCJ06Jrmhs"
      }
    },
    {
      "cell_type": "code",
      "source": [
        "# Use geopandas to read the shapefile into a GeoDataFrame\n",
        "shapefile = gpd.read_file('Milwaukee_City_Boundary.shp')\n",
        "# Print the coordinate reference system (CRS) of the shapefile\n",
        "print(shapefile.crs)\n",
        "\n",
        "# if the CRS does not match, reproject the vector data using this code\n",
        "#shapefile = shapefile.to_crs({'init': 'EPSG: YOUR CRS HERE'})\n",
        "#print(shapefile.crs)\n",
        "\n",
        "# # this generates a list of shapely geometries\n",
        "geoms = shapefile.geometry.values\n",
        "\n",
        "# let's grab a single shapely geometry to check\n",
        "geometry = geoms[0] # grab the first one\n",
        "print(type(geometry))\n",
        "print(geometry)\n",
        "\n",
        "# transform to GeoJSON format\n",
        "from shapely.geometry import mapping\n",
        "feature = [mapping(geometry)] # can also do this using polygon.__geo_interface__\n",
        "print(type(feature))\n",
        "print(feature)\n",
        "\n",
        "# # Load the shapefile as a FeatureCollection\n",
        "roiFeatureCol = ee.FeatureCollection(feature)\n",
        "\n",
        "ee_roi = geemap.shp_to_ee(\"'Milwaukee_City_Boundary.shp'\")"
      ],
      "metadata": {
        "id": "Aj_2I56FAsqw"
      },
      "execution_count": null,
      "outputs": []
    },
    {
      "cell_type": "markdown",
      "source": [
        "## 5. Get Sentinel 2 for the ROI and view the image"
      ],
      "metadata": {
        "id": "tNo-2YGGrzwH"
      }
    },
    {
      "cell_type": "code",
      "source": [
        "# Define function to mask clouds\n",
        "def maskS2clouds(image):\n",
        "    qa = image.select('QA60')\n",
        "    # Bits 10 and 11 are clouds and cirrus, respectively.\n",
        "    cloud_bit_mask = 1 << 10\n",
        "    cirrus_bit_mask = 1 << 11\n",
        "    # Both flags should be set to zero, indicating clear conditions.\n",
        "    mask = (\n",
        "        qa.bitwiseAnd(cloud_bit_mask)\n",
        "        .eq(0)\n",
        "        .And(qa.bitwiseAnd(cirrus_bit_mask).eq(0))\n",
        "    )\n",
        "    return image.updateMask(mask).divide(10000)\n",
        "\n",
        "# Define Sentinel-2 image collection\n",
        "milwaukeeS2 = ee.ImageCollection('COPERNICUS/S2_SR_HARMONIZED') \\\n",
        "    .filterDate(\"2022-05-01\", \"2022-08-01\") \\\n",
        "    .select(['B2', 'B3', 'B4', 'B8', 'B11', 'B12', 'QA60']) \\\n",
        "    .filter(ee.Filter.lt('CLOUDY_PIXEL_PERCENTAGE',5)) \\\n",
        "    .filterBounds(roiFeatureCol) \\\n",
        "    .map(maskS2clouds)\n",
        "\n",
        "# Print the number of images in the collection\n",
        "print(\"Number of images in the collection:\", milwaukeeS2.size().getInfo())\n",
        "\n",
        "milwaukeeS2 = milwaukeeS2.mean()\n",
        "\n",
        "# Clip the collection to the exact shape of the ROI\n",
        "milwaukeeS2 = milwaukeeS2.clip(roiFeatureCol)"
      ],
      "metadata": {
        "id": "OKeeQQBmAFft"
      },
      "execution_count": null,
      "outputs": []
    },
    {
      "cell_type": "code",
      "source": [
        "crs = milwaukeeS2.projection().getInfo()['crs']\n",
        "print(\"CRS of the image:\", crs)"
      ],
      "metadata": {
        "id": "8fAhZT4oI4Qq"
      },
      "execution_count": null,
      "outputs": []
    },
    {
      "cell_type": "code",
      "source": [
        "# Set up display environment\n",
        "Map = geemap.Map()\n",
        "Map.addLayerControl()\n",
        "\n",
        "# Define visualization parameters for true color and false color\n",
        "visParams = {\n",
        "    'min': 0.0,\n",
        "    'max': 0.3,\n",
        "    'bands': ['B4', 'B3', 'B2']\n",
        "}\n",
        "\n",
        "visParamsFalseColor = {\n",
        "    'min': 0.0,\n",
        "    'max': 0.3,\n",
        "    'bands': ['B11', 'B8', 'B4'],\n",
        "}\n",
        "Map\n",
        "\n",
        "# Add Sentinel 2 imagery to the map\n",
        "Map.addLayer(milwaukeeS2, visParams, \"Sentinel 2 True Color\")\n",
        "\n",
        "# Add Sentinel 2 imagery to the map with false color\n",
        "Map.addLayer(milwaukeeS2, visParamsFalseColor, \"Sentinel 2 False Color\")\n",
        "\n",
        "# Center the map on the ROI at zoom level 11\n",
        "Map.centerObject(roiFeatureCol, 11)\n",
        "\n",
        "# Call the map to display it\n",
        "Map"
      ],
      "metadata": {
        "id": "gJyA94vKCRKb"
      },
      "execution_count": null,
      "outputs": []
    },
    {
      "cell_type": "markdown",
      "source": [
        "## 6. Add NDVI band to image to add additional information for classifying the image"
      ],
      "metadata": {
        "id": "wbRJqP66ByTs"
      }
    },
    {
      "cell_type": "code",
      "source": [
        "# Calculate NDVI\n",
        "ndvi = milwaukeeS2.normalizedDifference(['B8', 'B4']).rename('NDVI')\n",
        "\n",
        "# Add NDVI band to the image\n",
        "milwaukeeS2WithNDVI = milwaukeeS2.toFloat().addBands(ndvi)"
      ],
      "metadata": {
        "id": "-ezceB8gBxEV"
      },
      "execution_count": null,
      "outputs": []
    },
    {
      "cell_type": "code",
      "source": [
        "# Define visualization parameters for true color and false color\n",
        "NDVIVisParams = {\n",
        "    'min': 0.0,\n",
        "    'max': 1.0,\n",
        "    'bands':['NDVI']\n",
        "    }\n",
        "\n",
        "# Add NAIP imagery to the map with false color\n",
        "Map.addLayer(milwaukeeS2WithNDVI, NDVIVisParams, \"Sentinel 2 NDVI\")\n",
        "\n",
        "#Center the map on the ROI at zoom level 11\n",
        "Map.centerObject(roiFeatureCol, 11)\n",
        "\n",
        "# call the map to view it\n",
        "Map"
      ],
      "metadata": {
        "id": "UHdz4doPCVOb"
      },
      "execution_count": null,
      "outputs": []
    },
    {
      "cell_type": "code",
      "source": [
        "# # Define the export parameters\n",
        "# # Export the image, specifying scale and region.\n",
        "\n",
        "task = ee.batch.Export.image.toDrive(**{\n",
        "    'image': milwaukeeS2WithNDVI,\n",
        "    'description': 'milwaukeeS2WithNDVI',\n",
        "    'folder':'MilwaukeeAerial',\n",
        "    'scale': 10,\n",
        "    'region': roiFeatureCol.geometry().bounds(),\n",
        "    'maxPixels': 703451232  # Increase maxPixels value\n",
        "})\n",
        "task.start()\n",
        "\n",
        "\n",
        "# Wait for the export task to complete\n",
        "while task.active():\n",
        "    print('Export task is still active...')\n",
        "    time.sleep(10)\n",
        "\n",
        "# Check if the export was successful\n",
        "if task.status()['state'] == 'COMPLETED':\n",
        "    print(\"Export completed successfully!\")\n",
        "else:\n",
        "    print(\"Export failed:\", task.status()['state'])\n",
        "    print(\"Error message:\", task.status()['error_message'])\n"
      ],
      "metadata": {
        "id": "sGIN7keQdWYc"
      },
      "execution_count": null,
      "outputs": []
    },
    {
      "cell_type": "markdown",
      "source": [
        "## 7. Create a land cover classification using AUTOML."
      ],
      "metadata": {
        "id": "BUmoEHR09QwH"
      }
    },
    {
      "cell_type": "code",
      "source": [
        "!cp '/content/gdrive/MyDrive/MilwaukeeAerial/milwaukeeS2WithNDVI1.tif' .\n",
        "!cp '/content/gdrive/MyDrive/MilwaukeeAerial/milwaukeeS2WithNDVI2.tif' .\n",
        "!cp '/content/gdrive/MyDrive/MilwaukeeAerial/milwaukeeS2WithNDVI3.tif' .\n",
        "!cp '/content/gdrive/MyDrive/MilwaukeeAerial/milwaukeeS2WithNDVI4.tif' .\n",
        "!cp '/content/gdrive/MyDrive/MilwaukeeAerial/milwaukeeS2WithNDVI5.tif' .\n",
        "!cp '/content/gdrive/MyDrive/MilwaukeeAerial/milwaukeeS2WithNDVI6.tif' .\n",
        "!cp '/content/gdrive/MyDrive/MilwaukeeAerial/milwaukeeTrainingPoints.cpg' .\n",
        "!cp '/content/gdrive/MyDrive/MilwaukeeAerial/milwaukeeTrainingPoints.dbf' .\n",
        "!cp '/content/gdrive/MyDrive/MilwaukeeAerial/milwaukeeTrainingPoints.prj' .\n",
        "!cp '/content/gdrive/MyDrive/MilwaukeeAerial/milwaukeeTrainingPoints.shp' .\n",
        "!cp '/content/gdrive/MyDrive/MilwaukeeAerial/milwaukeeTrainingPoints.shx' .\n",
        "\n",
        "!ls"
      ],
      "metadata": {
        "id": "cULsfKCt-lFz"
      },
      "execution_count": null,
      "outputs": []
    },
    {
      "cell_type": "code",
      "source": [
        "# # # Open the classified raster file and visualize it\n",
        "# # with rasterio.open('milwaukeeS2WithNDVI1.tif') as src:\n",
        "# #     show(src)\n",
        "\n",
        "# make sure the shapefile and the summer image have the same CRS\n",
        "ds = rasterio.open('milwaukeeS2WithNDVI1.tif')\n",
        "print(ds.crs)\n",
        "\n",
        "shapefile = gpd.read_file('milwaukeeTrainingPoints.shp')\n",
        "print(shapefile.crs)\n",
        "\n",
        "ds.close()"
      ],
      "metadata": {
        "id": "9pu2EPGRBDRt"
      },
      "execution_count": null,
      "outputs": []
    },
    {
      "cell_type": "code",
      "source": [
        "shapefile = shapefile.to_crs({'init': 'EPSG:4326'})\n",
        "print(shapefile.crs)"
      ],
      "metadata": {
        "id": "hj6OAG3wCG8H"
      },
      "execution_count": null,
      "outputs": []
    },
    {
      "cell_type": "code",
      "source": [
        "# let's print the feature count in the training shapefile\n",
        "print(len(shapefile))\n",
        "\n",
        "# finally open the shapefile and hold it in a \"geom\" variable\n",
        "# this generates a list of shapely geometries\n",
        "geoms = shapefile.geometry.values"
      ],
      "metadata": {
        "id": "t8cois3_CtAI"
      },
      "execution_count": null,
      "outputs": []
    },
    {
      "cell_type": "code",
      "source": [
        "import rasterio\n",
        "import numpy as np\n",
        "from rasterio.mask import mask\n",
        "from shapely.geometry import box, mapping\n",
        "\n",
        "# create empty numpy arrays to hold the X and y variables\n",
        "X = np.array([], dtype=np.int16).reshape(0, 8)  # pixels for training\n",
        "y = np.array([], dtype=np.int8)  # labels for training\n",
        "\n",
        "# List of image file paths\n",
        "image_files = [\n",
        "    'milwaukeeS2WithNDVI1.tif',\n",
        "    'milwaukeeS2WithNDVI2.tif',\n",
        "    'milwaukeeS2WithNDVI3.tif',\n",
        "    'milwaukeeS2WithNDVI4.tif',\n",
        "    'milwaukeeS2WithNDVI5.tif',\n",
        "    'milwaukeeS2WithNDVI6.tif'\n",
        "]\n",
        "\n",
        "# Iterate over each image source\n",
        "for image_path in image_files:\n",
        "    with rasterio.open(image_path) as src:\n",
        "        band_count = src.count\n",
        "        for index, geom in enumerate(geoms):\n",
        "            feature = [mapping(geom)]\n",
        "\n",
        "            # Create a Shapely geometry representing the bounds of the image\n",
        "            image_bounds = box(*src.bounds)\n",
        "\n",
        "            # Ensure the feature is within the bounds of the image\n",
        "            if image_bounds.contains(geom):\n",
        "                # the mask function returns an array of the raster pixels within this feature\n",
        "                out_image, out_transform = mask(src, feature, crop=True)\n",
        "\n",
        "                # eliminate all the pixels with 0 values for all bands - AKA not actually part of the shapefile\n",
        "                out_image_trimmed = out_image[:, ~np.all(out_image == 0, axis=0)]\n",
        "\n",
        "                # eliminate all the pixels with XXX values for all bands\n",
        "                # this would be done to remove missing data values (if any)\n",
        "                out_image_trimmed = out_image_trimmed[:, ~np.all(out_image_trimmed == 255, axis=0)]\n",
        "\n",
        "                # reshape the array to [pixel count, bands]\n",
        "                out_image_reshaped = out_image_trimmed.reshape(-1, band_count)\n",
        "\n",
        "                # append the labels to the y array\n",
        "                y = np.append(y, [shapefile[\"class\"][index]] * out_image_reshaped.shape[0])\n",
        "\n",
        "                # stack the pixels onto the pixel array\n",
        "                X = np.vstack((X, out_image_reshaped))\n",
        "\n",
        "    src.close()"
      ],
      "metadata": {
        "id": "7NDSRxCbAlLv"
      },
      "execution_count": null,
      "outputs": []
    },
    {
      "cell_type": "code",
      "source": [
        "# What are our classification labels?\n",
        "labels = np.unique(shapefile[\"class\"])\n",
        "print('The training data include {n} classes: {classes}\\n'.format(n=labels.size,\n",
        "                                                                classes=labels))\n",
        "\n",
        "# We will need a \"X\" matrix containing our features, and a \"y\" array containing our labels\n",
        "print('Our X matrix is sized: {sz}'.format(sz=X.shape))\n",
        "print('Our y array is sized: {sz}'.format(sz=y.shape))\n",
        "\n",
        "print(X)\n",
        "print(y)"
      ],
      "metadata": {
        "id": "cjmiFBjbAJX_"
      },
      "execution_count": null,
      "outputs": []
    },
    {
      "cell_type": "code",
      "source": [
        "# import a library for spliting data into random train and test subsets\n",
        "from sklearn.model_selection import train_test_split\n",
        "# i.e. 75 % training dataset and 25 % test datasets\n",
        "X_train, X_test, y_train, y_test = train_test_split(X, y, test_size = 0.25, random_state=1)\n",
        "print('training X size:',X_train.shape)\n",
        "print('training y size:',y_train.shape)\n",
        "print('test X size:',X_test.shape)\n",
        "print('test y size:',y_test.shape)"
      ],
      "metadata": {
        "id": "Q29lcL0-Ag5f"
      },
      "execution_count": null,
      "outputs": []
    },
    {
      "cell_type": "code",
      "source": [
        "# first install the library on the VM\n",
        "!pip install -q flaml"
      ],
      "metadata": {
        "id": "DasWTzBcAlOf"
      },
      "execution_count": null,
      "outputs": []
    },
    {
      "cell_type": "code",
      "source": [
        "# import the library and train\n",
        "from flaml import AutoML\n",
        "automl = AutoML()\n",
        "automl.fit(X_train, y_train, task=\"classification\", time_budget=60)"
      ],
      "metadata": {
        "id": "R7a1mUyRAlRP"
      },
      "execution_count": null,
      "outputs": []
    },
    {
      "cell_type": "code",
      "source": [
        "# get best model\n",
        "print('best model is:',automl.best_estimator)\n",
        "\n",
        "# print the parameters of the best model\n",
        "print(automl.best_config)"
      ],
      "metadata": {
        "id": "akmbaQnSIiME"
      },
      "execution_count": null,
      "outputs": []
    },
    {
      "cell_type": "code",
      "source": [
        "# make predictions\n",
        "y_pred = automl.predict(X_test)\n",
        "\n",
        "# metrics are used to find accuracy or error\n",
        "from sklearn import metrics\n",
        "print()\n",
        "\n",
        "# using metrics module for accuracy calculation\n",
        "print(\"ACCURACY OF THE SELECTED MODEL: \", metrics.accuracy_score(y_test, y_pred))\n",
        "\n",
        "# also plot the confusion matrix to see class-specific errors\n",
        "cm = metrics.confusion_matrix(y_test, y_pred, labels = automl.classes_)\n",
        "disp = metrics.ConfusionMatrixDisplay(confusion_matrix = cm, display_labels = automl.classes_)\n",
        "disp.plot()"
      ],
      "metadata": {
        "id": "gsDPzfw1ObiX"
      },
      "execution_count": null,
      "outputs": []
    },
    {
      "cell_type": "markdown",
      "source": [
        "## Create a moving window to classify each image individually.\n",
        "#### This prevents exceeding the available RAM in Google Colab for large images."
      ],
      "metadata": {
        "id": "2CMp8iIZ07KO"
      }
    },
    {
      "cell_type": "code",
      "source": [
        "patch_size = (256, 256)\n",
        "\n",
        "def classify_image(image_path):\n",
        "    # Open the image\n",
        "    with rasterio.open(image_path) as ds:\n",
        "        # Get image properties\n",
        "        rows, cols = ds.shape\n",
        "        bands = ds.count\n",
        "\n",
        "        # Initialize an empty array for predictions\n",
        "        preds = np.zeros((rows, cols), dtype=np.uint8)\n",
        "\n",
        "        # Iterate over image patches\n",
        "        for start_row in range(0, rows, patch_size[0]):\n",
        "\n",
        "            end_row = min(start_row + patch_size[0], rows)\n",
        "\n",
        "            for start_col in range(0, cols, patch_size[1]):\n",
        "\n",
        "                end_col = min(start_col + patch_size[1], cols)\n",
        "\n",
        "                height = end_row-start_row\n",
        "                width = end_col-start_col\n",
        "                # print(height)\n",
        "                # print(width)\n",
        "\n",
        "                # Read the patch\n",
        "                w = rasterio.windows.Window(start_col, start_row, patch_size[1], patch_size[0])\n",
        "                patch = ds.read(window=w)\n",
        "                # print(patch.shape)\n",
        "\n",
        "                transposedPatch = patch.transpose(1, 2, 0)\n",
        "                # print(transposedPatch.shape)\n",
        "\n",
        "                # Reshape the patch for classification\n",
        "                reshapedPatch = transposedPatch.reshape(height*width, bands)\n",
        "\n",
        "                # Classify the patch\n",
        "                patch_preds = automl.predict(reshapedPatch)\n",
        "\n",
        "                # Reshape and place the patch predictions in the output array\n",
        "                # reshape the array with size of window\n",
        "                patch_preds = patch_preds.reshape(height, width)\n",
        "                # print(patch_preds.shape)\n",
        "                # add predictions to preds array from row start to\n",
        "                preds[start_row:end_row, start_col:end_col] = patch_preds\n",
        "\n",
        "        ds.close()\n",
        "\n",
        "    return preds\n",
        "\n",
        "#classify each iamge\n",
        "image1 = 'milwaukeeS2WithNDVI1.tif'\n",
        "preds1 = classify_image(image1)\n",
        "print(preds1.shape)\n",
        "\n",
        "image2 = 'milwaukeeS2WithNDVI2.tif'\n",
        "preds2 = classify_image(image2)\n",
        "print(preds2.shape)\n",
        "\n",
        "image3 = 'milwaukeeS2WithNDVI3.tif'\n",
        "preds3 = classify_image(image3)\n",
        "print(preds3.shape)\n",
        "\n",
        "image4 = 'milwaukeeS2WithNDVI4.tif'\n",
        "preds4 = classify_image(image4)\n",
        "print(preds4.shape)\n",
        "\n",
        "image5 = 'milwaukeeS2WithNDVI5.tif'\n",
        "preds5 = classify_image(image5)\n",
        "print(preds5.shape)\n",
        "\n",
        "image6 = 'milwaukeeS2WithNDVI6.tif'\n",
        "preds6 = classify_image(image6)\n",
        "print(preds6.shape)"
      ],
      "metadata": {
        "id": "UBukiYF2Oj-B"
      },
      "execution_count": null,
      "outputs": []
    },
    {
      "cell_type": "code",
      "source": [
        "def export_image(preds, input_image_path, output_image_path):\n",
        "    # Open the classified image and get shape\n",
        "    ds = gdal.Open(input_image_path, gdal.GA_ReadOnly)\n",
        "    im = ds.GetRasterBand(1).ReadAsArray()  # read the first band\n",
        "    [cols, rows] = im.shape\n",
        "\n",
        "    # Use the GeoTiff driver\n",
        "    driver = gdal.GetDriverByName(\"GTiff\")\n",
        "    # Create an output file data object\n",
        "    outdata = driver.Create(output_image_path, rows, cols, 1, gdal.GDT_Byte, ['COMPRESS=LZW'])\n",
        "    outdata.SetGeoTransform(ds.GetGeoTransform())  # sets same geotransform as input\n",
        "    outdata.SetProjection(ds.GetProjection())  # sets same projection as input\n",
        "    outdata.GetRasterBand(1).WriteArray(preds)  # this is where you actually write the image to the file on disk\n",
        "    outdata.GetRasterBand(1).SetNoDataValue(0)  # if you want these values transparent\n",
        "    outdata.FlushCache()  # saves to disk!!\n",
        "    outdata = None  # closes the file\n",
        "\n",
        "export_image(preds1, 'milwaukeeS2WithNDVI1.tif', 'milwaukeeClassification1.tif')\n",
        "export_image(preds2, 'milwaukeeS2WithNDVI2.tif', 'milwaukeeClassification2.tif')\n",
        "export_image(preds3, 'milwaukeeS2WithNDVI3.tif', 'milwaukeeClassification3.tif')\n",
        "export_image(preds4, 'milwaukeeS2WithNDVI4.tif', 'milwaukeeClassification4.tif')\n",
        "export_image(preds5, 'milwaukeeS2WithNDVI5.tif', 'milwaukeeClassification5.tif')\n",
        "export_image(preds6, 'milwaukeeS2WithNDVI6.tif', 'milwaukeeClassification6.tif')\n",
        "\n",
        "!ls"
      ],
      "metadata": {
        "id": "P4_fUqD05Stk"
      },
      "execution_count": null,
      "outputs": []
    },
    {
      "cell_type": "markdown",
      "source": [
        "### **After downloading, upload the images to GEE**"
      ],
      "metadata": {
        "id": "VNtjR2ivrLZY"
      }
    },
    {
      "cell_type": "code",
      "source": [
        "# export the images to your Google Drive\n",
        "from google.colab import files\n",
        "\n",
        "files.download('milwaukeeClassification1.tif')\n",
        "files.download('milwaukeeClassification2.tif')\n",
        "files.download('milwaukeeClassification3.tif')\n",
        "files.download('milwaukeeClassification4.tif')\n",
        "files.download('milwaukeeClassification5.tif')\n",
        "files.download('milwaukeeClassification6.tif')"
      ],
      "metadata": {
        "id": "CT5QjiSTh2lR"
      },
      "execution_count": null,
      "outputs": []
    },
    {
      "cell_type": "markdown",
      "source": [
        "### View the images"
      ],
      "metadata": {
        "id": "vlU0AYBPPY2g"
      }
    },
    {
      "cell_type": "code",
      "source": [
        "# open the thermal images as GEE Images using the asset IDs\n",
        "# change the path to your asset ID from the share asset link in GEE\n",
        "\n",
        "milwaukeeClassification1 = ee.Image(\"projects/ee-cvanorio/assets/milwaukeeClassification1\")\n",
        "milwaukeeClassification2 = ee.Image(\"projects/ee-cvanorio/assets/milwaukeeClassification2\")\n",
        "milwaukeeClassification3 = ee.Image(\"projects/ee-cvanorio/assets/milwaukeeClassification3\")\n",
        "milwaukeeClassification4 = ee.Image(\"projects/ee-cvanorio/assets/milwaukeeClassification4\")\n",
        "milwaukeeClassification5 = ee.Image(\"projects/ee-cvanorio/assets/milwaukeeClassification5\")\n",
        "milwaukeeClassification6 = ee.Image(\"projects/ee-cvanorio/assets/milwaukeeClassification6\")"
      ],
      "metadata": {
        "id": "ilR8rKu-rySB"
      },
      "execution_count": null,
      "outputs": []
    },
    {
      "cell_type": "code",
      "source": [
        "# Create an image collection from the individual images\n",
        "image_collection = ee.ImageCollection([milwaukeeClassification1,\n",
        "                                       milwaukeeClassification2,\n",
        "                                        milwaukeeClassification3,\n",
        "                                        milwaukeeClassification4,\n",
        "                                        milwaukeeClassification5,\n",
        "                                        milwaukeeClassification6])\n",
        "\n",
        "# # Mosaic the images\n",
        "classMosaic = image_collection.mosaic().clip(roiFeatureCol)\n",
        "\n",
        "# Classes\n",
        "# '0': 'Outside of ROI',\n",
        "# '1': 'Grass',\n",
        "# '2': 'Water',\n",
        "# '3': 'Impervious',\n",
        "# '4': 'Trees'\n",
        "\n",
        "\n",
        "# Display the class mosaic on the map with the legend\n",
        "Map.addLayer(classMosaic, {'min': 1, 'max': 4, 'palette': ['yellow', 'blue', 'red', 'green']}, 'Classification')\n",
        "Map.centerObject(roiFeatureCol, 11)  # Center the map on the mosaic image with zoom level 10\n",
        "Map"
      ],
      "metadata": {
        "id": "Rqg9V40rtG6L"
      },
      "execution_count": null,
      "outputs": []
    },
    {
      "cell_type": "markdown",
      "source": [
        "## 8. Upload thermal imagery to GEE and view them.\n",
        "### This code can be adjusted to use more or fewer images."
      ],
      "metadata": {
        "id": "awTHjdgA3NUF"
      }
    },
    {
      "cell_type": "markdown",
      "source": [
        "## **Go to your [GEE account](https://code.earthengine.google.com/) and upload your thermal images as assets.**\n",
        "### There is no way to upload local files as assets in GEE from python.\n"
      ],
      "metadata": {
        "id": "WVb8nPOkUNqL"
      }
    },
    {
      "cell_type": "code",
      "source": [
        "# open the thermal images as GEE Images using the asset IDs\n",
        "# change the path to your asset ID from the share asset link in GEE\n",
        "\n",
        "morningTemp = ee.Image(\"projects/ee-cvanorio/assets/Milwaukee2022SummerMorningAirTemperatureDegreesF\")\n",
        "\n",
        "afternoonTemp = ee.Image(\"projects/ee-cvanorio/assets/Milwaukee2022SummerAfternoonAirTemperatureDegreesF\")\n",
        "\n",
        "eveningTemp = ee.Image(\"projects/ee-cvanorio/assets/Milwaukee2022SummerEveningAirTemperatureDegreesF\")"
      ],
      "metadata": {
        "id": "pIubOnq1-n5p"
      },
      "execution_count": null,
      "outputs": []
    },
    {
      "cell_type": "code",
      "source": [
        "# Add thermal images as layers to the map\n",
        "\n",
        "Map.addLayer(morningTemp, {'bands':[\"b1\"], 'min': 68, 'max': 75, 'palette': [\n",
        "    '0502b8', '0502ce', '0502e6',\n",
        "    '0602ff', '235cb1', '307ef3', '269db1', '30c8e2', '32d3ef',\n",
        "    '3be285', '3ff38f', '86e26f', '3ae237', 'b5e22e', 'd6e21f',\n",
        "    'fff705', 'ffd611', 'ffb613', 'ff8b13', 'ff6e08', 'ff500d',\n",
        "    'ff0000', 'de0101', 'c21301', 'a71001', '911003'\n",
        "]}, 'Morning Air Temp')\n",
        "\n",
        "Map.addLayer(afternoonTemp, {'bands':[\"b1\"], 'min': 85, 'max': 95, 'palette': [\n",
        "    '0502b8', '0502ce', '0502e6',\n",
        "    '0602ff', '235cb1', '307ef3', '269db1', '30c8e2', '32d3ef',\n",
        "    '3be285', '3ff38f', '86e26f', '3ae237', 'b5e22e', 'd6e21f',\n",
        "    'fff705', 'ffd611', 'ffb613', 'ff8b13', 'ff6e08', 'ff500d',\n",
        "    'ff0000', 'de0101', 'c21301', 'a71001', '911003'\n",
        "]}, 'Afternoon Air Temp')\n",
        "\n",
        "Map.addLayer(eveningTemp, {'bands':[\"b1\"], 'min': 75, 'max': 90, 'palette': [\n",
        "    '0502b8', '0502ce', '0502e6',\n",
        "    '0602ff', '235cb1', '307ef3', '269db1', '30c8e2', '32d3ef',\n",
        "    '3be285', '3ff38f', '86e26f', '3ae237', 'b5e22e', 'd6e21f',\n",
        "    'fff705', 'ffd611', 'ffb613', 'ff8b13', 'ff6e08', 'ff500d',\n",
        "    'ff0000', 'de0101', 'c21301', 'a71001', '911003'\n",
        "]}, 'Evening Air Temp')\n",
        "\n",
        "\n",
        "#Center the map on the ROI at zoom level 11\n",
        "Map.centerObject(roiFeatureCol, 11)\n",
        "# Display the map\n",
        "Map"
      ],
      "metadata": {
        "id": "x9EiTqM2Ja20"
      },
      "execution_count": null,
      "outputs": []
    },
    {
      "cell_type": "markdown",
      "source": [
        "## 9. Create an average thermal image."
      ],
      "metadata": {
        "id": "BijNQGNo89ib"
      }
    },
    {
      "cell_type": "code",
      "source": [
        "# Stack the three raster images into one multi-band image\n",
        "stacked = ee.ImageCollection([morningTemp, afternoonTemp, eveningTemp]).toBands()\n",
        "\n",
        "# Calculate the average temperature\n",
        "averageTemp = stacked.reduce(ee.Reducer.mean())\n",
        "\n",
        "# Clip the average temperature to the region of interest (roi)\n",
        "averageTemp = ee.Image(averageTemp)\n",
        "\n",
        "# Rename the band\n",
        "averageTemp = averageTemp.rename('b1')\n",
        "\n",
        "# Add the layer to the map\n",
        "Map.addLayer(averageTemp, {'min': 80, 'max': 86, 'palette': [\n",
        "    '0502b8', '0502ce', '0502e6',\n",
        "    '0602ff', '235cb1', '307ef3', '269db1', '30c8e2', '32d3ef',\n",
        "    '3be285', '3ff38f', '86e26f', '3ae237', 'b5e22e', 'd6e21f',\n",
        "    'fff705', 'ffd611', 'ffb613', 'ff8b13', 'ff6e08', 'ff500d',\n",
        "    'ff0000', 'de0101', 'c21301', 'a71001', '911003'\n",
        "]}, 'Average Air Temp')\n",
        "\n",
        "\n",
        "#Center the map on the ROI at zoom level 11\n",
        "Map.centerObject(roiFeatureCol, 11)\n",
        "# Display the map\n",
        "Map"
      ],
      "metadata": {
        "id": "v8M6xiVBzP7A"
      },
      "execution_count": null,
      "outputs": []
    },
    {
      "cell_type": "markdown",
      "source": [
        "## 10. Get Landsat 8 thermal imagery for your ROI."
      ],
      "metadata": {
        "id": "6DqIu6o2-eAg"
      }
    },
    {
      "cell_type": "code",
      "source": [
        "# Define cloud mask function\n",
        "def maskL8sr(image):\n",
        "    # Bits 3 and 5 are cloud shadow and cloud, respectively.\n",
        "    cloudShadowBitMask = (1 << 3)\n",
        "    cloudsBitMask = (1 << 5)\n",
        "    # Get the pixel QA band.\n",
        "    qa = image.select('QA_PIXEL')\n",
        "    # Both flags should be set to zero, indicating clear conditions.\n",
        "    mask = qa.bitwiseAnd(cloudShadowBitMask).eq(0) \\\n",
        "             .And(qa.bitwiseAnd(cloudsBitMask).eq(0))\n",
        "    return image.updateMask(mask)"
      ],
      "metadata": {
        "id": "906f0GQp3zFT"
      },
      "execution_count": null,
      "outputs": []
    },
    {
      "cell_type": "code",
      "source": [
        "# Load the collection\n",
        "landsatCol = ee.ImageCollection('LANDSAT/LC08/C02/T1_L2') \\\n",
        "    .map(maskL8sr) \\\n",
        "    .filterDate('2022-06-01','2022-08-01') \\\n",
        "    .filterBounds(roiFeatureCol)\n",
        "\n",
        "# Reduce to median image\n",
        "image = landsatCol.median()"
      ],
      "metadata": {
        "id": "PNs-o1g230bA"
      },
      "execution_count": null,
      "outputs": []
    },
    {
      "cell_type": "code",
      "source": [
        "# Calculate NDVI\n",
        "ndvi = image.normalizedDifference(['SR_B5', 'SR_B4']).rename('NDVI')\n",
        "\n",
        "# Select thermal band 10 and convert to brightness temperature\n",
        "thermal = image.select('ST_B10').multiply(0.00341802).add(149)"
      ],
      "metadata": {
        "id": "L3WLYRwz38UI"
      },
      "execution_count": null,
      "outputs": []
    },
    {
      "cell_type": "code",
      "source": [
        "# Find the min and max of NDVI\n",
        "min_ndvi = ndvi.reduceRegion(\n",
        "    reducer=ee.Reducer.min(),\n",
        "    geometry=roiFeatureCol,\n",
        "    scale=30,\n",
        "    maxPixels=1e9\n",
        ").get('NDVI')\n",
        "\n",
        "min_ndvi = ee.Number(min_ndvi)\n",
        "\n",
        "max_ndvi = ndvi.reduceRegion(\n",
        "    reducer=ee.Reducer.max(),\n",
        "    geometry=roiFeatureCol,\n",
        "    scale=30,\n",
        "    maxPixels=1e9\n",
        ").get('NDVI')\n",
        "\n",
        "max_ndvi = ee.Number(max_ndvi)"
      ],
      "metadata": {
        "id": "afrHuhqq3-B4"
      },
      "execution_count": null,
      "outputs": []
    },
    {
      "cell_type": "code",
      "source": [
        "# Calculate fractional vegetation\n",
        "fv = ndvi.subtract(min_ndvi).divide(max_ndvi.subtract(min_ndvi)).pow(ee.Number(2)).rename('FV')\n",
        "\n",
        "# Calculate emissivity\n",
        "a = ee.Number(0.004)\n",
        "b = ee.Number(0.986)\n",
        "EM = fv.multiply(a).add(b).rename('EMM')"
      ],
      "metadata": {
        "id": "cY2sumDT4AC-"
      },
      "execution_count": null,
      "outputs": []
    },
    {
      "cell_type": "code",
      "source": [
        "# Calculate Land Surface Temperature (LST) in degrees Fahrenheit\n",
        "LST = thermal.expression(\n",
        "    '((Tb/(1 + (0.00115* (Tb / 1.438))*log(Ep)))-273.15)*(9/5)+32', {\n",
        "     'Tb': thermal.select('ST_B10'),\n",
        "    'Ep': EM.select('EMM')\n",
        "  }).rename('b1')"
      ],
      "metadata": {
        "id": "gOjrGKgJ4DD-"
      },
      "execution_count": null,
      "outputs": []
    },
    {
      "cell_type": "code",
      "source": [
        "# Clip LST to region of interest\n",
        "LST = LST.clip(roiFeatureCol)\n",
        "\n",
        "# Convert the image data type from double to float\n",
        "LST = LST.toFloat()\n",
        "\n",
        "# Visualize LST\n",
        "LST_vis_params = {'min': 70, 'max': 100, 'palette': [\n",
        "    '0502b8', '0502ce', '0502e6',\n",
        "    '0602ff', '235cb1', '307ef3', '269db1', '30c8e2', '32d3ef',\n",
        "    '3be285', '3ff38f', '86e26f', '3ae237', 'b5e22e', 'd6e21f',\n",
        "    'fff705', 'ffd611', 'ffb613', 'ff8b13', 'ff6e08', 'ff500d',\n",
        "    'ff0000', 'de0101', 'c21301', 'a71001', '911003'\n",
        "]}\n",
        "\n",
        "Map.addLayer(LST, LST_vis_params, 'Landsat LST')\n",
        "Map"
      ],
      "metadata": {
        "id": "VvJFhK9_4Ft4"
      },
      "execution_count": null,
      "outputs": []
    },
    {
      "cell_type": "code",
      "source": [
        "# # Define the export parameters\n",
        "# # Export the image, specifying scale and region.\n",
        "\n",
        "task = ee.batch.Export.image.toDrive(**{\n",
        "    'image': LST,\n",
        "    'description': 'milwaukeeLandsatLST',\n",
        "    'folder':'MilwaukeeAerial',\n",
        "    'scale': 100,\n",
        "    'region': roiFeatureCol.geometry().bounds(),\n",
        "    'maxPixels': 703451232  # Increase maxPixels value\n",
        "})\n",
        "task.start()\n",
        "\n",
        "\n",
        "# Wait for the export task to complete\n",
        "while task.active():\n",
        "    print('Export task is still active...')\n",
        "    time.sleep(10)\n",
        "\n",
        "# Check if the export was successful\n",
        "if task.status()['state'] == 'COMPLETED':\n",
        "    print(\"Export completed successfully!\")\n",
        "else:\n",
        "    print(\"Export failed:\", task.status()['state'])\n",
        "    print(\"Error message:\", task.status()['error_message'])"
      ],
      "metadata": {
        "id": "wvumSMbpSTCT"
      },
      "execution_count": null,
      "outputs": []
    },
    {
      "cell_type": "markdown",
      "source": [
        "# 11. Analyze spatial statistics"
      ],
      "metadata": {
        "id": "eRpMvtzOyuah"
      }
    },
    {
      "cell_type": "code",
      "source": [
        "!cp '/content/gdrive/MyDrive/MilwaukeeAerial/Milwaukee2022SummerAfternoonAirTemp.tiff' 'afternoonTemp.tif'\n",
        "!cp '/content/gdrive/MyDrive/MilwaukeeAerial/Milwaukee2022SummerEveningAirTemp.tiff' 'eveningTemp.tif'\n",
        "!cp '/content/gdrive/MyDrive/MilwaukeeAerial/Milwaukee2022SummerMorningAirTemp.tiff' 'morningTemp.tif'\n",
        "!cp '/content/gdrive/MyDrive/MilwaukeeAerial/milwaukeeLandsatLST.tif' 'landsatLST.tif'\n",
        "\n",
        "!cp '/content/gdrive/MyDrive/MilwaukeeAerial/Classified/milwaukeeClassification1.tif' .\n",
        "!cp '/content/gdrive/MyDrive/MilwaukeeAerial/Classified/milwaukeeClassification2.tif' .\n",
        "!cp '/content/gdrive/MyDrive/MilwaukeeAerial/Classified/milwaukeeClassification3.tif' .\n",
        "!cp '/content/gdrive/MyDrive/MilwaukeeAerial/Classified/milwaukeeClassification4.tif' .\n",
        "!cp '/content/gdrive/MyDrive/MilwaukeeAerial/Classified/milwaukeeClassification5.tif' .\n",
        "!cp '/content/gdrive/MyDrive/MilwaukeeAerial/Classified/milwaukeeClassification6.tif' .\n",
        "\n",
        "!ls"
      ],
      "metadata": {
        "id": "3PiIuCU-LJAU"
      },
      "execution_count": null,
      "outputs": []
    },
    {
      "cell_type": "markdown",
      "source": [
        "## Diurnal Temperature Range"
      ],
      "metadata": {
        "id": "W2bbaZWHd_xp"
      }
    },
    {
      "cell_type": "code",
      "source": [
        "########## DIURNAL TEMP RANGE\n",
        "\n",
        "thermalImages = ['morningTemp.tif', 'afternoonTemp.tif', 'eveningTemp.tif']\n",
        "\n",
        "# Open first GeoTIFF image\n",
        "image = rasterio.open(thermalImages[0])\n",
        "\n",
        "# Get image dimensions\n",
        "rows, cols = image.shape\n",
        "\n",
        "minValues = image.read(1)\n",
        "\n",
        "print(minValues)\n",
        "\n",
        "maxValues = np.copy(minValues)\n",
        "\n",
        "image.close()\n",
        "\n",
        "for i in range(1, len(thermalImages)):\n",
        "\n",
        "    image = rasterio.open(thermalImages[i])\n",
        "\n",
        "    # Loop through each pixel\n",
        "    for row in range(rows):\n",
        "        for col in range(cols):\n",
        "            # Get temperature values at the current pixel from all three images\n",
        "            currPixelTemp = image.read(1, window=((row, row+1), (col, col+1)))[0][0]\n",
        "\n",
        "            # Update minimum and maximum values for the current pixel\n",
        "            currMin = minValues[row, col]\n",
        "            currMax = maxValues[row, col]\n",
        "            minValues[row, col] = min(currMin, currPixelTemp)\n",
        "            maxValues[row, col] = max(currMax, currPixelTemp)\n",
        "\n",
        "    image.close()\n",
        "\n",
        "\n",
        "# Subtract the min value array from the max value array\n",
        "diurnalRange = maxValues - minValues\n",
        "\n",
        "# Display the difference array\n",
        "plt.imshow(diurnalRange, cmap='viridis')  # Choose a colormap\n",
        "plt.colorbar(label='Diurnal Temp Range (deg F)')\n",
        "plt.title('Diurnal Air Temp Range')\n",
        "plt.xlabel('Column')\n",
        "plt.ylabel('Row')\n",
        "plt.show()\n",
        "\n",
        "\n"
      ],
      "metadata": {
        "id": "UQ7TTHSOla7_"
      },
      "execution_count": null,
      "outputs": []
    },
    {
      "cell_type": "code",
      "source": [
        "export_image(diurnalRange, 'morningTemp.tif', 'milwaukeeDiurnalRange.tif')\n",
        "\n",
        "# export the images to your Google Drive\n",
        "from google.colab import files\n",
        "\n",
        "files.download('milwaukeeDiurnalRange.tif')"
      ],
      "metadata": {
        "id": "sR_nZhtLw6FM"
      },
      "execution_count": null,
      "outputs": []
    },
    {
      "cell_type": "code",
      "source": [
        "diurnalRange = ee.Image(\"projects/ee-cvanorio/assets/milwaukeeDiurnalRange\")\n",
        "# Clip LST to region of interest\n",
        "diurnalRange = diurnalRange.clip(roiFeatureCol)\n",
        "\n",
        "# Get the min and max values of the image\n",
        "min_max_values = diurnalRange.reduceRegion(reducer=ee.Reducer.minMax(), geometry=roiFeatureCol, scale=10)\n",
        "\n",
        "# Extract min and max values from the dictionary\n",
        "min_value = min_max_values.get('b1_min')  # Replace 'image_band_name' with the actual band name\n",
        "max_value = min_max_values.get('b1_max')  # Replace 'image_band_name' with the actual band name\n",
        "\n",
        "# Define visualization parameters\n",
        "vis_params = {\n",
        "    'min': min_value.getInfo(),\n",
        "    'max': max_value.getInfo(),\n",
        "    'palette': [\n",
        "    '0502b8', '0502ce', '0502e6',\n",
        "    '0602ff', '235cb1', '307ef3', '269db1', '30c8e2', '32d3ef',\n",
        "    '3be285', '3ff38f', '86e26f', '3ae237', 'b5e22e', 'd6e21f',\n",
        "    'fff705', 'ffd611', 'ffb613', 'ff8b13', 'ff6e08', 'ff500d',\n",
        "    'ff0000', 'de0101', 'c21301', 'a71001', '911003'\n",
        "]}\n",
        "\n",
        "# Visualize the image\n",
        "Map.addLayer(diurnalRange, vis_params, 'Diurnal Temp Range')\n",
        "Map.centerObject(diurnalRange, 11)\n",
        "Map"
      ],
      "metadata": {
        "id": "Awr2TRwTxxPM"
      },
      "execution_count": null,
      "outputs": []
    },
    {
      "cell_type": "markdown",
      "source": [
        "## Average Temperature by Class"
      ],
      "metadata": {
        "id": "eBf0vu3eeG1h"
      }
    },
    {
      "cell_type": "code",
      "source": [
        "##### Temp by class\n",
        "\n",
        "# Define the class value you want to keep\n",
        "class_values = [1, 2, 3, 4]  # Change this to your desired class value\n",
        "\n",
        "# Create an empty image collection to store the masked images\n",
        "masked_images = ee.ImageCollection([])\n",
        "\n",
        "# Loop over the class values\n",
        "for class_value in class_values:\n",
        "    # Create a mask based on the specified class value\n",
        "    mask = classMosaic.eq(class_value)\n",
        "\n",
        "    # Apply the mask to the image\n",
        "    masked_image = classMosaic.updateMask(mask)\n",
        "\n",
        "    # Add the masked image to the image collection\n",
        "    masked_images = masked_images.merge(masked_image)\n"
      ],
      "metadata": {
        "id": "Bsud8PwGreD6"
      },
      "execution_count": null,
      "outputs": []
    },
    {
      "cell_type": "code",
      "source": [
        "########## AVG TEMP BY LAND COVER\n",
        "\n",
        "# Define the image IDs of the classification images\n",
        "classificationCol = masked_images\n",
        "\n",
        "# Define the image IDs of the temperature images\n",
        "temperature_images = [morningTemp, afternoonTemp, eveningTemp, averageTemp, LST]\n",
        "\n",
        "# Define the number of classes\n",
        "num_classes = 4\n",
        "\n",
        "classLabels = ['Grass', 'Water', 'Impervious', 'Trees']\n",
        "\n",
        "# Define the scale\n",
        "scale = 10  # Choose an appropriate scale\n",
        "\n",
        "# Initialize a list to store the average temperature for each class\n",
        "average_temperatures_by_class = []\n",
        "\n",
        "# Loop through each classification image in the collection\n",
        "# Iterate through each image in the collection\n",
        "for currClass in range(num_classes):\n",
        "    # Get the image at index i\n",
        "    singleClassImage = ee.Image(image_collection.toList(num_classes).get(currClass))\n",
        "\n",
        "    average_temperatures_by_image = []\n",
        "\n",
        "    # Iterate over each temperature image in the list\n",
        "    for temperature_image in temperature_images:\n",
        "\n",
        "        # Mask out the temperature values using the classification image for the current class\n",
        "        masked_temperature = temperature_image.updateMask(singleClassImage)\n",
        "\n",
        "        # Reduce the mean temperature within the class to get the average temperature\n",
        "        classAvgTemp = masked_temperature.reduceRegion(\n",
        "            reducer=ee.Reducer.mean(),  # Compute the mean temperature\n",
        "            geometry=singleClassImage.geometry(),  # Optionally, specify a region of interest\n",
        "            scale=scale,  # Specify the scale\n",
        "            bestEffort=True,  # Use multiple pixels to estimate the mean if needed\n",
        "        )\n",
        "\n",
        "        # Append the average temperature to the list\n",
        "        average_temperatures_by_image.append(classAvgTemp.get('b1').getInfo())\n",
        "\n",
        "    # Append the average temperature to the list\n",
        "    average_temperatures_by_class.append(average_temperatures_by_image)\n",
        "\n",
        "    # Plot the bar chart for the current class\n",
        "    plt.figure(figsize=(10, 6))\n",
        "    bars = plt.bar(range(len(temperature_images)), average_temperatures_by_image, color='blue')\n",
        "    plt.xlabel('Image')\n",
        "    plt.ylabel('Average Temperature (deg F)')\n",
        "    plt.title(f'Average Temperature of Each Image for Class {classLabels[currClass]}')\n",
        "\n",
        "    x_values = [0, 1, 2, 3, 4]\n",
        "    labels = ['morningTemp', 'afternoonTemp', 'eveningTemp', 'averageTemp', 'Landsat LST']\n",
        "    plt.xticks(x_values, labels)\n",
        "\n",
        "    plt.grid(axis='y', linestyle='--', alpha=0.7)\n",
        "\n",
        "    # Add bar values over each bar\n",
        "    for bar, value in zip(bars, average_temperatures_by_image):\n",
        "        plt.text(bar.get_x() + bar.get_width() / 2, bar.get_height(), round(value, 2),\n",
        "                 ha='center', va='bottom')\n",
        "    plt.show()\n",
        "\n"
      ],
      "metadata": {
        "id": "f-z-JDldmHwg"
      },
      "execution_count": null,
      "outputs": []
    },
    {
      "cell_type": "code",
      "source": [
        "## Check acquisition time for the landsat imagery\n",
        "\n",
        "import pytz\n",
        "from datetime import datetime\n",
        "\n",
        "# Get the first image in the collection\n",
        "firstLandsatImage = ee.Image(landsatCol.first())\n",
        "\n",
        "# Get the acquisition time of the first image (in milliseconds)\n",
        "acquisition_time_ms = firstLandsatImage.get('system:time_start').getInfo()\n",
        "\n",
        "# Convert milliseconds to a Python datetime object\n",
        "acquisition_datetime_utc = datetime.utcfromtimestamp(acquisition_time_ms / 1000)\n",
        "\n",
        "# Define the UTC timezone\n",
        "utc_timezone = pytz.timezone('UTC')\n",
        "\n",
        "# Localize the acquisition datetime to the UTC timezone\n",
        "acquisition_datetime_utc = utc_timezone.localize(acquisition_datetime_utc)\n",
        "\n",
        "# Define the US Central Time (CST) timezone\n",
        "cst_timezone = pytz.timezone('America/Chicago')\n",
        "\n",
        "# Convert the acquisition datetime from UTC to US Central Time (CST)\n",
        "acquisition_datetime_cst = acquisition_datetime_utc.astimezone(cst_timezone)\n",
        "\n",
        "# Print the acquisition time in US Central Time (CST)\n",
        "print(\"Acquisition Time (CST):\", acquisition_datetime_cst)"
      ],
      "metadata": {
        "id": "7oZ4iiD86lML"
      },
      "execution_count": null,
      "outputs": []
    },
    {
      "cell_type": "markdown",
      "source": [
        "\\\n",
        "\\\n",
        "\\\n",
        "\\\n",
        "\\\n",
        "\\\n",
        "\\\n",
        "\\\n",
        "\\\n",
        "\\\n",
        "\\"
      ],
      "metadata": {
        "id": "3WAvDP_0eT8C"
      }
    },
    {
      "cell_type": "markdown",
      "source": [
        "\n",
        "\n",
        "1.   make image stack of all data -> convert to csv?\n",
        "4.   get hot spots of all thermal -> stack and display 2 bands?\n",
        "6.   see how correlated each image is to land cover\n",
        "\n"
      ],
      "metadata": {
        "id": "RkDiO-OYZbZy"
      }
    },
    {
      "cell_type": "code",
      "source": [
        "########## HOTSPOT\n",
        "\n",
        "from skimage import filters\n",
        "\n",
        "# Open the GeoTIFF image\n",
        "with rasterio.open('morning.tif') as src:\n",
        "    # Read the image as a numpy array\n",
        "    image = src.read()\n",
        "\n",
        "    src.close()\n",
        "\n",
        "# Flatten the image to a 1D array\n",
        "flat_image = image.flatten()\n",
        "\n",
        "# Calculate local standard deviation using a filter (e.g., gaussian filter)\n",
        "# You can choose other filters or methods depending on your requirements\n",
        "local_std = filters.gaussian(flat_image, sigma=5)\n",
        "\n",
        "# Reshape the result to the original image shape\n",
        "local_std = local_std.reshape(image.shape)\n",
        "\n",
        "# Define a threshold for hot spots\n",
        "threshold = 2.0  # Adjust as needed\n",
        "\n",
        "# Find hot spots (areas with high local standard deviation)\n",
        "hot_spots = local_std > threshold\n",
        "\n",
        "# Optionally, you can save the hot spot mask to a new GeoTIFF file\n",
        "with rasterio.open('hot_spots.tif', 'w', **src.profile) as dst:\n",
        "    dst.write(hot_spots.astype(np.uint8), 1)\n",
        "\n",
        "# Optionally, you can visualize the hot spots using matplotlib or other plotting libraries\n",
        "import matplotlib.pyplot as plt\n",
        "\n",
        "plt.imshow(hot_spots, cmap='hot', interpolation='nearest')\n",
        "plt.colorbar()\n",
        "plt.show()"
      ],
      "metadata": {
        "id": "QML5gohWZags"
      },
      "execution_count": null,
      "outputs": []
    },
    {
      "cell_type": "code",
      "source": [
        "########## CORRELATION"
      ],
      "metadata": {
        "id": "4XPBU4xOlonl"
      },
      "execution_count": null,
      "outputs": []
    },
    {
      "cell_type": "code",
      "source": [
        "# Install necessary packages\n",
        "!apt-get install python-gdal\n",
        "!pip install rasterio"
      ],
      "metadata": {
        "id": "1mkP61P1HlKN"
      },
      "execution_count": null,
      "outputs": []
    },
    {
      "cell_type": "code",
      "source": [
        "!ls"
      ],
      "metadata": {
        "id": "y1ExjyLIL2hT"
      },
      "execution_count": null,
      "outputs": []
    },
    {
      "cell_type": "code",
      "source": [
        "# Import libraries\n",
        "import numpy as np\n",
        "import rasterio\n",
        "from scipy.stats import gaussian_kde\n",
        "from rasterio.mask import mask as rio_mask\n",
        "\n",
        "imageList = ['morningTemp.tif', 'afternoonTemp.tif', 'eveningTemp.tif', 'landsatLST.tif']\n",
        "\n",
        "shapefile_path = 'Milwaukee_City_Boundary.shp'\n",
        "\n",
        "# Read the shapefile\n",
        "roi = gpd.read_file(shapefile_path)\n",
        "\n",
        "for image in imageList:\n",
        "# Read TIF image\n",
        "    tif_path = image\n",
        "    with rasterio.open(tif_path) as src:\n",
        "        data, transform = rio_mask(src, roi.geometry, crop=True)\n",
        "        data = data[0]  # Extract the masked data\n",
        "        shape = data.shape\n",
        "\n",
        "    src.close()\n",
        "    shape = data.shape\n",
        "    print(shape)\n",
        "    print(image.shape)\n",
        "    # Flatten the data\n",
        "    flat_data = data.flatten()\n",
        "\n",
        "    # Perform Getis-Ord analysis\n",
        "    z_scores = gaussian_kde(flat_data).evaluate(flat_data)\n",
        "\n",
        "    # Reshape Z scores back to the original shape\n",
        "    z_scores = z_scores.reshape(shape)\n",
        "\n",
        "    # Plot the results\n",
        "    plt.figure(figsize=(10, 8))\n",
        "    plt.imshow(z_scores, cmap='coolwarm', interpolation='nearest')\n",
        "    plt.colorbar(label='Getis-Ord Z Score')\n",
        "    plt.title(f'Getis-Ord Analysis Results for {tif_path}')\n",
        "    plt.show()\n",
        "\n",
        "    # # # plt.hist(z_scores, bins=50)\n",
        "    # # # plt.xlabel('Z Score')\n",
        "    # # # plt.ylabel('Frequency')\n",
        "    # # # plt.title(f'Histogram of Getis-Ord Z Scores for {tif_path}')\n",
        "    # # # plt.show()\n",
        "\n"
      ],
      "metadata": {
        "id": "OVMoqepo89xS"
      },
      "execution_count": null,
      "outputs": []
    },
    {
      "cell_type": "code",
      "source": [],
      "metadata": {
        "id": "ZRw31lP-LTyS"
      },
      "execution_count": null,
      "outputs": []
    },
    {
      "cell_type": "markdown",
      "source": [
        "Mosaic the classification images"
      ],
      "metadata": {
        "id": "IQkhNbTFhy5o"
      }
    },
    {
      "cell_type": "code",
      "source": [
        "from rasterio.enums import Resampling\n",
        "from rasterio.merge import merge\n",
        "from rasterio.plot import show\n",
        "\n",
        "# Open the six images\n",
        "image_files = ['milwaukeeClassification1.tif',\n",
        "               'milwaukeeClassification2.tif',\n",
        "               'milwaukeeClassification3.tif',\n",
        "               'milwaukeeClassification4.tif',\n",
        "               'milwaukeeClassification5.tif',\n",
        "               'milwaukeeClassification6.tif']\n",
        "\n",
        "src_files_to_mosaic = []\n",
        "\n",
        "for file in image_files:\n",
        "    src = rasterio.open(file)\n",
        "    src_files_to_mosaic.append(src)\n",
        "\n",
        "# Mosaic the images\n",
        "classMosaic, out_trans = merge(src_files_to_mosaic)\n",
        "\n",
        "src.close()\n",
        "\n",
        "# Display the mosaic\n",
        "#show(mosaic, cmap='gray')\n",
        "\n",
        "# Assuming your 3D array\n",
        "num_bands, x_size, y_size = classMosaic.shape\n",
        "\n",
        "# Transpose the flattened image data\n",
        "#transposed_image = classMosaic.transpose(1, 2, 0)\n",
        "\n",
        "# Reshape the array to 2D\n",
        "flattened_image = np.reshape(classMosaic, (num_bands, x_size * y_size))\n",
        "\n",
        "print(flattened_image.size)\n",
        "################################\n",
        "from PIL import Image\n",
        "\n",
        "# Open the image\n",
        "image = Image.open('morningTemp.tif')\n",
        "\n",
        "# Get the dimensions of the image\n",
        "width, height = image.size\n",
        "\n",
        "# Calculate the number of pixels\n",
        "num_pixels = width * height\n",
        "\n",
        "print(\"Number of pixels in the image:\", num_pixels)\n",
        "image.close()\n",
        "##################################################################\n",
        "export_image(flattened_image, 'morningTemp.tif', 'milwaukeeClassficationMosaic.tif')\n",
        "\n",
        "# # export the images to your Google Drive\n",
        "files.download('milwaukeeClassficationMosaic.tif')"
      ],
      "metadata": {
        "id": "olI_iyxJf9bN"
      },
      "execution_count": null,
      "outputs": []
    },
    {
      "cell_type": "code",
      "source": [
        "from PIL import Image\n",
        "import csv\n",
        "\n",
        "# Open the six images\n",
        "images = [\n",
        "    Image.open(\"morningTemp.tif\"),\n",
        "    Image.open(\"afternoonTemp.tif\"),\n",
        "    Image.open(\"eveningTemp.tif\"),\n",
        "    Image.open(\"landsatLST.tif\"),\n",
        "    Image.open(classMosaic)\n",
        "]\n",
        "\n",
        "# Get the dimensions of the images\n",
        "image_width, image_height = images[0].size\n",
        "\n",
        "# Create a CSV file and write the header\n",
        "with open(\"milwaukee_image_data.csv\", \"w\", newline=\"\") as csvfile:\n",
        "    writer = csv.writer(csvfile)\n",
        "\n",
        "    # Write header row\n",
        "    header = ['Pixel_X', 'Pixel_Y', 'morningTemp', 'afternoonTemp', 'eveningTemp', 'landsatLST', 'LCclass']\n",
        "    writer.writerow(header)\n",
        "\n",
        "    # Iterate through each pixel of the images and write to CSV\n",
        "    for y in range(image_height):\n",
        "        for x in range(image_width):\n",
        "            pixel_data = [x, y]\n",
        "            for image in images:\n",
        "                pixel_value = image.getpixel((x, y))\n",
        "                pixel_data.append(pixel_value)\n",
        "            writer.writerow(pixel_data)\n",
        "\n",
        "print(\"CSV file generated successfully.\")\n",
        "!ls"
      ],
      "metadata": {
        "id": "kV5Tj2kU2HpF"
      },
      "execution_count": null,
      "outputs": []
    }
  ]
}