{
  "nbformat": 4,
  "nbformat_minor": 0,
  "metadata": {
    "colab": {
      "provenance": [],
      "gpuType": "T4",
      "mount_file_id": "13HdoksFrckkJEhsJRTrcmewviziQKaj1",
      "authorship_tag": "ABX9TyP11TKf0SDskCmABPWjKIpU",
      "include_colab_link": true
    },
    "kernelspec": {
      "name": "python3",
      "display_name": "Python 3"
    },
    "language_info": {
      "name": "python"
    },
    "widgets": {
      "application/vnd.jupyter.widget-state+json": {
        "f7d581ce9c2146c1b7251c120a6474d9": {
          "model_module": "jupyter-leaflet",
          "model_name": "LeafletMapModel",
          "model_module_version": "^0.18",
          "state": {
            "_dom_classes": [],
            "_model_module": "jupyter-leaflet",
            "_model_module_version": "^0.18",
            "_model_name": "LeafletMapModel",
            "_view_count": null,
            "_view_module": "jupyter-leaflet",
            "_view_module_version": "^0.18",
            "_view_name": "LeafletMapView",
            "bottom": 192839,
            "bounce_at_zoom_limits": true,
            "box_zoom": true,
            "center": [
              43.05534260980123,
              -87.84805297851564
            ],
            "close_popup_on_click": true,
            "controls": [
              "IPY_MODEL_a34c33e6c6a24b37bace2ca51ba52cc2",
              "IPY_MODEL_2aeb0748c1574b3a916eb3d95c7e577e",
              "IPY_MODEL_85cf3ab9f53b450e85377c6b0691acdd",
              "IPY_MODEL_8c2d3c51f59941b4a6381e70f8991eb4",
              "IPY_MODEL_930416483f194922b52ac99ff0aec1ea",
              "IPY_MODEL_6d9301c44d844d56a572c7a778ff13c5",
              "IPY_MODEL_a705248cb6244c5b92f012f31f28d9c9",
              "IPY_MODEL_275eaf420c334b3cb20ab2d6468ae538",
              "IPY_MODEL_5a9be07427d044ecb02f712118566696"
            ],
            "crs": {
              "name": "EPSG3857",
              "custom": false
            },
            "default_style": "IPY_MODEL_1d21088275134df186d7acd587ce2c96",
            "double_click_zoom": true,
            "dragging": true,
            "dragging_style": "IPY_MODEL_808b17b0bb6540c7bb8cea7527d6d677",
            "east": -87.23281860351564,
            "fullscreen": false,
            "inertia": true,
            "inertia_deceleration": 3000,
            "inertia_max_speed": 1500,
            "interpolation": "bilinear",
            "keyboard": true,
            "keyboard_pan_offset": 80,
            "keyboard_zoom_offset": 1,
            "layers": [
              "IPY_MODEL_1e8c1237068a4f72a1ac616196115788",
              "IPY_MODEL_63f4b482c37b48e4ae482bdf1e5f36d0",
              "IPY_MODEL_2ae5f23fc1684cf8868ef5b52b9555bd",
              "IPY_MODEL_acb17d48518445a58d277b20914b966d",
              "IPY_MODEL_7a1c70c13f8947659668582882efd242",
              "IPY_MODEL_bc64d73789ce490eb2c72b8fd5cafe9d",
              "IPY_MODEL_d53280a52c494955bd3e0ef074765ada",
              "IPY_MODEL_de90a90cabb1438b91dd5f97b1b06024",
              "IPY_MODEL_f4f96b421d4042029425dcda5698bc27",
              "IPY_MODEL_d5bfd0fab6974d5b8d374ea65d698a4d",
              "IPY_MODEL_b6c3a04aa09244aa999fda96690d4ddc"
            ],
            "layout": "IPY_MODEL_2658872b479e400b83ce5bf6405e2ec2",
            "left": 133310,
            "max_zoom": 24,
            "min_zoom": null,
            "modisdate": "2024-05-05",
            "north": 43.20567631575423,
            "options": [
              "bounce_at_zoom_limits",
              "box_zoom",
              "center",
              "close_popup_on_click",
              "double_click_zoom",
              "dragging",
              "fullscreen",
              "inertia",
              "inertia_deceleration",
              "inertia_max_speed",
              "interpolation",
              "keyboard",
              "keyboard_pan_offset",
              "keyboard_zoom_offset",
              "max_zoom",
              "min_zoom",
              "prefer_canvas",
              "scroll_wheel_zoom",
              "tap",
              "tap_tolerance",
              "touch_zoom",
              "world_copy_jump",
              "zoom",
              "zoom_animation_threshold",
              "zoom_delta",
              "zoom_snap"
            ],
            "panes": {},
            "prefer_canvas": false,
            "right": 135102,
            "scroll_wheel_zoom": true,
            "south": 42.904639456409875,
            "style": "IPY_MODEL_1d21088275134df186d7acd587ce2c96",
            "tap": true,
            "tap_tolerance": 15,
            "top": 192239,
            "touch_zoom": true,
            "west": -88.46328735351564,
            "window_url": "https://firz995szop-496ff2e9c6d22116-0-colab.googleusercontent.com/outputframe.html?vrz=colab_20240503-060105_RC00_630352330",
            "world_copy_jump": false,
            "zoom": 11,
            "zoom_animation_threshold": 4,
            "zoom_delta": 1,
            "zoom_snap": 1
          }
        },
        "a34c33e6c6a24b37bace2ca51ba52cc2": {
          "model_module": "jupyter-leaflet",
          "model_name": "LeafletWidgetControlModel",
          "model_module_version": "^0.18",
          "state": {
            "_model_module": "jupyter-leaflet",
            "_model_module_version": "^0.18",
            "_model_name": "LeafletWidgetControlModel",
            "_view_count": null,
            "_view_module": "jupyter-leaflet",
            "_view_module_version": "^0.18",
            "_view_name": "LeafletWidgetControlView",
            "max_height": null,
            "max_width": null,
            "min_height": null,
            "min_width": null,
            "options": [
              "position",
              "transparent_bg"
            ],
            "position": "topleft",
            "transparent_bg": false,
            "widget": "IPY_MODEL_d5a5111822da407abdbea7bbf789b774"
          }
        },
        "2aeb0748c1574b3a916eb3d95c7e577e": {
          "model_module": "jupyter-leaflet",
          "model_name": "LeafletZoomControlModel",
          "model_module_version": "^0.18",
          "state": {
            "_model_module": "jupyter-leaflet",
            "_model_module_version": "^0.18",
            "_model_name": "LeafletZoomControlModel",
            "_view_count": null,
            "_view_module": "jupyter-leaflet",
            "_view_module_version": "^0.18",
            "_view_name": "LeafletZoomControlView",
            "options": [
              "position",
              "zoom_in_text",
              "zoom_in_title",
              "zoom_out_text",
              "zoom_out_title"
            ],
            "position": "topleft",
            "zoom_in_text": "+",
            "zoom_in_title": "Zoom in",
            "zoom_out_text": "-",
            "zoom_out_title": "Zoom out"
          }
        },
        "85cf3ab9f53b450e85377c6b0691acdd": {
          "model_module": "jupyter-leaflet",
          "model_name": "LeafletFullScreenControlModel",
          "model_module_version": "^0.18",
          "state": {
            "_model_module": "jupyter-leaflet",
            "_model_module_version": "^0.18",
            "_model_name": "LeafletFullScreenControlModel",
            "_view_count": null,
            "_view_module": "jupyter-leaflet",
            "_view_module_version": "^0.18",
            "_view_name": "LeafletFullScreenControlView",
            "options": [
              "position"
            ],
            "position": "topleft"
          }
        },
        "8c2d3c51f59941b4a6381e70f8991eb4": {
          "model_module": "jupyter-leaflet",
          "model_name": "LeafletDrawControlModel",
          "model_module_version": "^0.18",
          "state": {
            "_model_module": "jupyter-leaflet",
            "_model_module_version": "^0.18",
            "_model_name": "LeafletDrawControlModel",
            "_view_count": null,
            "_view_module": "jupyter-leaflet",
            "_view_module_version": "^0.18",
            "_view_name": "LeafletDrawControlView",
            "circle": {},
            "circlemarker": {},
            "data": [],
            "edit": true,
            "marker": {
              "shapeOptions": {
                "color": "#3388ff"
              }
            },
            "options": [
              "position"
            ],
            "polygon": {
              "shapeOptions": {}
            },
            "polyline": {
              "shapeOptions": {}
            },
            "position": "topleft",
            "rectangle": {
              "shapeOptions": {
                "color": "#3388ff"
              }
            },
            "remove": true
          }
        },
        "930416483f194922b52ac99ff0aec1ea": {
          "model_module": "jupyter-leaflet",
          "model_name": "LeafletScaleControlModel",
          "model_module_version": "^0.18",
          "state": {
            "_model_module": "jupyter-leaflet",
            "_model_module_version": "^0.18",
            "_model_name": "LeafletScaleControlModel",
            "_view_count": null,
            "_view_module": "jupyter-leaflet",
            "_view_module_version": "^0.18",
            "_view_name": "LeafletScaleControlView",
            "imperial": true,
            "max_width": 100,
            "metric": true,
            "options": [
              "imperial",
              "max_width",
              "metric",
              "position",
              "update_when_idle"
            ],
            "position": "bottomleft",
            "update_when_idle": false
          }
        },
        "6d9301c44d844d56a572c7a778ff13c5": {
          "model_module": "jupyter-leaflet",
          "model_name": "LeafletMeasureControlModel",
          "model_module_version": "^0.18",
          "state": {
            "_custom_units": {},
            "_model_module": "jupyter-leaflet",
            "_model_module_version": "^0.18",
            "_model_name": "LeafletMeasureControlModel",
            "_view_count": null,
            "_view_module": "jupyter-leaflet",
            "_view_module_version": "^0.18",
            "_view_name": "LeafletMeasureControlView",
            "active_color": "orange",
            "capture_z_index": 10000,
            "completed_color": "#C8F2BE",
            "options": [
              "active_color",
              "capture_z_index",
              "completed_color",
              "popup_options",
              "position",
              "primary_area_unit",
              "primary_length_unit",
              "secondary_area_unit",
              "secondary_length_unit"
            ],
            "popup_options": {
              "className": "leaflet-measure-resultpopup",
              "autoPanPadding": [
                10,
                10
              ]
            },
            "position": "bottomleft",
            "primary_area_unit": "acres",
            "primary_length_unit": "kilometers",
            "secondary_area_unit": null,
            "secondary_length_unit": null
          }
        },
        "a705248cb6244c5b92f012f31f28d9c9": {
          "model_module": "jupyter-leaflet",
          "model_name": "LeafletWidgetControlModel",
          "model_module_version": "^0.18",
          "state": {
            "_model_module": "jupyter-leaflet",
            "_model_module_version": "^0.18",
            "_model_name": "LeafletWidgetControlModel",
            "_view_count": null,
            "_view_module": "jupyter-leaflet",
            "_view_module_version": "^0.18",
            "_view_name": "LeafletWidgetControlView",
            "max_height": null,
            "max_width": null,
            "min_height": null,
            "min_width": null,
            "options": [
              "position",
              "transparent_bg"
            ],
            "position": "topright",
            "transparent_bg": false,
            "widget": "IPY_MODEL_a39a5a4f8a35469cb8605f2a2a152a64"
          }
        },
        "275eaf420c334b3cb20ab2d6468ae538": {
          "model_module": "jupyter-leaflet",
          "model_name": "LeafletAttributionControlModel",
          "model_module_version": "^0.18",
          "state": {
            "_model_module": "jupyter-leaflet",
            "_model_module_version": "^0.18",
            "_model_name": "LeafletAttributionControlModel",
            "_view_count": null,
            "_view_module": "jupyter-leaflet",
            "_view_module_version": "^0.18",
            "_view_name": "LeafletAttributionControlView",
            "options": [
              "position",
              "prefix"
            ],
            "position": "bottomright",
            "prefix": "ipyleaflet"
          }
        },
        "5a9be07427d044ecb02f712118566696": {
          "model_module": "jupyter-leaflet",
          "model_name": "LeafletLayersControlModel",
          "model_module_version": "^0.18",
          "state": {
            "_model_module": "jupyter-leaflet",
            "_model_module_version": "^0.18",
            "_model_name": "LeafletLayersControlModel",
            "_view_count": null,
            "_view_module": "jupyter-leaflet",
            "_view_module_version": "^0.18",
            "_view_name": "LeafletLayersControlView",
            "collapsed": true,
            "options": [
              "collapsed",
              "position"
            ],
            "position": "topright"
          }
        },
        "1d21088275134df186d7acd587ce2c96": {
          "model_module": "jupyter-leaflet",
          "model_name": "LeafletMapStyleModel",
          "model_module_version": "^0.18",
          "state": {
            "_model_module": "jupyter-leaflet",
            "_model_module_version": "^0.18",
            "_model_name": "LeafletMapStyleModel",
            "_view_count": null,
            "_view_module": "@jupyter-widgets/base",
            "_view_module_version": "1.2.0",
            "_view_name": "StyleView",
            "cursor": "grab"
          }
        },
        "808b17b0bb6540c7bb8cea7527d6d677": {
          "model_module": "jupyter-leaflet",
          "model_name": "LeafletMapStyleModel",
          "model_module_version": "^0.18",
          "state": {
            "_model_module": "jupyter-leaflet",
            "_model_module_version": "^0.18",
            "_model_name": "LeafletMapStyleModel",
            "_view_count": null,
            "_view_module": "@jupyter-widgets/base",
            "_view_module_version": "1.2.0",
            "_view_name": "StyleView",
            "cursor": "move"
          }
        },
        "1e8c1237068a4f72a1ac616196115788": {
          "model_module": "jupyter-leaflet",
          "model_name": "LeafletTileLayerModel",
          "model_module_version": "^0.18",
          "state": {
            "_model_module": "jupyter-leaflet",
            "_model_module_version": "^0.18",
            "_model_name": "LeafletTileLayerModel",
            "_view_count": null,
            "_view_module": "jupyter-leaflet",
            "_view_module_version": "^0.18",
            "_view_name": "LeafletTileLayerView",
            "attribution": "&copy; <a href=\"https://www.openstreetmap.org/copyright\">OpenStreetMap</a> contributors",
            "base": true,
            "bottom": true,
            "bounds": null,
            "detect_retina": false,
            "loading": false,
            "max_native_zoom": null,
            "max_zoom": 19,
            "min_native_zoom": null,
            "min_zoom": 1,
            "name": "OpenStreetMap.Mapnik",
            "no_wrap": false,
            "opacity": 1,
            "options": [
              "attribution",
              "bounds",
              "detect_retina",
              "max_native_zoom",
              "max_zoom",
              "min_native_zoom",
              "min_zoom",
              "no_wrap",
              "tile_size",
              "tms",
              "zoom_offset"
            ],
            "pane": "",
            "popup": null,
            "popup_max_height": null,
            "popup_max_width": 300,
            "popup_min_width": 50,
            "show_loading": false,
            "subitems": [],
            "tile_size": 256,
            "tms": false,
            "url": "https://tile.openstreetmap.org/{z}/{x}/{y}.png",
            "visible": true,
            "zoom_offset": 0
          }
        },
        "63f4b482c37b48e4ae482bdf1e5f36d0": {
          "model_module": "jupyter-leaflet",
          "model_name": "LeafletTileLayerModel",
          "model_module_version": "^0.18",
          "state": {
            "_model_module": "jupyter-leaflet",
            "_model_module_version": "^0.18",
            "_model_name": "LeafletTileLayerModel",
            "_view_count": null,
            "_view_module": "jupyter-leaflet",
            "_view_module_version": "^0.18",
            "_view_name": "LeafletTileLayerView",
            "attribution": "Google Earth Engine",
            "base": false,
            "bottom": true,
            "bounds": null,
            "detect_retina": false,
            "loading": false,
            "max_native_zoom": null,
            "max_zoom": 24,
            "min_native_zoom": null,
            "min_zoom": 0,
            "name": "Sentinel 2 True Color",
            "no_wrap": false,
            "opacity": 1,
            "options": [
              "attribution",
              "bounds",
              "detect_retina",
              "max_native_zoom",
              "max_zoom",
              "min_native_zoom",
              "min_zoom",
              "no_wrap",
              "tile_size",
              "tms",
              "zoom_offset"
            ],
            "pane": "",
            "popup": null,
            "popup_max_height": null,
            "popup_max_width": 300,
            "popup_min_width": 50,
            "show_loading": false,
            "subitems": [],
            "tile_size": 256,
            "tms": false,
            "url": "https://earthengine.googleapis.com/v1/projects/ee-cvanorio/maps/6f8979def1aae0393d2f1f6c4d03ce56-58658404ee1a37beac4a42e886f1f83c/tiles/{z}/{x}/{y}",
            "visible": true,
            "zoom_offset": 0
          }
        },
        "2ae5f23fc1684cf8868ef5b52b9555bd": {
          "model_module": "jupyter-leaflet",
          "model_name": "LeafletTileLayerModel",
          "model_module_version": "^0.18",
          "state": {
            "_model_module": "jupyter-leaflet",
            "_model_module_version": "^0.18",
            "_model_name": "LeafletTileLayerModel",
            "_view_count": null,
            "_view_module": "jupyter-leaflet",
            "_view_module_version": "^0.18",
            "_view_name": "LeafletTileLayerView",
            "attribution": "Google Earth Engine",
            "base": false,
            "bottom": true,
            "bounds": null,
            "detect_retina": false,
            "loading": false,
            "max_native_zoom": null,
            "max_zoom": 24,
            "min_native_zoom": null,
            "min_zoom": 0,
            "name": "Sentinel 2 False Color",
            "no_wrap": false,
            "opacity": 1,
            "options": [
              "attribution",
              "bounds",
              "detect_retina",
              "max_native_zoom",
              "max_zoom",
              "min_native_zoom",
              "min_zoom",
              "no_wrap",
              "tile_size",
              "tms",
              "zoom_offset"
            ],
            "pane": "",
            "popup": null,
            "popup_max_height": null,
            "popup_max_width": 300,
            "popup_min_width": 50,
            "show_loading": false,
            "subitems": [],
            "tile_size": 256,
            "tms": false,
            "url": "https://earthengine.googleapis.com/v1/projects/ee-cvanorio/maps/f15c254fd23826b6cc47fb2c740979a3-894a05ce6232b4e1d27dbd56c3c3b4fe/tiles/{z}/{x}/{y}",
            "visible": true,
            "zoom_offset": 0
          }
        },
        "2658872b479e400b83ce5bf6405e2ec2": {
          "model_module": "@jupyter-widgets/base",
          "model_name": "LayoutModel",
          "model_module_version": "1.2.0",
          "state": {
            "_model_module": "@jupyter-widgets/base",
            "_model_module_version": "1.2.0",
            "_model_name": "LayoutModel",
            "_view_count": null,
            "_view_module": "@jupyter-widgets/base",
            "_view_module_version": "1.2.0",
            "_view_name": "LayoutView",
            "align_content": null,
            "align_items": null,
            "align_self": null,
            "border": null,
            "bottom": null,
            "display": null,
            "flex": null,
            "flex_flow": null,
            "grid_area": null,
            "grid_auto_columns": null,
            "grid_auto_flow": null,
            "grid_auto_rows": null,
            "grid_column": null,
            "grid_gap": null,
            "grid_row": null,
            "grid_template_areas": null,
            "grid_template_columns": null,
            "grid_template_rows": null,
            "height": "600px",
            "justify_content": null,
            "justify_items": null,
            "left": null,
            "margin": null,
            "max_height": null,
            "max_width": null,
            "min_height": null,
            "min_width": null,
            "object_fit": null,
            "object_position": null,
            "order": null,
            "overflow": null,
            "overflow_x": null,
            "overflow_y": null,
            "padding": null,
            "right": null,
            "top": null,
            "visibility": null,
            "width": null
          }
        },
        "f52ab1e199ff4299ad422ea9713450c4": {
          "model_module": "jupyter-leaflet",
          "model_name": "LeafletMapStyleModel",
          "model_module_version": "^0.18",
          "state": {
            "_model_module": "jupyter-leaflet",
            "_model_module_version": "^0.18",
            "_model_name": "LeafletMapStyleModel",
            "_view_count": null,
            "_view_module": "@jupyter-widgets/base",
            "_view_module_version": "1.2.0",
            "_view_name": "StyleView",
            "cursor": "grab"
          }
        },
        "d5a5111822da407abdbea7bbf789b774": {
          "model_module": "@jupyter-widgets/controls",
          "model_name": "HBoxModel",
          "model_module_version": "1.5.0",
          "state": {
            "_dom_classes": [
              "geemap-colab"
            ],
            "_model_module": "@jupyter-widgets/controls",
            "_model_module_version": "1.5.0",
            "_model_name": "HBoxModel",
            "_view_count": null,
            "_view_module": "@jupyter-widgets/controls",
            "_view_module_version": "1.5.0",
            "_view_name": "HBoxView",
            "box_style": "",
            "children": [
              "IPY_MODEL_f5839d026066443ca11424a2772ee1c6"
            ],
            "layout": "IPY_MODEL_abae63b666894b5daf4cd1bedf0d9660"
          }
        },
        "a39a5a4f8a35469cb8605f2a2a152a64": {
          "model_module": "@jupyter-widgets/controls",
          "model_name": "VBoxModel",
          "model_module_version": "1.5.0",
          "state": {
            "_dom_classes": [
              "geemap-colab"
            ],
            "_model_module": "@jupyter-widgets/controls",
            "_model_module_version": "1.5.0",
            "_model_name": "VBoxModel",
            "_view_count": null,
            "_view_module": "@jupyter-widgets/controls",
            "_view_module_version": "1.5.0",
            "_view_name": "VBoxView",
            "box_style": "",
            "children": [
              "IPY_MODEL_aa368852e5ae4860af4990fc81f134b3"
            ],
            "layout": "IPY_MODEL_8c418342b6d1485ba97f0378f4b68ff5"
          }
        },
        "f5839d026066443ca11424a2772ee1c6": {
          "model_module": "@jupyter-widgets/controls",
          "model_name": "ToggleButtonModel",
          "model_module_version": "1.5.0",
          "state": {
            "_dom_classes": [],
            "_model_module": "@jupyter-widgets/controls",
            "_model_module_version": "1.5.0",
            "_model_name": "ToggleButtonModel",
            "_view_count": null,
            "_view_module": "@jupyter-widgets/controls",
            "_view_module_version": "1.5.0",
            "_view_name": "ToggleButtonView",
            "button_style": "",
            "description": "",
            "description_tooltip": null,
            "disabled": false,
            "icon": "globe",
            "layout": "IPY_MODEL_9a42b0f798e4480aa899fe1480b273c2",
            "style": "IPY_MODEL_9e4a43156c2848de8ea11a7802418f1f",
            "tooltip": "Search location/data",
            "value": false
          }
        },
        "abae63b666894b5daf4cd1bedf0d9660": {
          "model_module": "@jupyter-widgets/base",
          "model_name": "LayoutModel",
          "model_module_version": "1.2.0",
          "state": {
            "_model_module": "@jupyter-widgets/base",
            "_model_module_version": "1.2.0",
            "_model_name": "LayoutModel",
            "_view_count": null,
            "_view_module": "@jupyter-widgets/base",
            "_view_module_version": "1.2.0",
            "_view_name": "LayoutView",
            "align_content": null,
            "align_items": null,
            "align_self": null,
            "border": null,
            "bottom": null,
            "display": null,
            "flex": null,
            "flex_flow": null,
            "grid_area": null,
            "grid_auto_columns": null,
            "grid_auto_flow": null,
            "grid_auto_rows": null,
            "grid_column": null,
            "grid_gap": null,
            "grid_row": null,
            "grid_template_areas": null,
            "grid_template_columns": null,
            "grid_template_rows": null,
            "height": null,
            "justify_content": null,
            "justify_items": null,
            "left": null,
            "margin": null,
            "max_height": null,
            "max_width": null,
            "min_height": null,
            "min_width": null,
            "object_fit": null,
            "object_position": null,
            "order": null,
            "overflow": null,
            "overflow_x": null,
            "overflow_y": null,
            "padding": null,
            "right": null,
            "top": null,
            "visibility": null,
            "width": null
          }
        },
        "aa368852e5ae4860af4990fc81f134b3": {
          "model_module": "@jupyter-widgets/controls",
          "model_name": "ToggleButtonModel",
          "model_module_version": "1.5.0",
          "state": {
            "_dom_classes": [],
            "_model_module": "@jupyter-widgets/controls",
            "_model_module_version": "1.5.0",
            "_model_name": "ToggleButtonModel",
            "_view_count": null,
            "_view_module": "@jupyter-widgets/controls",
            "_view_module_version": "1.5.0",
            "_view_name": "ToggleButtonView",
            "button_style": "",
            "description": "",
            "description_tooltip": null,
            "disabled": false,
            "icon": "wrench",
            "layout": "IPY_MODEL_782b0d4c2d4044b2b0e7d440032eeee3",
            "style": "IPY_MODEL_90b806f7418545478a73985c2fcf0225",
            "tooltip": "Toolbar",
            "value": false
          }
        },
        "8c418342b6d1485ba97f0378f4b68ff5": {
          "model_module": "@jupyter-widgets/base",
          "model_name": "LayoutModel",
          "model_module_version": "1.2.0",
          "state": {
            "_model_module": "@jupyter-widgets/base",
            "_model_module_version": "1.2.0",
            "_model_name": "LayoutModel",
            "_view_count": null,
            "_view_module": "@jupyter-widgets/base",
            "_view_module_version": "1.2.0",
            "_view_name": "LayoutView",
            "align_content": null,
            "align_items": null,
            "align_self": null,
            "border": null,
            "bottom": null,
            "display": null,
            "flex": null,
            "flex_flow": null,
            "grid_area": null,
            "grid_auto_columns": null,
            "grid_auto_flow": null,
            "grid_auto_rows": null,
            "grid_column": null,
            "grid_gap": null,
            "grid_row": null,
            "grid_template_areas": null,
            "grid_template_columns": null,
            "grid_template_rows": null,
            "height": null,
            "justify_content": null,
            "justify_items": null,
            "left": null,
            "margin": null,
            "max_height": null,
            "max_width": null,
            "min_height": null,
            "min_width": null,
            "object_fit": null,
            "object_position": null,
            "order": null,
            "overflow": null,
            "overflow_x": null,
            "overflow_y": null,
            "padding": null,
            "right": null,
            "top": null,
            "visibility": null,
            "width": null
          }
        },
        "9a42b0f798e4480aa899fe1480b273c2": {
          "model_module": "@jupyter-widgets/base",
          "model_name": "LayoutModel",
          "model_module_version": "1.2.0",
          "state": {
            "_model_module": "@jupyter-widgets/base",
            "_model_module_version": "1.2.0",
            "_model_name": "LayoutModel",
            "_view_count": null,
            "_view_module": "@jupyter-widgets/base",
            "_view_module_version": "1.2.0",
            "_view_name": "LayoutView",
            "align_content": null,
            "align_items": null,
            "align_self": null,
            "border": null,
            "bottom": null,
            "display": null,
            "flex": null,
            "flex_flow": null,
            "grid_area": null,
            "grid_auto_columns": null,
            "grid_auto_flow": null,
            "grid_auto_rows": null,
            "grid_column": null,
            "grid_gap": null,
            "grid_row": null,
            "grid_template_areas": null,
            "grid_template_columns": null,
            "grid_template_rows": null,
            "height": "28px",
            "justify_content": null,
            "justify_items": null,
            "left": null,
            "margin": null,
            "max_height": null,
            "max_width": null,
            "min_height": null,
            "min_width": null,
            "object_fit": null,
            "object_position": null,
            "order": null,
            "overflow": null,
            "overflow_x": null,
            "overflow_y": null,
            "padding": "0px 0px 0px 4px",
            "right": null,
            "top": null,
            "visibility": null,
            "width": "28px"
          }
        },
        "9e4a43156c2848de8ea11a7802418f1f": {
          "model_module": "@jupyter-widgets/controls",
          "model_name": "DescriptionStyleModel",
          "model_module_version": "1.5.0",
          "state": {
            "_model_module": "@jupyter-widgets/controls",
            "_model_module_version": "1.5.0",
            "_model_name": "DescriptionStyleModel",
            "_view_count": null,
            "_view_module": "@jupyter-widgets/base",
            "_view_module_version": "1.2.0",
            "_view_name": "StyleView",
            "description_width": ""
          }
        },
        "782b0d4c2d4044b2b0e7d440032eeee3": {
          "model_module": "@jupyter-widgets/base",
          "model_name": "LayoutModel",
          "model_module_version": "1.2.0",
          "state": {
            "_model_module": "@jupyter-widgets/base",
            "_model_module_version": "1.2.0",
            "_model_name": "LayoutModel",
            "_view_count": null,
            "_view_module": "@jupyter-widgets/base",
            "_view_module_version": "1.2.0",
            "_view_name": "LayoutView",
            "align_content": null,
            "align_items": null,
            "align_self": null,
            "border": null,
            "bottom": null,
            "display": null,
            "flex": null,
            "flex_flow": null,
            "grid_area": null,
            "grid_auto_columns": null,
            "grid_auto_flow": null,
            "grid_auto_rows": null,
            "grid_column": null,
            "grid_gap": null,
            "grid_row": null,
            "grid_template_areas": null,
            "grid_template_columns": null,
            "grid_template_rows": null,
            "height": "28px",
            "justify_content": null,
            "justify_items": null,
            "left": null,
            "margin": null,
            "max_height": null,
            "max_width": null,
            "min_height": null,
            "min_width": null,
            "object_fit": null,
            "object_position": null,
            "order": null,
            "overflow": null,
            "overflow_x": null,
            "overflow_y": null,
            "padding": "0px 0px 0px 4px",
            "right": null,
            "top": null,
            "visibility": null,
            "width": "28px"
          }
        },
        "90b806f7418545478a73985c2fcf0225": {
          "model_module": "@jupyter-widgets/controls",
          "model_name": "DescriptionStyleModel",
          "model_module_version": "1.5.0",
          "state": {
            "_model_module": "@jupyter-widgets/controls",
            "_model_module_version": "1.5.0",
            "_model_name": "DescriptionStyleModel",
            "_view_count": null,
            "_view_module": "@jupyter-widgets/base",
            "_view_module_version": "1.2.0",
            "_view_name": "StyleView",
            "description_width": ""
          }
        },
        "acb17d48518445a58d277b20914b966d": {
          "model_module": "jupyter-leaflet",
          "model_name": "LeafletTileLayerModel",
          "model_module_version": "^0.18",
          "state": {
            "_model_module": "jupyter-leaflet",
            "_model_module_version": "^0.18",
            "_model_name": "LeafletTileLayerModel",
            "_view_count": null,
            "_view_module": "jupyter-leaflet",
            "_view_module_version": "^0.18",
            "_view_name": "LeafletTileLayerView",
            "attribution": "Google Earth Engine",
            "base": false,
            "bottom": true,
            "bounds": null,
            "detect_retina": false,
            "loading": false,
            "max_native_zoom": null,
            "max_zoom": 24,
            "min_native_zoom": null,
            "min_zoom": 0,
            "name": "Sentinel 2 NDVI",
            "no_wrap": false,
            "opacity": 1,
            "options": [
              "attribution",
              "bounds",
              "detect_retina",
              "max_native_zoom",
              "max_zoom",
              "min_native_zoom",
              "min_zoom",
              "no_wrap",
              "tile_size",
              "tms",
              "zoom_offset"
            ],
            "pane": "",
            "popup": null,
            "popup_max_height": null,
            "popup_max_width": 300,
            "popup_min_width": 50,
            "show_loading": false,
            "subitems": [],
            "tile_size": 256,
            "tms": false,
            "url": "https://earthengine.googleapis.com/v1/projects/ee-cvanorio/maps/488e060974928ca0ae1c7d2d6d11b7bb-3792a3a1b212ab6dc4d7f3deb1dd4a88/tiles/{z}/{x}/{y}",
            "visible": true,
            "zoom_offset": 0
          }
        },
        "7a1c70c13f8947659668582882efd242": {
          "model_module": "jupyter-leaflet",
          "model_name": "LeafletTileLayerModel",
          "model_module_version": "^0.18",
          "state": {
            "_model_module": "jupyter-leaflet",
            "_model_module_version": "^0.18",
            "_model_name": "LeafletTileLayerModel",
            "_view_count": null,
            "_view_module": "jupyter-leaflet",
            "_view_module_version": "^0.18",
            "_view_name": "LeafletTileLayerView",
            "attribution": "Google Earth Engine",
            "base": false,
            "bottom": true,
            "bounds": null,
            "detect_retina": false,
            "loading": false,
            "max_native_zoom": null,
            "max_zoom": 24,
            "min_native_zoom": null,
            "min_zoom": 0,
            "name": "Classification",
            "no_wrap": false,
            "opacity": 1,
            "options": [
              "attribution",
              "bounds",
              "detect_retina",
              "max_native_zoom",
              "max_zoom",
              "min_native_zoom",
              "min_zoom",
              "no_wrap",
              "tile_size",
              "tms",
              "zoom_offset"
            ],
            "pane": "",
            "popup": null,
            "popup_max_height": null,
            "popup_max_width": 300,
            "popup_min_width": 50,
            "show_loading": false,
            "subitems": [],
            "tile_size": 256,
            "tms": false,
            "url": "https://earthengine.googleapis.com/v1/projects/ee-cvanorio/maps/3007eb49d0d4fa07a07ad158f56329b7-25b4db27d6f84acbc2587ca0a503014c/tiles/{z}/{x}/{y}",
            "visible": true,
            "zoom_offset": 0
          }
        },
        "bc64d73789ce490eb2c72b8fd5cafe9d": {
          "model_module": "jupyter-leaflet",
          "model_name": "LeafletTileLayerModel",
          "model_module_version": "^0.18",
          "state": {
            "_model_module": "jupyter-leaflet",
            "_model_module_version": "^0.18",
            "_model_name": "LeafletTileLayerModel",
            "_view_count": null,
            "_view_module": "jupyter-leaflet",
            "_view_module_version": "^0.18",
            "_view_name": "LeafletTileLayerView",
            "attribution": "Google Earth Engine",
            "base": false,
            "bottom": true,
            "bounds": null,
            "detect_retina": false,
            "loading": false,
            "max_native_zoom": null,
            "max_zoom": 24,
            "min_native_zoom": null,
            "min_zoom": 0,
            "name": "Morning Air Temp",
            "no_wrap": false,
            "opacity": 1,
            "options": [
              "attribution",
              "bounds",
              "detect_retina",
              "max_native_zoom",
              "max_zoom",
              "min_native_zoom",
              "min_zoom",
              "no_wrap",
              "tile_size",
              "tms",
              "zoom_offset"
            ],
            "pane": "",
            "popup": null,
            "popup_max_height": null,
            "popup_max_width": 300,
            "popup_min_width": 50,
            "show_loading": false,
            "subitems": [],
            "tile_size": 256,
            "tms": false,
            "url": "https://earthengine.googleapis.com/v1/projects/ee-cvanorio/maps/e93722d28b2a885ead7a0c9d1070c2e1-7424326301c5ef483eb082f0bd95ee9a/tiles/{z}/{x}/{y}",
            "visible": true,
            "zoom_offset": 0
          }
        },
        "d53280a52c494955bd3e0ef074765ada": {
          "model_module": "jupyter-leaflet",
          "model_name": "LeafletTileLayerModel",
          "model_module_version": "^0.18",
          "state": {
            "_model_module": "jupyter-leaflet",
            "_model_module_version": "^0.18",
            "_model_name": "LeafletTileLayerModel",
            "_view_count": null,
            "_view_module": "jupyter-leaflet",
            "_view_module_version": "^0.18",
            "_view_name": "LeafletTileLayerView",
            "attribution": "Google Earth Engine",
            "base": false,
            "bottom": true,
            "bounds": null,
            "detect_retina": false,
            "loading": false,
            "max_native_zoom": null,
            "max_zoom": 24,
            "min_native_zoom": null,
            "min_zoom": 0,
            "name": "Afternoon Air Temp",
            "no_wrap": false,
            "opacity": 1,
            "options": [
              "attribution",
              "bounds",
              "detect_retina",
              "max_native_zoom",
              "max_zoom",
              "min_native_zoom",
              "min_zoom",
              "no_wrap",
              "tile_size",
              "tms",
              "zoom_offset"
            ],
            "pane": "",
            "popup": null,
            "popup_max_height": null,
            "popup_max_width": 300,
            "popup_min_width": 50,
            "show_loading": false,
            "subitems": [],
            "tile_size": 256,
            "tms": false,
            "url": "https://earthengine.googleapis.com/v1/projects/ee-cvanorio/maps/b9a18b3c9618ca196ac6a0d441ccb57a-8ed2075527434f47973e1a770812e909/tiles/{z}/{x}/{y}",
            "visible": true,
            "zoom_offset": 0
          }
        },
        "de90a90cabb1438b91dd5f97b1b06024": {
          "model_module": "jupyter-leaflet",
          "model_name": "LeafletTileLayerModel",
          "model_module_version": "^0.18",
          "state": {
            "_model_module": "jupyter-leaflet",
            "_model_module_version": "^0.18",
            "_model_name": "LeafletTileLayerModel",
            "_view_count": null,
            "_view_module": "jupyter-leaflet",
            "_view_module_version": "^0.18",
            "_view_name": "LeafletTileLayerView",
            "attribution": "Google Earth Engine",
            "base": false,
            "bottom": true,
            "bounds": null,
            "detect_retina": false,
            "loading": false,
            "max_native_zoom": null,
            "max_zoom": 24,
            "min_native_zoom": null,
            "min_zoom": 0,
            "name": "Evening Air Temp",
            "no_wrap": false,
            "opacity": 1,
            "options": [
              "attribution",
              "bounds",
              "detect_retina",
              "max_native_zoom",
              "max_zoom",
              "min_native_zoom",
              "min_zoom",
              "no_wrap",
              "tile_size",
              "tms",
              "zoom_offset"
            ],
            "pane": "",
            "popup": null,
            "popup_max_height": null,
            "popup_max_width": 300,
            "popup_min_width": 50,
            "show_loading": false,
            "subitems": [],
            "tile_size": 256,
            "tms": false,
            "url": "https://earthengine.googleapis.com/v1/projects/ee-cvanorio/maps/0ed7919e465d03b46d572025ae274306-ce8a8e83a38e5af2af50136bcf32a076/tiles/{z}/{x}/{y}",
            "visible": true,
            "zoom_offset": 0
          }
        },
        "f4f96b421d4042029425dcda5698bc27": {
          "model_module": "jupyter-leaflet",
          "model_name": "LeafletTileLayerModel",
          "model_module_version": "^0.18",
          "state": {
            "_model_module": "jupyter-leaflet",
            "_model_module_version": "^0.18",
            "_model_name": "LeafletTileLayerModel",
            "_view_count": null,
            "_view_module": "jupyter-leaflet",
            "_view_module_version": "^0.18",
            "_view_name": "LeafletTileLayerView",
            "attribution": "Google Earth Engine",
            "base": false,
            "bottom": true,
            "bounds": null,
            "detect_retina": false,
            "loading": false,
            "max_native_zoom": null,
            "max_zoom": 24,
            "min_native_zoom": null,
            "min_zoom": 0,
            "name": "Average Air Temp",
            "no_wrap": false,
            "opacity": 1,
            "options": [
              "attribution",
              "bounds",
              "detect_retina",
              "max_native_zoom",
              "max_zoom",
              "min_native_zoom",
              "min_zoom",
              "no_wrap",
              "tile_size",
              "tms",
              "zoom_offset"
            ],
            "pane": "",
            "popup": null,
            "popup_max_height": null,
            "popup_max_width": 300,
            "popup_min_width": 50,
            "show_loading": false,
            "subitems": [],
            "tile_size": 256,
            "tms": false,
            "url": "https://earthengine.googleapis.com/v1/projects/ee-cvanorio/maps/d84cf1be35855555c46c4a7571e07bf3-36f9d9f75c44a9d51f25c72f64358912/tiles/{z}/{x}/{y}",
            "visible": true,
            "zoom_offset": 0
          }
        },
        "d5bfd0fab6974d5b8d374ea65d698a4d": {
          "model_module": "jupyter-leaflet",
          "model_name": "LeafletTileLayerModel",
          "model_module_version": "^0.18",
          "state": {
            "_model_module": "jupyter-leaflet",
            "_model_module_version": "^0.18",
            "_model_name": "LeafletTileLayerModel",
            "_view_count": null,
            "_view_module": "jupyter-leaflet",
            "_view_module_version": "^0.18",
            "_view_name": "LeafletTileLayerView",
            "attribution": "Google Earth Engine",
            "base": false,
            "bottom": true,
            "bounds": null,
            "detect_retina": false,
            "loading": false,
            "max_native_zoom": null,
            "max_zoom": 24,
            "min_native_zoom": null,
            "min_zoom": 0,
            "name": "Landsat LST",
            "no_wrap": false,
            "opacity": 1,
            "options": [
              "attribution",
              "bounds",
              "detect_retina",
              "max_native_zoom",
              "max_zoom",
              "min_native_zoom",
              "min_zoom",
              "no_wrap",
              "tile_size",
              "tms",
              "zoom_offset"
            ],
            "pane": "",
            "popup": null,
            "popup_max_height": null,
            "popup_max_width": 300,
            "popup_min_width": 50,
            "show_loading": false,
            "subitems": [],
            "tile_size": 256,
            "tms": false,
            "url": "https://earthengine.googleapis.com/v1/projects/ee-cvanorio/maps/e20eda12c4ee30b1f0f574061a5ae940-c7d393eab6d6ce9c04874bc23937d826/tiles/{z}/{x}/{y}",
            "visible": true,
            "zoom_offset": 0
          }
        },
        "b6c3a04aa09244aa999fda96690d4ddc": {
          "model_module": "jupyter-leaflet",
          "model_name": "LeafletTileLayerModel",
          "model_module_version": "^0.18",
          "state": {
            "_model_module": "jupyter-leaflet",
            "_model_module_version": "^0.18",
            "_model_name": "LeafletTileLayerModel",
            "_view_count": null,
            "_view_module": "jupyter-leaflet",
            "_view_module_version": "^0.18",
            "_view_name": "LeafletTileLayerView",
            "attribution": "Google Earth Engine",
            "base": false,
            "bottom": true,
            "bounds": null,
            "detect_retina": false,
            "loading": false,
            "max_native_zoom": null,
            "max_zoom": 24,
            "min_native_zoom": null,
            "min_zoom": 0,
            "name": "Diurnal Temp Range",
            "no_wrap": false,
            "opacity": 1,
            "options": [
              "attribution",
              "bounds",
              "detect_retina",
              "max_native_zoom",
              "max_zoom",
              "min_native_zoom",
              "min_zoom",
              "no_wrap",
              "tile_size",
              "tms",
              "zoom_offset"
            ],
            "pane": "",
            "popup": null,
            "popup_max_height": null,
            "popup_max_width": 300,
            "popup_min_width": 50,
            "show_loading": false,
            "subitems": [],
            "tile_size": 256,
            "tms": false,
            "url": "https://earthengine.googleapis.com/v1/projects/ee-cvanorio/maps/0976977d4b81cc4dea33ec8a7bc74d09-2f430ce01b1d14792b5bd108e59d878a/tiles/{z}/{x}/{y}",
            "visible": true,
            "zoom_offset": 0
          }
        }
      }
    }
  },
  "cells": [
    {
      "cell_type": "markdown",
      "metadata": {
        "id": "view-in-github",
        "colab_type": "text"
      },
      "source": [
        "<a href=\"https://colab.research.google.com/github/CVanorio/EnvirSt956-UrbanHeatIslandAnalysis/blob/main/HighResolutionUHIAnalysis_DEMO.ipynb\" target=\"_parent\"><img src=\"https://colab.research.google.com/assets/colab-badge.svg\" alt=\"Open In Colab\"/></a>"
      ]
    },
    {
      "cell_type": "markdown",
      "source": [
        "# **Comparing High Resoltuion Thermal Imagery to Landsat 8 for Urban Heat Islands**\n",
        "### This code analyzes high resolution thermal imagery to assess urban heat island characteristics and compares the results to Landsat 8 thermal imagery. The aerial thermal imagery used in this analysis was acquired by the [Wisconsin DNR](https://data-wi-dnr.opendata.arcgis.com/search?q=temperature) in July of 2022 and has a resolution of 10 meters.\n",
        "\n",
        "####**Pre-requesites for this project include:**\n",
        "\n",
        "\n",
        "*   Your high resolution thermal data uploaded to your Google Drive account\n",
        "*   A Google Earth Engine Account with a registered cloud project\n",
        "*   Your urban or boundary shapefile\n",
        "*   Data for this example can be found at [this repository](https://github.com/CVanorio/EnvirSt956-UrbanHeatIslandAnalysis)\n",
        "\n"
      ],
      "metadata": {
        "id": "jJRAKjLFDG0M"
      }
    },
    {
      "cell_type": "markdown",
      "source": [
        "## 1. Connect to your Google Drive and Google Earth Engine Account"
      ],
      "metadata": {
        "id": "u2kOuT9voHEY"
      }
    },
    {
      "cell_type": "code",
      "source": [
        "# the following two lines establishes the connection\n",
        "# to your google drive and \"mounts\" your drive as gdrive\n",
        "from google.colab import drive\n",
        "drive.mount('/content/gdrive')"
      ],
      "metadata": {
        "id": "RgGAGgAmHJNU",
        "colab": {
          "base_uri": "https://localhost:8080/"
        },
        "outputId": "2c3fa21b-4307-4625-e9c0-046518661120"
      },
      "execution_count": 1,
      "outputs": [
        {
          "output_type": "stream",
          "name": "stdout",
          "text": [
            "Mounted at /content/gdrive\n"
          ]
        }
      ]
    },
    {
      "cell_type": "code",
      "source": [
        "# Import the Earth Engine Python API\n",
        "import ee\n",
        "# Authenticate the user with Earth Engine\n",
        "ee.Authenticate()\n",
        "# Initialize the Earth Engine library with a specific project\n",
        "ee.Initialize(project='ee-cvanorio')"
      ],
      "metadata": {
        "id": "tcz2WvLAADY5"
      },
      "execution_count": 2,
      "outputs": []
    },
    {
      "cell_type": "markdown",
      "source": [
        "## 2. Install and import necessary modules and update all existing packages"
      ],
      "metadata": {
        "id": "pXu8KAgCo3Lt"
      }
    },
    {
      "cell_type": "code",
      "source": [
        "# install the missing modules\n",
        "!pip install rasterio\n",
        "!pip install geopandas\n",
        "#!add-apt-repository ppa:ubuntugis/ppa #This requires user input to finish installing\n",
        "!apt install gdal-bin\n",
        "!pip install geemap\n",
        "!pip install ipyleaflet==0.18.2\n",
        "\n",
        "# update all packages\n",
        "!apt update"
      ],
      "metadata": {
        "id": "_no7wnt2FefX",
        "colab": {
          "base_uri": "https://localhost:8080/"
        },
        "outputId": "a48b23a0-ff7a-4c79-8ce5-2cf4882ee2ad"
      },
      "execution_count": 3,
      "outputs": [
        {
          "output_type": "stream",
          "name": "stdout",
          "text": [
            "Collecting rasterio\n",
            "  Downloading rasterio-1.3.10-cp310-cp310-manylinux2014_x86_64.whl (21.5 MB)\n",
            "\u001b[2K     \u001b[90m━━━━━━━━━━━━━━━━━━━━━━━━━━━━━━━━━━━━━━━━\u001b[0m \u001b[32m21.5/21.5 MB\u001b[0m \u001b[31m41.6 MB/s\u001b[0m eta \u001b[36m0:00:00\u001b[0m\n",
            "\u001b[?25hCollecting affine (from rasterio)\n",
            "  Downloading affine-2.4.0-py3-none-any.whl (15 kB)\n",
            "Requirement already satisfied: attrs in /usr/local/lib/python3.10/dist-packages (from rasterio) (23.2.0)\n",
            "Requirement already satisfied: certifi in /usr/local/lib/python3.10/dist-packages (from rasterio) (2024.2.2)\n",
            "Requirement already satisfied: click>=4.0 in /usr/local/lib/python3.10/dist-packages (from rasterio) (8.1.7)\n",
            "Requirement already satisfied: cligj>=0.5 in /usr/local/lib/python3.10/dist-packages (from rasterio) (0.7.2)\n",
            "Requirement already satisfied: numpy in /usr/local/lib/python3.10/dist-packages (from rasterio) (1.25.2)\n",
            "Collecting snuggs>=1.4.1 (from rasterio)\n",
            "  Downloading snuggs-1.4.7-py3-none-any.whl (5.4 kB)\n",
            "Requirement already satisfied: click-plugins in /usr/local/lib/python3.10/dist-packages (from rasterio) (1.1.1)\n",
            "Requirement already satisfied: setuptools in /usr/local/lib/python3.10/dist-packages (from rasterio) (67.7.2)\n",
            "Requirement already satisfied: pyparsing>=2.1.6 in /usr/local/lib/python3.10/dist-packages (from snuggs>=1.4.1->rasterio) (3.1.2)\n",
            "Installing collected packages: snuggs, affine, rasterio\n",
            "Successfully installed affine-2.4.0 rasterio-1.3.10 snuggs-1.4.7\n",
            "Requirement already satisfied: geopandas in /usr/local/lib/python3.10/dist-packages (0.13.2)\n",
            "Requirement already satisfied: fiona>=1.8.19 in /usr/local/lib/python3.10/dist-packages (from geopandas) (1.9.6)\n",
            "Requirement already satisfied: packaging in /usr/local/lib/python3.10/dist-packages (from geopandas) (24.0)\n",
            "Requirement already satisfied: pandas>=1.1.0 in /usr/local/lib/python3.10/dist-packages (from geopandas) (2.0.3)\n",
            "Requirement already satisfied: pyproj>=3.0.1 in /usr/local/lib/python3.10/dist-packages (from geopandas) (3.6.1)\n",
            "Requirement already satisfied: shapely>=1.7.1 in /usr/local/lib/python3.10/dist-packages (from geopandas) (2.0.4)\n",
            "Requirement already satisfied: attrs>=19.2.0 in /usr/local/lib/python3.10/dist-packages (from fiona>=1.8.19->geopandas) (23.2.0)\n",
            "Requirement already satisfied: certifi in /usr/local/lib/python3.10/dist-packages (from fiona>=1.8.19->geopandas) (2024.2.2)\n",
            "Requirement already satisfied: click~=8.0 in /usr/local/lib/python3.10/dist-packages (from fiona>=1.8.19->geopandas) (8.1.7)\n",
            "Requirement already satisfied: click-plugins>=1.0 in /usr/local/lib/python3.10/dist-packages (from fiona>=1.8.19->geopandas) (1.1.1)\n",
            "Requirement already satisfied: cligj>=0.5 in /usr/local/lib/python3.10/dist-packages (from fiona>=1.8.19->geopandas) (0.7.2)\n",
            "Requirement already satisfied: six in /usr/local/lib/python3.10/dist-packages (from fiona>=1.8.19->geopandas) (1.16.0)\n",
            "Requirement already satisfied: python-dateutil>=2.8.2 in /usr/local/lib/python3.10/dist-packages (from pandas>=1.1.0->geopandas) (2.8.2)\n",
            "Requirement already satisfied: pytz>=2020.1 in /usr/local/lib/python3.10/dist-packages (from pandas>=1.1.0->geopandas) (2023.4)\n",
            "Requirement already satisfied: tzdata>=2022.1 in /usr/local/lib/python3.10/dist-packages (from pandas>=1.1.0->geopandas) (2024.1)\n",
            "Requirement already satisfied: numpy>=1.21.0 in /usr/local/lib/python3.10/dist-packages (from pandas>=1.1.0->geopandas) (1.25.2)\n",
            "Reading package lists... Done\n",
            "Building dependency tree... Done\n",
            "Reading state information... Done\n",
            "The following additional packages will be installed:\n",
            "  python3-gdal python3-numpy\n",
            "Suggested packages:\n",
            "  libgdal-grass python-numpy-doc python3-pytest\n",
            "The following NEW packages will be installed:\n",
            "  gdal-bin python3-gdal python3-numpy\n",
            "0 upgraded, 3 newly installed, 0 to remove and 45 not upgraded.\n",
            "Need to get 5,055 kB of archives.\n",
            "After this operation, 25.1 MB of additional disk space will be used.\n",
            "Get:1 https://ppa.launchpadcontent.net/ubuntugis/ppa/ubuntu jammy/main amd64 python3-gdal amd64 3.6.4+dfsg-1~jammy0 [1,027 kB]\n",
            "Get:2 http://archive.ubuntu.com/ubuntu jammy-updates/main amd64 python3-numpy amd64 1:1.21.5-1ubuntu22.04.1 [3,467 kB]\n",
            "Get:3 https://ppa.launchpadcontent.net/ubuntugis/ppa/ubuntu jammy/main amd64 gdal-bin amd64 3.6.4+dfsg-1~jammy0 [561 kB]\n",
            "39% [2 python3-numpy 14.2 kB/3,467 kB 0%]\u001b[0mSelecting previously unselected package python3-numpy.\n",
            "(Reading database ... 121920 files and directories currently installed.)\n",
            "Preparing to unpack .../python3-numpy_1%3a1.21.5-1ubuntu22.04.1_amd64.deb ...\n",
            "Unpacking python3-numpy (1:1.21.5-1ubuntu22.04.1) ...\n",
            "Selecting previously unselected package python3-gdal.\n",
            "Preparing to unpack .../python3-gdal_3.6.4+dfsg-1~jammy0_amd64.deb ...\n",
            "Unpacking python3-gdal (3.6.4+dfsg-1~jammy0) ...\n",
            "Selecting previously unselected package gdal-bin.\n",
            "Preparing to unpack .../gdal-bin_3.6.4+dfsg-1~jammy0_amd64.deb ...\n",
            "Unpacking gdal-bin (3.6.4+dfsg-1~jammy0) ...\n",
            "Setting up python3-numpy (1:1.21.5-1ubuntu22.04.1) ...\n",
            "Setting up python3-gdal (3.6.4+dfsg-1~jammy0) ...\n",
            "Setting up gdal-bin (3.6.4+dfsg-1~jammy0) ...\n",
            "Processing triggers for man-db (2.10.2-1) ...\n",
            "Requirement already satisfied: geemap in /usr/local/lib/python3.10/dist-packages (0.32.0)\n",
            "Requirement already satisfied: bqplot in /usr/local/lib/python3.10/dist-packages (from geemap) (0.12.43)\n",
            "Requirement already satisfied: colour in /usr/local/lib/python3.10/dist-packages (from geemap) (0.1.5)\n",
            "Requirement already satisfied: earthengine-api>=0.1.347 in /usr/local/lib/python3.10/dist-packages (from geemap) (0.1.400)\n",
            "Requirement already satisfied: eerepr>=0.0.4 in /usr/local/lib/python3.10/dist-packages (from geemap) (0.0.4)\n",
            "Requirement already satisfied: folium>=0.13.0 in /usr/local/lib/python3.10/dist-packages (from geemap) (0.14.0)\n",
            "Requirement already satisfied: geocoder in /usr/local/lib/python3.10/dist-packages (from geemap) (1.38.1)\n",
            "Requirement already satisfied: ipyevents in /usr/local/lib/python3.10/dist-packages (from geemap) (2.0.2)\n",
            "Requirement already satisfied: ipyfilechooser>=0.6.0 in /usr/local/lib/python3.10/dist-packages (from geemap) (0.6.0)\n",
            "Requirement already satisfied: ipyleaflet>=0.17.0 in /usr/local/lib/python3.10/dist-packages (from geemap) (0.18.2)\n",
            "Requirement already satisfied: ipytree in /usr/local/lib/python3.10/dist-packages (from geemap) (0.2.2)\n",
            "Requirement already satisfied: matplotlib in /usr/local/lib/python3.10/dist-packages (from geemap) (3.7.1)\n",
            "Requirement already satisfied: numpy in /usr/local/lib/python3.10/dist-packages (from geemap) (1.25.2)\n",
            "Requirement already satisfied: pandas in /usr/local/lib/python3.10/dist-packages (from geemap) (2.0.3)\n",
            "Requirement already satisfied: plotly in /usr/local/lib/python3.10/dist-packages (from geemap) (5.15.0)\n",
            "Requirement already satisfied: pyperclip in /usr/local/lib/python3.10/dist-packages (from geemap) (1.8.2)\n",
            "Requirement already satisfied: pyshp>=2.1.3 in /usr/local/lib/python3.10/dist-packages (from geemap) (2.3.1)\n",
            "Requirement already satisfied: python-box in /usr/local/lib/python3.10/dist-packages (from geemap) (7.1.1)\n",
            "Requirement already satisfied: scooby in /usr/local/lib/python3.10/dist-packages (from geemap) (0.9.2)\n",
            "Requirement already satisfied: google-cloud-storage in /usr/local/lib/python3.10/dist-packages (from earthengine-api>=0.1.347->geemap) (2.8.0)\n",
            "Requirement already satisfied: google-api-python-client>=1.12.1 in /usr/local/lib/python3.10/dist-packages (from earthengine-api>=0.1.347->geemap) (2.84.0)\n",
            "Requirement already satisfied: google-auth>=1.4.1 in /usr/local/lib/python3.10/dist-packages (from earthengine-api>=0.1.347->geemap) (2.27.0)\n",
            "Requirement already satisfied: google-auth-httplib2>=0.0.3 in /usr/local/lib/python3.10/dist-packages (from earthengine-api>=0.1.347->geemap) (0.1.1)\n",
            "Requirement already satisfied: httplib2<1dev,>=0.9.2 in /usr/local/lib/python3.10/dist-packages (from earthengine-api>=0.1.347->geemap) (0.22.0)\n",
            "Requirement already satisfied: requests in /usr/local/lib/python3.10/dist-packages (from earthengine-api>=0.1.347->geemap) (2.31.0)\n",
            "Requirement already satisfied: branca>=0.6.0 in /usr/local/lib/python3.10/dist-packages (from folium>=0.13.0->geemap) (0.7.2)\n",
            "Requirement already satisfied: jinja2>=2.9 in /usr/local/lib/python3.10/dist-packages (from folium>=0.13.0->geemap) (3.1.3)\n",
            "Requirement already satisfied: ipywidgets in /usr/local/lib/python3.10/dist-packages (from ipyfilechooser>=0.6.0->geemap) (7.7.1)\n",
            "Requirement already satisfied: traittypes<3,>=0.2.1 in /usr/local/lib/python3.10/dist-packages (from ipyleaflet>=0.17.0->geemap) (0.2.1)\n",
            "Requirement already satisfied: xyzservices>=2021.8.1 in /usr/local/lib/python3.10/dist-packages (from ipyleaflet>=0.17.0->geemap) (2024.4.0)\n",
            "Requirement already satisfied: traitlets>=4.3.0 in /usr/local/lib/python3.10/dist-packages (from bqplot->geemap) (5.7.1)\n",
            "Requirement already satisfied: python-dateutil>=2.8.2 in /usr/local/lib/python3.10/dist-packages (from pandas->geemap) (2.8.2)\n",
            "Requirement already satisfied: pytz>=2020.1 in /usr/local/lib/python3.10/dist-packages (from pandas->geemap) (2023.4)\n",
            "Requirement already satisfied: tzdata>=2022.1 in /usr/local/lib/python3.10/dist-packages (from pandas->geemap) (2024.1)\n",
            "Requirement already satisfied: click in /usr/local/lib/python3.10/dist-packages (from geocoder->geemap) (8.1.7)\n",
            "Requirement already satisfied: future in /usr/local/lib/python3.10/dist-packages (from geocoder->geemap) (0.18.3)\n",
            "Requirement already satisfied: ratelim in /usr/local/lib/python3.10/dist-packages (from geocoder->geemap) (0.1.6)\n",
            "Requirement already satisfied: six in /usr/local/lib/python3.10/dist-packages (from geocoder->geemap) (1.16.0)\n",
            "Requirement already satisfied: contourpy>=1.0.1 in /usr/local/lib/python3.10/dist-packages (from matplotlib->geemap) (1.2.1)\n",
            "Requirement already satisfied: cycler>=0.10 in /usr/local/lib/python3.10/dist-packages (from matplotlib->geemap) (0.12.1)\n",
            "Requirement already satisfied: fonttools>=4.22.0 in /usr/local/lib/python3.10/dist-packages (from matplotlib->geemap) (4.51.0)\n",
            "Requirement already satisfied: kiwisolver>=1.0.1 in /usr/local/lib/python3.10/dist-packages (from matplotlib->geemap) (1.4.5)\n",
            "Requirement already satisfied: packaging>=20.0 in /usr/local/lib/python3.10/dist-packages (from matplotlib->geemap) (24.0)\n",
            "Requirement already satisfied: pillow>=6.2.0 in /usr/local/lib/python3.10/dist-packages (from matplotlib->geemap) (9.4.0)\n",
            "Requirement already satisfied: pyparsing>=2.3.1 in /usr/local/lib/python3.10/dist-packages (from matplotlib->geemap) (3.1.2)\n",
            "Requirement already satisfied: tenacity>=6.2.0 in /usr/local/lib/python3.10/dist-packages (from plotly->geemap) (8.2.3)\n",
            "Requirement already satisfied: google-api-core!=2.0.*,!=2.1.*,!=2.2.*,!=2.3.0,<3.0.0dev,>=1.31.5 in /usr/local/lib/python3.10/dist-packages (from google-api-python-client>=1.12.1->earthengine-api>=0.1.347->geemap) (2.11.1)\n",
            "Requirement already satisfied: uritemplate<5,>=3.0.1 in /usr/local/lib/python3.10/dist-packages (from google-api-python-client>=1.12.1->earthengine-api>=0.1.347->geemap) (4.1.1)\n",
            "Requirement already satisfied: cachetools<6.0,>=2.0.0 in /usr/local/lib/python3.10/dist-packages (from google-auth>=1.4.1->earthengine-api>=0.1.347->geemap) (5.3.3)\n",
            "Requirement already satisfied: pyasn1-modules>=0.2.1 in /usr/local/lib/python3.10/dist-packages (from google-auth>=1.4.1->earthengine-api>=0.1.347->geemap) (0.4.0)\n",
            "Requirement already satisfied: rsa<5,>=3.1.4 in /usr/local/lib/python3.10/dist-packages (from google-auth>=1.4.1->earthengine-api>=0.1.347->geemap) (4.9)\n",
            "Requirement already satisfied: ipykernel>=4.5.1 in /usr/local/lib/python3.10/dist-packages (from ipywidgets->ipyfilechooser>=0.6.0->geemap) (5.5.6)\n",
            "Requirement already satisfied: ipython-genutils~=0.2.0 in /usr/local/lib/python3.10/dist-packages (from ipywidgets->ipyfilechooser>=0.6.0->geemap) (0.2.0)\n",
            "Requirement already satisfied: widgetsnbextension~=3.6.0 in /usr/local/lib/python3.10/dist-packages (from ipywidgets->ipyfilechooser>=0.6.0->geemap) (3.6.6)\n",
            "Requirement already satisfied: ipython>=4.0.0 in /usr/local/lib/python3.10/dist-packages (from ipywidgets->ipyfilechooser>=0.6.0->geemap) (7.34.0)\n",
            "Requirement already satisfied: jupyterlab-widgets>=1.0.0 in /usr/local/lib/python3.10/dist-packages (from ipywidgets->ipyfilechooser>=0.6.0->geemap) (3.0.10)\n",
            "Requirement already satisfied: MarkupSafe>=2.0 in /usr/local/lib/python3.10/dist-packages (from jinja2>=2.9->folium>=0.13.0->geemap) (2.1.5)\n",
            "Requirement already satisfied: google-cloud-core<3.0dev,>=2.3.0 in /usr/local/lib/python3.10/dist-packages (from google-cloud-storage->earthengine-api>=0.1.347->geemap) (2.3.3)\n",
            "Requirement already satisfied: google-resumable-media>=2.3.2 in /usr/local/lib/python3.10/dist-packages (from google-cloud-storage->earthengine-api>=0.1.347->geemap) (2.7.0)\n",
            "Requirement already satisfied: charset-normalizer<4,>=2 in /usr/local/lib/python3.10/dist-packages (from requests->earthengine-api>=0.1.347->geemap) (3.3.2)\n",
            "Requirement already satisfied: idna<4,>=2.5 in /usr/local/lib/python3.10/dist-packages (from requests->earthengine-api>=0.1.347->geemap) (3.7)\n",
            "Requirement already satisfied: urllib3<3,>=1.21.1 in /usr/local/lib/python3.10/dist-packages (from requests->earthengine-api>=0.1.347->geemap) (2.0.7)\n",
            "Requirement already satisfied: certifi>=2017.4.17 in /usr/local/lib/python3.10/dist-packages (from requests->earthengine-api>=0.1.347->geemap) (2024.2.2)\n",
            "Requirement already satisfied: decorator in /usr/local/lib/python3.10/dist-packages (from ratelim->geocoder->geemap) (4.4.2)\n",
            "Requirement already satisfied: googleapis-common-protos<2.0.dev0,>=1.56.2 in /usr/local/lib/python3.10/dist-packages (from google-api-core!=2.0.*,!=2.1.*,!=2.2.*,!=2.3.0,<3.0.0dev,>=1.31.5->google-api-python-client>=1.12.1->earthengine-api>=0.1.347->geemap) (1.63.0)\n",
            "Requirement already satisfied: protobuf!=3.20.0,!=3.20.1,!=4.21.0,!=4.21.1,!=4.21.2,!=4.21.3,!=4.21.4,!=4.21.5,<5.0.0.dev0,>=3.19.5 in /usr/local/lib/python3.10/dist-packages (from google-api-core!=2.0.*,!=2.1.*,!=2.2.*,!=2.3.0,<3.0.0dev,>=1.31.5->google-api-python-client>=1.12.1->earthengine-api>=0.1.347->geemap) (3.20.3)\n",
            "Requirement already satisfied: google-crc32c<2.0dev,>=1.0 in /usr/local/lib/python3.10/dist-packages (from google-resumable-media>=2.3.2->google-cloud-storage->earthengine-api>=0.1.347->geemap) (1.5.0)\n",
            "Requirement already satisfied: jupyter-client in /usr/local/lib/python3.10/dist-packages (from ipykernel>=4.5.1->ipywidgets->ipyfilechooser>=0.6.0->geemap) (6.1.12)\n",
            "Requirement already satisfied: tornado>=4.2 in /usr/local/lib/python3.10/dist-packages (from ipykernel>=4.5.1->ipywidgets->ipyfilechooser>=0.6.0->geemap) (6.3.3)\n",
            "Requirement already satisfied: setuptools>=18.5 in /usr/local/lib/python3.10/dist-packages (from ipython>=4.0.0->ipywidgets->ipyfilechooser>=0.6.0->geemap) (67.7.2)\n",
            "Collecting jedi>=0.16 (from ipython>=4.0.0->ipywidgets->ipyfilechooser>=0.6.0->geemap)\n",
            "  Downloading jedi-0.19.1-py2.py3-none-any.whl (1.6 MB)\n",
            "\u001b[2K     \u001b[90m━━━━━━━━━━━━━━━━━━━━━━━━━━━━━━━━━━━━━━━━\u001b[0m \u001b[32m1.6/1.6 MB\u001b[0m \u001b[31m11.1 MB/s\u001b[0m eta \u001b[36m0:00:00\u001b[0m\n",
            "\u001b[?25hRequirement already satisfied: pickleshare in /usr/local/lib/python3.10/dist-packages (from ipython>=4.0.0->ipywidgets->ipyfilechooser>=0.6.0->geemap) (0.7.5)\n",
            "Requirement already satisfied: prompt-toolkit!=3.0.0,!=3.0.1,<3.1.0,>=2.0.0 in /usr/local/lib/python3.10/dist-packages (from ipython>=4.0.0->ipywidgets->ipyfilechooser>=0.6.0->geemap) (3.0.43)\n",
            "Requirement already satisfied: pygments in /usr/local/lib/python3.10/dist-packages (from ipython>=4.0.0->ipywidgets->ipyfilechooser>=0.6.0->geemap) (2.16.1)\n",
            "Requirement already satisfied: backcall in /usr/local/lib/python3.10/dist-packages (from ipython>=4.0.0->ipywidgets->ipyfilechooser>=0.6.0->geemap) (0.2.0)\n",
            "Requirement already satisfied: matplotlib-inline in /usr/local/lib/python3.10/dist-packages (from ipython>=4.0.0->ipywidgets->ipyfilechooser>=0.6.0->geemap) (0.1.7)\n",
            "Requirement already satisfied: pexpect>4.3 in /usr/local/lib/python3.10/dist-packages (from ipython>=4.0.0->ipywidgets->ipyfilechooser>=0.6.0->geemap) (4.9.0)\n",
            "Requirement already satisfied: pyasn1<0.7.0,>=0.4.6 in /usr/local/lib/python3.10/dist-packages (from pyasn1-modules>=0.2.1->google-auth>=1.4.1->earthengine-api>=0.1.347->geemap) (0.6.0)\n",
            "Requirement already satisfied: notebook>=4.4.1 in /usr/local/lib/python3.10/dist-packages (from widgetsnbextension~=3.6.0->ipywidgets->ipyfilechooser>=0.6.0->geemap) (6.5.5)\n",
            "Requirement already satisfied: parso<0.9.0,>=0.8.3 in /usr/local/lib/python3.10/dist-packages (from jedi>=0.16->ipython>=4.0.0->ipywidgets->ipyfilechooser>=0.6.0->geemap) (0.8.4)\n",
            "Requirement already satisfied: pyzmq<25,>=17 in /usr/local/lib/python3.10/dist-packages (from notebook>=4.4.1->widgetsnbextension~=3.6.0->ipywidgets->ipyfilechooser>=0.6.0->geemap) (24.0.1)\n",
            "Requirement already satisfied: argon2-cffi in /usr/local/lib/python3.10/dist-packages (from notebook>=4.4.1->widgetsnbextension~=3.6.0->ipywidgets->ipyfilechooser>=0.6.0->geemap) (23.1.0)\n",
            "Requirement already satisfied: jupyter-core>=4.6.1 in /usr/local/lib/python3.10/dist-packages (from notebook>=4.4.1->widgetsnbextension~=3.6.0->ipywidgets->ipyfilechooser>=0.6.0->geemap) (5.7.2)\n",
            "Requirement already satisfied: nbformat in /usr/local/lib/python3.10/dist-packages (from notebook>=4.4.1->widgetsnbextension~=3.6.0->ipywidgets->ipyfilechooser>=0.6.0->geemap) (5.10.4)\n",
            "Requirement already satisfied: nbconvert>=5 in /usr/local/lib/python3.10/dist-packages (from notebook>=4.4.1->widgetsnbextension~=3.6.0->ipywidgets->ipyfilechooser>=0.6.0->geemap) (6.5.4)\n",
            "Requirement already satisfied: nest-asyncio>=1.5 in /usr/local/lib/python3.10/dist-packages (from notebook>=4.4.1->widgetsnbextension~=3.6.0->ipywidgets->ipyfilechooser>=0.6.0->geemap) (1.6.0)\n",
            "Requirement already satisfied: Send2Trash>=1.8.0 in /usr/local/lib/python3.10/dist-packages (from notebook>=4.4.1->widgetsnbextension~=3.6.0->ipywidgets->ipyfilechooser>=0.6.0->geemap) (1.8.3)\n",
            "Requirement already satisfied: terminado>=0.8.3 in /usr/local/lib/python3.10/dist-packages (from notebook>=4.4.1->widgetsnbextension~=3.6.0->ipywidgets->ipyfilechooser>=0.6.0->geemap) (0.18.1)\n",
            "Requirement already satisfied: prometheus-client in /usr/local/lib/python3.10/dist-packages (from notebook>=4.4.1->widgetsnbextension~=3.6.0->ipywidgets->ipyfilechooser>=0.6.0->geemap) (0.20.0)\n",
            "Requirement already satisfied: nbclassic>=0.4.7 in /usr/local/lib/python3.10/dist-packages (from notebook>=4.4.1->widgetsnbextension~=3.6.0->ipywidgets->ipyfilechooser>=0.6.0->geemap) (1.0.0)\n",
            "Requirement already satisfied: ptyprocess>=0.5 in /usr/local/lib/python3.10/dist-packages (from pexpect>4.3->ipython>=4.0.0->ipywidgets->ipyfilechooser>=0.6.0->geemap) (0.7.0)\n",
            "Requirement already satisfied: wcwidth in /usr/local/lib/python3.10/dist-packages (from prompt-toolkit!=3.0.0,!=3.0.1,<3.1.0,>=2.0.0->ipython>=4.0.0->ipywidgets->ipyfilechooser>=0.6.0->geemap) (0.2.13)\n",
            "Requirement already satisfied: platformdirs>=2.5 in /usr/local/lib/python3.10/dist-packages (from jupyter-core>=4.6.1->notebook>=4.4.1->widgetsnbextension~=3.6.0->ipywidgets->ipyfilechooser>=0.6.0->geemap) (4.2.1)\n",
            "Requirement already satisfied: jupyter-server>=1.8 in /usr/local/lib/python3.10/dist-packages (from nbclassic>=0.4.7->notebook>=4.4.1->widgetsnbextension~=3.6.0->ipywidgets->ipyfilechooser>=0.6.0->geemap) (1.24.0)\n",
            "Requirement already satisfied: notebook-shim>=0.2.3 in /usr/local/lib/python3.10/dist-packages (from nbclassic>=0.4.7->notebook>=4.4.1->widgetsnbextension~=3.6.0->ipywidgets->ipyfilechooser>=0.6.0->geemap) (0.2.4)\n",
            "Requirement already satisfied: lxml in /usr/local/lib/python3.10/dist-packages (from nbconvert>=5->notebook>=4.4.1->widgetsnbextension~=3.6.0->ipywidgets->ipyfilechooser>=0.6.0->geemap) (4.9.4)\n",
            "Requirement already satisfied: beautifulsoup4 in /usr/local/lib/python3.10/dist-packages (from nbconvert>=5->notebook>=4.4.1->widgetsnbextension~=3.6.0->ipywidgets->ipyfilechooser>=0.6.0->geemap) (4.12.3)\n",
            "Requirement already satisfied: bleach in /usr/local/lib/python3.10/dist-packages (from nbconvert>=5->notebook>=4.4.1->widgetsnbextension~=3.6.0->ipywidgets->ipyfilechooser>=0.6.0->geemap) (6.1.0)\n",
            "Requirement already satisfied: defusedxml in /usr/local/lib/python3.10/dist-packages (from nbconvert>=5->notebook>=4.4.1->widgetsnbextension~=3.6.0->ipywidgets->ipyfilechooser>=0.6.0->geemap) (0.7.1)\n",
            "Requirement already satisfied: entrypoints>=0.2.2 in /usr/local/lib/python3.10/dist-packages (from nbconvert>=5->notebook>=4.4.1->widgetsnbextension~=3.6.0->ipywidgets->ipyfilechooser>=0.6.0->geemap) (0.4)\n",
            "Requirement already satisfied: jupyterlab-pygments in /usr/local/lib/python3.10/dist-packages (from nbconvert>=5->notebook>=4.4.1->widgetsnbextension~=3.6.0->ipywidgets->ipyfilechooser>=0.6.0->geemap) (0.3.0)\n",
            "Requirement already satisfied: mistune<2,>=0.8.1 in /usr/local/lib/python3.10/dist-packages (from nbconvert>=5->notebook>=4.4.1->widgetsnbextension~=3.6.0->ipywidgets->ipyfilechooser>=0.6.0->geemap) (0.8.4)\n",
            "Requirement already satisfied: nbclient>=0.5.0 in /usr/local/lib/python3.10/dist-packages (from nbconvert>=5->notebook>=4.4.1->widgetsnbextension~=3.6.0->ipywidgets->ipyfilechooser>=0.6.0->geemap) (0.10.0)\n",
            "Requirement already satisfied: pandocfilters>=1.4.1 in /usr/local/lib/python3.10/dist-packages (from nbconvert>=5->notebook>=4.4.1->widgetsnbextension~=3.6.0->ipywidgets->ipyfilechooser>=0.6.0->geemap) (1.5.1)\n",
            "Requirement already satisfied: tinycss2 in /usr/local/lib/python3.10/dist-packages (from nbconvert>=5->notebook>=4.4.1->widgetsnbextension~=3.6.0->ipywidgets->ipyfilechooser>=0.6.0->geemap) (1.3.0)\n",
            "Requirement already satisfied: fastjsonschema>=2.15 in /usr/local/lib/python3.10/dist-packages (from nbformat->notebook>=4.4.1->widgetsnbextension~=3.6.0->ipywidgets->ipyfilechooser>=0.6.0->geemap) (2.19.1)\n",
            "Requirement already satisfied: jsonschema>=2.6 in /usr/local/lib/python3.10/dist-packages (from nbformat->notebook>=4.4.1->widgetsnbextension~=3.6.0->ipywidgets->ipyfilechooser>=0.6.0->geemap) (4.19.2)\n",
            "Requirement already satisfied: argon2-cffi-bindings in /usr/local/lib/python3.10/dist-packages (from argon2-cffi->notebook>=4.4.1->widgetsnbextension~=3.6.0->ipywidgets->ipyfilechooser>=0.6.0->geemap) (21.2.0)\n",
            "Requirement already satisfied: attrs>=22.2.0 in /usr/local/lib/python3.10/dist-packages (from jsonschema>=2.6->nbformat->notebook>=4.4.1->widgetsnbextension~=3.6.0->ipywidgets->ipyfilechooser>=0.6.0->geemap) (23.2.0)\n",
            "Requirement already satisfied: jsonschema-specifications>=2023.03.6 in /usr/local/lib/python3.10/dist-packages (from jsonschema>=2.6->nbformat->notebook>=4.4.1->widgetsnbextension~=3.6.0->ipywidgets->ipyfilechooser>=0.6.0->geemap) (2023.12.1)\n",
            "Requirement already satisfied: referencing>=0.28.4 in /usr/local/lib/python3.10/dist-packages (from jsonschema>=2.6->nbformat->notebook>=4.4.1->widgetsnbextension~=3.6.0->ipywidgets->ipyfilechooser>=0.6.0->geemap) (0.35.0)\n",
            "Requirement already satisfied: rpds-py>=0.7.1 in /usr/local/lib/python3.10/dist-packages (from jsonschema>=2.6->nbformat->notebook>=4.4.1->widgetsnbextension~=3.6.0->ipywidgets->ipyfilechooser>=0.6.0->geemap) (0.18.0)\n",
            "Requirement already satisfied: anyio<4,>=3.1.0 in /usr/local/lib/python3.10/dist-packages (from jupyter-server>=1.8->nbclassic>=0.4.7->notebook>=4.4.1->widgetsnbextension~=3.6.0->ipywidgets->ipyfilechooser>=0.6.0->geemap) (3.7.1)\n",
            "Requirement already satisfied: websocket-client in /usr/local/lib/python3.10/dist-packages (from jupyter-server>=1.8->nbclassic>=0.4.7->notebook>=4.4.1->widgetsnbextension~=3.6.0->ipywidgets->ipyfilechooser>=0.6.0->geemap) (1.8.0)\n",
            "Requirement already satisfied: cffi>=1.0.1 in /usr/local/lib/python3.10/dist-packages (from argon2-cffi-bindings->argon2-cffi->notebook>=4.4.1->widgetsnbextension~=3.6.0->ipywidgets->ipyfilechooser>=0.6.0->geemap) (1.16.0)\n",
            "Requirement already satisfied: soupsieve>1.2 in /usr/local/lib/python3.10/dist-packages (from beautifulsoup4->nbconvert>=5->notebook>=4.4.1->widgetsnbextension~=3.6.0->ipywidgets->ipyfilechooser>=0.6.0->geemap) (2.5)\n",
            "Requirement already satisfied: webencodings in /usr/local/lib/python3.10/dist-packages (from bleach->nbconvert>=5->notebook>=4.4.1->widgetsnbextension~=3.6.0->ipywidgets->ipyfilechooser>=0.6.0->geemap) (0.5.1)\n",
            "Requirement already satisfied: sniffio>=1.1 in /usr/local/lib/python3.10/dist-packages (from anyio<4,>=3.1.0->jupyter-server>=1.8->nbclassic>=0.4.7->notebook>=4.4.1->widgetsnbextension~=3.6.0->ipywidgets->ipyfilechooser>=0.6.0->geemap) (1.3.1)\n",
            "Requirement already satisfied: exceptiongroup in /usr/local/lib/python3.10/dist-packages (from anyio<4,>=3.1.0->jupyter-server>=1.8->nbclassic>=0.4.7->notebook>=4.4.1->widgetsnbextension~=3.6.0->ipywidgets->ipyfilechooser>=0.6.0->geemap) (1.2.1)\n",
            "Requirement already satisfied: pycparser in /usr/local/lib/python3.10/dist-packages (from cffi>=1.0.1->argon2-cffi-bindings->argon2-cffi->notebook>=4.4.1->widgetsnbextension~=3.6.0->ipywidgets->ipyfilechooser>=0.6.0->geemap) (2.22)\n",
            "Installing collected packages: jedi\n",
            "Successfully installed jedi-0.19.1\n",
            "Requirement already satisfied: ipyleaflet==0.18.2 in /usr/local/lib/python3.10/dist-packages (0.18.2)\n",
            "Requirement already satisfied: ipywidgets<9,>=7.6.0 in /usr/local/lib/python3.10/dist-packages (from ipyleaflet==0.18.2) (7.7.1)\n",
            "Requirement already satisfied: traittypes<3,>=0.2.1 in /usr/local/lib/python3.10/dist-packages (from ipyleaflet==0.18.2) (0.2.1)\n",
            "Requirement already satisfied: xyzservices>=2021.8.1 in /usr/local/lib/python3.10/dist-packages (from ipyleaflet==0.18.2) (2024.4.0)\n",
            "Requirement already satisfied: branca>=0.5.0 in /usr/local/lib/python3.10/dist-packages (from ipyleaflet==0.18.2) (0.7.2)\n",
            "Requirement already satisfied: jinja2>=3 in /usr/local/lib/python3.10/dist-packages (from branca>=0.5.0->ipyleaflet==0.18.2) (3.1.3)\n",
            "Requirement already satisfied: ipykernel>=4.5.1 in /usr/local/lib/python3.10/dist-packages (from ipywidgets<9,>=7.6.0->ipyleaflet==0.18.2) (5.5.6)\n",
            "Requirement already satisfied: ipython-genutils~=0.2.0 in /usr/local/lib/python3.10/dist-packages (from ipywidgets<9,>=7.6.0->ipyleaflet==0.18.2) (0.2.0)\n",
            "Requirement already satisfied: traitlets>=4.3.1 in /usr/local/lib/python3.10/dist-packages (from ipywidgets<9,>=7.6.0->ipyleaflet==0.18.2) (5.7.1)\n",
            "Requirement already satisfied: widgetsnbextension~=3.6.0 in /usr/local/lib/python3.10/dist-packages (from ipywidgets<9,>=7.6.0->ipyleaflet==0.18.2) (3.6.6)\n",
            "Requirement already satisfied: ipython>=4.0.0 in /usr/local/lib/python3.10/dist-packages (from ipywidgets<9,>=7.6.0->ipyleaflet==0.18.2) (7.34.0)\n",
            "Requirement already satisfied: jupyterlab-widgets>=1.0.0 in /usr/local/lib/python3.10/dist-packages (from ipywidgets<9,>=7.6.0->ipyleaflet==0.18.2) (3.0.10)\n",
            "Requirement already satisfied: jupyter-client in /usr/local/lib/python3.10/dist-packages (from ipykernel>=4.5.1->ipywidgets<9,>=7.6.0->ipyleaflet==0.18.2) (6.1.12)\n",
            "Requirement already satisfied: tornado>=4.2 in /usr/local/lib/python3.10/dist-packages (from ipykernel>=4.5.1->ipywidgets<9,>=7.6.0->ipyleaflet==0.18.2) (6.3.3)\n",
            "Requirement already satisfied: setuptools>=18.5 in /usr/local/lib/python3.10/dist-packages (from ipython>=4.0.0->ipywidgets<9,>=7.6.0->ipyleaflet==0.18.2) (67.7.2)\n",
            "Requirement already satisfied: jedi>=0.16 in /usr/local/lib/python3.10/dist-packages (from ipython>=4.0.0->ipywidgets<9,>=7.6.0->ipyleaflet==0.18.2) (0.19.1)\n",
            "Requirement already satisfied: decorator in /usr/local/lib/python3.10/dist-packages (from ipython>=4.0.0->ipywidgets<9,>=7.6.0->ipyleaflet==0.18.2) (4.4.2)\n",
            "Requirement already satisfied: pickleshare in /usr/local/lib/python3.10/dist-packages (from ipython>=4.0.0->ipywidgets<9,>=7.6.0->ipyleaflet==0.18.2) (0.7.5)\n",
            "Requirement already satisfied: prompt-toolkit!=3.0.0,!=3.0.1,<3.1.0,>=2.0.0 in /usr/local/lib/python3.10/dist-packages (from ipython>=4.0.0->ipywidgets<9,>=7.6.0->ipyleaflet==0.18.2) (3.0.43)\n",
            "Requirement already satisfied: pygments in /usr/local/lib/python3.10/dist-packages (from ipython>=4.0.0->ipywidgets<9,>=7.6.0->ipyleaflet==0.18.2) (2.16.1)\n",
            "Requirement already satisfied: backcall in /usr/local/lib/python3.10/dist-packages (from ipython>=4.0.0->ipywidgets<9,>=7.6.0->ipyleaflet==0.18.2) (0.2.0)\n",
            "Requirement already satisfied: matplotlib-inline in /usr/local/lib/python3.10/dist-packages (from ipython>=4.0.0->ipywidgets<9,>=7.6.0->ipyleaflet==0.18.2) (0.1.7)\n",
            "Requirement already satisfied: pexpect>4.3 in /usr/local/lib/python3.10/dist-packages (from ipython>=4.0.0->ipywidgets<9,>=7.6.0->ipyleaflet==0.18.2) (4.9.0)\n",
            "Requirement already satisfied: MarkupSafe>=2.0 in /usr/local/lib/python3.10/dist-packages (from jinja2>=3->branca>=0.5.0->ipyleaflet==0.18.2) (2.1.5)\n",
            "Requirement already satisfied: notebook>=4.4.1 in /usr/local/lib/python3.10/dist-packages (from widgetsnbextension~=3.6.0->ipywidgets<9,>=7.6.0->ipyleaflet==0.18.2) (6.5.5)\n",
            "Requirement already satisfied: parso<0.9.0,>=0.8.3 in /usr/local/lib/python3.10/dist-packages (from jedi>=0.16->ipython>=4.0.0->ipywidgets<9,>=7.6.0->ipyleaflet==0.18.2) (0.8.4)\n",
            "Requirement already satisfied: pyzmq<25,>=17 in /usr/local/lib/python3.10/dist-packages (from notebook>=4.4.1->widgetsnbextension~=3.6.0->ipywidgets<9,>=7.6.0->ipyleaflet==0.18.2) (24.0.1)\n",
            "Requirement already satisfied: argon2-cffi in /usr/local/lib/python3.10/dist-packages (from notebook>=4.4.1->widgetsnbextension~=3.6.0->ipywidgets<9,>=7.6.0->ipyleaflet==0.18.2) (23.1.0)\n",
            "Requirement already satisfied: jupyter-core>=4.6.1 in /usr/local/lib/python3.10/dist-packages (from notebook>=4.4.1->widgetsnbextension~=3.6.0->ipywidgets<9,>=7.6.0->ipyleaflet==0.18.2) (5.7.2)\n",
            "Requirement already satisfied: nbformat in /usr/local/lib/python3.10/dist-packages (from notebook>=4.4.1->widgetsnbextension~=3.6.0->ipywidgets<9,>=7.6.0->ipyleaflet==0.18.2) (5.10.4)\n",
            "Requirement already satisfied: nbconvert>=5 in /usr/local/lib/python3.10/dist-packages (from notebook>=4.4.1->widgetsnbextension~=3.6.0->ipywidgets<9,>=7.6.0->ipyleaflet==0.18.2) (6.5.4)\n",
            "Requirement already satisfied: nest-asyncio>=1.5 in /usr/local/lib/python3.10/dist-packages (from notebook>=4.4.1->widgetsnbextension~=3.6.0->ipywidgets<9,>=7.6.0->ipyleaflet==0.18.2) (1.6.0)\n",
            "Requirement already satisfied: Send2Trash>=1.8.0 in /usr/local/lib/python3.10/dist-packages (from notebook>=4.4.1->widgetsnbextension~=3.6.0->ipywidgets<9,>=7.6.0->ipyleaflet==0.18.2) (1.8.3)\n",
            "Requirement already satisfied: terminado>=0.8.3 in /usr/local/lib/python3.10/dist-packages (from notebook>=4.4.1->widgetsnbextension~=3.6.0->ipywidgets<9,>=7.6.0->ipyleaflet==0.18.2) (0.18.1)\n",
            "Requirement already satisfied: prometheus-client in /usr/local/lib/python3.10/dist-packages (from notebook>=4.4.1->widgetsnbextension~=3.6.0->ipywidgets<9,>=7.6.0->ipyleaflet==0.18.2) (0.20.0)\n",
            "Requirement already satisfied: nbclassic>=0.4.7 in /usr/local/lib/python3.10/dist-packages (from notebook>=4.4.1->widgetsnbextension~=3.6.0->ipywidgets<9,>=7.6.0->ipyleaflet==0.18.2) (1.0.0)\n",
            "Requirement already satisfied: python-dateutil>=2.1 in /usr/local/lib/python3.10/dist-packages (from jupyter-client->ipykernel>=4.5.1->ipywidgets<9,>=7.6.0->ipyleaflet==0.18.2) (2.8.2)\n",
            "Requirement already satisfied: ptyprocess>=0.5 in /usr/local/lib/python3.10/dist-packages (from pexpect>4.3->ipython>=4.0.0->ipywidgets<9,>=7.6.0->ipyleaflet==0.18.2) (0.7.0)\n",
            "Requirement already satisfied: wcwidth in /usr/local/lib/python3.10/dist-packages (from prompt-toolkit!=3.0.0,!=3.0.1,<3.1.0,>=2.0.0->ipython>=4.0.0->ipywidgets<9,>=7.6.0->ipyleaflet==0.18.2) (0.2.13)\n",
            "Requirement already satisfied: platformdirs>=2.5 in /usr/local/lib/python3.10/dist-packages (from jupyter-core>=4.6.1->notebook>=4.4.1->widgetsnbextension~=3.6.0->ipywidgets<9,>=7.6.0->ipyleaflet==0.18.2) (4.2.1)\n",
            "Requirement already satisfied: jupyter-server>=1.8 in /usr/local/lib/python3.10/dist-packages (from nbclassic>=0.4.7->notebook>=4.4.1->widgetsnbextension~=3.6.0->ipywidgets<9,>=7.6.0->ipyleaflet==0.18.2) (1.24.0)\n",
            "Requirement already satisfied: notebook-shim>=0.2.3 in /usr/local/lib/python3.10/dist-packages (from nbclassic>=0.4.7->notebook>=4.4.1->widgetsnbextension~=3.6.0->ipywidgets<9,>=7.6.0->ipyleaflet==0.18.2) (0.2.4)\n",
            "Requirement already satisfied: lxml in /usr/local/lib/python3.10/dist-packages (from nbconvert>=5->notebook>=4.4.1->widgetsnbextension~=3.6.0->ipywidgets<9,>=7.6.0->ipyleaflet==0.18.2) (4.9.4)\n",
            "Requirement already satisfied: beautifulsoup4 in /usr/local/lib/python3.10/dist-packages (from nbconvert>=5->notebook>=4.4.1->widgetsnbextension~=3.6.0->ipywidgets<9,>=7.6.0->ipyleaflet==0.18.2) (4.12.3)\n",
            "Requirement already satisfied: bleach in /usr/local/lib/python3.10/dist-packages (from nbconvert>=5->notebook>=4.4.1->widgetsnbextension~=3.6.0->ipywidgets<9,>=7.6.0->ipyleaflet==0.18.2) (6.1.0)\n",
            "Requirement already satisfied: defusedxml in /usr/local/lib/python3.10/dist-packages (from nbconvert>=5->notebook>=4.4.1->widgetsnbextension~=3.6.0->ipywidgets<9,>=7.6.0->ipyleaflet==0.18.2) (0.7.1)\n",
            "Requirement already satisfied: entrypoints>=0.2.2 in /usr/local/lib/python3.10/dist-packages (from nbconvert>=5->notebook>=4.4.1->widgetsnbextension~=3.6.0->ipywidgets<9,>=7.6.0->ipyleaflet==0.18.2) (0.4)\n",
            "Requirement already satisfied: jupyterlab-pygments in /usr/local/lib/python3.10/dist-packages (from nbconvert>=5->notebook>=4.4.1->widgetsnbextension~=3.6.0->ipywidgets<9,>=7.6.0->ipyleaflet==0.18.2) (0.3.0)\n",
            "Requirement already satisfied: mistune<2,>=0.8.1 in /usr/local/lib/python3.10/dist-packages (from nbconvert>=5->notebook>=4.4.1->widgetsnbextension~=3.6.0->ipywidgets<9,>=7.6.0->ipyleaflet==0.18.2) (0.8.4)\n",
            "Requirement already satisfied: nbclient>=0.5.0 in /usr/local/lib/python3.10/dist-packages (from nbconvert>=5->notebook>=4.4.1->widgetsnbextension~=3.6.0->ipywidgets<9,>=7.6.0->ipyleaflet==0.18.2) (0.10.0)\n",
            "Requirement already satisfied: packaging in /usr/local/lib/python3.10/dist-packages (from nbconvert>=5->notebook>=4.4.1->widgetsnbextension~=3.6.0->ipywidgets<9,>=7.6.0->ipyleaflet==0.18.2) (24.0)\n",
            "Requirement already satisfied: pandocfilters>=1.4.1 in /usr/local/lib/python3.10/dist-packages (from nbconvert>=5->notebook>=4.4.1->widgetsnbextension~=3.6.0->ipywidgets<9,>=7.6.0->ipyleaflet==0.18.2) (1.5.1)\n",
            "Requirement already satisfied: tinycss2 in /usr/local/lib/python3.10/dist-packages (from nbconvert>=5->notebook>=4.4.1->widgetsnbextension~=3.6.0->ipywidgets<9,>=7.6.0->ipyleaflet==0.18.2) (1.3.0)\n",
            "Requirement already satisfied: fastjsonschema>=2.15 in /usr/local/lib/python3.10/dist-packages (from nbformat->notebook>=4.4.1->widgetsnbextension~=3.6.0->ipywidgets<9,>=7.6.0->ipyleaflet==0.18.2) (2.19.1)\n",
            "Requirement already satisfied: jsonschema>=2.6 in /usr/local/lib/python3.10/dist-packages (from nbformat->notebook>=4.4.1->widgetsnbextension~=3.6.0->ipywidgets<9,>=7.6.0->ipyleaflet==0.18.2) (4.19.2)\n",
            "Requirement already satisfied: six>=1.5 in /usr/local/lib/python3.10/dist-packages (from python-dateutil>=2.1->jupyter-client->ipykernel>=4.5.1->ipywidgets<9,>=7.6.0->ipyleaflet==0.18.2) (1.16.0)\n",
            "Requirement already satisfied: argon2-cffi-bindings in /usr/local/lib/python3.10/dist-packages (from argon2-cffi->notebook>=4.4.1->widgetsnbextension~=3.6.0->ipywidgets<9,>=7.6.0->ipyleaflet==0.18.2) (21.2.0)\n",
            "Requirement already satisfied: attrs>=22.2.0 in /usr/local/lib/python3.10/dist-packages (from jsonschema>=2.6->nbformat->notebook>=4.4.1->widgetsnbextension~=3.6.0->ipywidgets<9,>=7.6.0->ipyleaflet==0.18.2) (23.2.0)\n",
            "Requirement already satisfied: jsonschema-specifications>=2023.03.6 in /usr/local/lib/python3.10/dist-packages (from jsonschema>=2.6->nbformat->notebook>=4.4.1->widgetsnbextension~=3.6.0->ipywidgets<9,>=7.6.0->ipyleaflet==0.18.2) (2023.12.1)\n",
            "Requirement already satisfied: referencing>=0.28.4 in /usr/local/lib/python3.10/dist-packages (from jsonschema>=2.6->nbformat->notebook>=4.4.1->widgetsnbextension~=3.6.0->ipywidgets<9,>=7.6.0->ipyleaflet==0.18.2) (0.35.0)\n",
            "Requirement already satisfied: rpds-py>=0.7.1 in /usr/local/lib/python3.10/dist-packages (from jsonschema>=2.6->nbformat->notebook>=4.4.1->widgetsnbextension~=3.6.0->ipywidgets<9,>=7.6.0->ipyleaflet==0.18.2) (0.18.0)\n",
            "Requirement already satisfied: anyio<4,>=3.1.0 in /usr/local/lib/python3.10/dist-packages (from jupyter-server>=1.8->nbclassic>=0.4.7->notebook>=4.4.1->widgetsnbextension~=3.6.0->ipywidgets<9,>=7.6.0->ipyleaflet==0.18.2) (3.7.1)\n",
            "Requirement already satisfied: websocket-client in /usr/local/lib/python3.10/dist-packages (from jupyter-server>=1.8->nbclassic>=0.4.7->notebook>=4.4.1->widgetsnbextension~=3.6.0->ipywidgets<9,>=7.6.0->ipyleaflet==0.18.2) (1.8.0)\n",
            "Requirement already satisfied: cffi>=1.0.1 in /usr/local/lib/python3.10/dist-packages (from argon2-cffi-bindings->argon2-cffi->notebook>=4.4.1->widgetsnbextension~=3.6.0->ipywidgets<9,>=7.6.0->ipyleaflet==0.18.2) (1.16.0)\n",
            "Requirement already satisfied: soupsieve>1.2 in /usr/local/lib/python3.10/dist-packages (from beautifulsoup4->nbconvert>=5->notebook>=4.4.1->widgetsnbextension~=3.6.0->ipywidgets<9,>=7.6.0->ipyleaflet==0.18.2) (2.5)\n",
            "Requirement already satisfied: webencodings in /usr/local/lib/python3.10/dist-packages (from bleach->nbconvert>=5->notebook>=4.4.1->widgetsnbextension~=3.6.0->ipywidgets<9,>=7.6.0->ipyleaflet==0.18.2) (0.5.1)\n",
            "Requirement already satisfied: idna>=2.8 in /usr/local/lib/python3.10/dist-packages (from anyio<4,>=3.1.0->jupyter-server>=1.8->nbclassic>=0.4.7->notebook>=4.4.1->widgetsnbextension~=3.6.0->ipywidgets<9,>=7.6.0->ipyleaflet==0.18.2) (3.7)\n",
            "Requirement already satisfied: sniffio>=1.1 in /usr/local/lib/python3.10/dist-packages (from anyio<4,>=3.1.0->jupyter-server>=1.8->nbclassic>=0.4.7->notebook>=4.4.1->widgetsnbextension~=3.6.0->ipywidgets<9,>=7.6.0->ipyleaflet==0.18.2) (1.3.1)\n",
            "Requirement already satisfied: exceptiongroup in /usr/local/lib/python3.10/dist-packages (from anyio<4,>=3.1.0->jupyter-server>=1.8->nbclassic>=0.4.7->notebook>=4.4.1->widgetsnbextension~=3.6.0->ipywidgets<9,>=7.6.0->ipyleaflet==0.18.2) (1.2.1)\n",
            "Requirement already satisfied: pycparser in /usr/local/lib/python3.10/dist-packages (from cffi>=1.0.1->argon2-cffi-bindings->argon2-cffi->notebook>=4.4.1->widgetsnbextension~=3.6.0->ipywidgets<9,>=7.6.0->ipyleaflet==0.18.2) (2.22)\n",
            "Get:1 https://cloud.r-project.org/bin/linux/ubuntu jammy-cran40/ InRelease [3,626 B]\n",
            "Hit:2 https://developer.download.nvidia.com/compute/cuda/repos/ubuntu2204/x86_64  InRelease\n",
            "Hit:3 http://archive.ubuntu.com/ubuntu jammy InRelease\n",
            "Hit:4 https://ppa.launchpadcontent.net/c2d4u.team/c2d4u4.0+/ubuntu jammy InRelease\n",
            "Get:5 http://security.ubuntu.com/ubuntu jammy-security InRelease [110 kB]\n",
            "Hit:6 https://ppa.launchpadcontent.net/deadsnakes/ppa/ubuntu jammy InRelease\n",
            "Hit:7 https://ppa.launchpadcontent.net/graphics-drivers/ppa/ubuntu jammy InRelease\n",
            "Hit:8 https://ppa.launchpadcontent.net/ubuntugis/ppa/ubuntu jammy InRelease\n",
            "Get:9 http://archive.ubuntu.com/ubuntu jammy-updates InRelease [119 kB]\n",
            "Hit:10 http://archive.ubuntu.com/ubuntu jammy-backports InRelease\n",
            "Get:11 http://security.ubuntu.com/ubuntu jammy-security/universe amd64 Packages [1,078 kB]\n",
            "Get:12 http://archive.ubuntu.com/ubuntu jammy-updates/main amd64 Packages [2,043 kB]\n",
            "Get:13 http://security.ubuntu.com/ubuntu jammy-security/main amd64 Packages [1,757 kB]\n",
            "Get:14 http://archive.ubuntu.com/ubuntu jammy-updates/restricted amd64 Packages [2,347 kB]\n",
            "Fetched 7,459 kB in 3s (2,819 kB/s)\n",
            "Reading package lists... Done\n",
            "Building dependency tree... Done\n",
            "Reading state information... Done\n",
            "45 packages can be upgraded. Run 'apt list --upgradable' to see them.\n"
          ]
        }
      ]
    },
    {
      "cell_type": "code",
      "source": [
        "import subprocess\n",
        "\n",
        "# Command to add repository\n",
        "command = \"add-apt-repository ppa:ubuntugis/ppa\"\n",
        "\n",
        "# Run the command with automatic input of Enter\n",
        "subprocess.run(['echo', '', '|', 'yes', '|'] + command.split())"
      ],
      "metadata": {
        "colab": {
          "base_uri": "https://localhost:8080/"
        },
        "id": "-SW-Rm6tbUKM",
        "outputId": "d19712d1-e590-4ebb-a0a7-a767e6066ced"
      },
      "execution_count": 4,
      "outputs": [
        {
          "output_type": "execute_result",
          "data": {
            "text/plain": [
              "CompletedProcess(args=['echo', '', '|', 'yes', '|', 'add-apt-repository', 'ppa:ubuntugis/ppa'], returncode=0)"
            ]
          },
          "metadata": {},
          "execution_count": 4
        }
      ]
    },
    {
      "cell_type": "code",
      "source": [
        "# import necessary modules\n",
        "from osgeo import gdal\n",
        "import rasterio\n",
        "from rasterio.plot import reshape_as_raster, reshape_as_image\n",
        "from rasterio.mask import mask\n",
        "import matplotlib.pyplot as plt\n",
        "import geopandas as gpd\n",
        "import numpy as np\n",
        "import pandas as pd\n",
        "from shapely.geometry import mapping\n",
        "import json\n",
        "import geemap\n",
        "import time"
      ],
      "metadata": {
        "id": "W4PfF345BnAJ"
      },
      "execution_count": 5,
      "outputs": []
    },
    {
      "cell_type": "markdown",
      "source": [
        "## 3. This project uses a city boundary shapefile. For the shapefile, be sure to include all of the supporting files such as the .cpg, .dbf, .prj, and .shx files."
      ],
      "metadata": {
        "id": "KHtxJmaRpmMa"
      }
    },
    {
      "cell_type": "code",
      "source": [
        "# now copy the files of interest using linux copy\n",
        "# NOTE your files will be located at a different path!\n",
        "# You can rename the files by adding a new file name in quotes after the file path\n",
        "!cp '/content/gdrive/MyDrive/MilwaukeeAerial/Milwaukee_City_Boundary.cpg' .\n",
        "!cp '/content/gdrive/MyDrive/MilwaukeeAerial/Milwaukee_City_Boundary.dbf' .\n",
        "!cp '/content/gdrive/MyDrive/MilwaukeeAerial/Milwaukee_City_Boundary.prj' .\n",
        "!cp '/content/gdrive/MyDrive/MilwaukeeAerial/Milwaukee_City_Boundary.shp' .\n",
        "!cp '/content/gdrive/MyDrive/MilwaukeeAerial/Milwaukee_City_Boundary.shx' .\n",
        "\n",
        "# List all of the files in the working directory to confirm all were copied successfully\n",
        "!ls"
      ],
      "metadata": {
        "id": "_YV0ll3gHLHH",
        "colab": {
          "base_uri": "https://localhost:8080/",
          "height": 52
        },
        "outputId": "d6be10a9-4b5d-4e4e-c21f-74331beb194e"
      },
      "execution_count": 6,
      "outputs": [
        {
          "output_type": "display_data",
          "data": {
            "text/plain": [
              "<IPython.core.display.HTML object>"
            ],
            "text/html": [
              "\n",
              "            <style>\n",
              "                .geemap-dark {\n",
              "                    --jp-widgets-color: white;\n",
              "                    --jp-widgets-label-color: white;\n",
              "                    --jp-ui-font-color1: white;\n",
              "                    --jp-layout-color2: #454545;\n",
              "                    background-color: #383838;\n",
              "                }\n",
              "\n",
              "                .geemap-dark .jupyter-button {\n",
              "                    --jp-layout-color3: #383838;\n",
              "                }\n",
              "\n",
              "                .geemap-colab {\n",
              "                    background-color: var(--colab-primary-surface-color, white);\n",
              "                }\n",
              "\n",
              "                .geemap-colab .jupyter-button {\n",
              "                    --jp-layout-color3: var(--colab-primary-surface-color, white);\n",
              "                }\n",
              "            </style>\n",
              "            "
            ]
          },
          "metadata": {}
        },
        {
          "output_type": "stream",
          "name": "stdout",
          "text": [
            "gdrive\t\t\t     Milwaukee_City_Boundary.dbf  Milwaukee_City_Boundary.shp  sample_data\n",
            "Milwaukee_City_Boundary.cpg  Milwaukee_City_Boundary.prj  Milwaukee_City_Boundary.shx\n"
          ]
        }
      ]
    },
    {
      "cell_type": "markdown",
      "source": [
        "## 4. Read the shapefile and create a GEE feature collection for the ROI"
      ],
      "metadata": {
        "id": "kOFCJ06Jrmhs"
      }
    },
    {
      "cell_type": "code",
      "source": [
        "# Use geopandas to read the shapefile into a GeoDataFrame\n",
        "shapefile = gpd.read_file('Milwaukee_City_Boundary.shp')\n",
        "# Print the coordinate reference system (CRS) of the shapefile\n",
        "print(shapefile.crs)\n",
        "\n",
        "# if the CRS does not match, reproject the vector data using this code\n",
        "#shapefile = shapefile.to_crs({'init': 'EPSG: YOUR CRS HERE'})\n",
        "#print(shapefile.crs)\n",
        "\n",
        "# # this generates a list of shapely geometries\n",
        "geoms = shapefile.geometry.values\n",
        "\n",
        "# let's grab a single shapely geometry to check\n",
        "geometry = geoms[0] # grab the first one\n",
        "print(type(geometry))\n",
        "print(geometry)\n",
        "\n",
        "# transform to GeoJSON format\n",
        "from shapely.geometry import mapping\n",
        "feature = [mapping(geometry)] # can also do this using polygon.__geo_interface__\n",
        "print(type(feature))\n",
        "print(feature)\n",
        "\n",
        "# # Load the shapefile as a FeatureCollection\n",
        "roiFeatureCol = ee.FeatureCollection(feature)\n",
        "\n",
        "ee_roi = geemap.shp_to_ee(\"'Milwaukee_City_Boundary.shp'\")"
      ],
      "metadata": {
        "id": "Aj_2I56FAsqw",
        "colab": {
          "base_uri": "https://localhost:8080/",
          "height": 141
        },
        "outputId": "ccc5367b-3681-4e7f-9c43-8718c2b783d3"
      },
      "execution_count": 7,
      "outputs": [
        {
          "output_type": "display_data",
          "data": {
            "text/plain": [
              "<IPython.core.display.HTML object>"
            ],
            "text/html": [
              "\n",
              "            <style>\n",
              "                .geemap-dark {\n",
              "                    --jp-widgets-color: white;\n",
              "                    --jp-widgets-label-color: white;\n",
              "                    --jp-ui-font-color1: white;\n",
              "                    --jp-layout-color2: #454545;\n",
              "                    background-color: #383838;\n",
              "                }\n",
              "\n",
              "                .geemap-dark .jupyter-button {\n",
              "                    --jp-layout-color3: #383838;\n",
              "                }\n",
              "\n",
              "                .geemap-colab {\n",
              "                    background-color: var(--colab-primary-surface-color, white);\n",
              "                }\n",
              "\n",
              "                .geemap-colab .jupyter-button {\n",
              "                    --jp-layout-color3: var(--colab-primary-surface-color, white);\n",
              "                }\n",
              "            </style>\n",
              "            "
            ]
          },
          "metadata": {}
        },
        {
          "output_type": "stream",
          "name": "stdout",
          "text": [
            "EPSG:4326\n",
            "<class 'shapely.geometry.multipolygon.MultiPolygon'>\n",
            "MULTIPOLYGON (((-88.0633524885247 43.1921265689311, -88.0615339232997 43.1921358990639, -88.053693204626 43.192177048578, -88.0437663099599 43.1922910865299, -88.0416008851234 43.1923143910973, -88.0346333397137 43.1923890965666, -88.0337487162212 43.1923985505009, -88.0334033095101 43.1924014239585, -88.0244771449227 43.1924753409761, -88.0237497491762 43.1924813346688, -88.013892352172 43.1925310736702, -88.0050687755812 43.1925551076397, -88.0016868862664 43.1925567489098, -87.994172007233 43.1925527374961, -87.9943471621505 43.1850786255096, -87.994478015678 43.1777736103051, -87.994615455302 43.1704862970071, -87.9947592028555 43.1631999961698, -87.9848337267348 43.1630904942516, -87.9748601223671 43.163132332253, -87.974885592753 43.1625112083992, -87.9751499625064 43.156063543723, -87.9754677976729 43.1485731387546, -87.9654761222428 43.1485838851314, -87.965449351117 43.149427300365, -87.9651986009125 43.1558682350888, -87.9575305433033 43.1558055474867, -87.960323025109 43.1622744188575, -87.958141564581 43.1622647500115, -87.9581097963288 43.1630880212816, -87.9557783173863 43.1630701520516, -87.9536408155912 43.1630542953874, -87.9508041516031 43.1630336941668, -87.9495845280926 43.1621052546929, -87.945137942909 43.1587199384562, -87.9452238011707 43.1556777407583, -87.9454336786519 43.1483712538603, -87.9460779806676 43.1483793575931, -87.9527409331169 43.1484629270764, -87.9547464557138 43.1484880057383, -87.9543491747826 43.1475588663939, -87.9518822078235 43.1417888316079, -87.9484188207034 43.1337886482345, -87.9459999938517 43.1281736139216, -87.946047396354 43.1264481025157, -87.9461902022241 43.1215342456946, -87.9462089065794 43.120890602239, -87.9455219542209 43.1208773607548, -87.9455621859474 43.1196430809568, -87.9454128481897 43.1196408430431, -87.9454327726504 43.1191207600931, -87.9446664918954 43.1191101602048, -87.9446669752954 43.1185595805918, -87.9438069350804 43.1185433487203, -87.9438168473792 43.1182176075085, -87.9450164581033 43.1182366106884, -87.945040960335 43.1173033723776, -87.9456532709343 43.1173150596981, -87.9456586348654 43.117133973015, -87.9459747358116 43.1171402853005, -87.9460228965735 43.1155110621525, -87.943904585467 43.1154703131804, -87.9439617097267 43.1132060445429, -87.9445587183363 43.1132164409932, -87.9445555001137 43.1133317960589, -87.9457532908261 43.1133500255878, -87.9457842339444 43.1122555633934, -87.945499334814 43.112266746004, -87.9453156923884 43.1122736130993, -87.9451760047321 43.1122955309224, -87.9450363890916 43.1123154139939, -87.9448243521026 43.1123400977843, -87.9446600140045 43.1123513886623, -87.9445465760022 43.1123676819913, -87.9439830087819 43.1123619134582, -87.9439674522938 43.1129785616308, -87.9435957423082 43.1129667140067, -87.9435794224672 43.1136116913562, -87.9434643780237 43.1136095029208, -87.9434118746089 43.1154646741912, -87.9402019825645 43.1154081288699, -87.9394357477914 43.1153946204507, -87.9390281457736 43.1155509590089, -87.9388759917068 43.1153847460142, -87.9385128389363 43.115378339661, -87.940066095525 43.1170126857657, -87.9399166021989 43.1174808944589, -87.9401030986819 43.1177438542334, -87.9399797957723 43.1178885900633, -87.9400715185191 43.1183664865668, -87.940042107419 43.1185726915442, -87.9400556157865 43.1190298096031, -87.9366058583404 43.1189713257513, -87.934173217728 43.1189279086687, -87.9337344475517 43.1178946129254, -87.9331356651483 43.1152624558574, -87.9277930392488 43.1151824014095, -87.9273331581628 43.1151754994568, -87.9272862323213 43.1163551148614, -87.927768231594 43.1166783978391, -87.9277084473644 43.1188114685818, -87.9262872209975 43.1187866774605, -87.9238073530917 43.1187551355387, -87.9222080129866 43.1187347631754, -87.920885888487 43.1187179075858, -87.9208883646534 43.1186702492863, -87.9209027239416 43.1186270896259, -87.9209604752005 43.1185509758025, -87.9211580383265 43.1183451200065, -87.9213554787376 43.1181429399454, -87.9215184542331 43.1179217549624, -87.9216600140948 43.117740600406, -87.9217772643639 43.1175369554762, -87.9218682053965 43.1173695752765, -87.9219269535949 43.1172640807282, -87.9220266696277 43.1171336093755, -87.9221461804239 43.1170108468789, -87.9223284504005 43.1168120639091, -87.9224539695278 43.1166600150123, -87.9226108076199 43.116471788822, -87.9227357657835 43.116306300235, -87.9228000852182 43.1162143379076, -87.9228847648522 43.1160835905543, -87.9229638056099 43.1159711155255, -87.9230766786867 43.1158960056343, -87.9231799013516 43.1158096927692, -87.9232733534905 43.1157158548628, -87.9233056683848 43.1156502990285, -87.9233600237024 43.1155263474747, -87.9234497140092 43.1153956947503, -87.9235806087214 43.1152327168791, -87.9237062499523 43.1150769951284, -87.9237344247865 43.1149856389965, -87.9237985548568 43.1148692149454, -87.9238433879171 43.1147303934112, -87.9238993672606 43.1145587002121, -87.9239410577357 43.1143646954957, -87.9239659708916 43.1142218349913, -87.9240148127489 43.1141124849758, -87.9240829523076 43.1140255314705, -87.9241052446393 43.1139597944361, -87.9241309108885 43.1137948967643, -87.9241639748991 43.1137073071032, -87.9242133151529 43.1135832646198, -87.9242422396219 43.1134698729773, -87.9242512436859 43.1133524460454, -87.9242419471587 43.1131832360285, -87.9242387874514 43.1129810683718, -87.9242304928484 43.112782478157, -87.9242238201787 43.1125361482791, -87.924219412951 43.1123707039099, -87.9241784283909 43.1122486878871, -87.9241390684454 43.1120789304336, -87.924066398437 43.1120041093048, -87.9240146465393 43.1119039467963, -87.9239642650112 43.1117633849004, -87.9239091254332 43.1116153903961, -87.9239372855117 43.1114889275931, -87.9240500691125 43.1113560862339, -87.9241561473024 43.1112860254135, -87.9243444434936 43.1112054592675, -87.9245376580711 43.111140986026, -87.9247419102393 43.111072712163, -87.924897072782 43.1110035420419, -87.9250535343616 43.1108963977374, -87.9251541559172 43.1108262347396, -87.9254254882733 43.1107111836886, -87.9256241463792 43.1106468051702, -87.9258262306929 43.1106424877468, -87.9260055412735 43.1106657559427, -87.9262222211041 43.1107137050651, -87.9264393058971 43.1107496582884, -87.926548936069 43.1107356547429, -87.9266311604616 43.1107251533979, -87.9267562028325 43.1107394304804, -87.9268326974824 43.1107368250217, -87.9271337699642 43.1107103107136, -87.9273980149893 43.1106431247706, -87.9275919000921 43.1105586571873, -87.9277819543411 43.1104261198258, -87.9279606928647 43.1103053772055, -87.9281616536616 43.1101730386946, -87.9284356928796 43.1099780321905, -87.9287268974861 43.1097593398485, -87.9290569636698 43.1095213524795, -87.9292797392617 43.1093894090167, -87.9295075608439 43.1092695588796, -87.929711396173 43.109213267065, -87.9298653329986 43.1091800729925, -87.929917805244 43.1090810300836, -87.9300599797178 43.1089116204624, -87.9302403366367 43.1087429050623, -87.9304258762527 43.1085822858333, -87.9306334978898 43.1084140620267, -87.9307977588078 43.1082370563295, -87.9309018913072 43.1080629525218, -87.9309430470206 43.1079757044843, -87.9309570679996 43.1078839615836, -87.9309567570209 43.1077319601114, -87.9309338183288 43.1076035511551, -87.9308950604384 43.1074588492964, -87.930837774812 43.1073778092383, -87.9307600264142 43.1072563996193, -87.9307396977145 43.1072120309749, -87.9306869180357 43.1071590745981, -87.930537998197 43.107044368418, -87.9304264424564 43.1069543435893, -87.9302540799099 43.1068872113038, -87.9300586888137 43.1068556585516, -87.9297869339497 43.1068227136957, -87.9294715527103 43.1067889771918, -87.9291509895254 43.106747147817, -87.9287979752963 43.1066967220504, -87.9284997677403 43.1066392977705, -87.9282397402103 43.106582565937, -87.9279407907016 43.1064883040966, -87.9276789058744 43.1063843622195, -87.9273678668014 43.1062227032044, -87.9270414181852 43.1060327607533, -87.9267314639092 43.1058391207615, -87.9264914679 43.1056747528067, -87.9262971372996 43.1054512183078, -87.9261887109916 43.1052692464166, -87.9260683996458 43.1049550623161, -87.926024173344 43.1046502632773, -87.926018120555 43.1043461598968, -87.9260346463459 43.1036618258323, -87.9260557148922 43.1033986419557, -87.9260514015743 43.1031352548339, -87.9259990212717 43.1028875381883, -87.9258768343351 43.1026549219333, -87.9257288465213 43.1024600841489, -87.9255374401488 43.1022808552979, -87.9252865341703 43.1021047977382, -87.9250139441793 43.1019635163237, -87.9250661365452 43.1003028669319, -87.9267617645355 43.1003403588759, -87.9285627991734 43.1003884812612, -87.9269148826366 43.0975779404716, -87.925473161376 43.0971261279096, -87.9266496841318 43.097130243224, -87.9255646333527 43.0951743026031, -87.92502206058 43.095165031852, -87.9250246174728 43.094557526561, -87.9189538743758 43.0945214340353, -87.9193645474831 43.0948200573433, -87.9190470765186 43.0948164884342, -87.9192537374273 43.09496229007, -87.9194313884681 43.0950824529284, -87.9197341917556 43.0952709411859, -87.9170687094359 43.0952523914277, -87.9170783529481 43.0947728658376, -87.9190101704277 43.0947896547117, -87.9187977148532 43.0946303939558, -87.9185089596705 43.0943967210232, -87.9182639445114 43.0941855986686, -87.9179469830469 43.0938809656094, -87.9169879482957 43.0928753760568, -87.9169978325156 43.0924146803505, -87.9165222742207 43.091912196068, -87.9165509001666 43.0904763478442, -87.9165642865861 43.0898046413427, -87.9144785575307 43.0897907380621, -87.9078776258441 43.0897465015826, -87.9078466800606 43.0912987112401, -87.9077873773522 43.0942732378855, -87.9077652542794 43.0965955334866, -87.9077025120192 43.0989576207534, -87.9081292584009 43.0995327146506, -87.9087693798109 43.1000889379486, -87.9099433012887 43.1008488916031, -87.9128074669506 43.1013666597736, -87.9138724073699 43.1019180135089, -87.9148327442036 43.1026991162176, -87.9160688580495 43.1031705135946, -87.9168758092155 43.1033448290471, -87.9168522094866 43.1041333468542, -87.9169604555021 43.1041347276451, -87.9169490529843 43.1046144836152, -87.9095804690141 43.1045194889812, -87.9088507769446 43.1040309355236, -87.9070904215776 43.1040088830806, -87.9071165223638 43.1028626982796, -87.9069919790885 43.1027785302498, -87.9070417594734 43.1006342642641, -87.9070672196808 43.0994412135815, -87.9070957642383 43.0986966162402, -87.9070877223379 43.0986176964453, -87.9070510906615 43.0985634128595, -87.906973591394 43.0984660539213, -87.906918304921 43.0983944987801, -87.9068713893448 43.0983033463108, -87.906756683667 43.0981686240543, -87.9066488956593 43.098056599507, -87.90657861063 43.0979734811739, -87.9065002447533 43.0979015003116, -87.906427931668 43.0978775957052, -87.9063510962083 43.0978733627265, -87.9061834840704 43.0978223101224, -87.9060885738142 43.0977838858056, -87.9059830929407 43.0977170460042, -87.9059220298302 43.0977018158893, -87.9058333604106 43.0977058271674, -87.9057418184474 43.0976815718317, -87.9056281577734 43.0976286920353, -87.9054834338146 43.0975837036407, -87.9053725578057 43.0975619114174, -87.9052931319485 43.0975209485546, -87.9052414044744 43.0974579213513, -87.905212755989 43.0973953198936, -87.905156798448 43.0973435018689, -87.9050387141514 43.0973074684134, -87.9048809040286 43.0973073848794, -87.9046579983314 43.0972976364633, -87.9045191298106 43.0973063645167, -87.9043904506865 43.0973547835428, -87.9042658157332 43.0973976338129, -87.9042154226049 43.0974079918754, -87.9041226198256 43.0974203889831, -87.9039865054839 43.0974387649819, -87.9039213406805 43.0974533665587, -87.9038319982569 43.0974771124711, -87.9037547742481 43.0974841540657, -87.9035903391509 43.097452910108, -87.9035140823329 43.0974317565623, -87.9034375343149 43.0974190572962, -87.9033696505514 43.0973783075257, -87.9032557047731 43.0973338833562, -87.9031461807223 43.0972726130514, -87.9030472350459 43.0972397503805, -87.9030131005256 43.0972250140295, -87.9028664709581 43.0971235570274, -87.9027276307556 43.097019421394, -87.9026387956945 43.096916208193, -87.9025813147576 43.0967966435556, -87.9025552598431 43.0967707670841, -87.9024875672196 43.0967243780832, -87.902446898783 43.0966756597995, -87.9024325804586 43.096644358347, -87.902372582693 43.096598107518, -87.9022554705481 43.0965338735262, -87.9020393142255 43.0964395987124, -87.9018953700625 43.096372049417, -87.9017900847775 43.0962995696969, -87.9016357674608 43.0961979692619, -87.9015195270031 43.0961083561411, -87.9014090411111 43.0960752818654, -87.9012389500883 43.0959846752572, -87.901102897193 43.0959116273683, -87.9010175226334 43.0958197628527, -87.9009735933548 43.0957540590427, -87.9009454355555 43.0956773554452, -87.9008978529916 43.0956059402029, -87.9008271899327 43.0955340982407, -87.900718838721 43.0954389875913, -87.9006553873998 43.095381384979, -87.9006228973778 43.0953187122742, -87.9005878207045 43.0952193102967, -87.9005642856744 43.0951201194586, -87.900559791427 43.0950269257428, -87.9005783752389 43.0949341551358, -87.9005805061111 43.0948721211901, -87.900573227704 43.0947478394712, -87.9005538305386 43.0946402616626, -87.9005217273243 43.0945663071396, -87.9005088609042 43.0944927102576, -87.9005267640718 43.0944196802197, -87.9005519739418 43.0943580721096, -87.9005617023087 43.094298995845, -87.9005628645862 43.0942651595548, -87.9006000007164 43.0941924825747, -87.9006056892766 43.0941389793771, -87.9006036812511 43.0940853323698, -87.9006099509986 43.094014908776, -87.9006390052447 43.0939533715812, -87.9006866132509 43.0939119253214, -87.9007221993116 43.0938843672558, -87.9007748188292 43.0938091574886, -87.9008080128319 43.0937392333224, -87.9008144723797 43.0936631683152, -87.900832182477 43.0935957777793, -87.9008574873319 43.0935313493585, -87.9008860581598 43.0934839096023, -87.9008996305972 43.0934249060314, -87.9008915782345 43.0933231815715, -87.9008715043027 43.0932353417415, -87.9008954822485 43.0930975293564, -87.9009014865164 43.0929227011378, -87.9009072969758 43.0927535151488, -87.9008880898235 43.092640298678, -87.9008933192785 43.0924880303853, -87.9009067983161 43.092431847093, -87.9008932539808 43.0923779890573, -87.9008717252918 43.0923324452241, -87.900851453024 43.0922502475254, -87.9008018652226 43.0921251816111, -87.9007464004536 43.0920592630114, -87.9006634309264 43.0920097653165, -87.9005490065789 43.0919794402851, -87.9004956457798 43.0919643465416, -87.9004449389988 43.0919193123279, -87.9003954084992 43.0918706187651, -87.9003156469615 43.0917531106374, -87.900286245996 43.0916604189168, -87.9002338160695 43.0915604785968, -87.9002027682864 43.0915272454584, -87.9001022954102 43.0914590767719, -87.8999766030622 43.0913236553765, -87.8999338278314 43.0912136541035, -87.8999438708684 43.091056845438, -87.8999668199066 43.0909309928714, -87.8999361245871 43.0908758213331, -87.8998833456139 43.090786111575, -87.8998577765073 43.0907173820371, -87.8997875615108 43.0905932233972, -87.89975292113 43.0905174991844, -87.8997636321384 43.0904767427157, -87.8997976047898 43.0904364156363, -87.899757022984 43.0903981241383, -87.8997180807132 43.0903120842045, -87.8997018179134 43.0902435246131, -87.899593446508 43.0901459630523, -87.8994745999663 43.0900823367833, -87.8994155277974 43.0900402919846, -87.8994036807702 43.0899786410674, -87.8994062594733 43.0899036056888, -87.899271848495 43.0897509580418, -87.8990951037672 43.089611180216, -87.8988623043049 43.0894771959201, -87.8987298535713 43.0894030794935, -87.8985143675375 43.0893069521154, -87.8983130771697 43.0892042593437, -87.8979988819782 43.0890005074769, -87.8979313296495 43.088934417184, -87.897817255557 43.0888674618747, -87.897502363465 43.0886841746037, -87.8973385240696 43.0885753467098, -87.8972099080192 43.0885251882222, -87.8971007233653 43.0884515025304, -87.8969366506834 43.0883494933229, -87.8968089766897 43.0882720501598, -87.8965732908838 43.0880868116768, -87.8963143421822 43.0879011416368, -87.8961129427097 43.0878018563933, -87.8959529384593 43.0877169871529, -87.8957921152422 43.0876559923585, -87.8956276463779 43.0875392064761, -87.895463634974 43.087462213372, -87.89529862803 43.0873874914499, -87.8951014080083 43.0873019342872, -87.8950009475431 43.0872454687164, -87.8947843003579 43.0871834395733, -87.8946513920174 43.0871229632558, -87.8944596495168 43.0870136137705, -87.8943133732121 43.0869358234132, -87.8940573269433 43.0868013941089, -87.8939029251778 43.0866893239351, -87.8937400377216 43.0865532047962, -87.8934906431586 43.086360880395, -87.893360207624 43.0862287751511, -87.8932831231485 43.0861693281394, -87.8932433723144 43.0861071597164, -87.8931777079713 43.0859864944804, -87.8931057487116 43.0859134887209, -87.8930348499209 43.0858097926902, -87.8929603552015 43.085675309343, -87.892916891158 43.0855857685608, -87.8928827322999 43.0854964019052, -87.8928146537924 43.0853108448698, -87.8927323798604 43.0851318511608, -87.8926380393958 43.0848980269384, -87.8925156646358 43.0846670960004, -87.8924898724184 43.0846051858546, -87.8924618940051 43.0844715674315, -87.8924498198883 43.0844167368218, -87.8923834559089 43.0843165325354, -87.8922957119423 43.0841613287688, -87.8922428287066 43.0840750249787, -87.8922105582406 43.0839310870262, -87.8921987208793 43.0838694353507, -87.8921181629552 43.0837690777565, -87.8920349169462 43.0836675915509, -87.892013069273 43.0836262324187, -87.891967431155 43.083464979533, -87.891873914605 43.083207279947, -87.8918391693171 43.0831349646858, -87.8917496665286 43.0830309193718, -87.8917374732566 43.082979499164, -87.891663808181 43.0828211421302, -87.8916253526469 43.0827214563555, -87.8916076253253 43.0825607205585, -87.8915664029383 43.0824063783233, -87.8915061047545 43.0822653306469, -87.8914769557263 43.0821658154964, -87.8914985034279 43.0820808944308, -87.8914738560546 43.0819476372655, -87.8876599313913 43.0819336310747, -87.8861072110672 43.0819320186381, -87.8820714727265 43.081924330238, -87.878439290918 43.0819237517583, -87.876332711916 43.0819220963374, -87.8736696854814 43.0819204009276, -87.8707032364052 43.0819184417381, -87.8706345554958 43.0816441835824, -87.8704214799885 43.0810936851518, -87.8701867814948 43.0805924830202, -87.8695375800899 43.0792798527517, -87.8695387598157 43.0791974604875, -87.8697195389814 43.0791967066852, -87.8696573548159 43.0790617053707, -87.8691224529463 43.0782853343067, -87.8690708419974 43.07815845561, -87.8690269475379 43.0780541104187, -87.8689817631094 43.0779346556747, -87.8689537897317 43.0778388496989, -87.8689197070227 43.0777623737408, -87.8688842208728 43.0776804912427, -87.8688602991262 43.0776082910027, -87.868821994907 43.0775166568546, -87.8687867333408 43.0774142093722, -87.8687599824155 43.0773322257526, -87.8687245209411 43.0772437288932, -87.8686947124806 43.0771703152524, -87.8686733814169 43.0771206416296, -87.8686520066977 43.0770741944245, -87.8685924069233 43.0769218485026, -87.8685624554141 43.0768569864879, -87.8685081634794 43.0767455919392, -87.8684622959371 43.0766622757198, -87.8684236268326 43.0765886806466, -87.8683892109517 43.076525886113, -87.8683550585063 43.0764403536395, -87.868315786974 43.0763526190496, -87.8682884167109 43.0763114342383, -87.8682685388624 43.0762561752042, -87.8682298081638 43.0761824582379, -87.8681912052109 43.0760968017771, -87.8681552251227 43.0760371366517, -87.868124789656 43.076004567559, -87.8681046906966 43.0759660483623, -87.8680882964692 43.0759345744451, -87.8680370361482 43.0758509840651, -87.8679706109302 43.075754321112, -87.8679301189011 43.0756999929942, -87.8678983372993 43.0756532686151, -87.8678621369634 43.0756076130852, -87.8678156659646 43.0755608456529, -87.8677671712154 43.075494798375, -87.8677215684179 43.0754903768112, -87.8676310541428 43.0755004886259, -87.8675355011756 43.0755164111117, -87.86739411262 43.0755078560555, -87.8673656577835 43.0754908198654, -87.8673270709896 43.0754396437254, -87.8673193058853 43.0753993106844, -87.8673416276917 43.0753336256615, -87.8673475575931 43.0751636276743, -87.8672453047946 43.0749178438631, -87.867230527181 43.0747182845528, -87.8672418266484 43.074684302417, -87.8672254095105 43.0746188239205, -87.8672117074068 43.0746004119594, -87.867189962865 43.0745895877344, -87.8671609786739 43.0745733384626, -87.8671290961689 43.0745451028626, -87.8671073631505 43.0745184568834, -87.8670776528259 43.0744945742945, -87.8670544635938 43.0744772081355, -87.8670182203666 43.0744522548428, -87.8669819771974 43.0744262092831, -87.8669500830313 43.0744045089381, -87.8669058688318 43.0743744292953, -87.864186869829 43.0743919514095, -87.8641545172257 43.0743904344507, -87.8641224555544 43.0743869185234, -87.8640909135777 43.0743814304353, -87.8640601159986 43.0743740077231, -87.8640302844987 43.0743647040754, -87.8640016341812 43.0743535856642, -87.8639743662064 43.0743407310059, -87.8639486762266 43.0743262356226, -87.8639247486884 43.0743101993283, -87.8639027576206 43.0742927388502, -87.8638828571594 43.0742739777455, -87.863865188694 43.0742540528391, -87.8638498800786 43.0742331016021, -87.8638370425803 43.0742112792032, -87.8638267678257 43.074188740442, -87.8638191251569 43.0741656451026, -87.8638141702247 43.0741421581141, -87.8638119425646 43.0741184486054, -87.8638074721335 43.0708103496092, -87.8638078296166 43.0707872505318, -87.8638109149859 43.070764258517, -87.8638167012098 43.0707415495469, -87.863825148038 43.0707192912512, -87.8638361905142 43.0706976552977, -87.8638497433192 43.070676798564, -87.8638657111888 43.0706568813428, -87.8638839697778 43.0706380525751, -87.8639043815544 43.0706204519494, -87.863926795674 43.0706042135014, -87.8639510409291 43.0705894564772, -87.8639769401329 43.0705762955081, -87.8639731320228 43.0705115493879, -87.8639835362178 43.0704357550034, -87.8639931518021 43.0703823231271, -87.8640078702195 43.070331085152, -87.8640225228757 43.0703038440865, -87.8640510764903 43.070256990934, -87.8640730181713 43.0702297651856, -87.8641212330249 43.070189496214, -87.8641592124806 43.0701584871389, -87.8642051976366 43.0701323981195, -87.8642577005233 43.0701194034903, -87.8642840371266 43.0700758493574, -87.8643045249972 43.0700399212417, -87.8643534402471 43.0699947821369, -87.8643797358187 43.0699654103498, -87.8644016603324 43.069933851209, -87.8644410820155 43.0698947019581, -87.864497250195 43.0698523283198, -87.8645584924983 43.0698181378496, -87.8646007317693 43.0698084189347, -87.8646473900603 43.0697758437671, -87.8647122302604 43.0697460330657, -87.8647457681389 43.0697156139618, -87.8647938735029 43.0696765213651, -87.8648565016502 43.0696472687629, -87.8648979972459 43.0696283114746, -87.8649489797287 43.0695946836855, -87.8650043179852 43.0695588945948, -87.8650363649648 43.0695295892054, -87.8650669359624 43.0695117054415, -87.8651011567102 43.0694856752882, -87.8651433815927 43.0694509609594, -87.8652015855723 43.0694195540749, -87.8652510517727 43.0693886792144, -87.8653259566302 43.0693486279637, -87.8653739509353 43.0693215631835, -87.8654350565201 43.0692678981638, -87.8654765375102 43.0692158170071, -87.8655201849476 43.0691691909553, -87.8655739909475 43.0691166170998, -87.865613979171 43.0690797787691, -87.8656779300869 43.0690278022564, -87.8657484169754 43.0689655291456, -87.8658007377099 43.0689091895121, -87.8658385264504 43.0688636798344, -87.8658813946286 43.0688127618496, -87.8659438494277 43.0687537722616, -87.865986688983 43.0687126434937, -87.8660215680245 43.0686573803197, -87.8660462867662 43.0686075165526, -87.8661022025352 43.0685322589633, -87.8661617253608 43.0684586565324, -87.8661871353432 43.0684207602005, -87.8662176240835 43.0683752917383, -87.8662654890519 43.0683353223982, -87.8663097325701 43.0682872061811, -87.8663431082294 43.0682385114753, -87.8663851548873 43.0682028758003, -87.8664279169162 43.0681661666766, -87.8664598242993 43.0681201943968, -87.8665054990978 43.0680618136125, -87.8665287000143 43.0680282934227, -87.8665577051314 43.0679806989764, -87.8665866985734 43.0679374508197, -87.866623640151 43.0679029169112, -87.8666395977561 43.06786666661, -87.8666743688852 43.0678256248776, -87.8666982910441 43.0677769535555, -87.8667417528968 43.0677186221217, -87.8667692834271 43.067674314557, -87.8668076518636 43.0676316843159, -87.8668612116388 43.0675788450406, -87.8668908870446 43.0675410681853, -87.866927071319 43.0674968265413, -87.8669704758027 43.0674569569596, -87.8670080901197 43.0674197764965, -87.8670594254069 43.0673842922798, -87.867104245251 43.0673552835146, -87.867134607656 43.067328366411, -87.8671669196251 43.067289041519, -87.8672872208764 43.0671143870403, -87.8673006701472 43.0670854553718, -87.8673144623736 43.0670256326895, -87.8673820920382 43.0669324814473, -87.8674608162337 43.0668567072466, -87.867533943024 43.0667976387079, -87.8675875841298 43.0667541203857, -87.867632808006 43.0667005445798, -87.8676579865969 43.0666346159275, -87.8676886136858 43.0665950900223, -87.8676992787942 43.0665619207793, -87.8677045344539 43.0665241199077, -87.8677534282314 43.0664251676117, -87.8677781567729 43.066362346986, -87.8678024898739 43.0663075546357, -87.867813540962 43.0662802897239, -87.8678256118152 43.0662350500626, -87.8678755693931 43.0661317468369, -87.8679284507329 43.0660330313123, -87.8679613059492 43.0659769993813, -87.8679844234372 43.0659343782196, -87.8680231414205 43.065887513892, -87.8680337464165 43.06584919107, -87.8680659710757 43.0658112744252, -87.8681107045023 43.065769056643, -87.8681245566822 43.0657583505198, -87.8682029443385 43.0656820841885, -87.8682324624733 43.0656274195621, -87.8682584295858 43.0655916493263, -87.8683132950503 43.0655246957887, -87.8683176027522 43.0655107978104, -87.8683266077542 43.0654960288875, -87.8683339164627 43.0654785889253, -87.8683443614234 43.0654659522632, -87.868353061933 43.0654424080644, -87.8683630399632 43.0654222032986, -87.8683761036095 43.0654020536648, -87.8683800574678 43.0653772021766, -87.8683853669306 43.0653582416841, -87.8683908162673 43.0653338945681, -87.8683853097875 43.0653294412444, -87.8683900100316 43.0653061489325, -87.8684018231916 43.0652847017093, -87.868401109224 43.0652642443144, -87.8684145308083 43.0652495032369, -87.8684295632178 43.065223114301, -87.8684462118217 43.0651850641001, -87.868447879789 43.0651691698506, -87.8684408155176 43.0651457768005, -87.8684426844444 43.0651139707112, -87.8684371953336 43.0650821023514, -87.8684273542041 43.0650459571855, -87.8684131376768 43.0650065937136, -87.8683945121016 43.0649671971256, -87.8683713797236 43.0649351871675, -87.868352594242 43.0649085173587, -87.8683399142564 43.0648638672681, -87.8683316879919 43.0648160671077, -87.8683380045911 43.0647811090359, -87.8683465115077 43.0647472266451, -87.8683585392354 43.0647261040122, -87.8683662721436 43.0646954001392, -87.8684001880246 43.06466503214, -87.8684412057881 43.0646408744359, -87.8685131756777 43.0646150330774, -87.868537294545 43.0646020043472, -87.8685910662776 43.0645894034886, -87.8686087195222 43.0645895389351, -87.8686690986155 43.0645901491358, -87.8686867306785 43.0645924074546, -87.8687395538134 43.0645920818099, -87.8688041650865 43.0646000901777, -87.8690435362676 43.0646476319626, -87.869289531529 43.0646969938045, -87.8693174397034 43.0647025205157, -87.869333589488 43.0647068931532, -87.8693614342479 43.0647177295691, -87.869373214978 43.0647178197097, -87.8693968482927 43.0647126949319, -87.8694221015762 43.064695900842, -87.8694519287891 43.0646674630631, -87.869481615837 43.0646496390555, -87.869530677469 43.0646149738316, -87.8695662938481 43.0645950700626, -87.8695930191428 43.0645793453416, -87.8696331649269 43.0645509774484, -87.8696583772291 43.064538422799, -87.8697014088105 43.0645153847249, -87.8697222718541 43.0644974845134, -87.8697519785661 43.0644796554034, -87.8697817152155 43.064459697263, -87.8698159428241 43.0644344583034, -87.8698575532337 43.0644082149353, -87.8698798821025 43.0643913857827, -87.869900695355 43.0643782615386, -87.8699185047966 43.0643688341401, -87.8699453171259 43.0643477847592, -87.8699736413635 43.0643235589583, -87.8699945006323 43.064306714866, -87.8700420977633 43.0642751880136, -87.8700748270559 43.0642531166444, -87.8701253907166 43.0642205467581, -87.87015292103 43.0642016223515, -87.870182598019 43.0641880238304, -87.8702287104979 43.0641586031851, -87.8702717719876 43.0641365964884, -87.8703074392957 43.0641166610334, -87.8703401038698 43.0641009564194, -87.8703713039338 43.0640841753381, -87.8704025388228 43.0640652653171, -87.8704589584205 43.0640390955452, -87.8705020159637 43.0640192074684, -87.8705658333475 43.06399202268, -87.8706000719494 43.0639699425075, -87.8706551849347 43.0639320557278, -87.8706924386719 43.0639057376977, -87.8707178038652 43.063885180612, -87.8707476001066 43.0638651864263, -87.8707714571188 43.0638472754525, -87.8708086485912 43.0638262698235, -87.8708399792008 43.063802028066, -87.8708682847891 43.0637830819896, -87.8708921529677 43.0637651657979, -87.8709085897624 43.0637503917455, -87.8709220637806 43.0637366571812, -87.8709533857141 43.0637134732698, -87.8709772913303 43.0636923638373, -87.870996636129 43.0636818610579, -87.8710442118608 43.0636587860022, -87.8710829837706 43.0636313932092, -87.8711179977599 43.0636092886829, -87.8711537905894 43.0635840020996, -87.8711851125862 43.0635618698633, -87.871225473486 43.0635270347678, -87.8712629067029 43.0634900431888, -87.8713047772178 43.0634530806277, -87.8713198827197 43.06342870613, -87.8713483702282 43.063398033079, -87.8713782425438 43.0633748174206, -87.8714036227085 43.0633558281671, -87.8714305021575 43.0633357864205, -87.8714499991081 43.0633146267939, -87.8714829462503 43.0632829152101, -87.8715143318666 43.0632575712446, -87.8715338224549 43.0632374749263, -87.8715562484742 43.0632189931369, -87.8715816821823 43.0631968037199, -87.8716025963344 43.0631809697873, -87.8716354550271 43.0631566996913, -87.8716593718677 43.0631376893005, -87.8717131199139 43.0630997062516, -87.8717504522018 43.0630733263293, -87.8717788137151 43.0630543432642, -87.8718169013999 43.0630268996094, -87.8718572562574 43.06299627563, -87.8719185975992 43.0629455454296, -87.8719634571211 43.0629106826104, -87.8720024746759 43.0628704526869, -87.8720339374497 43.0628418908923, -87.8721100572057 43.0627959979408, -87.8721414552021 43.06277275391, -87.8721594489468 43.0627558180044, -87.872178947118 43.0627367635532, -87.8722029163382 43.0627156028402, -87.8722239165841 43.0626954851312, -87.8722523717156 43.062671154986, -87.8722673102116 43.0626616582119, -87.8722852166805 43.0626511112032, -87.8722912557981 43.0626426221193, -87.8723152761437 43.0626182603126, -87.8723452069601 43.0625950004845, -87.8723781368478 43.0625690899819, -87.8724110568892 43.0625437087551, -87.8724350134931 43.0625246710391, -87.8724664788444 43.0624982126486, -87.8725129090364 43.0624601202513, -87.8725406014642 43.0624389624892, -87.8725630498271 43.0624220450243, -87.8725869403338 43.0624083286467, -87.872633214386 43.0623830161788, -87.8726705378656 43.0623619133863, -87.8726945206808 43.0623418000616, -87.872718546163 43.0623184828013, -87.8727424853497 43.0623015643751, -87.8727663970027 43.0622867786132, -87.872787331063 43.062273037509, -87.8728262550744 43.0622444718979, -87.8728547350614 43.0622211794017, -87.8728817445231 43.0621968067585, -87.8729131921998 43.0621735292367, -87.8729372139536 43.0621512680998, -87.8729642181702 43.0621279623822, -87.8729793490647 43.0621056538048, -87.8729870539015 43.0620843661217, -87.8730230102018 43.0620568380955, -87.8730470404296 43.0620345779958, -87.8730695576611 43.0620144362848, -87.8730996209528 43.0619847377727, -87.8731251782763 43.0619592807791, -87.8731522939171 43.061928494301, -87.8731688669938 43.0619093831832, -87.8731870355305 43.0618828154971, -87.8731983448816 43.0618690068782, -87.8732029332057 43.0618589004088, -87.873218046761 43.0618387102544, -87.8732496008934 43.0618090080703, -87.8732692203065 43.0617845772774, -87.8732902792394 43.0617633529174, -87.8733307415305 43.0617336903384, -87.8733653145351 43.0617007984294, -87.8733893761964 43.0616774501963, -87.8734106302884 43.0616423480119, -87.8734333137817 43.0616115200114, -87.8734454796769 43.0615902400827, -87.8734651516847 43.0615625974096, -87.8734789196975 43.0615327849861, -87.8734985329381 43.0615094093773, -87.8735211465169 43.0614839089607, -87.8735527230984 43.0614541873076, -87.8735737996269 43.0614329452183, -87.8735994258702 43.0614042576719, -87.8736340177983 43.0613713417281, -87.8736700429007 43.061342697328, -87.8737196231303 43.06130024662, -87.873759507774 43.061260940003, -87.8737911643583 43.0612269327054, -87.8738213029723 43.0611950464109, -87.8738679130205 43.0611536350662, -87.8739011054832 43.0611164220119, -87.8739508586591 43.0610632644019, -87.8739854919295 43.0610292541742, -87.874018708138 43.0609909654852, -87.8740458652912 43.0609606550258, -87.8740774944598 43.0609298293575, -87.8741106521167 43.0608958005131, -87.8741468159863 43.060859652352, -87.8741770686102 43.0608213316312, -87.8742088742539 43.0607787483542, -87.8742407040779 43.0607340197312, -87.8742680490759 43.0606914097852, -87.8742695095939 43.0606935540614, -87.8742899185118 43.0606690694279, -87.8743230021349 43.0606414377916, -87.8743456509453 43.060615893758, -87.8743727867122 43.060589298113, -87.8744058578915 43.0605627287609, -87.8744343842909 43.0605425478396, -87.8744630721054 43.0605116805999, -87.8744947087943 43.060481897693, -87.8745355869361 43.0604296995339, -87.8745628491962 43.0603945482645, -87.8745929941542 43.0603658125972, -87.8746126739786 43.0603413106811, -87.8746430181796 43.0602986783665, -87.8746792849248 43.0602582079739, -87.8747035785664 43.0602230300067, -87.8748262231969 43.0600604159144, -87.8748356851437 43.0600277998876, -87.8748507153908 43.0600125226706, -87.8748598111625 43.0599905846245, -87.8748689219925 43.0599664461416, -87.8748809728809 43.0599511375562, -87.8748900523414 43.0599313999205, -87.8749006421151 43.0599105712396, -87.8749186843318 43.059893112664, -87.8749278043007 43.0598667664267, -87.8749458464656 43.0598493087466, -87.8749579355394 43.0598273870091, -87.8749744788937 43.0598099112216, -87.8749865588063 43.0597901963307, -87.8750016233219 43.0597705020927, -87.8750227105967 43.0597442543119, -87.875037816865 43.0597179505934, -87.8750514111883 43.0596949404074, -87.8750665249205 43.0596686332232, -87.8750845673314 43.0596511656222, -87.8750966728191 43.0596270371575, -87.8751117713341 43.0596029340026, -87.8751313595472 43.0595788643124, -87.8751464340634 43.0595591621395, -87.8751644917546 43.0595394859908, -87.8751736014372 43.0595175310734, -87.8751886826374 43.0594956210993, -87.8752052763653 43.0594726264197, -87.8752203508941 43.0594529224371, -87.8752354305096 43.059433213145, -87.8752445506059 43.0594090486953, -87.8752567055355 43.0593782982765, -87.8752733234149 43.0593519912572, -87.8752854113171 43.0593322530748, -87.8752945060325 43.0593124940841, -87.8753036044862 43.0592927333617, -87.875315677256 43.0592751974118, -87.8753322533383 43.0592554998596, -87.8753443322911 43.0592379622216, -87.8753564251506 43.0592182214235, -87.8753745005776 43.0591974290087, -87.8753865958112 43.059177690053, -87.8754016920159 43.059155767727, -87.8754182950716 43.0591316512236, -87.8754334089085 43.0591075240037, -87.8754515753803 43.0590746005194, -87.8754833859273 43.0590205478833, -87.8755193981705 43.0589623028683, -87.8755426626304 43.0589151510413, -87.8755538160783 43.0588609754027, -87.8755591052382 43.0587976244052, -87.8755257495874 43.0586904969858, -87.875509189171 43.0586335371395, -87.8754839165775 43.0585605511705, -87.875476857608 43.0584969712786, -87.8754815186295 43.0584517383509, -87.8755115114061 43.0583888479807, -87.8756054929179 43.0582010521204, -87.8757672018086 43.0580455502316, -87.8758825697095 43.0579300596656, -87.8760494970753 43.0578165351334, -87.8761541455842 43.0577391792477, -87.8762456558343 43.0576842369976, -87.8764251962301 43.0575856195459, -87.8765072835424 43.0575350322219, -87.8765932494229 43.0574618590693, -87.8767860634391 43.0572492659764, -87.8768186062914 43.0572342947946, -87.8768516930822 43.0572037612589, -87.8768686532934 43.0571768237948, -87.8769073470214 43.0571386122817, -87.8769238897438 43.0571233459405, -87.8769562925098 43.0571122656809, -87.8769620346319 43.0571006948624, -87.8769788534923 43.0570776501203, -87.8769900664992 43.0570622860653, -87.8770066101888 43.057047026034, -87.8770230130054 43.0570356470406, -87.8770343646531 43.057016394696, -87.8770563742928 43.0569973413281, -87.8770729168461 43.0569820776647, -87.8770897319819 43.0569590319374, -87.8771113291143 43.0569516488825, -87.8771338885979 43.0569170368673, -87.8771505686288 43.0568978821847, -87.877166972356 43.0568865103923, -87.877205384455 43.056856083378, -87.8772272577601 43.0568409192079, -87.8772440714469 43.0568178770341, -87.8772551191218 43.0568112352945, -87.8772668403491 43.05680581364, -87.8772981593289 43.056789475999, -87.8773317398686 43.0567633124605, -87.8773615283164 43.0567356662107, -87.8773764154113 43.0567166527172, -87.8773953199749 43.056700198574, -87.8774324337901 43.0566862265111, -87.8774350667473 43.0566774106616, -87.8774752822549 43.0566411867658, -87.8775130317689 43.0566099575846, -87.877518485939 43.0565848484017, -87.8775420272819 43.0565667996297, -87.8775493061648 43.0565551719246, -87.8776052605985 43.0565276430138, -87.8776061348869 43.0565024501465, -87.8776232740482 43.056470836245, -87.8776442339761 43.0564611432346, -87.8776563245828 43.0564428807198, -87.8776658363317 43.0564329731337, -87.8777108061511 43.0563917962375, -87.8777444977232 43.0563453653765, -87.8777518349042 43.056332055794, -87.8777545922589 43.056318662537, -87.8778094196837 43.056257499351, -87.8778579043776 43.0561810909981, -87.8778827288761 43.0561260906557, -87.8778770818878 43.0560906918715, -87.8778640978465 43.0560686008779, -87.8778430503391 43.0560290148009, -87.8778278718402 43.0559882785128, -87.8778232227657 43.0559687463861, -87.877825833335 43.0559166217469, -87.8778306461948 43.055909988759, -87.8778492589629 43.0559019330626, -87.8779053862003 43.0558693673856, -87.8779174752604 43.0558433581885, -87.8779205239712 43.0558215664036, -87.8779345570088 43.0558134243261, -87.8779464142227 43.0558018820384, -87.8779582144587 43.0557920171374, -87.877988742699 43.0557707381632, -87.8780030670874 43.0557541984534, -87.8780084044571 43.0557324475752, -87.8780139213848 43.0557000359395, -87.8780196567581 43.0556884730507, -87.8780364531282 43.0556654520572, -87.8780749795008 43.0556311657432, -87.8780913714542 43.0556197999095, -87.8781187100143 43.0555942553485, -87.8781467052764 43.0555710885348, -87.8781685440585 43.0555473431, -87.8781852079489 43.055528208686, -87.8781964075047 43.0555128613789, -87.8782457188407 43.0554748889831, -87.8782763395337 43.0554536629872, -87.8783077185668 43.0554377962434, -87.8783421479279 43.0554170050799, -87.8783784787566 43.0554061418, -87.8784236195185 43.0554003899909, -87.878463585544 43.0554143255474, -87.8784834524739 43.0554245868254, -87.8785050530451 43.0554497217686, -87.8785109327332 43.0554745625041, -87.8784986172556 43.0555056569148, -87.87849113844 43.0555269509483, -87.878513366529 43.0555339615022, -87.8785291421767 43.0555326070903, -87.8785724387073 43.0555152778614, -87.8787552734609 43.0554398078693, -87.878960636884 43.0553206048427, -87.8794068639315 43.0550254439796, -87.8796689984962 43.0548422197715, -87.8797760898275 43.0547339296734, -87.8799029133813 43.0545984372216, -87.8800109614154 43.0544625936864, -87.8801210406258 43.0543389521858, -87.8801815971294 43.0542774309974, -87.8801974864498 43.054202994759, -87.8801853833017 43.0541631994807, -87.8801668462657 43.0541445440248, -87.8801574274416 43.054134114937, -87.8801417798533 43.0541420245744, -87.8801120990673 43.0541517238248, -87.8800744656527 43.0541489727701, -87.8800511508528 43.054136233362, -87.8800323461987 43.054114353763, -87.8800222045623 43.0540844298177, -87.8800329043761 43.054057973101, -87.8800615070975 43.0540390258977, -87.8801014614786 43.0540151640247, -87.8801302086554 43.0539921188206, -87.8801545154035 43.0539761674625, -87.8803193232872 43.0538472203763, -87.8803768108412 43.0538021310368, -87.8804126275642 43.0537771519021, -87.8804484454227 43.0537521745787, -87.8804495111992 43.0537214213582, -87.8804577418561 43.0536856699947, -87.8804797642 43.0536553065101, -87.8805292009996 43.0536408410175, -87.8805782800747 43.0536366268316, -87.8806216165924 43.0535964017052, -87.8806794564638 43.0535410607921, -87.8807629507039 43.0534729973087, -87.8807931320365 43.0534432405625, -87.8808512796662 43.0533917664582, -87.8808939751198 43.0533796370203, -87.8809477477388 43.0533866704024, -87.8809778410197 43.0534030072102, -87.8809767754206 43.053433763136, -87.8809475899084 43.0534691222149, -87.8809156452152 43.0534998051238, -87.8808653008644 43.0535575153745, -87.8808656032356 43.0535884795872, -87.8809069322883 43.0536294344707, -87.8809622856565 43.0536458530387, -87.8810459403778 43.0536525409903, -87.8811786741659 43.0536550144353, -87.881305488643 43.0536266034516, -87.8814258485764 43.0535826832782, -87.8816407533547 43.0534328172736, -87.8817632429815 43.0533273875779, -87.8818735342828 43.0531704423688, -87.8819272282223 43.0530329569821, -87.8819173392659 43.0529148049675, -87.8818375933567 43.0527953498399, -87.8817490841382 43.0527270249598, -87.8816942388165 43.0527728872491, -87.8816511947432 43.0528046710348, -87.8815935497893 43.0528307494316, -87.8815683913557 43.0528447618418, -87.8815218604173 43.0528348444389, -87.8814740436245 43.0527879267389, -87.8814587772436 43.0527377354324, -87.8814779679186 43.0527073172078, -87.8815429817171 43.0526524066948, -87.8816317817182 43.0525816536507, -87.8817075650589 43.0525305689237, -87.881768367778 43.0524846366216, -87.8818163382452 43.0524529463699, -87.881861783235 43.0524230198699, -87.881913863636 43.0523928090504, -87.8819690641426 43.052361530758, -87.882015054776 43.052329600944, -87.8820718679195 43.0522901512914, -87.8821282588972 43.0522545936221, -87.8821799575681 43.052215080171, -87.8822140943091 43.0521948470242, -87.882230566748 43.0521810364839, -87.8822631964235 43.0521220916766, -87.8822785173533 43.0520995144572, -87.8822854567302 43.0520790682891, -87.882292899607 43.0520441512702, -87.8822937601066 43.0519892980286, -87.882282217361 43.0519326884069, -87.8822513904703 43.0518663431696, -87.8822170706469 43.0518101674446, -87.8822072966635 43.0517914144001, -87.8821881437063 43.051754663944, -87.88215395741 43.0517063372559, -87.8821346020706 43.0516730218605, -87.8821052313812 43.0516358334448, -87.8820853777943 43.0516055613044, -87.8820608715355 43.0515604773417, -87.882041888359 43.0515164174184, -87.8820078471747 43.0514720625931, -87.8819830500637 43.051434246175, -87.8819684910369 43.0514043661851, -87.8819491527104 43.0513710969939, -87.8819251350345 43.0513307017679, -87.8818961616514 43.0512977204191, -87.8818725771542 43.0512648862738, -87.8796572600491 43.0477752509415, -87.8796326807447 43.0477340693993, -87.8796107565816 43.0476920900388, -87.8795915347112 43.0476494046872, -87.8795750585405 43.0476061069024, -87.879561362919 43.0475622891823, -87.879550478765 43.0475180511549, -87.8795424298532 43.0474734860115, -87.8795372322838 43.0474286958048, -87.8795348999843 43.0473837744425, -87.8795354355891 43.0473388228251, -87.8795388368874 43.0472939399618, -87.8795451030515 43.047249220385, -87.8795542132785 43.0472047681592, -87.8802274733316 43.0446824363466, -87.880380157348 43.0447045861521, -87.8801360215492 43.0455891020198, -87.8796926296596 43.0472660098368, -87.8796835370935 43.0473055278983, -87.8796770746636 43.0473453219242, -87.8796732639926 43.0473852995711, -87.8796721108149 43.0474253663981, -87.8796736159572 43.0474654278727, -87.8796777803085 43.0475053876624, -87.8796845911985 43.0475451509826, -87.8796940310177 43.0475846238567, -87.8797060820942 43.0476237141079, -87.879720712094 43.0476623274848, -87.8797378873938 43.0477003715127, -87.8797575668521 43.0477377580789, -87.87977970445 43.0477743980791, -87.8819856700329 43.0511977200196, -87.8821856153454 43.0511564170726, -87.8822418044461 43.0513040353211, -87.8827857763964 43.0511926870524, -87.8827422114768 43.0510687790492, -87.8835412247964 43.0509080335031, -87.8837523867211 43.0514418296445, -87.885274349768 43.0511339524819, -87.8853872873731 43.0514351777414, -87.8853623770511 43.0514403873301, -87.8854543806572 43.051680383937, -87.885517887684 43.0516671090589, -87.885510416809 43.0516489772381, -87.8858108542033 43.0515861707956, -87.8858183191488 43.0516042988832, -87.8861026455217 43.0515448605647, -87.8867000539038 43.0529961849343, -87.8868067849321 43.0530356076438, -87.887084230423 43.0529814443191, -87.887146365766 43.0528957636071, -87.8866459065079 43.051618029763, -87.8873111964488 43.0511219390986, -87.8874844290732 43.0512422195412, -87.8876733184629 43.0511010546269, -87.8874961666141 43.0509869237936, -87.8876940801139 43.0508413774235, -87.8870381534747 43.0504076719512, -87.888277064881 43.0492085307957, -87.8893937382556 43.0480732587977, -87.8886362607098 43.0476583279546, -87.8885443274381 43.0471796248471, -87.8898791850368 43.0458636750681, -87.8879700646791 43.0448221067045, -87.8871763511419 43.0456045623798, -87.8862994041901 43.046469042998, -87.8817783578653 43.0463011004676, -87.8817868129562 43.0461521010253, -87.8839339838137 43.0462263784918, -87.8845917460561 43.0455847342614, -87.8849025263551 43.0452815611086, -87.8860253194057 43.0442078505446, -87.8873846267361 43.0433059158089, -87.8884850911242 43.0429564811335, -87.8889249629884 43.0428168044086, -87.89056085262 43.0425606741015, -87.8921216567676 43.0424737111896, -87.8950364271982 43.042475342144, -87.8951278512416 43.0423079217287, -87.8952180160119 43.0421402636253, -87.895306982866 43.0419722618186, -87.8953947455853 43.0418039188975, -87.895481306384 43.0416352421093, -87.8955666589817 43.0414662358424, -87.8956508020981 43.0412969018768, -87.8957337342366 43.0411272482912, -87.895810323189 43.0409650752647, -87.8958841124223 43.040802446971, -87.895955187192 43.0406391695946, -87.8960235453934 43.0404752692143, -87.8960891678388 43.0403107688916, -87.8961520524856 43.0401456929049, -87.8962121849617 43.0399800671058, -87.896269558349 43.0398139147818, -87.8963241643791 43.0396472627975, -87.8963759961344 43.03948013444, -87.8964250417597 43.0393125538055, -87.8964712978946 43.0391445478488, -87.8965147564268 43.038976138934, -87.896555411512 43.0388073548698, -87.8965932537804 43.038638218897, -87.8966282822956 43.038468758915, -87.8967186096169 43.0378179964209, -87.8949500280215 43.0379127580204, -87.8947715325828 43.0379075643146, -87.8945931450891 43.0379006614661, -87.8944148962565 43.0378920491436, -87.8942368142541 43.0378817296702, -87.8940589321893 43.0378697045601, -87.8940053265429 43.0378593557653, -87.8939524898362 43.0378470681071, -87.8939005512156 43.0378328700925, -87.8938496346723 43.0378167973365, -87.893799870145 43.0377988909675, -87.8937513776955 43.0377791937317, -87.8937042820445 43.0377577556657, -87.8936409853065 43.0377199046724, -87.893579268082 43.037680676402, -87.8935302058698 43.0376376728779, -87.8934821754994 43.037594045528, -87.8934130954336 43.0375058734395, -87.8933904336313 43.0374621920931, -87.893366937557 43.0374187474079, -87.8933508729732 43.0373629043219, -87.8933361028152 43.0373068673116, -87.8933343628793 43.0372638897333, -87.8933340599246 43.0372208910611, -87.8933351867913 43.0371779008772, -87.8933392512667 43.0371571892288, -87.8933891409891 43.0369000113576, -87.8935372566004 43.0362322774494, -87.8936254755406 43.0358209839534, -87.8936885782415 43.0355552947954, -87.8937734142479 43.0351890080227, -87.8938060600667 43.035064611037, -87.8938315586458 43.0349759556884, -87.8938610261166 43.0349228742545, -87.8938741097063 43.0349074505767, -87.8938894582844 43.0348931971312, -87.8939068854173 43.0348802878525, -87.8939261644062 43.0348688896255, -87.8939470597309 43.0348591403575, -87.8939693080899 43.0348511648345, -87.8939926336182 43.0348450605965, -87.8940167413805 43.0348409086222, -87.8940413314856 43.0348387555814, -87.8940660948171 43.0348386308646, -87.8940907207346 43.0348405368207, -87.894114903238 43.034844447971, -87.8941383407816 43.0348503164078, -87.8941607351712 43.0348580681732, -87.8941818136142 43.0348676045667, -87.8942013038749 43.0348788106907, -87.8942189678302 43.0348915434648, -87.8942345827275 43.0349056411841, -87.8942479506892 43.0349209326995, -87.8942589090527 43.0349372223014, -87.894267319907 43.0349543084355, -87.8942730739885 43.034971977472, -87.8942761041455 43.0349900048548, -87.8942763700594 43.035008171027, -87.8942738650597 43.0350262417473, -87.894233677513 43.0352046199972, -87.8942168415126 43.0353088408575, -87.8941332537444 43.0357219926265, -87.8940811296429 43.0359895314135, -87.8940781608741 43.0360207509646, -87.8940743765576 43.0362946168112, -87.8940721140496 43.0363189411669, -87.8938919453957 43.037152971859, -87.8938861248856 43.0371848319199, -87.8938823842131 43.0372168601795, -87.8938807356741 43.0372489848296, -87.8938811819361 43.0372811284805, -87.8938837206046 43.0373132181511, -87.8938883490994 43.0373451862594, -87.893900309488 43.0373660759588, -87.8939148117994 43.0373860852837, -87.8939317330471 43.0374050426693, -87.8939509337378 43.0374227924532, -87.8939722531197 43.0374391902848, -87.8939955192135 43.0374540970083, -87.8940205348528 43.0374673919109, -87.8940470951999 43.0374789631424, -87.8940749801689 43.0374887138777, -87.89410395795 43.0374965668849, -87.8941337890629 43.0375024537947, -87.894164224727 43.037506326776, -87.8941950143769 43.0375081541733, -87.8942259043738 43.0375079222833, -87.8942566370269 43.0375056281336, -87.8942869586235 43.0375012958391, -87.8943166187596 43.0374949603818, -87.8943453701234 43.0374866739098, -87.8943729735265 43.0374765022289, -87.8943992025321 43.037464532992, -87.8945828857808 43.0373719531264, -87.8946026369351 43.0373627984444, -87.8946237624019 43.0373554791233, -87.8946459478416 43.0373501045986, -87.8946688615046 43.0373467551691, -87.8950058546956 43.0373444361736, -87.8951424229535 43.0367400406547, -87.8951440093066 43.0367327520454, -87.8951472840093 43.0367257711372, -87.8951521464574 43.0367193103749, -87.8951584526573 43.0367135588886, -87.8951660138129 43.0367086878703, -87.8951746074912 43.0367048471787, -87.895183972107 43.0367021472279, -87.8951938322828 43.0367006711633, -87.8952038907261 43.0367004612043, -87.8969874107147 43.036602371756, -87.897036234679 43.0363815583409, -87.8967804367138 43.0363709269893, -87.8967684724051 43.0363704453942, -87.8967560874133 43.0363695246973, -87.8967397688368 43.0363661198062, -87.8967228289983 43.0363613617433, -87.8967045062463 43.0363548744335, -87.8966945023305 43.0363507867717, -87.896685061583 43.0363460287869, -87.896672378311 43.0363385382612, -87.896660454976 43.0363304026639, -87.8966438551319 43.0363150777634, -87.8966290560889 43.0362987893801, -87.8966161656454 43.0362816511653, -87.8966052705277 43.0362637826839, -87.8965964461428 43.036245311395, -87.8965848971275 43.0362070814794, -87.8965759695403 43.036168476856, -87.8965696859207 43.0361295915897, -87.8965660624576 43.0360905259308, -87.8965631252318 43.0360480674573, -87.8965619449686 43.0360055631551, -87.8965625228495 43.0359630499646, -87.8965635671017 43.0359206822726, -87.896566682789 43.0358783691186, -87.8965718656279 43.0358361635499, -87.8965791111497 43.0357941240131, -87.8965884078035 43.0357523007195, -87.8966237321399 43.0356305648063, -87.8966608619436 43.035509117119, -87.8966716171369 43.0354647491142, -87.8966796113818 43.0354200661896, -87.8966848315909 43.0353751635515, -87.8966872610893 43.0353301336383, -87.8966869003458 43.0352850701058, -87.8966837474687 43.0352400638645, -87.896677806607 43.035195208638, -87.8966690954038 43.0351505983994, -87.8966576278838 43.0351063252535, -87.8966434279162 43.0350624805868, -87.8966265255967 43.0350191531994, -87.8966069219422 43.0349762422582, -87.8965847751624 43.0349340019156, -87.8965601254129 43.0348925139538, -87.8965330226942 43.0348518594366, -87.8965035147381 43.034812113983, -87.8964716651926 43.0347733544072, -87.8964375304377 43.0347356546869, -87.8963256424898 43.0346177768342, -87.8963175685033 43.0346032660883, -87.8963114959487 43.034588238603, -87.8963074809938 43.0345728457938, -87.8963055626939 43.0345572369584, -87.8963057652903 43.0345415638218, -87.8963080797173 43.034525982895, -87.8963131734348 43.0345019711368, -87.8963169336648 43.0344778284465, -87.8963206225479 43.0344579381755, -87.8963271553705 43.0344384463099, -87.8963364560071 43.0344195675493, -87.8963484202105 43.034401513371, -87.8963629194161 43.0343844884993, -87.8963797875573 43.0343686816564, -87.8963988331783 43.0343542702892, -87.8964198519178 43.0343414144972, -87.8964425994592 43.0343302583328, -87.8964668284253 43.0343209277828, -87.8964922628643 43.0343135230928, -87.8965186223205 43.0343081327192, -87.8965456114738 43.0343048133277, -87.8965729258096 43.0343036034051, -87.8966002605148 43.0343045144194, -87.8966579433576 43.034309231316, -87.8967154333929 43.0343150935934, -87.8967326913763 43.0343181863148, -87.8967492289233 43.0343229540525, -87.8967647409728 43.0343293083206, -87.8967789479879 43.0343371322912, -87.8967915957082 43.0343462879933, -87.8968070196282 43.034359348098, -87.8968244039365 43.0343725138069, -87.8968436709961 43.0343841871797, -87.8968645853174 43.0343942197861, -87.8968868822059 43.0344024914699, -87.8969102939251 43.0344088991276, -87.896934528533 43.0344133653209, -87.8969592885002 43.0344158323184, -87.896984269142 43.0344162719718, -87.8970091625782 43.0344146776843, -87.8970336600315 43.0344110689564, -87.8970574628682 43.0344054915893, -87.8970802753617 43.0343980139498, -87.8970985647086 43.0343903868954, -87.8971159337022 43.0343816802779, -87.897132266122 43.0343719540786, -87.8971523765905 43.0343619483928, -87.8971691852682 43.0343522580125, -87.8971833270061 43.0343445190998, -87.8971953199422 43.034338013675, -87.8972069390092 43.0343323144416, -87.8972187091638 43.034325076427, -87.8975056383592 43.0341837514895, -87.8980993971638 43.0312406652154, -87.8982053275895 43.0307220174197, -87.898218660191 43.0306643063185, -87.8982292232097 43.0306062873747, -87.8982370019446 43.0305480314528, -87.8982419853131 43.0304896112849, -87.8982441683969 43.0304310988166, -87.8982435487309 43.0303725660385, -87.8982401263035 43.0303140849865, -87.8982339072362 43.0302557278094, -87.898224896362 43.0301975684332, -87.8982131084814 43.0301396764657, -87.8981985534574 43.0300821223235, -87.8981812520378 43.0300249811267, -87.8981612265062 43.0299683190189, -87.8981385013516 43.0299122093882, -87.8981131025058 43.0298567193458, -87.8980850619717 43.0298019179161, -87.8980544154624 43.0297478732914, -87.8980212012058 43.0296946519094, -87.8979854562335 43.0296423192854, -87.8979472311007 43.0295909402838, -87.8979065666723 43.0295405759884, -87.8978635183779 43.029491292254, -87.8978181369872 43.029443147646, -87.89777047563 43.0293962034745, -87.8977206011137 43.0293505158998, -87.8976685667521 43.0293061408328, -87.8976144393824 43.029263133534, -87.8975582870986 43.0292215483865, -87.8975001768599 43.0291814370515, -87.8974401831399 43.0291428468266, -87.8973783804107 43.0291058250097, -87.8973224960151 43.0290745611855, -87.897291879621 43.0290582422701, -87.8961590914156 43.0290904034991, -87.8961600408732 43.0291014138074, -87.8961585024327 43.0291123870701, -87.8961545146708 43.0291230223491, -87.8961481894214 43.0291330299675, -87.8961396994167 43.0291421339817, -87.8961292753697 43.0291500856341, -87.8961172071393 43.0291566651763, -87.8961038224442 43.0291616940809, -87.8960894919247 43.0291650306334, -87.8960746063816 43.0291665893204, -87.8960281731644 43.0291668904978, -87.8960177336303 43.0291677606885, -87.8960077163388 43.0291700938269, -87.8959984864233 43.0291738012243, -87.8959903823212 43.0291787495754, -87.8959827345645 43.0292077619849, -87.8959729532447 43.0292364269441, -87.8959610621515 43.0292646593495, -87.8959480564413 43.0292906109828, -87.8959199408441 43.0293378136463, -87.895889163352 43.0293841124964, -87.8958557745531 43.0294294283272, -87.8958198360756 43.0294736821369, -87.8957814095488 43.0295167949239, -87.8957405625494 43.029558693199, -87.8957107703176 43.0295779435159, -87.8956827279259 43.0295985624943, -87.8956565537725 43.029620462282, -87.8956154282763 43.0296735578999, -87.8955768392959 43.0297276666531, -87.8955408307394 43.0297827254252, -87.8955074429901 43.0298386665314, -87.8954767188543 43.0298954232327, -87.8954486950674 43.0299529268763, -87.8954234046855 43.0300111087413, -87.8954008807959 43.0300698992065, -87.8953811467352 43.0301292266694, -87.8953642282627 43.0301890204724, -87.8953501438089 43.0302492089216, -87.8953434582757 43.0302719665523, -87.8953365616777 43.0302983977264, -87.8953288043355 43.0303314033811, -87.8953216678029 43.0303638100232, -87.8953148055085 43.0303952735655, -87.8953084020231 43.030425923489, -87.8953031670201 43.0304563600304, -87.8953001501087 43.0304837598937, -87.8952991325875 43.0305121971831, -87.8953005170076 43.0305451343925, -87.8953039099524 43.0305786652734, -87.895307142261 43.0306031643327, -87.8953109218262 43.0306287747797, -87.8953157341212 43.0306605805595, -87.8953192273463 43.0306829899948, -87.8953309282051 43.0307473675644, -87.895335640277 43.0307681715476, -87.8953456808013 43.0308052778539, -87.895362304455 43.0308555401168, -87.8953744814257 43.0308890229338, -87.8953862347293 43.0309206564774, -87.8954072520194 43.0309716159944, -87.8954147125337 43.0309884188223, -87.8954214090819 43.031001774976, -87.8954363494474 43.0310288599035, -87.8954529810362 43.0310564146631, -87.8954707644103 43.031084385144, -87.8954891700676 43.0311127138178, -87.8955078052332 43.0311412934619, -87.8955268698639 43.0311698063162, -87.895536670335 43.0311839213832, -87.8955570289832 43.0312116414788, -87.8955676701437 43.0312251534961, -87.895571774558 43.0312299757758, -87.8955899452171 43.0312513287707, -87.8956131002942 43.031276436187, -87.8956365532822 43.0313005910313, -87.8956597212324 43.0313238977689, -87.8956819693917 43.0313462897213, -87.8957024500405 43.0313669687012, -87.8957279008747 43.0313926372547, -87.8957488637647 43.0314131072435, -87.8957535832118 43.031426671697, -87.89577791827 43.031449237331, -87.8958008716209 43.031469935954, -87.8958225257403 43.0314890104154, -87.8958622399975 43.0315232703707, -87.8958804682551 43.0315389209107, -87.8959144017283 43.0315678854245, -87.8959304425404 43.0315813631907, -87.8959460901374 43.0315942825983, -87.8959615136224 43.0316067233163, -87.8959768832012 43.0316187686358, -87.8960080677836 43.0316419715622, -87.8960395430483 43.0316638967142, -87.8960839792387 43.0316930258637, -87.8961037740251 43.0317054583273, -87.8961301475269 43.0317216161674, -87.8961678946227 43.0317428433584, -87.8961921980171 43.0317647671894, -87.8962268409909 43.0317834579595, -87.8962644200481 43.0318017564348, -87.8963085619253 43.0318208165813, -87.8963412113728 43.0318337300315, -87.8965081989541 43.0318946177695, -87.8965964135718 43.0319221904646, -87.8967369220057 43.0319579667724, -87.8968258743247 43.0319792605705, -87.8969324836376 43.0320278738665, -87.8969510245246 43.0320471183157, -87.8969670652409 43.0320675366179, -87.8969804706245 43.0320889542872, -87.8969911243152 43.0321111854793, -87.8969989394544 43.0321340430947, -87.89700384412 43.0321573340068, -87.8970057998811 43.0321808549033, -87.8970047864904 43.0322044091109, -87.8970008194601 43.0322277952153, -87.8969939253113 43.0322508129058, -87.8969841672738 43.0322732652521, -87.8969716268227 43.0322949601638, -87.896956410916 43.0323157141253, -87.8969386495098 43.0323353530515, -87.896918495868 43.0323537032879, -87.8968961197791 43.0323706103957, -87.8968717114222 43.0323859338198, -87.8968454816759 43.0323995378905, -87.8968176517175 43.0324113087395, -87.8967593796561 43.0324346021837, -87.8967025630505 43.0324597603548, -87.8966473128669 43.0324867330824, -87.8965937414227 43.0325154666188, -87.896541949934 43.0325459088126, -87.8964920412773 43.0325779949363, -87.8964441119799 43.0326116664485, -87.8963982514569 43.0326468574724, -87.8963545553817 43.0326834986454, -87.8963131060274 43.0327215176554, -87.8962739819876 43.0327608421223, -87.8962372620118 43.0328013951664, -87.8962030163865 43.0328430961498, -87.8961713165331 43.0328858671564, -87.8961422170092 43.032929620954, -87.896115777125 43.0329742749, -87.8960920514701 43.0330197408616, -87.8960710823987 43.0330659295792, -87.8960529146259 43.0331127545377, -87.8960375784563 43.0331601199509, -87.8960251064315 43.0332079363769, -87.8960155226615 43.0332561097152, -87.8960088487719 43.0333045467194, -87.8960050941525 43.0333531530163, -87.8960042658327 43.0334018314872, -87.896006366914 43.033450492144, -87.8960113922208 43.0334990358409, -87.8960193339378 43.0335473687856, -87.8960301755704 43.0335953997262, -87.8960438959021 43.0336430319207, -87.8960604674281 43.0336901730125, -87.8960798601277 43.0337367323994, -87.8961020329709 43.0337826183746, -87.8961269448648 43.033827741031, -87.8961545496857 43.03387201397, -87.8961847865576 43.0339153514202, -87.8962176032223 43.0339576668694, -87.896252933741 43.0339988789544, -87.8962588943707 43.0340058075, -87.8962662085217 43.0340119984114, -87.8962747128373 43.0340173117964, -87.8962842089927 43.0340216251245, -87.896294480685 43.0340248389442, -87.8963052958688 43.0340268832279, -87.8963229321651 43.0340306799655, -87.8963395638256 43.0340364201949, -87.8963547966232 43.0340439669556, -87.8963682659987 43.0340531415151, -87.8963796542668 43.0340637227864, -87.8963886937379 43.0340754635945, -87.8963951645135 43.0340880834315, -87.8963990002363 43.0341080103039, -87.8964001108506 43.0341281172611, -87.8963984835643 43.0341482050664, -87.8963941350575 43.034168074128, -87.8963871089364 43.0341875271528, -87.896377474538 43.0342063682244, -87.896365327816 43.0342244127242, -87.8963507903929 43.0342414792097, -87.8963340068903 43.0342573956687, -87.8963151433924 43.034272008495, -87.8962943916525 43.034285167259, -87.896271951269 43.0342967432869, -87.8962480520138 43.0343066228709, -87.8962229293598 43.034314705015, -87.8961968339854 43.0343209106159, -87.8961721604534 43.0343252128556, -87.8961470591768 43.0343278539414, -87.896121733372 43.0343288142225, -87.8960963932444 43.0343280849831, -87.8960712497623 43.0343256710281, -87.8960465072029 43.0343215932475, -87.8959999111416 43.0343089906806, -87.8959524195927 43.0342983345065, -87.8959041836446 43.0342896572359, -87.8958553605812 43.0342829896932, -87.8958061032123 43.0342783500144, -87.8957565668938 43.0342757536812, -87.895706908394 43.0342752107989, -87.895657287306 43.0342767207203, -87.8956078621199 43.034280279176, -87.8955587890275 43.0342858773519, -87.895510223396 43.0342934947134, -87.8954623219126 43.034303108049, -87.8954152329875 43.0343146849896, -87.895369108773 43.0343281914349, -87.89532409566 43.0343435823726, -87.8952910107829 43.0343576723875, -87.8952593361658 43.0343734075203, -87.8952292204502 43.0343907130856, -87.8952008100725 43.0344095071535, -87.8951742407694 43.0344296976911, -87.8951496410421 43.0344511889297, -87.8951271261455 43.0344738776518, -87.8951068090679 43.034497655195, -87.89508381496 43.0345227473497, -87.895062912382 43.0345488065977, -87.8950441795101 43.0345757371388, -87.8950276846141 43.0346034456906, -87.8950134840376 43.034631828845, -87.8950016327738 43.0346607867702, -87.894992172477 43.0346902148853, -87.8949289142954 43.0349968949184, -87.8949082156993 43.0351296436267, -87.8948999685529 43.035266294968, -87.8948951072677 43.035285923969, -87.8948877233638 43.0353051262623, -87.8948778793691 43.0353237256161, -87.8948761092454 43.0353266517245, -87.8948618387527 43.0353422552353, -87.8948452112635 43.035356542754, -87.8948264479299 43.0353693301803, -87.8948057977789 43.0353804438353, -87.8947835384131 43.0353897357822, -87.8947599674237 43.0353970836669, -87.894735396442 43.0354023852058, -87.894710155582 43.0354055717745, -87.8946845826161 43.0354066019041, -87.8946590180684 43.0354054611908, -87.8946338063788 43.0354021641182, -87.89460927744 43.035396755516, -87.8945857650913 43.0353893082013, -87.8945635802538 43.0353799188794, -87.894543020497 43.0353687155242, -87.8945243580802 43.0353558481525, -87.8945078474065 43.0353414862602, -87.8944937039817 43.0353258238357, -87.8944821183117 43.0353090679111, -87.894473247098 43.0352914447019, -87.8944672038271 43.0352731877277, -87.8944640734289 43.0352545398835, -87.894463896299 43.0352357540447, -87.8944789236475 43.0351703767309, -87.8944955702031 43.0351174790761, -87.8945131375931 43.0350596171671, -87.8945412045924 43.0349508733123, -87.8946148694612 43.0345937456081, -87.8946286596992 43.0345239295408, -87.8945760406951 43.0342803971016, -87.8945769128801 43.0342576569968, -87.8945777669716 43.034175875625, -87.8945758772335 43.0340941046623, -87.8945712359019 43.0340123916884, -87.89456385349 43.0339307882233, -87.8945537295627 43.0338493428829, -87.8945408747262 43.0337681044871, -87.8945252933282 43.0336871253417, -87.8945069973249 43.0336064506893, -87.8944935967749 43.0335580858384, -87.8944483727658 43.0332988819145, -87.8944199722291 43.0332306930537, -87.8943899793628 43.0331628708876, -87.8943584032728 43.0330954362939, -87.8942804313166 43.0329369041574, -87.8940038358558 43.0323779126069, -87.8939796323779 43.0323353076287, -87.8939324670635 43.0322679100243, -87.8938945878901 43.032202501574, -87.8938498899497 43.0320941708976, -87.893792455717 43.0319732986002, -87.8937644989655 43.0318912949015, -87.8937400537971 43.0318045919632, -87.8937258137491 43.031740530038, -87.8937115229715 43.0316561934521, -87.8936970973953 43.0315228273547, -87.893694045596 43.0314626538025, -87.8936940630463 43.031372477274, -87.8936977527686 43.0313054474273, -87.893706817246 43.0312214526768, -87.8937082813679 43.0312078748505, -87.8937161508981 43.0311523501173, -87.8937324267026 43.0310510228911, -87.8937471347365 43.030967566734, -87.8937566078004 43.0309165181536, -87.893777264113 43.0308109147976, -87.89379471785 43.0307294896115, -87.8938120293365 43.0306571158509, -87.8938399805904 43.0305498935753, -87.8938537063703 43.0304998845737, -87.8938703853714 43.0304413165505, -87.8938996723152 43.0303471674889, -87.8939326869828 43.0302573295297, -87.8939496492081 43.0302164885769, -87.8939649497352 43.0301824152593, -87.8940024612747 43.0301087373064, -87.8940410671551 43.0300468395457, -87.8940750976841 43.0299988689642, -87.8941047280904 43.0299589866678, -87.894161449712 43.0298825967345, -87.8942097260009 43.029824910317, -87.8942807381979 43.0297434552978, -87.8943539075787 43.0296637600666, -87.8944099652248 43.0296046851501, -87.8944584428784 43.0295549371631, -87.8945251165028 43.029489326156, -87.8945724289286 43.0294466115938, -87.8945948888481 43.0294283621235, -87.8946248588928 43.0294065923161, -87.8946649232585 43.0293816795983, -87.89469653916 43.0293645127624, -87.8947370653841 43.0293450815325, -87.8947472550472 43.0293406662465, -87.8947892556523 43.0293241158448, -87.8948059625894 43.0293183166062, -87.894826844831 43.029311670832, -87.8948477640105 43.0293055209878, -87.894868545312 43.0293000250168, -87.8948890819625 43.0292950755887, -87.8949159153756 43.0292893720379, -87.894948583972 43.0292832731967, -87.8949927629871 43.0292757171771, -87.8950525284506 43.0292648182633, -87.8951133526425 43.0292497239016, -87.8951532574992 43.029236895752, -87.8951671341737 43.0292310908728, -87.8951870417661 43.0292203425273, -87.8952082824595 43.0292089120089, -87.8952403088136 43.0291922586818, -87.895267802462 43.0291748883928, -87.8953120469866 43.0291396625267, -87.8953530097662 43.0290950768934, -87.8953770227479 43.0290640308728, -87.8954046091085 43.0290214108508, -87.8954154143926 43.0290056251732, -87.8954219900275 43.0289920168137, -87.8954309516154 43.0289377683414, -87.895438512524 43.028916390202, -87.8954467186348 43.028898556488, -87.8954575376876 43.0288799787554, -87.8954731829995 43.0288585422992, -87.8954852307302 43.0288439592146, -87.895504373949 43.0288315911551, -87.8955249726438 43.0288232615616, -87.8955462641682 43.0288171274917, -87.8955662564267 43.0288115483535, -87.8955828995163 43.0288092406815, -87.8956125131481 43.0288054154666, -87.8956586681457 43.028797136698, -87.8956898830948 43.0287909684154, -87.8957251461372 43.0287837251901, -87.8959196340974 43.0287387984598, -87.8958453215268 43.0259620161562, -87.8952765615325 43.0259895904555, -87.8952712312683 43.0258908956642, -87.9014974537059 43.0256489102378, -87.9019138211444 43.0256665840823, -87.9020716050894 43.0257328227548, -87.9025214951439 43.0262642148668, -87.9045992349755 43.0285845312282, -87.9066960542253 43.0300814068203, -87.9070511715865 43.0302876283849, -87.9073118439894 43.030051719605, -87.9076658328925 43.0297306517531, -87.9068274790034 43.029005798025, -87.9059352753945 43.0282693473021, -87.9053120927811 43.0276337436292, -87.9040409257394 43.0261042047176, -87.9038376811073 43.0254228163374, -87.9038274909182 43.0252181691888, -87.9038240649972 43.0251493610363, -87.903968731576 43.0248343246086, -87.9040694228797 43.0245887798051, -87.9046203390209 43.0240985150312, -87.9056222155999 43.0230167333597, -87.9059208668948 43.022192962588, -87.9058252193546 43.0221927768522, -87.9060125685162 43.0213700911825, -87.9056948447982 43.0208410456378, -87.9056097518967 43.0207102834535, -87.9055220292274 43.0205804587258, -87.9054316990889 43.0204516015741, -87.9053387789664 43.0203237393279, -87.9052432912188 43.0201969003068, -87.9051452557827 43.0200711118851, -87.9050446937897 43.0199464023597, -87.9049416264631 43.0198227973274, -87.9048360798391 43.0197003251756, -87.9047280726252 43.0195790132553, -87.9073918419167 43.0195856046671, -87.9073994247117 43.0193638615069, -87.9044596316379 43.0193380156707, -87.9033990297067 43.0182510111322, -87.9035127096451 43.0181256413058, -87.9036500154172 43.018062082006, -87.907598683618 43.0180499322725, -87.90758777845 43.0178042406667, -87.9030220914176 43.0178289811934, -87.9029150350307 43.0177609106797, -87.9028061532535 43.0171829487417, -87.902930307935 43.0169397478461, -87.9040652202439 43.0148661380538, -87.9044351647006 43.0141501194899, -87.9035679274205 43.0139101599959, -87.9031010835749 43.0137754378664, -87.8972683161025 43.0084433717707, -87.8970913139616 43.0085392360077, -87.8990547765385 43.0130239518438, -87.8992700895284 43.013503593461, -87.8992476837637 43.0135146141002, -87.9015972753557 43.016750057004, -87.9007330931527 43.0167514208311, -87.903306146343 43.0210312598717, -87.9027300800787 43.0211292132512, -87.9027083245325 43.0213884634009, -87.9027999354899 43.021531782471, -87.9032014919535 43.0218318900567, -87.9035935845112 43.02203268364, -87.9034741088152 43.0221390597562, -87.9034822332517 43.0221836208102, -87.9034941028736 43.0222358957866, -87.9034966655356 43.0223116161222, -87.9034804259003 43.0223340178345, -87.9020142771485 43.0238623965267, -87.9019736766598 43.0238951582689, -87.9019310397561 43.0239264966085, -87.9018864547312 43.0239563420376, -87.9018400220524 43.0239846279742, -87.9017918395184 43.0240112940904, -87.9017420159368 43.024036281162, -87.9016906549932 43.0240595361735, -87.9016378737733 43.0240810090584, -87.9015837844574 43.0241006496596, -87.9015285025043 43.0241184195867, -87.9014721520829 43.0241342770083, -87.9014148546006 43.0241481890471, -87.9013567363405 43.0241601238161, -87.9012979221127 43.0241700566052, -87.9012385378307 43.0241779663266, -87.9011787179322 43.0241838338511, -87.901118589249 43.0241876471131, -87.8983822999605 43.0245287184131, -87.8952106636911 43.0249271439037, -87.8947012147904 43.0249417268351, -87.8946743302809 43.024923572728, -87.8946439260146 43.0249078746844, -87.8942020014709 43.0229024666697, -87.8973605247343 43.0201133677337, -87.897027105636 43.0193531675263, -87.8947686188821 43.0213321438838, -87.8947371967184 43.0213500787457, -87.8946815347902 43.02134904762, -87.8946704242771 43.0213373547029, -87.8946430811844 43.0213078562418, -87.8942643689909 43.0205273873908, -87.8942644818512 43.0205014969178, -87.8942690044602 43.0204889356369, -87.8942763621674 43.0204771175355, -87.8967031881615 43.0183508929299, -87.8962780458174 43.017401495405, -87.8939055925024 43.0195180028956, -87.8938296546272 43.0195414435989, -87.8937646386701 43.0195043122994, -87.8930418350643 43.0180767288881, -87.8930427821196 43.0180492933811, -87.8930575121688 43.0180259061321, -87.8955351264966 43.0158727554478, -87.8938366092837 43.012309970401, -87.8913245095566 43.0144858656712, -87.8912167796494 43.0144724208205, -87.8911712221532 43.014417430082, -87.8937625420852 43.0121101651748, -87.8929852412528 43.0103610140971, -87.8926272359944 43.0095638057487, -87.8919618886251 43.0081450818315, -87.8917431694216 43.0075834642557, -87.8915956731154 43.0071795328874, -87.887802879368 43.0081391479954, -87.8876496871429 43.0081269002373, -87.8844859863251 43.0049543739914, -87.8843757566113 43.0049099810525, -87.8843708479128 43.0047904205, -87.8857216109939 43.0038996374582, -87.887885068978 43.0023005195528, -87.8866382417979 43.0013404524279, -87.886831528635 43.0012037628194, -87.8873615026569 43.0008483073501, -87.8877263405086 43.0006014531186, -87.887804815622 43.0005256322135, -87.8877072648303 43.0004328849453, -87.8876053905462 43.0004649001875, -87.8875152522406 43.0005217943875, -87.8871064332744 43.0008060337, -87.8858096425127 42.9994803844466, -87.8857662689072 42.9993086747391, -87.8857857390349 42.9991904583422, -87.8857768657791 42.999106999483, -87.885721448045 42.9990263699308, -87.8852087625103 42.9985769137536, -87.8846100522948 42.9980914543015, -87.8843132289496 42.9979075556115, -87.8841028589608 42.9977988278547, -87.883933171499 42.9977278498443, -87.8837126031355 42.9976713371187, -87.8834342297203 42.997626101466, -87.8832290614247 42.9976099466825, -87.882963444446 42.9976419902736, -87.8827644310143 42.9976906834949, -87.8826505031006 42.9977070567365, -87.8823337753101 42.9973959725285, -87.8823445137037 42.9973283553303, -87.8824065594931 42.9972339518579, -87.8825858935604 42.9969043706223, -87.8826082731067 42.9967837334832, -87.8824964210571 42.9965699022135, -87.88221092827 42.9964427073945, -87.8820850679095 42.9962715995426, -87.8820526777965 42.99609595165, -87.8818961567854 42.9959443641884, -87.8817973646677 42.9959994329539, -87.8816048999161 42.9957655810934, -87.8815094250639 42.9956407463362, -87.8813875423621 42.9954298046088, -87.8812675764299 42.995256837258, -87.8811830002091 42.9951188820552, -87.8809996382532 42.9949115341197, -87.8808118156693 42.9947396731812, -87.8806908592898 42.9945320724512, -87.8805903449324 42.9943570971616, -87.8803730421065 42.9941040614285, -87.8802140232319 42.9939398488279, -87.8800509605305 42.9937992754159, -87.8798682023088 42.9936678179535, -87.8797337507099 42.9935928355456, -87.8796781017734 42.9935588574607, -87.8795916558255 42.9935506568637, -87.8794911269355 42.9936036786173, -87.8793900633523 42.993672063207, -87.8793168129489 42.9937146154676, -87.8792030879592 42.993716883889, -87.8791236810699 42.9936780721502, -87.8790543073435 42.9936087009762, -87.8790144411447 42.9935508629086, -87.8789721184714 42.9934776051514, -87.8789356213647 42.99340884777, -87.8787895206387 42.9932264577674, -87.8786456326831 42.9930634654916, -87.8785445718611 42.9929677333235, -87.8784265190803 42.9928359672595, -87.878337595941 42.9927267059337, -87.8782542679718 42.9926285258332, -87.8781733990625 42.9925457645106, -87.8780850626543 42.9924420392443, -87.8780008228231 42.9923701943125, -87.8779395825338 42.9923251304893, -87.8778814843534 42.9922757337153, -87.877817177099 42.9922328069831, -87.8777909634288 42.9922125536086, -87.8777268856202 42.9921630459343, -87.8776715434479 42.9921202857138, -87.8775955098817 42.9920705545792, -87.8775157774697 42.9919907594458, -87.8773854525073 42.9919204886871, -87.8770785051098 42.9917833208824, -87.8765563243264 42.9915276568033, -87.8764650553356 42.9914962691065, -87.8762891716269 42.9914081875667, -87.8761186164316 42.991332924596, -87.8760449497252 42.9912933876983, -87.8759425880143 42.9912490774339, -87.875760642971 42.9911693596828, -87.8755851998737 42.9910685624324, -87.8751427598595 42.9908440608528, -87.8749048981149 42.9907124187614, -87.8748935099064 42.9907079671603, -87.8747734198595 42.9906474766497, -87.8747643154809 42.9906359621089, -87.8747721831051 42.99062589071, -87.874882693751 42.9905004112815, -87.8748551705185 42.9904870492521, -87.8748334323079 42.9904737171096, -87.8748029994518 42.9904570346027, -87.8747899640031 42.9904503541085, -87.8747624286485 42.9904369891276, -87.8747377926196 42.9904247328448, -87.8747189489181 42.9904141688717, -87.87469575728 42.9904030255789, -87.8746696654882 42.9903907627534, -87.8746500896827 42.9903785326963, -87.8746341209735 42.9903641243418, -87.8746166913783 42.9903442020485, -87.8746007414919 42.9903352950498, -87.8745804209557 42.9903186531196, -87.8745644415034 42.9903003851128, -87.8745484715962 42.9902870726025, -87.874538295143 42.9902737937586, -87.8745150695124 42.9902571298723, -87.8744983772213 42.9902449105222, -87.8744823969624 42.9902293880398, -87.8744591714575 42.9902127214424, -87.8744402928208 42.9901993860019, -87.8744228722267 42.9901871584141, -87.8744112529259 42.9901782720947, -87.8743923690358 42.9901643818542, -87.8743764028165 42.9901532620468, -87.874358968592 42.9901421345756, -87.8743430007516 42.9901332172978, -87.8743263056526 42.9901242963129, -87.8743132344593 42.9901153981203, -87.8742958004132 42.9901042661399, -87.8742798127277 42.9900909388493, -87.8742536565282 42.9900698311415, -87.8742304034438 42.990051489093, -87.8742100503921 42.9900359306576, -87.8741926108081 42.9900236873692, -87.8741751801366 42.9900147561965, -87.8741548306247 42.990001393178, -87.874123580592 42.9899802423318, -87.8741090349187 42.9899691220575, -87.8740915846744 42.989955773669, -87.874075600072 42.9899468470334, -87.8740523423034 42.9899340130723, -87.8740305291008 42.9899195303575, -87.8739941882308 42.9899016420662, -87.8739563683583 42.9898749131178, -87.8739265508039 42.9898559627771, -87.8739003772064 42.9898430994193, -87.8738756352431 42.9898263808993, -87.8738523535102 42.9898107774822, -87.8738305180646 42.9897940764376, -87.8738130425007 42.9897807185254, -87.8737926589605 42.9897651252225, -87.8737751845501 42.9897528650064, -87.8737526137397 42.9897350524999, -87.8737336924908 42.9897244364776, -87.8737162160856 42.9897110686287, -87.8736958296174 42.9896976805194, -87.8736783526721 42.9896865188215, -87.8736637866255 42.9896764840804, -87.8736448363217 42.9896586870997, -87.8736273494512 42.989644208753, -87.8736040256507 42.989624168748, -87.8735683049718 42.9895935510837, -87.8735391512643 42.9895701503026, -87.873505624547 42.9895467180712, -87.8734866793011 42.9895344293717, -87.8734590107611 42.9895231884935, -87.8734284167316 42.9895074976109, -87.8734036152592 42.9894868842084, -87.8733751806192 42.9894678938726, -87.8733474798827 42.9894511180347, -87.8733226879937 42.9894343624344, -87.8733066201612 42.9894176675174, -87.8732862048313 42.9894053629643, -87.8732614295268 42.989395229765, -87.8732439240458 42.9893840467517, -87.8732351340196 42.9893701697114, -87.8732118177378 42.9893611506946, -87.8731906565585 42.9893466241897, -87.8731687558255 42.989328775482, -87.8731439310059 42.9893097923455, -87.8731176722012 42.9892952262041, -87.8731001479191 42.9892829262245, -87.8730782570186 42.9892694927192, -87.8730607376937 42.9892588515041, -87.8730300762476 42.9892387162958, -87.8730132688618 42.9892242118528, -87.8729957486935 42.9892141253049, -87.8729796788696 42.9892018354331, -87.8729650585591 42.989189555594, -87.872940215131 42.9891694518694, -87.872918311975 42.9891571148828, -87.8728978649766 42.9891453382435, -87.8728759639657 42.9891341052729, -87.8728511125235 42.9891162111474, -87.8728321024393 42.9891005704457, -87.8728182115915 42.9890893974264, -87.8727992190115 42.9890792913763, -87.8727773118065 42.989069155951, -87.8727597807071 42.9890601632396, -87.8727466154552 42.9890501014813, -87.8727290802698 42.9890405557958, -87.8727071273904 42.9890215669146, -87.8726837402351 42.9890080972026, -87.8726603416122 42.9889924156999, -87.8726325757021 42.9889789044882, -87.8726142805352 42.9889643667148, -87.8725938087724 42.9889531298406, -87.872570396605 42.9889368861674, -87.8725513833015 42.9889245546079, -87.8725338118664 42.9889100168693, -87.8725206158139 42.9888955124547, -87.8725044954815 42.9888798798968, -87.8724883814115 42.9888642438519, -87.8724693360238 42.9888474705255, -87.8724466063066 42.9888229192027, -87.8724114379992 42.988791613631, -87.87237628753 42.988766397406, -87.8723499162128 42.988745125822, -87.8723206090897 42.9887216110787, -87.8723022770066 42.9887037272892, -87.8722612230239 42.9886679197899, -87.8721662832105 42.9886111104264, -87.87203257871 42.9885536836972, -87.8718998624703 42.9884677914349, -87.8717599906117 42.9884285573208, -87.87158924023 42.9883216111461, -87.8713755581864 42.988254546401, -87.8712696751298 42.9881935672755, -87.8711833741809 42.9881268552318, -87.8710924695981 42.9880664709311, -87.8710565933319 42.9880436710634, -87.8710281311243 42.988021067782, -87.8709878331525 42.9879984767666, -87.8709570123897 42.9879863126133, -87.8709214498838 42.9879671916289, -87.8708929999671 42.9879498113105, -87.8708550656475 42.9879289511466, -87.8708313525368 42.9879133083788, -87.8708028958279 42.9878941845855, -87.8707768203433 42.9878785416445, -87.8707507387743 42.9878628976828, -87.8707246614688 42.9878507296371, -87.8706962071173 42.9878316103624, -87.8706606417614 42.9878090133972, -87.8706321896655 42.9877916293678, -87.8705989963709 42.9877759871152, -87.8705729144518 42.9877568636599, -87.8705468321548 42.9877394799135, -87.8705136461709 42.9877238404735, -87.8704875598316 42.9877081963594, -87.8704519974767 42.9876890797272, -87.8704188055079 42.9876682173775, -87.8703832382648 42.9876438814643, -87.8703547834143 42.9876230187665, -87.8703121077831 42.9876004225418, -87.8702812896908 42.9875830417831, -87.8702504635319 42.9875639184405, -87.8702267532304 42.9875482737924, -87.8701983066678 42.9875343700987, -87.8701722253926 42.987518726004, -87.8701461420532 42.9875013430422, -87.8701129498208 42.9874822221177, -87.870082126436 42.9874613644598, -87.8700536746651 42.9874439802853, -87.8700181147034 42.9874266014782, -87.8699896593519 42.9874092154189, -87.869958840538 42.9873900975343, -87.8699280194796 42.9873709741961, -87.8698971934746 42.9873518525573, -87.8698548580064 42.9873262576396, -87.8697807958481 42.9872812729084, -87.8696581473911 42.9872110594506, -87.869570886765 42.9871460723458, -87.869506089802 42.9871024840617, -87.8694514191031 42.9870880630591, -87.8694057075628 42.9870487804111, -87.8693047284632 42.9870008141216, -87.8691860347083 42.986946240879, -87.8690681041597 42.9868882816229, -87.8690341115121 42.9868593652637, -87.8689196844511 42.9868171579029, -87.8688309597436 42.9867536060099, -87.8687847570332 42.9867097403561, -87.8687704111435 42.9867011759676, -87.8690860818043 42.9864846501574, -87.8697550846881 42.9860276293046, -87.8698115673497 42.9860751956246, -87.8701300659506 42.9858580240026, -87.8708970329072 42.9865052845165, -87.8713913171167 42.9867614553276, -87.8745045268673 42.9850434747408, -87.8746001566064 42.9809349700943, -87.8746221105788 42.9809350594784, -87.874632308918 42.9805024407694, -87.8802219457193 42.9805362578458, -87.8802223773878 42.9804947305897, -87.8820354010402 42.9805054725939, -87.8819698343239 42.9804299795723, -87.8824450243574 42.9802120553125, -87.8827457730582 42.9805535800087, -87.886719543531 42.9805738010005, -87.8867202104559 42.9805408605893, -87.886877761404 42.9805416562305, -87.8868769167826 42.9805745951357, -87.8888067585857 42.9805843642906, -87.8888330271658 42.978741013896, -87.8870729988753 42.9787328089302, -87.8870957811429 42.9766172482938, -87.8864590344749 42.9766141394205, -87.8864907963726 42.9737132523547, -87.8863173921904 42.9737124210109, -87.8863315622344 42.9728056105423, -87.8865099473821 42.9728063374132, -87.8865106545926 42.9718988612465, -87.8883889375898 42.9719073956185, -87.888386618342 42.9732722438792, -87.889286545455 42.9732765634803, -87.8892986778448 42.9717667102057, -87.8907285151335 42.9717702030486, -87.8907332684991 42.9711551730782, -87.8895495576758 42.9711527915032, -87.8895528141683 42.9707487143507, -87.8907367159924 42.9707904052143, -87.8907371143713 42.9707406623997, -87.8929131014287 42.9708219137959, -87.8929090545989 42.9714451301628, -87.8918344183542 42.9714427253551, -87.891821484303 42.9732872576391, -87.8940069700264 42.9732829954567, -87.894050695382 42.9664545614546, -87.8940552125295 42.9661492249549, -87.8896154756639 42.9642773772983, -87.8896817225815 42.9591578194196, -87.8832503404951 42.9591276665437, -87.8832702730546 42.9564057395455, -87.8840765472084 42.9518366582223, -87.8853101066539 42.944576806242, -87.8857103268858 42.9423085210796, -87.8856545578771 42.9423021901012, -87.8865652614371 42.9373097048627, -87.8878455882181 42.9300336705714, -87.8878853643757 42.930034486557, -87.889132628198 42.9226881122232, -87.8906774178946 42.9226947961773, -87.890321795621 42.9300337260828, -87.8987503723911 42.9300698686397, -87.9098832099637 42.9301317526143, -87.9193220166814 42.9301751821538, -87.9302527544884 42.9302662093333, -87.9304502860263 42.9250142276931, -87.9305973148284 42.9208326457741, -87.9404963104535 42.920899442567, -87.9403645675261 42.9242830708753, -87.9401494206882 42.9303097707749, -87.9493809423421 42.9303720314639, -87.9492423706357 42.9376167348426, -87.9587891907971 42.9376296431531, -87.9603811740208 42.9376320753455, -87.9640684285895 42.9376378350149, -87.9640526133791 42.9383660127655, -87.9646770945296 42.9383642792594, -87.9645008383998 42.944885522339, -87.9632751905517 42.9448825441023, -87.9633283186558 42.9432869401327, -87.9627605121789 42.9432854999349, -87.962764101951 42.9431544842693, -87.9623707091018 42.9431534917953, -87.9622920404544 42.9430948411878, -87.9620318351949 42.9432836466269, -87.9619314128399 42.9432833922781, -87.9616892352728 42.9430949976962, -87.9616078989632 42.9431515650451, -87.9614727040859 42.9431512224795, -87.9614684334567 42.943282210617, -87.9602189748687 42.9432790169923, -87.9601726471672 42.9448749475485, -87.9580465788659 42.9448708627053, -87.9580598617557 42.9442284048532, -87.9571777007976 42.944228366066, -87.9571870967623 42.9436935417482, -87.9490824339622 42.9436865433217, -87.9490642043182 42.944378305256, -87.9488863349788 42.9516198030963, -87.9487237560438 42.9594049369518, -87.9485777694389 42.9674362527602, -87.9484527631134 42.9739355523995, -87.9538916771362 42.9739266604216, -87.953873868821 42.9750272278374, -87.9560784327891 42.974992261047, -87.955963433578 42.9751178334282, -87.9532056487296 42.9771538238032, -87.9541359177156 42.9778251823656, -87.9539244782804 42.9779815858384, -87.9539150478542 42.9785264167157, -87.9533040935187 42.978531161364, -87.9532649436843 42.9807027206762, -87.9538774574561 42.9806985298164, -87.9538838946171 42.9803267774547, -87.9545569090685 42.9803221124803, -87.9545540192539 42.9804866222575, -87.9551092477252 42.9804827914689, -87.955107646039 42.9805650624377, -87.9557809905286 42.9805604249221, -87.9557769081679 42.9807671877692, -87.95633541316 42.9807633648951, -87.9563413344938 42.9804747955066, -87.9569027649058 42.980470912676, -87.9569174956755 42.9797595464579, -87.9570859965054 42.9797583526553, -87.9570848569724 42.9798132103723, -87.9576018522837 42.9798095577048, -87.9576433863395 42.9778369159333, -87.9581493664197 42.9778359642377, -87.9581801236598 42.9763976925444, -87.9601209653801 42.9763890476835, -87.9601381393069 42.9751946408177, -87.9647999183378 42.9751863937466, -87.9648337414668 42.9738182987671, -87.9677517738178 42.9738126991907, -87.9677585636145 42.9734250301282, -87.9673156648087 42.973425391865, -87.9673296467395 42.972708773977, -87.968343017414 42.9727002588644, -87.9683055260341 42.9744157498958, -87.9688795881349 42.9744163705154, -87.9688777608433 42.9744854097, -87.9699662312984 42.9744848320938, -87.9699445102 42.9750793181776, -87.9705703628217 42.975079143285, -87.9705509042835 42.9761001560199, -87.9706626666707 42.9761004603665, -87.9706145700947 42.978621838087, -87.9681948114499 42.9786161246278, -87.9679410558116 42.9857042860347, -87.9685910304591 42.985708376818, -87.968583311524 42.9861762997544, -87.9691683909273 42.9861792147732, -87.9691701329397 42.9860633029058, -87.970636823761 42.9860705009461, -87.9714315522684 42.9855884554652, -87.9718341359992 42.9859461768407, -87.9698935016231 42.9871248006208, -87.970259764655 42.987454930565, -87.9704945236671 42.9874595153152, -87.9704082593486 42.9875118515166, -87.9703965112193 42.9878740568916, -87.970803617524 42.9878766968122, -87.970823446745 42.9872599432824, -87.9711282562376 42.9870749996513, -87.9711132417565 42.9875253278322, -87.9716649642363 42.9875196199173, -87.9716534332714 42.9878693840419, -87.9722608850328 42.9878709201734, -87.9722817931596 42.9870148767839, -87.9716816450547 42.9870136439263, -87.9716656357857 42.9874991988838, -87.9714124751841 42.9875018219849, -87.9714327433199 42.986890253877, -87.9761179435202 42.9840472495358, -87.9757651345835 42.983751052524, -87.9759389927852 42.9836433200052, -87.9759145719789 42.9836228218825, -87.9759999721794 42.9835698980847, -87.9760243979557 42.9835903944766, -87.9770322429171 42.9829658531445, -87.97739555605 42.9832719094937, -87.980151071871 42.9816012436665, -87.9801534545867 42.9806727676188, -87.9810903785772 42.980679048894, -87.9811433325629 42.9770272746112, -87.9804322995664 42.9770283417422, -87.980445070755 42.9764515531231, -87.97995393921 42.9764536964774, -87.9799478465727 42.9768079435954, -87.9799105143332 42.9768076964494, -87.9798992945216 42.9776262445104, -87.9780416470577 42.9776241254569, -87.9780746513661 42.9757247583831, -87.9756089210035 42.975719186493, -87.9755607901179 42.9786333582844, -87.9736712624419 42.9786289809781, -87.9737037752062 42.9785644702097, -87.9737430797324 42.9784843848571, -87.9737731779519 42.9784054832131, -87.9737998402573 42.9783197857921, -87.973817296221 42.9782352747904, -87.9738289475649 42.9781309772789, -87.9738255507578 42.9772298079299, -87.9738252159588 42.9771169403865, -87.9738008726461 42.9770146182852, -87.9737617569701 42.9768800143882, -87.9736952206531 42.97673618595, -87.9736008775034 42.9765947742564, -87.9734670468115 42.9764497439805, -87.9733159955109 42.9763306183358, -87.9735066024558 42.9761662829122, -87.9734582696378 42.9761267046521, -87.9735800435748 42.9760216798788, -87.9731773364856 42.9756927325501, -87.9729670387529 42.9758797215677, -87.9727867536882 42.9760748628851, -87.9726224867526 42.9760246603973, -87.9724141228924 42.9759622787585, -87.9721332416381 42.9758985991359, -87.971931073942 42.9758683256665, -87.9716346296578 42.9758363661947, -87.9713483565573 42.9758259193274, -87.9709851483607 42.9758380951104, -87.9706669784491 42.9758742962987, -87.9706837204326 42.9749967921974, -87.9701577694161 42.9749969435062, -87.9701765007769 42.974484721461, -87.9703936168926 42.9744846013388, -87.9703955279956 42.9739041377894, -87.9723819107092 42.9739061549688, -87.9723831334378 42.9733927720195, -87.9731867226459 42.9733913963993, -87.9731963772887 42.9729991216089, -87.9733455378552 42.9729991436198, -87.9733269226437 42.9737561760907, -87.9748245818467 42.9737576629872, -87.9748439986776 42.9730058305852, -87.974016644624 42.973005298212, -87.9740721087193 42.9708338351441, -87.9775664601069 42.9708304596134, -87.9776944705836 42.9666531562228, -87.9784879864209 42.9666512077496, -87.9784615891123 42.9675598976157, -87.9832582291309 42.9675463875751, -87.9832946232974 42.9666409315127, -87.9882576319966 42.9666301068677, -87.9881198063249 42.9702729283695, -87.9845665597004 42.9702808882209, -87.9843187069464 42.9702947040557, -87.9831838081746 42.9703579587823, -87.9830659062723 42.9739044885404, -87.9836622542172 42.9739035997183, -87.983590297304 42.9795282053113, -87.9818749151909 42.9805661912381, -87.9822442855242 42.9809666660246, -87.9825922609607 42.9807598133347, -87.98246020701 42.9806145529422, -87.9841761861119 42.9805985492054, -87.9841846489281 42.9801856514315, -87.983970420751 42.9801838145237, -87.9839772250163 42.9798221569897, -87.9841920556233 42.9798240217079, -87.9841932104544 42.9797677768266, -87.9843784144429 42.9797710035799, -87.984381495526 42.9795157957412, -87.984707707181 42.9795146414196, -87.9854406077351 42.9790772773269, -87.9854434411573 42.9788941432546, -87.9860225326824 42.9788905453011, -87.9860291683403 42.9780523320864, -87.9849605415874 42.9786990224787, -87.9850284828441 42.9739015449402, -87.9839578430944 42.9739031577644, -87.9839708657291 42.9733991011082, -87.9837345998772 42.9733994176699, -87.9838190930884 42.9707134248406, -87.9843861800108 42.9707122653469, -87.9843928942372 42.970498963016, -87.9850445805128 42.9704966878881, -87.9850420249658 42.9705652737834, -87.9855762396886 42.9705634026075, -87.9855785516972 42.9704948213949, -87.9881481792902 42.9704881318795, -87.9881618326376 42.9701500064453, -87.9882169623959 42.9701494010825, -87.9882378561801 42.9695971335112, -87.9895948418224 42.9695830982795, -87.9896903094782 42.9696616289813, -87.9897554873977 42.9697098870254, -87.989831978126 42.9697606495383, -87.9899066795774 42.9698049232205, -87.9900197004658 42.9698642957949, -87.9901164396728 42.9699094132419, -87.9902383442527 42.9699573261694, -87.9903138442778 42.9699834814143, -87.9907228082868 42.9701219145312, -87.99138844404 42.9701146020975, -87.9913868953768 42.9702453168105, -87.9927729404644 42.9702400784026, -87.992699311694 42.9720858292696, -87.9901245570951 42.9721058119677, -87.9900603723804 42.9738805582397, -87.992870673631 42.973860788859, -87.9989573259059 42.9700316676668, -88.0080805076463 42.9699326126465, -88.0147678325859 42.9698586199408, -88.0147763599216 42.9703169093295, -88.0146878737425 42.9703169926659, -88.014699468245 42.9719591983459, -88.014640638806 42.9719594479134, -88.0146459194693 42.9723780629721, -88.0148012476154 42.972377329751, -88.0147693568242 42.9737389815547, -88.018498208454 42.9737279003975, -88.0274918948058 42.9736962245801, -88.0365747421212 42.9736368078312, -88.0376807081106 42.9736294328446, -88.0374926615381 42.9808857618794, -88.0372941395664 42.9881059823347, -88.0359359777478 42.9881188555451, -88.0274645955831 42.9881987810763, -88.0257952596215 42.9882051845386, -88.0161719804745 42.9882417032311, -88.0079863153348 42.988272541206, -88.0076448126074 42.9882738131913, -88.0072013365298 42.9882773081708, -88.0060119472906 42.9882866722509, -88.0020710572115 42.9883176103928, -88.002056815131 42.989172482546, -88.0019435020918 42.9955715772832, -88.0019159528516 42.9972292972552, -88.0018953481498 42.9990001465015, -88.0000489913979 42.9990121723607, -88.0000509693712 42.9988381083664, -87.9981349754065 42.9988476704539, -87.998132011679 42.9990270657721, -87.9975161101471 42.9990329190257, -87.9975172318203 42.9987989189476, -87.9957561850194 42.9987993941657, -87.9957554711895 42.9988476525689, -87.995008685803 42.9988510164932, -87.9950080068604 42.9988864676008, -87.9944571984651 42.9988897188912, -87.9944573751785 42.9988806923561, -87.994366199948 42.998881099761, -87.9925762797841 42.9988891316971, -87.9903270690922 42.9988991812506, -87.9901265841262 42.9989000755352, -87.9901269396087 42.9988744506478, -87.9895243711455 42.9988779869035, -87.9895266963526 42.99876740022, -87.9890326604928 42.9987702981201, -87.9888083074785 42.9987405873376, -87.988286922802 42.9987429095831, -87.9883068016396 42.9977614946973, -87.9882499359553 42.9977516417313, -87.987575989494 42.997753523462, -87.9875817000131 42.9975055355259, -87.9873749738457 42.997505056394, -87.9869985074009 42.9975172739835, -87.9867272911371 42.9975523963351, -87.9862891939419 42.9976661369235, -87.9858595529257 42.9978369808144, -87.9855322736643 42.9980400139361, -87.9853046506996 42.9982166295403, -87.9851462542438 42.998389493031, -87.9849703844142 42.9986293250637, -87.9848670870575 42.9988293261521, -87.9847151749754 42.9991144340311, -87.9845741955036 42.9992941294818, -87.9776412584169 42.9992823781125, -87.9775762705745 43.0029530711549, -87.9757857296196 43.0029521700501, -87.9775696455972 43.0035561073706, -87.9775663507349 43.0038555867548, -87.9685246520141 43.0007754371653, -87.968507301773 43.0030024215351, -87.9669500760801 43.003010401602, -87.9669529404288 43.0029212836002, -87.9654219973569 43.0029399725631, -87.9611398582138 43.0029921424019, -87.961066333745 43.0065959297173, -87.9610849879515 43.0065957088942, -87.9610193613579 43.0098129734249, -87.9627295214789 43.0097938946951, -87.9627306919112 43.0102135173096, -87.9663284064887 43.0101635604926, -87.9663225855948 43.011145519063, -87.9664129102489 43.0122588996861, -87.9627102735711 43.0123137245699, -87.9626974442368 43.0132509406981, -87.9665499308309 43.0132290154484, -87.9667036501483 43.014317942293, -87.9675112931505 43.0143123757161, -87.9674726110318 43.0168494662375, -87.9618411985306 43.0168776492588, -87.9616951033344 43.0213940379028, -87.9623933699563 43.0213530687883, -87.9624071828354 43.0241649456422, -87.9695139606136 43.0241542478851, -87.9695040840104 43.02309185374, -87.9696144740768 43.0207571733373, -87.9823290747978 43.0184997024578, -87.9824084766004 43.0241264236867, -87.9825911417988 43.0241214920816, -87.9829726146531 43.0240808685306, -87.9835334573168 43.0240381578112, -87.9840866146369 43.024011108771, -87.9847380167343 43.0240079037646, -87.987491242381 43.0240632602732, -87.9904208807013 43.0241261309739, -87.9974119581261 43.0242760413181, -87.9974125737588 43.0241499501076, -88.0072378441066 43.0242204181013, -88.0072395802798 43.0240923100512, -88.0085750281714 43.0240502337033, -88.0085811611582 43.0241839712464, -88.0172728446262 43.0239479104684, -88.0176902079474 43.0239413963272, -88.018140355215 43.023934372522, -88.0243038620534 43.0238379890492, -88.0243045679318 43.024298404185, -88.0251854470161 43.0242849177552, -88.0251786173596 43.0249351310665, -88.0273088856836 43.0249730087762, -88.0374857436737 43.025166656793, -88.0381532363451 43.0252044702073, -88.0390543169368 43.0252980798506, -88.0407092836383 43.0255238298699, -88.0419904427323 43.0257422536007, -88.043414822956 43.0261303940302, -88.0449001225068 43.0266458182628, -88.0459183586274 43.0310115643014, -88.0471732443888 43.031007313948, -88.0472147482258 43.0338634575758, -88.0470492142911 43.0350763504947, -88.0447989701903 43.0349063373401, -88.0422597757867 43.0347144413069, -88.0380177599286 43.034942001361, -88.0359526116677 43.035044014549, -88.0338060919178 43.0351618579133, -88.0314567191553 43.0354554721668, -88.0314670608362 43.036461132478, -88.0314947746791 43.0387850789322, -88.027424569655 43.038784646197, -88.0219302196925 43.0389232813984, -88.0218561562505 43.0359313722677, -88.0236300423525 43.0359076892382, -88.0235806083164 43.031175089566, -88.0173152633065 43.0313150882288, -88.0162458038808 43.0313456056441, -88.0162504663029 43.0317547008447, -88.0173268340119 43.0317366232927, -88.0173408343752 43.0326662256612, -88.0165876264577 43.0347701161987, -88.0161553015361 43.0359804479196, -88.0143461004619 43.036007680151, -88.0123413408436 43.0354375946962, -88.0113800488747 43.035192413701, -88.010391130807 43.0349881272259, -88.0096255885012 43.0349476374241, -88.0072984268736 43.0352335352339, -88.0041406032233 43.0355841350282, -88.0016731631768 43.0357207266652, -88.0016712732226 43.0353656820027, -88.0016955455308 43.0353656061063, -88.0016949241341 43.0352506262251, -88.0013297641022 43.0352495346681, -88.0013285295414 43.0341214523058, -87.9973917765598 43.034093099764, -87.9967647280345 43.0340919037232, -87.9967666256985 43.035151549781, -87.9968003662517 43.035151605907, -87.9968010613285 43.0355384178425, -87.9965258611551 43.0355378783059, -87.9965257563956 43.035494225595, -87.9959916055949 43.0354931950684, -87.9959913344656 43.0354163370938, -87.9955395776599 43.0354154819244, -87.9955408776217 43.0360430201848, -87.9951739389807 43.0360624736097, -87.9951757202288 43.0365093570167, -87.9949949280129 43.0365092866164, -87.9949941343434 43.0363061273704, -87.9945129007748 43.0363059837202, -87.9945146823512 43.0366470067533, -87.9933727260306 43.0366464455733, -87.9933704542662 43.0361579976427, -87.9917336718103 43.0362446426931, -87.9917357785054 43.0367552582923, -87.9910612966337 43.0367548707953, -87.9910618560062 43.036892550659, -87.9899343603472 43.0368918035749, -87.9899320265951 43.0363399890889, -87.9887195031263 43.0364041436608, -87.9887218589922 43.037028505354, -87.9880509225266 43.0370279997989, -87.9880497362612 43.036439571358, -87.9875076002217 43.0364718818373, -87.9875085854781 43.0370011873811, -87.9853468573141 43.037011891354, -87.9853468833766 43.037149086593, -87.9849797610834 43.0371509015418, -87.9849779330142 43.037694705837, -87.9847905547859 43.0376951544415, -87.9847888293291 43.0384075758256, -87.9842394133564 43.0384109561808, -87.9841585543678 43.0387872290711, -87.9845694744736 43.0387867720579, -87.9845690453661 43.0392311829703, -87.9843786100606 43.0392305322839, -87.984380605497 43.0396459140373, -87.9841212368453 43.0396455138354, -87.9840187769173 43.0396561246651, -87.9840231304434 43.0402574580955, -87.987516268206 43.0402640905984, -87.9875340228942 43.0460907403969, -87.9875460385368 43.0486739618811, -87.987566524106 43.0530770293426, -87.9875656357136 43.0540982730489, -87.9875486037593 43.0602565004201, -87.987536408791 43.061389270295, -87.9875058749412 43.0643623770865, -87.9892123029165 43.0643667898538, -87.9891795194181 43.0676228474636, -87.9893266289554 43.0676224245823, -87.9893266172146 43.0675937629125, -87.9921105337132 43.0675906426785, -87.9921251072983 43.0661959411319, -87.993555516173 43.0662009171088, -87.993534484607 43.0680373077475, -87.9962674240639 43.068035716301, -87.9971657375223 43.0680352102055, -88.0024421380738 43.068037131082, -88.0024203294573 43.0694631076714, -88.0074269231912 43.0694764475753, -88.0074411794851 43.0676271226487, -88.0080255350261 43.0676167006906, -88.0080246240368 43.0675730764328, -88.0174520937698 43.0674219820938, -88.0275238500885 43.0672837336257, -88.0275242981691 43.0672620017321, -88.0324718869825 43.067192140226, -88.0349866373277 43.0671565481742, -88.0371499193104 43.0671258845403, -88.0371418600379 43.0671853466322, -88.0371523913763 43.0672459344316, -88.0371624110353 43.0672836320692, -88.037190373215 43.0673454381101, -88.0372264003504 43.0673890760524, -88.0372788206875 43.0674275024607, -88.0373338207183 43.0674632324842, -88.0373774528429 43.0675033404834, -88.0374000584449 43.0675375941249, -88.0374077590411 43.0675697619057, -88.0374098230549 43.0676024888557, -88.0388255993574 43.0675820681763, -88.0388392681535 43.0687891178908, -88.036880381239 43.0688308581708, -88.036850124517 43.0691515499426, -88.0367660408378 43.0695373475028, -88.036710053723 43.0697119172003, -88.0365882569714 43.0699746588296, -88.0364347665216 43.0701783453412, -88.0362217388862 43.0704056367048, -88.0360326638572 43.0705663314043, -88.0358395865 43.070728361357, -88.0356232789263 43.070945108806, -88.0354832165793 43.0711277392428, -88.0353690907381 43.0713383745609, -88.035286018745 43.0715849854304, -88.0352270082942 43.0719721864951, -88.0352272433632 43.0721799639231, -88.0352518865257 43.072380563329, -88.0352843312172 43.0725534242053, -88.0353601512076 43.0728816000878, -88.0354151369154 43.073105525447, -88.0354608264189 43.0732963531021, -88.0355040876161 43.0735784318243, -88.0355282165399 43.0738067388025, -88.0355424713881 43.0740363186579, -88.0355495776652 43.0743050862775, -88.035542072729 43.0747956284993, -88.038372974205 43.074753406534, -88.0383874119691 43.075152065066, -88.0382940522268 43.0753162451027, -88.0377487273485 43.0755037527519, -88.0356184789709 43.0755165010787, -88.0356710381301 43.0756763297552, -88.0357274913724 43.0758068712203, -88.0357969306819 43.075943440891, -88.0358872209613 43.0760847752576, -88.0346020323718 43.0765472976611, -88.0345444833225 43.0764561271204, -88.0344654980545 43.0763331005706, -88.0343907948753 43.0761889881901, -88.0343186872773 43.076026009186, -88.0338645486681 43.0761303429034, -88.0340193251051 43.0764414920376, -88.0341070519504 43.07660197321, -88.0342342044403 43.0767972431207, -88.0343901885372 43.0769930109229, -88.0346130386332 43.0772401846674, -88.0347545217551 43.0773820952934, -88.0348333138774 43.0774520784606, -88.0349393783499 43.0775446890427, -88.0350545001595 43.0776377773731, -88.0346255889452 43.0779479785465, -88.0345557900434 43.0778926715636, -88.0341856774512 43.0781264681963, -88.0342644051926 43.078295910409, -88.0344880774376 43.0782951081964, -88.0347910681164 43.0784599443108, -88.0347890848163 43.0786998866598, -88.0354996422789 43.0786956118086, -88.0354993227061 43.0785849994278, -88.0354912804259 43.0785395625533, -88.0354624380949 43.0784970882053, -88.0354158941273 43.0784613062518, -88.0353720768377 43.0784395601888, -88.0352744911098 43.0783828978145, -88.0351294500576 43.0782966188841, -88.0349985444066 43.0782144871574, -88.034814006567 43.0780893670915, -88.035229825793 43.0777681756044, -88.0358612780695 43.0781533196448, -88.036872050701 43.0784118398457, -88.0368789151935 43.0786873011941, -88.0379092364564 43.0786902841105, -88.0379112949212 43.0788596378584, -88.0387392910356 43.0789137308322, -88.0389050604042 43.0795610018732, -88.0389210994 43.0822635035206, -88.0384086244955 43.0822665599016, -88.0383979011065 43.0837783639795, -88.037748999437 43.0837756902355, -88.0377471351929 43.084112156891, -88.0383955167918 43.0841148405326, -88.0383881581107 43.0851523423673, -88.0377413883175 43.0851496209218, -88.0377408009688 43.0852563520612, -88.0383874035374 43.0852590751116, -88.0383842687271 43.0857009284147, -88.0377383560379 43.0856981912048, -88.0377371216559 43.085920706097, -88.038382699533 43.0859230395228, -88.0383764930163 43.0867982283499, -88.0377322740824 43.0867954475523, -88.0377271283449 43.0877243589474, -88.0382531543237 43.0877248970321, -88.0382316863123 43.0891932126439, -88.0394747999219 43.0896823745835, -88.0477030020287 43.0896698296788, -88.0477033498459 43.0902296396776, -88.0433105078865 43.0902138452107, -88.0427028147041 43.0906618782242, -88.0426460080993 43.0969654791708, -88.0426603104304 43.0980623869689, -88.0376403844048 43.0980671893268, -88.0376410562349 43.0979970966227, -88.0309918925933 43.0980018001346, -88.0309965690842 43.09764500026, -88.030653597411 43.0969489247934, -88.0308770168873 43.096883921106, -88.0309974443302 43.0968148402289, -88.0348335934141 43.0946669267255, -88.0353599882899 43.0951637470648, -88.0363677182051 43.0951695910257, -88.0363498137981 43.0968465715824, -88.0369792669857 43.0968462756615, -88.0369826557445 43.0963536635659, -88.0374893653409 43.0963493994057, -88.0374901325964 43.0961215696076, -88.0369841524623 43.0961211992932, -88.0369900400015 43.0953787694066, -88.0374926168669 43.0953800913762, -88.0374934019052 43.0951761948271, -88.0369881032455 43.0951770760232, -88.0369963292648 43.0941144573863, -88.037409677984 43.0938809530772, -88.0365489354432 43.0930518645435, -88.0370873323383 43.0927501369739, -88.037096384566 43.0918559852086, -88.0375233289564 43.0918567747322, -88.0375278770604 43.0914136583524, -88.0371012507131 43.091411592994, -88.0371014024442 43.0908454061572, -88.037070950768 43.090824633376, -88.0366761810849 43.0907386075359, -88.0357975164329 43.0907257787298, -88.0358005801305 43.0902016290905, -88.0354394299327 43.0901935344785, -88.0354365722051 43.0909574839516, -88.0347177941538 43.0909575263594, -88.0347153731528 43.0911925662687, -88.0341016157295 43.0911919295029, -88.0341005895378 43.0913096984648, -88.0340465352194 43.0913097309108, -88.0340462301474 43.0913537054369, -88.0333749441999 43.0913541068758, -88.033374880844 43.0914035745059, -88.0327049360829 43.0914043121214, -88.0327166011657 43.0901786669575, -88.0330209710831 43.090179443691, -88.0330248423414 43.0898461332829, -88.0315957938286 43.0898435673406, -88.0315918613296 43.0906389800996, -88.031472574005 43.0906385394708, -88.0314718337164 43.0915426054532, -88.0308581613906 43.091545379696, -88.0308666630221 43.090670335848, -88.029639455436 43.0906665978177, -88.0296455977661 43.0901960331428, -88.0277102225181 43.0901921952667, -88.0276959497358 43.0916226281374, -88.027642482689 43.0969802463247, -88.0276365636853 43.0973390012747, -88.0275193798883 43.1044420199989, -88.0326347409387 43.1044232228158, -88.0326362114058 43.1042554518007, -88.0369077593833 43.1042402466821, -88.0369056423228 43.104406973642, -88.0381955384043 43.1044193942553, -88.0381936790654 43.1042583704377, -88.0407818340832 43.1042409070129, -88.0407809081113 43.1043744175086, -88.0476505711254 43.1043298570995, -88.0660245308255 43.104218822155, -88.0660152441956 43.1047283377212, -88.0657946814407 43.1119888359592, -88.0657360883315 43.1134870687252, -88.0655998713297 43.1169696653843, -88.0654559915149 43.120656172235, -88.0710158376195 43.1215324188943, -88.0707490678559 43.1223877377532, -88.0703202003894 43.1227606602889, -88.0702379399691 43.1254849679776, -88.0652434636429 43.1254214582153, -88.06474024899 43.1407513536205, -88.0640547381245 43.1624590384434, -88.0638568238666 43.1696911547713, -88.0634902904077 43.1841126547883, -88.0633524885247 43.1921265689311)), ((-88.0645715867077 43.1921212485024, -88.067372782852 43.1947552897936, -88.0633838976588 43.1947727441311, -88.0633524885247 43.1921265689311, -88.0645715867077 43.1921212485024)))\n",
            "<class 'list'>\n",
            "[{'type': 'MultiPolygon', 'coordinates': [(((-88.0633524885247, 43.1921265689311), (-88.0615339232997, 43.1921358990639), (-88.053693204626, 43.192177048578), (-88.0437663099599, 43.1922910865299), (-88.0416008851234, 43.1923143910973), (-88.0346333397137, 43.1923890965666), (-88.0337487162212, 43.1923985505009), (-88.0334033095101, 43.1924014239585), (-88.0244771449227, 43.1924753409761), (-88.0237497491762, 43.1924813346688), (-88.013892352172, 43.1925310736702), (-88.0050687755812, 43.1925551076397), (-88.0016868862664, 43.1925567489098), (-87.994172007233, 43.1925527374961), (-87.9943471621505, 43.1850786255096), (-87.994478015678, 43.1777736103051), (-87.994615455302, 43.1704862970071), (-87.9947592028555, 43.1631999961698), (-87.9848337267348, 43.1630904942516), (-87.9748601223671, 43.163132332253), (-87.974885592753, 43.1625112083992), (-87.9751499625064, 43.156063543723), (-87.9754677976729, 43.1485731387546), (-87.9654761222428, 43.1485838851314), (-87.965449351117, 43.149427300365), (-87.9651986009125, 43.1558682350888), (-87.9575305433033, 43.1558055474867), (-87.960323025109, 43.1622744188575), (-87.958141564581, 43.1622647500115), (-87.9581097963288, 43.1630880212816), (-87.9557783173863, 43.1630701520516), (-87.9536408155912, 43.1630542953874), (-87.9508041516031, 43.1630336941668), (-87.9495845280926, 43.1621052546929), (-87.945137942909, 43.1587199384562), (-87.9452238011707, 43.1556777407583), (-87.9454336786519, 43.1483712538603), (-87.9460779806676, 43.1483793575931), (-87.9527409331169, 43.1484629270764), (-87.9547464557138, 43.1484880057383), (-87.9543491747826, 43.1475588663939), (-87.9518822078235, 43.1417888316079), (-87.9484188207034, 43.1337886482345), (-87.9459999938517, 43.1281736139216), (-87.946047396354, 43.1264481025157), (-87.9461902022241, 43.1215342456946), (-87.9462089065794, 43.120890602239), (-87.9455219542209, 43.1208773607548), (-87.9455621859474, 43.1196430809568), (-87.9454128481897, 43.1196408430431), (-87.9454327726504, 43.1191207600931), (-87.9446664918954, 43.1191101602048), (-87.9446669752954, 43.1185595805918), (-87.9438069350804, 43.1185433487203), (-87.9438168473792, 43.1182176075085), (-87.9450164581033, 43.1182366106884), (-87.945040960335, 43.1173033723776), (-87.9456532709343, 43.1173150596981), (-87.9456586348654, 43.117133973015), (-87.9459747358116, 43.1171402853005), (-87.9460228965735, 43.1155110621525), (-87.943904585467, 43.1154703131804), (-87.9439617097267, 43.1132060445429), (-87.9445587183363, 43.1132164409932), (-87.9445555001137, 43.1133317960589), (-87.9457532908261, 43.1133500255878), (-87.9457842339444, 43.1122555633934), (-87.945499334814, 43.112266746004), (-87.9453156923884, 43.1122736130993), (-87.9451760047321, 43.1122955309224), (-87.9450363890916, 43.1123154139939), (-87.9448243521026, 43.1123400977843), (-87.9446600140045, 43.1123513886623), (-87.9445465760022, 43.1123676819913), (-87.9439830087819, 43.1123619134582), (-87.9439674522938, 43.1129785616308), (-87.9435957423082, 43.1129667140067), (-87.9435794224672, 43.1136116913562), (-87.9434643780237, 43.1136095029208), (-87.9434118746089, 43.1154646741912), (-87.9402019825645, 43.1154081288699), (-87.9394357477914, 43.1153946204507), (-87.9390281457736, 43.1155509590089), (-87.9388759917068, 43.1153847460142), (-87.9385128389363, 43.115378339661), (-87.940066095525, 43.1170126857657), (-87.9399166021989, 43.1174808944589), (-87.9401030986819, 43.1177438542334), (-87.9399797957723, 43.1178885900633), (-87.9400715185191, 43.1183664865668), (-87.940042107419, 43.1185726915442), (-87.9400556157865, 43.1190298096031), (-87.9366058583404, 43.1189713257513), (-87.934173217728, 43.1189279086687), (-87.9337344475517, 43.1178946129254), (-87.9331356651483, 43.1152624558574), (-87.9277930392488, 43.1151824014095), (-87.9273331581628, 43.1151754994568), (-87.9272862323213, 43.1163551148614), (-87.927768231594, 43.1166783978391), (-87.9277084473644, 43.1188114685818), (-87.9262872209975, 43.1187866774605), (-87.9238073530917, 43.1187551355387), (-87.9222080129866, 43.1187347631754), (-87.920885888487, 43.1187179075858), (-87.9208883646534, 43.1186702492863), (-87.9209027239416, 43.1186270896259), (-87.9209604752005, 43.1185509758025), (-87.9211580383265, 43.1183451200065), (-87.9213554787376, 43.1181429399454), (-87.9215184542331, 43.1179217549624), (-87.9216600140948, 43.117740600406), (-87.9217772643639, 43.1175369554762), (-87.9218682053965, 43.1173695752765), (-87.9219269535949, 43.1172640807282), (-87.9220266696277, 43.1171336093755), (-87.9221461804239, 43.1170108468789), (-87.9223284504005, 43.1168120639091), (-87.9224539695278, 43.1166600150123), (-87.9226108076199, 43.116471788822), (-87.9227357657835, 43.116306300235), (-87.9228000852182, 43.1162143379076), (-87.9228847648522, 43.1160835905543), (-87.9229638056099, 43.1159711155255), (-87.9230766786867, 43.1158960056343), (-87.9231799013516, 43.1158096927692), (-87.9232733534905, 43.1157158548628), (-87.9233056683848, 43.1156502990285), (-87.9233600237024, 43.1155263474747), (-87.9234497140092, 43.1153956947503), (-87.9235806087214, 43.1152327168791), (-87.9237062499523, 43.1150769951284), (-87.9237344247865, 43.1149856389965), (-87.9237985548568, 43.1148692149454), (-87.9238433879171, 43.1147303934112), (-87.9238993672606, 43.1145587002121), (-87.9239410577357, 43.1143646954957), (-87.9239659708916, 43.1142218349913), (-87.9240148127489, 43.1141124849758), (-87.9240829523076, 43.1140255314705), (-87.9241052446393, 43.1139597944361), (-87.9241309108885, 43.1137948967643), (-87.9241639748991, 43.1137073071032), (-87.9242133151529, 43.1135832646198), (-87.9242422396219, 43.1134698729773), (-87.9242512436859, 43.1133524460454), (-87.9242419471587, 43.1131832360285), (-87.9242387874514, 43.1129810683718), (-87.9242304928484, 43.112782478157), (-87.9242238201787, 43.1125361482791), (-87.924219412951, 43.1123707039099), (-87.9241784283909, 43.1122486878871), (-87.9241390684454, 43.1120789304336), (-87.924066398437, 43.1120041093048), (-87.9240146465393, 43.1119039467963), (-87.9239642650112, 43.1117633849004), (-87.9239091254332, 43.1116153903961), (-87.9239372855117, 43.1114889275931), (-87.9240500691125, 43.1113560862339), (-87.9241561473024, 43.1112860254135), (-87.9243444434936, 43.1112054592675), (-87.9245376580711, 43.111140986026), (-87.9247419102393, 43.111072712163), (-87.924897072782, 43.1110035420419), (-87.9250535343616, 43.1108963977374), (-87.9251541559172, 43.1108262347396), (-87.9254254882733, 43.1107111836886), (-87.9256241463792, 43.1106468051702), (-87.9258262306929, 43.1106424877468), (-87.9260055412735, 43.1106657559427), (-87.9262222211041, 43.1107137050651), (-87.9264393058971, 43.1107496582884), (-87.926548936069, 43.1107356547429), (-87.9266311604616, 43.1107251533979), (-87.9267562028325, 43.1107394304804), (-87.9268326974824, 43.1107368250217), (-87.9271337699642, 43.1107103107136), (-87.9273980149893, 43.1106431247706), (-87.9275919000921, 43.1105586571873), (-87.9277819543411, 43.1104261198258), (-87.9279606928647, 43.1103053772055), (-87.9281616536616, 43.1101730386946), (-87.9284356928796, 43.1099780321905), (-87.9287268974861, 43.1097593398485), (-87.9290569636698, 43.1095213524795), (-87.9292797392617, 43.1093894090167), (-87.9295075608439, 43.1092695588796), (-87.929711396173, 43.109213267065), (-87.9298653329986, 43.1091800729925), (-87.929917805244, 43.1090810300836), (-87.9300599797178, 43.1089116204624), (-87.9302403366367, 43.1087429050623), (-87.9304258762527, 43.1085822858333), (-87.9306334978898, 43.1084140620267), (-87.9307977588078, 43.1082370563295), (-87.9309018913072, 43.1080629525218), (-87.9309430470206, 43.1079757044843), (-87.9309570679996, 43.1078839615836), (-87.9309567570209, 43.1077319601114), (-87.9309338183288, 43.1076035511551), (-87.9308950604384, 43.1074588492964), (-87.930837774812, 43.1073778092383), (-87.9307600264142, 43.1072563996193), (-87.9307396977145, 43.1072120309749), (-87.9306869180357, 43.1071590745981), (-87.930537998197, 43.107044368418), (-87.9304264424564, 43.1069543435893), (-87.9302540799099, 43.1068872113038), (-87.9300586888137, 43.1068556585516), (-87.9297869339497, 43.1068227136957), (-87.9294715527103, 43.1067889771918), (-87.9291509895254, 43.106747147817), (-87.9287979752963, 43.1066967220504), (-87.9284997677403, 43.1066392977705), (-87.9282397402103, 43.106582565937), (-87.9279407907016, 43.1064883040966), (-87.9276789058744, 43.1063843622195), (-87.9273678668014, 43.1062227032044), (-87.9270414181852, 43.1060327607533), (-87.9267314639092, 43.1058391207615), (-87.9264914679, 43.1056747528067), (-87.9262971372996, 43.1054512183078), (-87.9261887109916, 43.1052692464166), (-87.9260683996458, 43.1049550623161), (-87.926024173344, 43.1046502632773), (-87.926018120555, 43.1043461598968), (-87.9260346463459, 43.1036618258323), (-87.9260557148922, 43.1033986419557), (-87.9260514015743, 43.1031352548339), (-87.9259990212717, 43.1028875381883), (-87.9258768343351, 43.1026549219333), (-87.9257288465213, 43.1024600841489), (-87.9255374401488, 43.1022808552979), (-87.9252865341703, 43.1021047977382), (-87.9250139441793, 43.1019635163237), (-87.9250661365452, 43.1003028669319), (-87.9267617645355, 43.1003403588759), (-87.9285627991734, 43.1003884812612), (-87.9269148826366, 43.0975779404716), (-87.925473161376, 43.0971261279096), (-87.9266496841318, 43.097130243224), (-87.9255646333527, 43.0951743026031), (-87.92502206058, 43.095165031852), (-87.9250246174728, 43.094557526561), (-87.9189538743758, 43.0945214340353), (-87.9193645474831, 43.0948200573433), (-87.9190470765186, 43.0948164884342), (-87.9192537374273, 43.09496229007), (-87.9194313884681, 43.0950824529284), (-87.9197341917556, 43.0952709411859), (-87.9170687094359, 43.0952523914277), (-87.9170783529481, 43.0947728658376), (-87.9190101704277, 43.0947896547117), (-87.9187977148532, 43.0946303939558), (-87.9185089596705, 43.0943967210232), (-87.9182639445114, 43.0941855986686), (-87.9179469830469, 43.0938809656094), (-87.9169879482957, 43.0928753760568), (-87.9169978325156, 43.0924146803505), (-87.9165222742207, 43.091912196068), (-87.9165509001666, 43.0904763478442), (-87.9165642865861, 43.0898046413427), (-87.9144785575307, 43.0897907380621), (-87.9078776258441, 43.0897465015826), (-87.9078466800606, 43.0912987112401), (-87.9077873773522, 43.0942732378855), (-87.9077652542794, 43.0965955334866), (-87.9077025120192, 43.0989576207534), (-87.9081292584009, 43.0995327146506), (-87.9087693798109, 43.1000889379486), (-87.9099433012887, 43.1008488916031), (-87.9128074669506, 43.1013666597736), (-87.9138724073699, 43.1019180135089), (-87.9148327442036, 43.1026991162176), (-87.9160688580495, 43.1031705135946), (-87.9168758092155, 43.1033448290471), (-87.9168522094866, 43.1041333468542), (-87.9169604555021, 43.1041347276451), (-87.9169490529843, 43.1046144836152), (-87.9095804690141, 43.1045194889812), (-87.9088507769446, 43.1040309355236), (-87.9070904215776, 43.1040088830806), (-87.9071165223638, 43.1028626982796), (-87.9069919790885, 43.1027785302498), (-87.9070417594734, 43.1006342642641), (-87.9070672196808, 43.0994412135815), (-87.9070957642383, 43.0986966162402), (-87.9070877223379, 43.0986176964453), (-87.9070510906615, 43.0985634128595), (-87.906973591394, 43.0984660539213), (-87.906918304921, 43.0983944987801), (-87.9068713893448, 43.0983033463108), (-87.906756683667, 43.0981686240543), (-87.9066488956593, 43.098056599507), (-87.90657861063, 43.0979734811739), (-87.9065002447533, 43.0979015003116), (-87.906427931668, 43.0978775957052), (-87.9063510962083, 43.0978733627265), (-87.9061834840704, 43.0978223101224), (-87.9060885738142, 43.0977838858056), (-87.9059830929407, 43.0977170460042), (-87.9059220298302, 43.0977018158893), (-87.9058333604106, 43.0977058271674), (-87.9057418184474, 43.0976815718317), (-87.9056281577734, 43.0976286920353), (-87.9054834338146, 43.0975837036407), (-87.9053725578057, 43.0975619114174), (-87.9052931319485, 43.0975209485546), (-87.9052414044744, 43.0974579213513), (-87.905212755989, 43.0973953198936), (-87.905156798448, 43.0973435018689), (-87.9050387141514, 43.0973074684134), (-87.9048809040286, 43.0973073848794), (-87.9046579983314, 43.0972976364633), (-87.9045191298106, 43.0973063645167), (-87.9043904506865, 43.0973547835428), (-87.9042658157332, 43.0973976338129), (-87.9042154226049, 43.0974079918754), (-87.9041226198256, 43.0974203889831), (-87.9039865054839, 43.0974387649819), (-87.9039213406805, 43.0974533665587), (-87.9038319982569, 43.0974771124711), (-87.9037547742481, 43.0974841540657), (-87.9035903391509, 43.097452910108), (-87.9035140823329, 43.0974317565623), (-87.9034375343149, 43.0974190572962), (-87.9033696505514, 43.0973783075257), (-87.9032557047731, 43.0973338833562), (-87.9031461807223, 43.0972726130514), (-87.9030472350459, 43.0972397503805), (-87.9030131005256, 43.0972250140295), (-87.9028664709581, 43.0971235570274), (-87.9027276307556, 43.097019421394), (-87.9026387956945, 43.096916208193), (-87.9025813147576, 43.0967966435556), (-87.9025552598431, 43.0967707670841), (-87.9024875672196, 43.0967243780832), (-87.902446898783, 43.0966756597995), (-87.9024325804586, 43.096644358347), (-87.902372582693, 43.096598107518), (-87.9022554705481, 43.0965338735262), (-87.9020393142255, 43.0964395987124), (-87.9018953700625, 43.096372049417), (-87.9017900847775, 43.0962995696969), (-87.9016357674608, 43.0961979692619), (-87.9015195270031, 43.0961083561411), (-87.9014090411111, 43.0960752818654), (-87.9012389500883, 43.0959846752572), (-87.901102897193, 43.0959116273683), (-87.9010175226334, 43.0958197628527), (-87.9009735933548, 43.0957540590427), (-87.9009454355555, 43.0956773554452), (-87.9008978529916, 43.0956059402029), (-87.9008271899327, 43.0955340982407), (-87.900718838721, 43.0954389875913), (-87.9006553873998, 43.095381384979), (-87.9006228973778, 43.0953187122742), (-87.9005878207045, 43.0952193102967), (-87.9005642856744, 43.0951201194586), (-87.900559791427, 43.0950269257428), (-87.9005783752389, 43.0949341551358), (-87.9005805061111, 43.0948721211901), (-87.900573227704, 43.0947478394712), (-87.9005538305386, 43.0946402616626), (-87.9005217273243, 43.0945663071396), (-87.9005088609042, 43.0944927102576), (-87.9005267640718, 43.0944196802197), (-87.9005519739418, 43.0943580721096), (-87.9005617023087, 43.094298995845), (-87.9005628645862, 43.0942651595548), (-87.9006000007164, 43.0941924825747), (-87.9006056892766, 43.0941389793771), (-87.9006036812511, 43.0940853323698), (-87.9006099509986, 43.094014908776), (-87.9006390052447, 43.0939533715812), (-87.9006866132509, 43.0939119253214), (-87.9007221993116, 43.0938843672558), (-87.9007748188292, 43.0938091574886), (-87.9008080128319, 43.0937392333224), (-87.9008144723797, 43.0936631683152), (-87.900832182477, 43.0935957777793), (-87.9008574873319, 43.0935313493585), (-87.9008860581598, 43.0934839096023), (-87.9008996305972, 43.0934249060314), (-87.9008915782345, 43.0933231815715), (-87.9008715043027, 43.0932353417415), (-87.9008954822485, 43.0930975293564), (-87.9009014865164, 43.0929227011378), (-87.9009072969758, 43.0927535151488), (-87.9008880898235, 43.092640298678), (-87.9008933192785, 43.0924880303853), (-87.9009067983161, 43.092431847093), (-87.9008932539808, 43.0923779890573), (-87.9008717252918, 43.0923324452241), (-87.900851453024, 43.0922502475254), (-87.9008018652226, 43.0921251816111), (-87.9007464004536, 43.0920592630114), (-87.9006634309264, 43.0920097653165), (-87.9005490065789, 43.0919794402851), (-87.9004956457798, 43.0919643465416), (-87.9004449389988, 43.0919193123279), (-87.9003954084992, 43.0918706187651), (-87.9003156469615, 43.0917531106374), (-87.900286245996, 43.0916604189168), (-87.9002338160695, 43.0915604785968), (-87.9002027682864, 43.0915272454584), (-87.9001022954102, 43.0914590767719), (-87.8999766030622, 43.0913236553765), (-87.8999338278314, 43.0912136541035), (-87.8999438708684, 43.091056845438), (-87.8999668199066, 43.0909309928714), (-87.8999361245871, 43.0908758213331), (-87.8998833456139, 43.090786111575), (-87.8998577765073, 43.0907173820371), (-87.8997875615108, 43.0905932233972), (-87.89975292113, 43.0905174991844), (-87.8997636321384, 43.0904767427157), (-87.8997976047898, 43.0904364156363), (-87.899757022984, 43.0903981241383), (-87.8997180807132, 43.0903120842045), (-87.8997018179134, 43.0902435246131), (-87.899593446508, 43.0901459630523), (-87.8994745999663, 43.0900823367833), (-87.8994155277974, 43.0900402919846), (-87.8994036807702, 43.0899786410674), (-87.8994062594733, 43.0899036056888), (-87.899271848495, 43.0897509580418), (-87.8990951037672, 43.089611180216), (-87.8988623043049, 43.0894771959201), (-87.8987298535713, 43.0894030794935), (-87.8985143675375, 43.0893069521154), (-87.8983130771697, 43.0892042593437), (-87.8979988819782, 43.0890005074769), (-87.8979313296495, 43.088934417184), (-87.897817255557, 43.0888674618747), (-87.897502363465, 43.0886841746037), (-87.8973385240696, 43.0885753467098), (-87.8972099080192, 43.0885251882222), (-87.8971007233653, 43.0884515025304), (-87.8969366506834, 43.0883494933229), (-87.8968089766897, 43.0882720501598), (-87.8965732908838, 43.0880868116768), (-87.8963143421822, 43.0879011416368), (-87.8961129427097, 43.0878018563933), (-87.8959529384593, 43.0877169871529), (-87.8957921152422, 43.0876559923585), (-87.8956276463779, 43.0875392064761), (-87.895463634974, 43.087462213372), (-87.89529862803, 43.0873874914499), (-87.8951014080083, 43.0873019342872), (-87.8950009475431, 43.0872454687164), (-87.8947843003579, 43.0871834395733), (-87.8946513920174, 43.0871229632558), (-87.8944596495168, 43.0870136137705), (-87.8943133732121, 43.0869358234132), (-87.8940573269433, 43.0868013941089), (-87.8939029251778, 43.0866893239351), (-87.8937400377216, 43.0865532047962), (-87.8934906431586, 43.086360880395), (-87.893360207624, 43.0862287751511), (-87.8932831231485, 43.0861693281394), (-87.8932433723144, 43.0861071597164), (-87.8931777079713, 43.0859864944804), (-87.8931057487116, 43.0859134887209), (-87.8930348499209, 43.0858097926902), (-87.8929603552015, 43.085675309343), (-87.892916891158, 43.0855857685608), (-87.8928827322999, 43.0854964019052), (-87.8928146537924, 43.0853108448698), (-87.8927323798604, 43.0851318511608), (-87.8926380393958, 43.0848980269384), (-87.8925156646358, 43.0846670960004), (-87.8924898724184, 43.0846051858546), (-87.8924618940051, 43.0844715674315), (-87.8924498198883, 43.0844167368218), (-87.8923834559089, 43.0843165325354), (-87.8922957119423, 43.0841613287688), (-87.8922428287066, 43.0840750249787), (-87.8922105582406, 43.0839310870262), (-87.8921987208793, 43.0838694353507), (-87.8921181629552, 43.0837690777565), (-87.8920349169462, 43.0836675915509), (-87.892013069273, 43.0836262324187), (-87.891967431155, 43.083464979533), (-87.891873914605, 43.083207279947), (-87.8918391693171, 43.0831349646858), (-87.8917496665286, 43.0830309193718), (-87.8917374732566, 43.082979499164), (-87.891663808181, 43.0828211421302), (-87.8916253526469, 43.0827214563555), (-87.8916076253253, 43.0825607205585), (-87.8915664029383, 43.0824063783233), (-87.8915061047545, 43.0822653306469), (-87.8914769557263, 43.0821658154964), (-87.8914985034279, 43.0820808944308), (-87.8914738560546, 43.0819476372655), (-87.8876599313913, 43.0819336310747), (-87.8861072110672, 43.0819320186381), (-87.8820714727265, 43.081924330238), (-87.878439290918, 43.0819237517583), (-87.876332711916, 43.0819220963374), (-87.8736696854814, 43.0819204009276), (-87.8707032364052, 43.0819184417381), (-87.8706345554958, 43.0816441835824), (-87.8704214799885, 43.0810936851518), (-87.8701867814948, 43.0805924830202), (-87.8695375800899, 43.0792798527517), (-87.8695387598157, 43.0791974604875), (-87.8697195389814, 43.0791967066852), (-87.8696573548159, 43.0790617053707), (-87.8691224529463, 43.0782853343067), (-87.8690708419974, 43.07815845561), (-87.8690269475379, 43.0780541104187), (-87.8689817631094, 43.0779346556747), (-87.8689537897317, 43.0778388496989), (-87.8689197070227, 43.0777623737408), (-87.8688842208728, 43.0776804912427), (-87.8688602991262, 43.0776082910027), (-87.868821994907, 43.0775166568546), (-87.8687867333408, 43.0774142093722), (-87.8687599824155, 43.0773322257526), (-87.8687245209411, 43.0772437288932), (-87.8686947124806, 43.0771703152524), (-87.8686733814169, 43.0771206416296), (-87.8686520066977, 43.0770741944245), (-87.8685924069233, 43.0769218485026), (-87.8685624554141, 43.0768569864879), (-87.8685081634794, 43.0767455919392), (-87.8684622959371, 43.0766622757198), (-87.8684236268326, 43.0765886806466), (-87.8683892109517, 43.076525886113), (-87.8683550585063, 43.0764403536395), (-87.868315786974, 43.0763526190496), (-87.8682884167109, 43.0763114342383), (-87.8682685388624, 43.0762561752042), (-87.8682298081638, 43.0761824582379), (-87.8681912052109, 43.0760968017771), (-87.8681552251227, 43.0760371366517), (-87.868124789656, 43.076004567559), (-87.8681046906966, 43.0759660483623), (-87.8680882964692, 43.0759345744451), (-87.8680370361482, 43.0758509840651), (-87.8679706109302, 43.075754321112), (-87.8679301189011, 43.0756999929942), (-87.8678983372993, 43.0756532686151), (-87.8678621369634, 43.0756076130852), (-87.8678156659646, 43.0755608456529), (-87.8677671712154, 43.075494798375), (-87.8677215684179, 43.0754903768112), (-87.8676310541428, 43.0755004886259), (-87.8675355011756, 43.0755164111117), (-87.86739411262, 43.0755078560555), (-87.8673656577835, 43.0754908198654), (-87.8673270709896, 43.0754396437254), (-87.8673193058853, 43.0753993106844), (-87.8673416276917, 43.0753336256615), (-87.8673475575931, 43.0751636276743), (-87.8672453047946, 43.0749178438631), (-87.867230527181, 43.0747182845528), (-87.8672418266484, 43.074684302417), (-87.8672254095105, 43.0746188239205), (-87.8672117074068, 43.0746004119594), (-87.867189962865, 43.0745895877344), (-87.8671609786739, 43.0745733384626), (-87.8671290961689, 43.0745451028626), (-87.8671073631505, 43.0745184568834), (-87.8670776528259, 43.0744945742945), (-87.8670544635938, 43.0744772081355), (-87.8670182203666, 43.0744522548428), (-87.8669819771974, 43.0744262092831), (-87.8669500830313, 43.0744045089381), (-87.8669058688318, 43.0743744292953), (-87.864186869829, 43.0743919514095), (-87.8641545172257, 43.0743904344507), (-87.8641224555544, 43.0743869185234), (-87.8640909135777, 43.0743814304353), (-87.8640601159986, 43.0743740077231), (-87.8640302844987, 43.0743647040754), (-87.8640016341812, 43.0743535856642), (-87.8639743662064, 43.0743407310059), (-87.8639486762266, 43.0743262356226), (-87.8639247486884, 43.0743101993283), (-87.8639027576206, 43.0742927388502), (-87.8638828571594, 43.0742739777455), (-87.863865188694, 43.0742540528391), (-87.8638498800786, 43.0742331016021), (-87.8638370425803, 43.0742112792032), (-87.8638267678257, 43.074188740442), (-87.8638191251569, 43.0741656451026), (-87.8638141702247, 43.0741421581141), (-87.8638119425646, 43.0741184486054), (-87.8638074721335, 43.0708103496092), (-87.8638078296166, 43.0707872505318), (-87.8638109149859, 43.070764258517), (-87.8638167012098, 43.0707415495469), (-87.863825148038, 43.0707192912512), (-87.8638361905142, 43.0706976552977), (-87.8638497433192, 43.070676798564), (-87.8638657111888, 43.0706568813428), (-87.8638839697778, 43.0706380525751), (-87.8639043815544, 43.0706204519494), (-87.863926795674, 43.0706042135014), (-87.8639510409291, 43.0705894564772), (-87.8639769401329, 43.0705762955081), (-87.8639731320228, 43.0705115493879), (-87.8639835362178, 43.0704357550034), (-87.8639931518021, 43.0703823231271), (-87.8640078702195, 43.070331085152), (-87.8640225228757, 43.0703038440865), (-87.8640510764903, 43.070256990934), (-87.8640730181713, 43.0702297651856), (-87.8641212330249, 43.070189496214), (-87.8641592124806, 43.0701584871389), (-87.8642051976366, 43.0701323981195), (-87.8642577005233, 43.0701194034903), (-87.8642840371266, 43.0700758493574), (-87.8643045249972, 43.0700399212417), (-87.8643534402471, 43.0699947821369), (-87.8643797358187, 43.0699654103498), (-87.8644016603324, 43.069933851209), (-87.8644410820155, 43.0698947019581), (-87.864497250195, 43.0698523283198), (-87.8645584924983, 43.0698181378496), (-87.8646007317693, 43.0698084189347), (-87.8646473900603, 43.0697758437671), (-87.8647122302604, 43.0697460330657), (-87.8647457681389, 43.0697156139618), (-87.8647938735029, 43.0696765213651), (-87.8648565016502, 43.0696472687629), (-87.8648979972459, 43.0696283114746), (-87.8649489797287, 43.0695946836855), (-87.8650043179852, 43.0695588945948), (-87.8650363649648, 43.0695295892054), (-87.8650669359624, 43.0695117054415), (-87.8651011567102, 43.0694856752882), (-87.8651433815927, 43.0694509609594), (-87.8652015855723, 43.0694195540749), (-87.8652510517727, 43.0693886792144), (-87.8653259566302, 43.0693486279637), (-87.8653739509353, 43.0693215631835), (-87.8654350565201, 43.0692678981638), (-87.8654765375102, 43.0692158170071), (-87.8655201849476, 43.0691691909553), (-87.8655739909475, 43.0691166170998), (-87.865613979171, 43.0690797787691), (-87.8656779300869, 43.0690278022564), (-87.8657484169754, 43.0689655291456), (-87.8658007377099, 43.0689091895121), (-87.8658385264504, 43.0688636798344), (-87.8658813946286, 43.0688127618496), (-87.8659438494277, 43.0687537722616), (-87.865986688983, 43.0687126434937), (-87.8660215680245, 43.0686573803197), (-87.8660462867662, 43.0686075165526), (-87.8661022025352, 43.0685322589633), (-87.8661617253608, 43.0684586565324), (-87.8661871353432, 43.0684207602005), (-87.8662176240835, 43.0683752917383), (-87.8662654890519, 43.0683353223982), (-87.8663097325701, 43.0682872061811), (-87.8663431082294, 43.0682385114753), (-87.8663851548873, 43.0682028758003), (-87.8664279169162, 43.0681661666766), (-87.8664598242993, 43.0681201943968), (-87.8665054990978, 43.0680618136125), (-87.8665287000143, 43.0680282934227), (-87.8665577051314, 43.0679806989764), (-87.8665866985734, 43.0679374508197), (-87.866623640151, 43.0679029169112), (-87.8666395977561, 43.06786666661), (-87.8666743688852, 43.0678256248776), (-87.8666982910441, 43.0677769535555), (-87.8667417528968, 43.0677186221217), (-87.8667692834271, 43.067674314557), (-87.8668076518636, 43.0676316843159), (-87.8668612116388, 43.0675788450406), (-87.8668908870446, 43.0675410681853), (-87.866927071319, 43.0674968265413), (-87.8669704758027, 43.0674569569596), (-87.8670080901197, 43.0674197764965), (-87.8670594254069, 43.0673842922798), (-87.867104245251, 43.0673552835146), (-87.867134607656, 43.067328366411), (-87.8671669196251, 43.067289041519), (-87.8672872208764, 43.0671143870403), (-87.8673006701472, 43.0670854553718), (-87.8673144623736, 43.0670256326895), (-87.8673820920382, 43.0669324814473), (-87.8674608162337, 43.0668567072466), (-87.867533943024, 43.0667976387079), (-87.8675875841298, 43.0667541203857), (-87.867632808006, 43.0667005445798), (-87.8676579865969, 43.0666346159275), (-87.8676886136858, 43.0665950900223), (-87.8676992787942, 43.0665619207793), (-87.8677045344539, 43.0665241199077), (-87.8677534282314, 43.0664251676117), (-87.8677781567729, 43.066362346986), (-87.8678024898739, 43.0663075546357), (-87.867813540962, 43.0662802897239), (-87.8678256118152, 43.0662350500626), (-87.8678755693931, 43.0661317468369), (-87.8679284507329, 43.0660330313123), (-87.8679613059492, 43.0659769993813), (-87.8679844234372, 43.0659343782196), (-87.8680231414205, 43.065887513892), (-87.8680337464165, 43.06584919107), (-87.8680659710757, 43.0658112744252), (-87.8681107045023, 43.065769056643), (-87.8681245566822, 43.0657583505198), (-87.8682029443385, 43.0656820841885), (-87.8682324624733, 43.0656274195621), (-87.8682584295858, 43.0655916493263), (-87.8683132950503, 43.0655246957887), (-87.8683176027522, 43.0655107978104), (-87.8683266077542, 43.0654960288875), (-87.8683339164627, 43.0654785889253), (-87.8683443614234, 43.0654659522632), (-87.868353061933, 43.0654424080644), (-87.8683630399632, 43.0654222032986), (-87.8683761036095, 43.0654020536648), (-87.8683800574678, 43.0653772021766), (-87.8683853669306, 43.0653582416841), (-87.8683908162673, 43.0653338945681), (-87.8683853097875, 43.0653294412444), (-87.8683900100316, 43.0653061489325), (-87.8684018231916, 43.0652847017093), (-87.868401109224, 43.0652642443144), (-87.8684145308083, 43.0652495032369), (-87.8684295632178, 43.065223114301), (-87.8684462118217, 43.0651850641001), (-87.868447879789, 43.0651691698506), (-87.8684408155176, 43.0651457768005), (-87.8684426844444, 43.0651139707112), (-87.8684371953336, 43.0650821023514), (-87.8684273542041, 43.0650459571855), (-87.8684131376768, 43.0650065937136), (-87.8683945121016, 43.0649671971256), (-87.8683713797236, 43.0649351871675), (-87.868352594242, 43.0649085173587), (-87.8683399142564, 43.0648638672681), (-87.8683316879919, 43.0648160671077), (-87.8683380045911, 43.0647811090359), (-87.8683465115077, 43.0647472266451), (-87.8683585392354, 43.0647261040122), (-87.8683662721436, 43.0646954001392), (-87.8684001880246, 43.06466503214), (-87.8684412057881, 43.0646408744359), (-87.8685131756777, 43.0646150330774), (-87.868537294545, 43.0646020043472), (-87.8685910662776, 43.0645894034886), (-87.8686087195222, 43.0645895389351), (-87.8686690986155, 43.0645901491358), (-87.8686867306785, 43.0645924074546), (-87.8687395538134, 43.0645920818099), (-87.8688041650865, 43.0646000901777), (-87.8690435362676, 43.0646476319626), (-87.869289531529, 43.0646969938045), (-87.8693174397034, 43.0647025205157), (-87.869333589488, 43.0647068931532), (-87.8693614342479, 43.0647177295691), (-87.869373214978, 43.0647178197097), (-87.8693968482927, 43.0647126949319), (-87.8694221015762, 43.064695900842), (-87.8694519287891, 43.0646674630631), (-87.869481615837, 43.0646496390555), (-87.869530677469, 43.0646149738316), (-87.8695662938481, 43.0645950700626), (-87.8695930191428, 43.0645793453416), (-87.8696331649269, 43.0645509774484), (-87.8696583772291, 43.064538422799), (-87.8697014088105, 43.0645153847249), (-87.8697222718541, 43.0644974845134), (-87.8697519785661, 43.0644796554034), (-87.8697817152155, 43.064459697263), (-87.8698159428241, 43.0644344583034), (-87.8698575532337, 43.0644082149353), (-87.8698798821025, 43.0643913857827), (-87.869900695355, 43.0643782615386), (-87.8699185047966, 43.0643688341401), (-87.8699453171259, 43.0643477847592), (-87.8699736413635, 43.0643235589583), (-87.8699945006323, 43.064306714866), (-87.8700420977633, 43.0642751880136), (-87.8700748270559, 43.0642531166444), (-87.8701253907166, 43.0642205467581), (-87.87015292103, 43.0642016223515), (-87.870182598019, 43.0641880238304), (-87.8702287104979, 43.0641586031851), (-87.8702717719876, 43.0641365964884), (-87.8703074392957, 43.0641166610334), (-87.8703401038698, 43.0641009564194), (-87.8703713039338, 43.0640841753381), (-87.8704025388228, 43.0640652653171), (-87.8704589584205, 43.0640390955452), (-87.8705020159637, 43.0640192074684), (-87.8705658333475, 43.06399202268), (-87.8706000719494, 43.0639699425075), (-87.8706551849347, 43.0639320557278), (-87.8706924386719, 43.0639057376977), (-87.8707178038652, 43.063885180612), (-87.8707476001066, 43.0638651864263), (-87.8707714571188, 43.0638472754525), (-87.8708086485912, 43.0638262698235), (-87.8708399792008, 43.063802028066), (-87.8708682847891, 43.0637830819896), (-87.8708921529677, 43.0637651657979), (-87.8709085897624, 43.0637503917455), (-87.8709220637806, 43.0637366571812), (-87.8709533857141, 43.0637134732698), (-87.8709772913303, 43.0636923638373), (-87.870996636129, 43.0636818610579), (-87.8710442118608, 43.0636587860022), (-87.8710829837706, 43.0636313932092), (-87.8711179977599, 43.0636092886829), (-87.8711537905894, 43.0635840020996), (-87.8711851125862, 43.0635618698633), (-87.871225473486, 43.0635270347678), (-87.8712629067029, 43.0634900431888), (-87.8713047772178, 43.0634530806277), (-87.8713198827197, 43.06342870613), (-87.8713483702282, 43.063398033079), (-87.8713782425438, 43.0633748174206), (-87.8714036227085, 43.0633558281671), (-87.8714305021575, 43.0633357864205), (-87.8714499991081, 43.0633146267939), (-87.8714829462503, 43.0632829152101), (-87.8715143318666, 43.0632575712446), (-87.8715338224549, 43.0632374749263), (-87.8715562484742, 43.0632189931369), (-87.8715816821823, 43.0631968037199), (-87.8716025963344, 43.0631809697873), (-87.8716354550271, 43.0631566996913), (-87.8716593718677, 43.0631376893005), (-87.8717131199139, 43.0630997062516), (-87.8717504522018, 43.0630733263293), (-87.8717788137151, 43.0630543432642), (-87.8718169013999, 43.0630268996094), (-87.8718572562574, 43.06299627563), (-87.8719185975992, 43.0629455454296), (-87.8719634571211, 43.0629106826104), (-87.8720024746759, 43.0628704526869), (-87.8720339374497, 43.0628418908923), (-87.8721100572057, 43.0627959979408), (-87.8721414552021, 43.06277275391), (-87.8721594489468, 43.0627558180044), (-87.872178947118, 43.0627367635532), (-87.8722029163382, 43.0627156028402), (-87.8722239165841, 43.0626954851312), (-87.8722523717156, 43.062671154986), (-87.8722673102116, 43.0626616582119), (-87.8722852166805, 43.0626511112032), (-87.8722912557981, 43.0626426221193), (-87.8723152761437, 43.0626182603126), (-87.8723452069601, 43.0625950004845), (-87.8723781368478, 43.0625690899819), (-87.8724110568892, 43.0625437087551), (-87.8724350134931, 43.0625246710391), (-87.8724664788444, 43.0624982126486), (-87.8725129090364, 43.0624601202513), (-87.8725406014642, 43.0624389624892), (-87.8725630498271, 43.0624220450243), (-87.8725869403338, 43.0624083286467), (-87.872633214386, 43.0623830161788), (-87.8726705378656, 43.0623619133863), (-87.8726945206808, 43.0623418000616), (-87.872718546163, 43.0623184828013), (-87.8727424853497, 43.0623015643751), (-87.8727663970027, 43.0622867786132), (-87.872787331063, 43.062273037509), (-87.8728262550744, 43.0622444718979), (-87.8728547350614, 43.0622211794017), (-87.8728817445231, 43.0621968067585), (-87.8729131921998, 43.0621735292367), (-87.8729372139536, 43.0621512680998), (-87.8729642181702, 43.0621279623822), (-87.8729793490647, 43.0621056538048), (-87.8729870539015, 43.0620843661217), (-87.8730230102018, 43.0620568380955), (-87.8730470404296, 43.0620345779958), (-87.8730695576611, 43.0620144362848), (-87.8730996209528, 43.0619847377727), (-87.8731251782763, 43.0619592807791), (-87.8731522939171, 43.061928494301), (-87.8731688669938, 43.0619093831832), (-87.8731870355305, 43.0618828154971), (-87.8731983448816, 43.0618690068782), (-87.8732029332057, 43.0618589004088), (-87.873218046761, 43.0618387102544), (-87.8732496008934, 43.0618090080703), (-87.8732692203065, 43.0617845772774), (-87.8732902792394, 43.0617633529174), (-87.8733307415305, 43.0617336903384), (-87.8733653145351, 43.0617007984294), (-87.8733893761964, 43.0616774501963), (-87.8734106302884, 43.0616423480119), (-87.8734333137817, 43.0616115200114), (-87.8734454796769, 43.0615902400827), (-87.8734651516847, 43.0615625974096), (-87.8734789196975, 43.0615327849861), (-87.8734985329381, 43.0615094093773), (-87.8735211465169, 43.0614839089607), (-87.8735527230984, 43.0614541873076), (-87.8735737996269, 43.0614329452183), (-87.8735994258702, 43.0614042576719), (-87.8736340177983, 43.0613713417281), (-87.8736700429007, 43.061342697328), (-87.8737196231303, 43.06130024662), (-87.873759507774, 43.061260940003), (-87.8737911643583, 43.0612269327054), (-87.8738213029723, 43.0611950464109), (-87.8738679130205, 43.0611536350662), (-87.8739011054832, 43.0611164220119), (-87.8739508586591, 43.0610632644019), (-87.8739854919295, 43.0610292541742), (-87.874018708138, 43.0609909654852), (-87.8740458652912, 43.0609606550258), (-87.8740774944598, 43.0609298293575), (-87.8741106521167, 43.0608958005131), (-87.8741468159863, 43.060859652352), (-87.8741770686102, 43.0608213316312), (-87.8742088742539, 43.0607787483542), (-87.8742407040779, 43.0607340197312), (-87.8742680490759, 43.0606914097852), (-87.8742695095939, 43.0606935540614), (-87.8742899185118, 43.0606690694279), (-87.8743230021349, 43.0606414377916), (-87.8743456509453, 43.060615893758), (-87.8743727867122, 43.060589298113), (-87.8744058578915, 43.0605627287609), (-87.8744343842909, 43.0605425478396), (-87.8744630721054, 43.0605116805999), (-87.8744947087943, 43.060481897693), (-87.8745355869361, 43.0604296995339), (-87.8745628491962, 43.0603945482645), (-87.8745929941542, 43.0603658125972), (-87.8746126739786, 43.0603413106811), (-87.8746430181796, 43.0602986783665), (-87.8746792849248, 43.0602582079739), (-87.8747035785664, 43.0602230300067), (-87.8748262231969, 43.0600604159144), (-87.8748356851437, 43.0600277998876), (-87.8748507153908, 43.0600125226706), (-87.8748598111625, 43.0599905846245), (-87.8748689219925, 43.0599664461416), (-87.8748809728809, 43.0599511375562), (-87.8748900523414, 43.0599313999205), (-87.8749006421151, 43.0599105712396), (-87.8749186843318, 43.059893112664), (-87.8749278043007, 43.0598667664267), (-87.8749458464656, 43.0598493087466), (-87.8749579355394, 43.0598273870091), (-87.8749744788937, 43.0598099112216), (-87.8749865588063, 43.0597901963307), (-87.8750016233219, 43.0597705020927), (-87.8750227105967, 43.0597442543119), (-87.875037816865, 43.0597179505934), (-87.8750514111883, 43.0596949404074), (-87.8750665249205, 43.0596686332232), (-87.8750845673314, 43.0596511656222), (-87.8750966728191, 43.0596270371575), (-87.8751117713341, 43.0596029340026), (-87.8751313595472, 43.0595788643124), (-87.8751464340634, 43.0595591621395), (-87.8751644917546, 43.0595394859908), (-87.8751736014372, 43.0595175310734), (-87.8751886826374, 43.0594956210993), (-87.8752052763653, 43.0594726264197), (-87.8752203508941, 43.0594529224371), (-87.8752354305096, 43.059433213145), (-87.8752445506059, 43.0594090486953), (-87.8752567055355, 43.0593782982765), (-87.8752733234149, 43.0593519912572), (-87.8752854113171, 43.0593322530748), (-87.8752945060325, 43.0593124940841), (-87.8753036044862, 43.0592927333617), (-87.875315677256, 43.0592751974118), (-87.8753322533383, 43.0592554998596), (-87.8753443322911, 43.0592379622216), (-87.8753564251506, 43.0592182214235), (-87.8753745005776, 43.0591974290087), (-87.8753865958112, 43.059177690053), (-87.8754016920159, 43.059155767727), (-87.8754182950716, 43.0591316512236), (-87.8754334089085, 43.0591075240037), (-87.8754515753803, 43.0590746005194), (-87.8754833859273, 43.0590205478833), (-87.8755193981705, 43.0589623028683), (-87.8755426626304, 43.0589151510413), (-87.8755538160783, 43.0588609754027), (-87.8755591052382, 43.0587976244052), (-87.8755257495874, 43.0586904969858), (-87.875509189171, 43.0586335371395), (-87.8754839165775, 43.0585605511705), (-87.875476857608, 43.0584969712786), (-87.8754815186295, 43.0584517383509), (-87.8755115114061, 43.0583888479807), (-87.8756054929179, 43.0582010521204), (-87.8757672018086, 43.0580455502316), (-87.8758825697095, 43.0579300596656), (-87.8760494970753, 43.0578165351334), (-87.8761541455842, 43.0577391792477), (-87.8762456558343, 43.0576842369976), (-87.8764251962301, 43.0575856195459), (-87.8765072835424, 43.0575350322219), (-87.8765932494229, 43.0574618590693), (-87.8767860634391, 43.0572492659764), (-87.8768186062914, 43.0572342947946), (-87.8768516930822, 43.0572037612589), (-87.8768686532934, 43.0571768237948), (-87.8769073470214, 43.0571386122817), (-87.8769238897438, 43.0571233459405), (-87.8769562925098, 43.0571122656809), (-87.8769620346319, 43.0571006948624), (-87.8769788534923, 43.0570776501203), (-87.8769900664992, 43.0570622860653), (-87.8770066101888, 43.057047026034), (-87.8770230130054, 43.0570356470406), (-87.8770343646531, 43.057016394696), (-87.8770563742928, 43.0569973413281), (-87.8770729168461, 43.0569820776647), (-87.8770897319819, 43.0569590319374), (-87.8771113291143, 43.0569516488825), (-87.8771338885979, 43.0569170368673), (-87.8771505686288, 43.0568978821847), (-87.877166972356, 43.0568865103923), (-87.877205384455, 43.056856083378), (-87.8772272577601, 43.0568409192079), (-87.8772440714469, 43.0568178770341), (-87.8772551191218, 43.0568112352945), (-87.8772668403491, 43.05680581364), (-87.8772981593289, 43.056789475999), (-87.8773317398686, 43.0567633124605), (-87.8773615283164, 43.0567356662107), (-87.8773764154113, 43.0567166527172), (-87.8773953199749, 43.056700198574), (-87.8774324337901, 43.0566862265111), (-87.8774350667473, 43.0566774106616), (-87.8774752822549, 43.0566411867658), (-87.8775130317689, 43.0566099575846), (-87.877518485939, 43.0565848484017), (-87.8775420272819, 43.0565667996297), (-87.8775493061648, 43.0565551719246), (-87.8776052605985, 43.0565276430138), (-87.8776061348869, 43.0565024501465), (-87.8776232740482, 43.056470836245), (-87.8776442339761, 43.0564611432346), (-87.8776563245828, 43.0564428807198), (-87.8776658363317, 43.0564329731337), (-87.8777108061511, 43.0563917962375), (-87.8777444977232, 43.0563453653765), (-87.8777518349042, 43.056332055794), (-87.8777545922589, 43.056318662537), (-87.8778094196837, 43.056257499351), (-87.8778579043776, 43.0561810909981), (-87.8778827288761, 43.0561260906557), (-87.8778770818878, 43.0560906918715), (-87.8778640978465, 43.0560686008779), (-87.8778430503391, 43.0560290148009), (-87.8778278718402, 43.0559882785128), (-87.8778232227657, 43.0559687463861), (-87.877825833335, 43.0559166217469), (-87.8778306461948, 43.055909988759), (-87.8778492589629, 43.0559019330626), (-87.8779053862003, 43.0558693673856), (-87.8779174752604, 43.0558433581885), (-87.8779205239712, 43.0558215664036), (-87.8779345570088, 43.0558134243261), (-87.8779464142227, 43.0558018820384), (-87.8779582144587, 43.0557920171374), (-87.877988742699, 43.0557707381632), (-87.8780030670874, 43.0557541984534), (-87.8780084044571, 43.0557324475752), (-87.8780139213848, 43.0557000359395), (-87.8780196567581, 43.0556884730507), (-87.8780364531282, 43.0556654520572), (-87.8780749795008, 43.0556311657432), (-87.8780913714542, 43.0556197999095), (-87.8781187100143, 43.0555942553485), (-87.8781467052764, 43.0555710885348), (-87.8781685440585, 43.0555473431), (-87.8781852079489, 43.055528208686), (-87.8781964075047, 43.0555128613789), (-87.8782457188407, 43.0554748889831), (-87.8782763395337, 43.0554536629872), (-87.8783077185668, 43.0554377962434), (-87.8783421479279, 43.0554170050799), (-87.8783784787566, 43.0554061418), (-87.8784236195185, 43.0554003899909), (-87.878463585544, 43.0554143255474), (-87.8784834524739, 43.0554245868254), (-87.8785050530451, 43.0554497217686), (-87.8785109327332, 43.0554745625041), (-87.8784986172556, 43.0555056569148), (-87.87849113844, 43.0555269509483), (-87.878513366529, 43.0555339615022), (-87.8785291421767, 43.0555326070903), (-87.8785724387073, 43.0555152778614), (-87.8787552734609, 43.0554398078693), (-87.878960636884, 43.0553206048427), (-87.8794068639315, 43.0550254439796), (-87.8796689984962, 43.0548422197715), (-87.8797760898275, 43.0547339296734), (-87.8799029133813, 43.0545984372216), (-87.8800109614154, 43.0544625936864), (-87.8801210406258, 43.0543389521858), (-87.8801815971294, 43.0542774309974), (-87.8801974864498, 43.054202994759), (-87.8801853833017, 43.0541631994807), (-87.8801668462657, 43.0541445440248), (-87.8801574274416, 43.054134114937), (-87.8801417798533, 43.0541420245744), (-87.8801120990673, 43.0541517238248), (-87.8800744656527, 43.0541489727701), (-87.8800511508528, 43.054136233362), (-87.8800323461987, 43.054114353763), (-87.8800222045623, 43.0540844298177), (-87.8800329043761, 43.054057973101), (-87.8800615070975, 43.0540390258977), (-87.8801014614786, 43.0540151640247), (-87.8801302086554, 43.0539921188206), (-87.8801545154035, 43.0539761674625), (-87.8803193232872, 43.0538472203763), (-87.8803768108412, 43.0538021310368), (-87.8804126275642, 43.0537771519021), (-87.8804484454227, 43.0537521745787), (-87.8804495111992, 43.0537214213582), (-87.8804577418561, 43.0536856699947), (-87.8804797642, 43.0536553065101), (-87.8805292009996, 43.0536408410175), (-87.8805782800747, 43.0536366268316), (-87.8806216165924, 43.0535964017052), (-87.8806794564638, 43.0535410607921), (-87.8807629507039, 43.0534729973087), (-87.8807931320365, 43.0534432405625), (-87.8808512796662, 43.0533917664582), (-87.8808939751198, 43.0533796370203), (-87.8809477477388, 43.0533866704024), (-87.8809778410197, 43.0534030072102), (-87.8809767754206, 43.053433763136), (-87.8809475899084, 43.0534691222149), (-87.8809156452152, 43.0534998051238), (-87.8808653008644, 43.0535575153745), (-87.8808656032356, 43.0535884795872), (-87.8809069322883, 43.0536294344707), (-87.8809622856565, 43.0536458530387), (-87.8810459403778, 43.0536525409903), (-87.8811786741659, 43.0536550144353), (-87.881305488643, 43.0536266034516), (-87.8814258485764, 43.0535826832782), (-87.8816407533547, 43.0534328172736), (-87.8817632429815, 43.0533273875779), (-87.8818735342828, 43.0531704423688), (-87.8819272282223, 43.0530329569821), (-87.8819173392659, 43.0529148049675), (-87.8818375933567, 43.0527953498399), (-87.8817490841382, 43.0527270249598), (-87.8816942388165, 43.0527728872491), (-87.8816511947432, 43.0528046710348), (-87.8815935497893, 43.0528307494316), (-87.8815683913557, 43.0528447618418), (-87.8815218604173, 43.0528348444389), (-87.8814740436245, 43.0527879267389), (-87.8814587772436, 43.0527377354324), (-87.8814779679186, 43.0527073172078), (-87.8815429817171, 43.0526524066948), (-87.8816317817182, 43.0525816536507), (-87.8817075650589, 43.0525305689237), (-87.881768367778, 43.0524846366216), (-87.8818163382452, 43.0524529463699), (-87.881861783235, 43.0524230198699), (-87.881913863636, 43.0523928090504), (-87.8819690641426, 43.052361530758), (-87.882015054776, 43.052329600944), (-87.8820718679195, 43.0522901512914), (-87.8821282588972, 43.0522545936221), (-87.8821799575681, 43.052215080171), (-87.8822140943091, 43.0521948470242), (-87.882230566748, 43.0521810364839), (-87.8822631964235, 43.0521220916766), (-87.8822785173533, 43.0520995144572), (-87.8822854567302, 43.0520790682891), (-87.882292899607, 43.0520441512702), (-87.8822937601066, 43.0519892980286), (-87.882282217361, 43.0519326884069), (-87.8822513904703, 43.0518663431696), (-87.8822170706469, 43.0518101674446), (-87.8822072966635, 43.0517914144001), (-87.8821881437063, 43.051754663944), (-87.88215395741, 43.0517063372559), (-87.8821346020706, 43.0516730218605), (-87.8821052313812, 43.0516358334448), (-87.8820853777943, 43.0516055613044), (-87.8820608715355, 43.0515604773417), (-87.882041888359, 43.0515164174184), (-87.8820078471747, 43.0514720625931), (-87.8819830500637, 43.051434246175), (-87.8819684910369, 43.0514043661851), (-87.8819491527104, 43.0513710969939), (-87.8819251350345, 43.0513307017679), (-87.8818961616514, 43.0512977204191), (-87.8818725771542, 43.0512648862738), (-87.8796572600491, 43.0477752509415), (-87.8796326807447, 43.0477340693993), (-87.8796107565816, 43.0476920900388), (-87.8795915347112, 43.0476494046872), (-87.8795750585405, 43.0476061069024), (-87.879561362919, 43.0475622891823), (-87.879550478765, 43.0475180511549), (-87.8795424298532, 43.0474734860115), (-87.8795372322838, 43.0474286958048), (-87.8795348999843, 43.0473837744425), (-87.8795354355891, 43.0473388228251), (-87.8795388368874, 43.0472939399618), (-87.8795451030515, 43.047249220385), (-87.8795542132785, 43.0472047681592), (-87.8802274733316, 43.0446824363466), (-87.880380157348, 43.0447045861521), (-87.8801360215492, 43.0455891020198), (-87.8796926296596, 43.0472660098368), (-87.8796835370935, 43.0473055278983), (-87.8796770746636, 43.0473453219242), (-87.8796732639926, 43.0473852995711), (-87.8796721108149, 43.0474253663981), (-87.8796736159572, 43.0474654278727), (-87.8796777803085, 43.0475053876624), (-87.8796845911985, 43.0475451509826), (-87.8796940310177, 43.0475846238567), (-87.8797060820942, 43.0476237141079), (-87.879720712094, 43.0476623274848), (-87.8797378873938, 43.0477003715127), (-87.8797575668521, 43.0477377580789), (-87.87977970445, 43.0477743980791), (-87.8819856700329, 43.0511977200196), (-87.8821856153454, 43.0511564170726), (-87.8822418044461, 43.0513040353211), (-87.8827857763964, 43.0511926870524), (-87.8827422114768, 43.0510687790492), (-87.8835412247964, 43.0509080335031), (-87.8837523867211, 43.0514418296445), (-87.885274349768, 43.0511339524819), (-87.8853872873731, 43.0514351777414), (-87.8853623770511, 43.0514403873301), (-87.8854543806572, 43.051680383937), (-87.885517887684, 43.0516671090589), (-87.885510416809, 43.0516489772381), (-87.8858108542033, 43.0515861707956), (-87.8858183191488, 43.0516042988832), (-87.8861026455217, 43.0515448605647), (-87.8867000539038, 43.0529961849343), (-87.8868067849321, 43.0530356076438), (-87.887084230423, 43.0529814443191), (-87.887146365766, 43.0528957636071), (-87.8866459065079, 43.051618029763), (-87.8873111964488, 43.0511219390986), (-87.8874844290732, 43.0512422195412), (-87.8876733184629, 43.0511010546269), (-87.8874961666141, 43.0509869237936), (-87.8876940801139, 43.0508413774235), (-87.8870381534747, 43.0504076719512), (-87.888277064881, 43.0492085307957), (-87.8893937382556, 43.0480732587977), (-87.8886362607098, 43.0476583279546), (-87.8885443274381, 43.0471796248471), (-87.8898791850368, 43.0458636750681), (-87.8879700646791, 43.0448221067045), (-87.8871763511419, 43.0456045623798), (-87.8862994041901, 43.046469042998), (-87.8817783578653, 43.0463011004676), (-87.8817868129562, 43.0461521010253), (-87.8839339838137, 43.0462263784918), (-87.8845917460561, 43.0455847342614), (-87.8849025263551, 43.0452815611086), (-87.8860253194057, 43.0442078505446), (-87.8873846267361, 43.0433059158089), (-87.8884850911242, 43.0429564811335), (-87.8889249629884, 43.0428168044086), (-87.89056085262, 43.0425606741015), (-87.8921216567676, 43.0424737111896), (-87.8950364271982, 43.042475342144), (-87.8951278512416, 43.0423079217287), (-87.8952180160119, 43.0421402636253), (-87.895306982866, 43.0419722618186), (-87.8953947455853, 43.0418039188975), (-87.895481306384, 43.0416352421093), (-87.8955666589817, 43.0414662358424), (-87.8956508020981, 43.0412969018768), (-87.8957337342366, 43.0411272482912), (-87.895810323189, 43.0409650752647), (-87.8958841124223, 43.040802446971), (-87.895955187192, 43.0406391695946), (-87.8960235453934, 43.0404752692143), (-87.8960891678388, 43.0403107688916), (-87.8961520524856, 43.0401456929049), (-87.8962121849617, 43.0399800671058), (-87.896269558349, 43.0398139147818), (-87.8963241643791, 43.0396472627975), (-87.8963759961344, 43.03948013444), (-87.8964250417597, 43.0393125538055), (-87.8964712978946, 43.0391445478488), (-87.8965147564268, 43.038976138934), (-87.896555411512, 43.0388073548698), (-87.8965932537804, 43.038638218897), (-87.8966282822956, 43.038468758915), (-87.8967186096169, 43.0378179964209), (-87.8949500280215, 43.0379127580204), (-87.8947715325828, 43.0379075643146), (-87.8945931450891, 43.0379006614661), (-87.8944148962565, 43.0378920491436), (-87.8942368142541, 43.0378817296702), (-87.8940589321893, 43.0378697045601), (-87.8940053265429, 43.0378593557653), (-87.8939524898362, 43.0378470681071), (-87.8939005512156, 43.0378328700925), (-87.8938496346723, 43.0378167973365), (-87.893799870145, 43.0377988909675), (-87.8937513776955, 43.0377791937317), (-87.8937042820445, 43.0377577556657), (-87.8936409853065, 43.0377199046724), (-87.893579268082, 43.037680676402), (-87.8935302058698, 43.0376376728779), (-87.8934821754994, 43.037594045528), (-87.8934130954336, 43.0375058734395), (-87.8933904336313, 43.0374621920931), (-87.893366937557, 43.0374187474079), (-87.8933508729732, 43.0373629043219), (-87.8933361028152, 43.0373068673116), (-87.8933343628793, 43.0372638897333), (-87.8933340599246, 43.0372208910611), (-87.8933351867913, 43.0371779008772), (-87.8933392512667, 43.0371571892288), (-87.8933891409891, 43.0369000113576), (-87.8935372566004, 43.0362322774494), (-87.8936254755406, 43.0358209839534), (-87.8936885782415, 43.0355552947954), (-87.8937734142479, 43.0351890080227), (-87.8938060600667, 43.035064611037), (-87.8938315586458, 43.0349759556884), (-87.8938610261166, 43.0349228742545), (-87.8938741097063, 43.0349074505767), (-87.8938894582844, 43.0348931971312), (-87.8939068854173, 43.0348802878525), (-87.8939261644062, 43.0348688896255), (-87.8939470597309, 43.0348591403575), (-87.8939693080899, 43.0348511648345), (-87.8939926336182, 43.0348450605965), (-87.8940167413805, 43.0348409086222), (-87.8940413314856, 43.0348387555814), (-87.8940660948171, 43.0348386308646), (-87.8940907207346, 43.0348405368207), (-87.894114903238, 43.034844447971), (-87.8941383407816, 43.0348503164078), (-87.8941607351712, 43.0348580681732), (-87.8941818136142, 43.0348676045667), (-87.8942013038749, 43.0348788106907), (-87.8942189678302, 43.0348915434648), (-87.8942345827275, 43.0349056411841), (-87.8942479506892, 43.0349209326995), (-87.8942589090527, 43.0349372223014), (-87.894267319907, 43.0349543084355), (-87.8942730739885, 43.034971977472), (-87.8942761041455, 43.0349900048548), (-87.8942763700594, 43.035008171027), (-87.8942738650597, 43.0350262417473), (-87.894233677513, 43.0352046199972), (-87.8942168415126, 43.0353088408575), (-87.8941332537444, 43.0357219926265), (-87.8940811296429, 43.0359895314135), (-87.8940781608741, 43.0360207509646), (-87.8940743765576, 43.0362946168112), (-87.8940721140496, 43.0363189411669), (-87.8938919453957, 43.037152971859), (-87.8938861248856, 43.0371848319199), (-87.8938823842131, 43.0372168601795), (-87.8938807356741, 43.0372489848296), (-87.8938811819361, 43.0372811284805), (-87.8938837206046, 43.0373132181511), (-87.8938883490994, 43.0373451862594), (-87.893900309488, 43.0373660759588), (-87.8939148117994, 43.0373860852837), (-87.8939317330471, 43.0374050426693), (-87.8939509337378, 43.0374227924532), (-87.8939722531197, 43.0374391902848), (-87.8939955192135, 43.0374540970083), (-87.8940205348528, 43.0374673919109), (-87.8940470951999, 43.0374789631424), (-87.8940749801689, 43.0374887138777), (-87.89410395795, 43.0374965668849), (-87.8941337890629, 43.0375024537947), (-87.894164224727, 43.037506326776), (-87.8941950143769, 43.0375081541733), (-87.8942259043738, 43.0375079222833), (-87.8942566370269, 43.0375056281336), (-87.8942869586235, 43.0375012958391), (-87.8943166187596, 43.0374949603818), (-87.8943453701234, 43.0374866739098), (-87.8943729735265, 43.0374765022289), (-87.8943992025321, 43.037464532992), (-87.8945828857808, 43.0373719531264), (-87.8946026369351, 43.0373627984444), (-87.8946237624019, 43.0373554791233), (-87.8946459478416, 43.0373501045986), (-87.8946688615046, 43.0373467551691), (-87.8950058546956, 43.0373444361736), (-87.8951424229535, 43.0367400406547), (-87.8951440093066, 43.0367327520454), (-87.8951472840093, 43.0367257711372), (-87.8951521464574, 43.0367193103749), (-87.8951584526573, 43.0367135588886), (-87.8951660138129, 43.0367086878703), (-87.8951746074912, 43.0367048471787), (-87.895183972107, 43.0367021472279), (-87.8951938322828, 43.0367006711633), (-87.8952038907261, 43.0367004612043), (-87.8969874107147, 43.036602371756), (-87.897036234679, 43.0363815583409), (-87.8967804367138, 43.0363709269893), (-87.8967684724051, 43.0363704453942), (-87.8967560874133, 43.0363695246973), (-87.8967397688368, 43.0363661198062), (-87.8967228289983, 43.0363613617433), (-87.8967045062463, 43.0363548744335), (-87.8966945023305, 43.0363507867717), (-87.896685061583, 43.0363460287869), (-87.896672378311, 43.0363385382612), (-87.896660454976, 43.0363304026639), (-87.8966438551319, 43.0363150777634), (-87.8966290560889, 43.0362987893801), (-87.8966161656454, 43.0362816511653), (-87.8966052705277, 43.0362637826839), (-87.8965964461428, 43.036245311395), (-87.8965848971275, 43.0362070814794), (-87.8965759695403, 43.036168476856), (-87.8965696859207, 43.0361295915897), (-87.8965660624576, 43.0360905259308), (-87.8965631252318, 43.0360480674573), (-87.8965619449686, 43.0360055631551), (-87.8965625228495, 43.0359630499646), (-87.8965635671017, 43.0359206822726), (-87.896566682789, 43.0358783691186), (-87.8965718656279, 43.0358361635499), (-87.8965791111497, 43.0357941240131), (-87.8965884078035, 43.0357523007195), (-87.8966237321399, 43.0356305648063), (-87.8966608619436, 43.035509117119), (-87.8966716171369, 43.0354647491142), (-87.8966796113818, 43.0354200661896), (-87.8966848315909, 43.0353751635515), (-87.8966872610893, 43.0353301336383), (-87.8966869003458, 43.0352850701058), (-87.8966837474687, 43.0352400638645), (-87.896677806607, 43.035195208638), (-87.8966690954038, 43.0351505983994), (-87.8966576278838, 43.0351063252535), (-87.8966434279162, 43.0350624805868), (-87.8966265255967, 43.0350191531994), (-87.8966069219422, 43.0349762422582), (-87.8965847751624, 43.0349340019156), (-87.8965601254129, 43.0348925139538), (-87.8965330226942, 43.0348518594366), (-87.8965035147381, 43.034812113983), (-87.8964716651926, 43.0347733544072), (-87.8964375304377, 43.0347356546869), (-87.8963256424898, 43.0346177768342), (-87.8963175685033, 43.0346032660883), (-87.8963114959487, 43.034588238603), (-87.8963074809938, 43.0345728457938), (-87.8963055626939, 43.0345572369584), (-87.8963057652903, 43.0345415638218), (-87.8963080797173, 43.034525982895), (-87.8963131734348, 43.0345019711368), (-87.8963169336648, 43.0344778284465), (-87.8963206225479, 43.0344579381755), (-87.8963271553705, 43.0344384463099), (-87.8963364560071, 43.0344195675493), (-87.8963484202105, 43.034401513371), (-87.8963629194161, 43.0343844884993), (-87.8963797875573, 43.0343686816564), (-87.8963988331783, 43.0343542702892), (-87.8964198519178, 43.0343414144972), (-87.8964425994592, 43.0343302583328), (-87.8964668284253, 43.0343209277828), (-87.8964922628643, 43.0343135230928), (-87.8965186223205, 43.0343081327192), (-87.8965456114738, 43.0343048133277), (-87.8965729258096, 43.0343036034051), (-87.8966002605148, 43.0343045144194), (-87.8966579433576, 43.034309231316), (-87.8967154333929, 43.0343150935934), (-87.8967326913763, 43.0343181863148), (-87.8967492289233, 43.0343229540525), (-87.8967647409728, 43.0343293083206), (-87.8967789479879, 43.0343371322912), (-87.8967915957082, 43.0343462879933), (-87.8968070196282, 43.034359348098), (-87.8968244039365, 43.0343725138069), (-87.8968436709961, 43.0343841871797), (-87.8968645853174, 43.0343942197861), (-87.8968868822059, 43.0344024914699), (-87.8969102939251, 43.0344088991276), (-87.896934528533, 43.0344133653209), (-87.8969592885002, 43.0344158323184), (-87.896984269142, 43.0344162719718), (-87.8970091625782, 43.0344146776843), (-87.8970336600315, 43.0344110689564), (-87.8970574628682, 43.0344054915893), (-87.8970802753617, 43.0343980139498), (-87.8970985647086, 43.0343903868954), (-87.8971159337022, 43.0343816802779), (-87.897132266122, 43.0343719540786), (-87.8971523765905, 43.0343619483928), (-87.8971691852682, 43.0343522580125), (-87.8971833270061, 43.0343445190998), (-87.8971953199422, 43.034338013675), (-87.8972069390092, 43.0343323144416), (-87.8972187091638, 43.034325076427), (-87.8975056383592, 43.0341837514895), (-87.8980993971638, 43.0312406652154), (-87.8982053275895, 43.0307220174197), (-87.898218660191, 43.0306643063185), (-87.8982292232097, 43.0306062873747), (-87.8982370019446, 43.0305480314528), (-87.8982419853131, 43.0304896112849), (-87.8982441683969, 43.0304310988166), (-87.8982435487309, 43.0303725660385), (-87.8982401263035, 43.0303140849865), (-87.8982339072362, 43.0302557278094), (-87.898224896362, 43.0301975684332), (-87.8982131084814, 43.0301396764657), (-87.8981985534574, 43.0300821223235), (-87.8981812520378, 43.0300249811267), (-87.8981612265062, 43.0299683190189), (-87.8981385013516, 43.0299122093882), (-87.8981131025058, 43.0298567193458), (-87.8980850619717, 43.0298019179161), (-87.8980544154624, 43.0297478732914), (-87.8980212012058, 43.0296946519094), (-87.8979854562335, 43.0296423192854), (-87.8979472311007, 43.0295909402838), (-87.8979065666723, 43.0295405759884), (-87.8978635183779, 43.029491292254), (-87.8978181369872, 43.029443147646), (-87.89777047563, 43.0293962034745), (-87.8977206011137, 43.0293505158998), (-87.8976685667521, 43.0293061408328), (-87.8976144393824, 43.029263133534), (-87.8975582870986, 43.0292215483865), (-87.8975001768599, 43.0291814370515), (-87.8974401831399, 43.0291428468266), (-87.8973783804107, 43.0291058250097), (-87.8973224960151, 43.0290745611855), (-87.897291879621, 43.0290582422701), (-87.8961590914156, 43.0290904034991), (-87.8961600408732, 43.0291014138074), (-87.8961585024327, 43.0291123870701), (-87.8961545146708, 43.0291230223491), (-87.8961481894214, 43.0291330299675), (-87.8961396994167, 43.0291421339817), (-87.8961292753697, 43.0291500856341), (-87.8961172071393, 43.0291566651763), (-87.8961038224442, 43.0291616940809), (-87.8960894919247, 43.0291650306334), (-87.8960746063816, 43.0291665893204), (-87.8960281731644, 43.0291668904978), (-87.8960177336303, 43.0291677606885), (-87.8960077163388, 43.0291700938269), (-87.8959984864233, 43.0291738012243), (-87.8959903823212, 43.0291787495754), (-87.8959827345645, 43.0292077619849), (-87.8959729532447, 43.0292364269441), (-87.8959610621515, 43.0292646593495), (-87.8959480564413, 43.0292906109828), (-87.8959199408441, 43.0293378136463), (-87.895889163352, 43.0293841124964), (-87.8958557745531, 43.0294294283272), (-87.8958198360756, 43.0294736821369), (-87.8957814095488, 43.0295167949239), (-87.8957405625494, 43.029558693199), (-87.8957107703176, 43.0295779435159), (-87.8956827279259, 43.0295985624943), (-87.8956565537725, 43.029620462282), (-87.8956154282763, 43.0296735578999), (-87.8955768392959, 43.0297276666531), (-87.8955408307394, 43.0297827254252), (-87.8955074429901, 43.0298386665314), (-87.8954767188543, 43.0298954232327), (-87.8954486950674, 43.0299529268763), (-87.8954234046855, 43.0300111087413), (-87.8954008807959, 43.0300698992065), (-87.8953811467352, 43.0301292266694), (-87.8953642282627, 43.0301890204724), (-87.8953501438089, 43.0302492089216), (-87.8953434582757, 43.0302719665523), (-87.8953365616777, 43.0302983977264), (-87.8953288043355, 43.0303314033811), (-87.8953216678029, 43.0303638100232), (-87.8953148055085, 43.0303952735655), (-87.8953084020231, 43.030425923489), (-87.8953031670201, 43.0304563600304), (-87.8953001501087, 43.0304837598937), (-87.8952991325875, 43.0305121971831), (-87.8953005170076, 43.0305451343925), (-87.8953039099524, 43.0305786652734), (-87.895307142261, 43.0306031643327), (-87.8953109218262, 43.0306287747797), (-87.8953157341212, 43.0306605805595), (-87.8953192273463, 43.0306829899948), (-87.8953309282051, 43.0307473675644), (-87.895335640277, 43.0307681715476), (-87.8953456808013, 43.0308052778539), (-87.895362304455, 43.0308555401168), (-87.8953744814257, 43.0308890229338), (-87.8953862347293, 43.0309206564774), (-87.8954072520194, 43.0309716159944), (-87.8954147125337, 43.0309884188223), (-87.8954214090819, 43.031001774976), (-87.8954363494474, 43.0310288599035), (-87.8954529810362, 43.0310564146631), (-87.8954707644103, 43.031084385144), (-87.8954891700676, 43.0311127138178), (-87.8955078052332, 43.0311412934619), (-87.8955268698639, 43.0311698063162), (-87.895536670335, 43.0311839213832), (-87.8955570289832, 43.0312116414788), (-87.8955676701437, 43.0312251534961), (-87.895571774558, 43.0312299757758), (-87.8955899452171, 43.0312513287707), (-87.8956131002942, 43.031276436187), (-87.8956365532822, 43.0313005910313), (-87.8956597212324, 43.0313238977689), (-87.8956819693917, 43.0313462897213), (-87.8957024500405, 43.0313669687012), (-87.8957279008747, 43.0313926372547), (-87.8957488637647, 43.0314131072435), (-87.8957535832118, 43.031426671697), (-87.89577791827, 43.031449237331), (-87.8958008716209, 43.031469935954), (-87.8958225257403, 43.0314890104154), (-87.8958622399975, 43.0315232703707), (-87.8958804682551, 43.0315389209107), (-87.8959144017283, 43.0315678854245), (-87.8959304425404, 43.0315813631907), (-87.8959460901374, 43.0315942825983), (-87.8959615136224, 43.0316067233163), (-87.8959768832012, 43.0316187686358), (-87.8960080677836, 43.0316419715622), (-87.8960395430483, 43.0316638967142), (-87.8960839792387, 43.0316930258637), (-87.8961037740251, 43.0317054583273), (-87.8961301475269, 43.0317216161674), (-87.8961678946227, 43.0317428433584), (-87.8961921980171, 43.0317647671894), (-87.8962268409909, 43.0317834579595), (-87.8962644200481, 43.0318017564348), (-87.8963085619253, 43.0318208165813), (-87.8963412113728, 43.0318337300315), (-87.8965081989541, 43.0318946177695), (-87.8965964135718, 43.0319221904646), (-87.8967369220057, 43.0319579667724), (-87.8968258743247, 43.0319792605705), (-87.8969324836376, 43.0320278738665), (-87.8969510245246, 43.0320471183157), (-87.8969670652409, 43.0320675366179), (-87.8969804706245, 43.0320889542872), (-87.8969911243152, 43.0321111854793), (-87.8969989394544, 43.0321340430947), (-87.89700384412, 43.0321573340068), (-87.8970057998811, 43.0321808549033), (-87.8970047864904, 43.0322044091109), (-87.8970008194601, 43.0322277952153), (-87.8969939253113, 43.0322508129058), (-87.8969841672738, 43.0322732652521), (-87.8969716268227, 43.0322949601638), (-87.896956410916, 43.0323157141253), (-87.8969386495098, 43.0323353530515), (-87.896918495868, 43.0323537032879), (-87.8968961197791, 43.0323706103957), (-87.8968717114222, 43.0323859338198), (-87.8968454816759, 43.0323995378905), (-87.8968176517175, 43.0324113087395), (-87.8967593796561, 43.0324346021837), (-87.8967025630505, 43.0324597603548), (-87.8966473128669, 43.0324867330824), (-87.8965937414227, 43.0325154666188), (-87.896541949934, 43.0325459088126), (-87.8964920412773, 43.0325779949363), (-87.8964441119799, 43.0326116664485), (-87.8963982514569, 43.0326468574724), (-87.8963545553817, 43.0326834986454), (-87.8963131060274, 43.0327215176554), (-87.8962739819876, 43.0327608421223), (-87.8962372620118, 43.0328013951664), (-87.8962030163865, 43.0328430961498), (-87.8961713165331, 43.0328858671564), (-87.8961422170092, 43.032929620954), (-87.896115777125, 43.0329742749), (-87.8960920514701, 43.0330197408616), (-87.8960710823987, 43.0330659295792), (-87.8960529146259, 43.0331127545377), (-87.8960375784563, 43.0331601199509), (-87.8960251064315, 43.0332079363769), (-87.8960155226615, 43.0332561097152), (-87.8960088487719, 43.0333045467194), (-87.8960050941525, 43.0333531530163), (-87.8960042658327, 43.0334018314872), (-87.896006366914, 43.033450492144), (-87.8960113922208, 43.0334990358409), (-87.8960193339378, 43.0335473687856), (-87.8960301755704, 43.0335953997262), (-87.8960438959021, 43.0336430319207), (-87.8960604674281, 43.0336901730125), (-87.8960798601277, 43.0337367323994), (-87.8961020329709, 43.0337826183746), (-87.8961269448648, 43.033827741031), (-87.8961545496857, 43.03387201397), (-87.8961847865576, 43.0339153514202), (-87.8962176032223, 43.0339576668694), (-87.896252933741, 43.0339988789544), (-87.8962588943707, 43.0340058075), (-87.8962662085217, 43.0340119984114), (-87.8962747128373, 43.0340173117964), (-87.8962842089927, 43.0340216251245), (-87.896294480685, 43.0340248389442), (-87.8963052958688, 43.0340268832279), (-87.8963229321651, 43.0340306799655), (-87.8963395638256, 43.0340364201949), (-87.8963547966232, 43.0340439669556), (-87.8963682659987, 43.0340531415151), (-87.8963796542668, 43.0340637227864), (-87.8963886937379, 43.0340754635945), (-87.8963951645135, 43.0340880834315), (-87.8963990002363, 43.0341080103039), (-87.8964001108506, 43.0341281172611), (-87.8963984835643, 43.0341482050664), (-87.8963941350575, 43.034168074128), (-87.8963871089364, 43.0341875271528), (-87.896377474538, 43.0342063682244), (-87.896365327816, 43.0342244127242), (-87.8963507903929, 43.0342414792097), (-87.8963340068903, 43.0342573956687), (-87.8963151433924, 43.034272008495), (-87.8962943916525, 43.034285167259), (-87.896271951269, 43.0342967432869), (-87.8962480520138, 43.0343066228709), (-87.8962229293598, 43.034314705015), (-87.8961968339854, 43.0343209106159), (-87.8961721604534, 43.0343252128556), (-87.8961470591768, 43.0343278539414), (-87.896121733372, 43.0343288142225), (-87.8960963932444, 43.0343280849831), (-87.8960712497623, 43.0343256710281), (-87.8960465072029, 43.0343215932475), (-87.8959999111416, 43.0343089906806), (-87.8959524195927, 43.0342983345065), (-87.8959041836446, 43.0342896572359), (-87.8958553605812, 43.0342829896932), (-87.8958061032123, 43.0342783500144), (-87.8957565668938, 43.0342757536812), (-87.895706908394, 43.0342752107989), (-87.895657287306, 43.0342767207203), (-87.8956078621199, 43.034280279176), (-87.8955587890275, 43.0342858773519), (-87.895510223396, 43.0342934947134), (-87.8954623219126, 43.034303108049), (-87.8954152329875, 43.0343146849896), (-87.895369108773, 43.0343281914349), (-87.89532409566, 43.0343435823726), (-87.8952910107829, 43.0343576723875), (-87.8952593361658, 43.0343734075203), (-87.8952292204502, 43.0343907130856), (-87.8952008100725, 43.0344095071535), (-87.8951742407694, 43.0344296976911), (-87.8951496410421, 43.0344511889297), (-87.8951271261455, 43.0344738776518), (-87.8951068090679, 43.034497655195), (-87.89508381496, 43.0345227473497), (-87.895062912382, 43.0345488065977), (-87.8950441795101, 43.0345757371388), (-87.8950276846141, 43.0346034456906), (-87.8950134840376, 43.034631828845), (-87.8950016327738, 43.0346607867702), (-87.894992172477, 43.0346902148853), (-87.8949289142954, 43.0349968949184), (-87.8949082156993, 43.0351296436267), (-87.8948999685529, 43.035266294968), (-87.8948951072677, 43.035285923969), (-87.8948877233638, 43.0353051262623), (-87.8948778793691, 43.0353237256161), (-87.8948761092454, 43.0353266517245), (-87.8948618387527, 43.0353422552353), (-87.8948452112635, 43.035356542754), (-87.8948264479299, 43.0353693301803), (-87.8948057977789, 43.0353804438353), (-87.8947835384131, 43.0353897357822), (-87.8947599674237, 43.0353970836669), (-87.894735396442, 43.0354023852058), (-87.894710155582, 43.0354055717745), (-87.8946845826161, 43.0354066019041), (-87.8946590180684, 43.0354054611908), (-87.8946338063788, 43.0354021641182), (-87.89460927744, 43.035396755516), (-87.8945857650913, 43.0353893082013), (-87.8945635802538, 43.0353799188794), (-87.894543020497, 43.0353687155242), (-87.8945243580802, 43.0353558481525), (-87.8945078474065, 43.0353414862602), (-87.8944937039817, 43.0353258238357), (-87.8944821183117, 43.0353090679111), (-87.894473247098, 43.0352914447019), (-87.8944672038271, 43.0352731877277), (-87.8944640734289, 43.0352545398835), (-87.894463896299, 43.0352357540447), (-87.8944789236475, 43.0351703767309), (-87.8944955702031, 43.0351174790761), (-87.8945131375931, 43.0350596171671), (-87.8945412045924, 43.0349508733123), (-87.8946148694612, 43.0345937456081), (-87.8946286596992, 43.0345239295408), (-87.8945760406951, 43.0342803971016), (-87.8945769128801, 43.0342576569968), (-87.8945777669716, 43.034175875625), (-87.8945758772335, 43.0340941046623), (-87.8945712359019, 43.0340123916884), (-87.89456385349, 43.0339307882233), (-87.8945537295627, 43.0338493428829), (-87.8945408747262, 43.0337681044871), (-87.8945252933282, 43.0336871253417), (-87.8945069973249, 43.0336064506893), (-87.8944935967749, 43.0335580858384), (-87.8944483727658, 43.0332988819145), (-87.8944199722291, 43.0332306930537), (-87.8943899793628, 43.0331628708876), (-87.8943584032728, 43.0330954362939), (-87.8942804313166, 43.0329369041574), (-87.8940038358558, 43.0323779126069), (-87.8939796323779, 43.0323353076287), (-87.8939324670635, 43.0322679100243), (-87.8938945878901, 43.032202501574), (-87.8938498899497, 43.0320941708976), (-87.893792455717, 43.0319732986002), (-87.8937644989655, 43.0318912949015), (-87.8937400537971, 43.0318045919632), (-87.8937258137491, 43.031740530038), (-87.8937115229715, 43.0316561934521), (-87.8936970973953, 43.0315228273547), (-87.893694045596, 43.0314626538025), (-87.8936940630463, 43.031372477274), (-87.8936977527686, 43.0313054474273), (-87.893706817246, 43.0312214526768), (-87.8937082813679, 43.0312078748505), (-87.8937161508981, 43.0311523501173), (-87.8937324267026, 43.0310510228911), (-87.8937471347365, 43.030967566734), (-87.8937566078004, 43.0309165181536), (-87.893777264113, 43.0308109147976), (-87.89379471785, 43.0307294896115), (-87.8938120293365, 43.0306571158509), (-87.8938399805904, 43.0305498935753), (-87.8938537063703, 43.0304998845737), (-87.8938703853714, 43.0304413165505), (-87.8938996723152, 43.0303471674889), (-87.8939326869828, 43.0302573295297), (-87.8939496492081, 43.0302164885769), (-87.8939649497352, 43.0301824152593), (-87.8940024612747, 43.0301087373064), (-87.8940410671551, 43.0300468395457), (-87.8940750976841, 43.0299988689642), (-87.8941047280904, 43.0299589866678), (-87.894161449712, 43.0298825967345), (-87.8942097260009, 43.029824910317), (-87.8942807381979, 43.0297434552978), (-87.8943539075787, 43.0296637600666), (-87.8944099652248, 43.0296046851501), (-87.8944584428784, 43.0295549371631), (-87.8945251165028, 43.029489326156), (-87.8945724289286, 43.0294466115938), (-87.8945948888481, 43.0294283621235), (-87.8946248588928, 43.0294065923161), (-87.8946649232585, 43.0293816795983), (-87.89469653916, 43.0293645127624), (-87.8947370653841, 43.0293450815325), (-87.8947472550472, 43.0293406662465), (-87.8947892556523, 43.0293241158448), (-87.8948059625894, 43.0293183166062), (-87.894826844831, 43.029311670832), (-87.8948477640105, 43.0293055209878), (-87.894868545312, 43.0293000250168), (-87.8948890819625, 43.0292950755887), (-87.8949159153756, 43.0292893720379), (-87.894948583972, 43.0292832731967), (-87.8949927629871, 43.0292757171771), (-87.8950525284506, 43.0292648182633), (-87.8951133526425, 43.0292497239016), (-87.8951532574992, 43.029236895752), (-87.8951671341737, 43.0292310908728), (-87.8951870417661, 43.0292203425273), (-87.8952082824595, 43.0292089120089), (-87.8952403088136, 43.0291922586818), (-87.895267802462, 43.0291748883928), (-87.8953120469866, 43.0291396625267), (-87.8953530097662, 43.0290950768934), (-87.8953770227479, 43.0290640308728), (-87.8954046091085, 43.0290214108508), (-87.8954154143926, 43.0290056251732), (-87.8954219900275, 43.0289920168137), (-87.8954309516154, 43.0289377683414), (-87.895438512524, 43.028916390202), (-87.8954467186348, 43.028898556488), (-87.8954575376876, 43.0288799787554), (-87.8954731829995, 43.0288585422992), (-87.8954852307302, 43.0288439592146), (-87.895504373949, 43.0288315911551), (-87.8955249726438, 43.0288232615616), (-87.8955462641682, 43.0288171274917), (-87.8955662564267, 43.0288115483535), (-87.8955828995163, 43.0288092406815), (-87.8956125131481, 43.0288054154666), (-87.8956586681457, 43.028797136698), (-87.8956898830948, 43.0287909684154), (-87.8957251461372, 43.0287837251901), (-87.8959196340974, 43.0287387984598), (-87.8958453215268, 43.0259620161562), (-87.8952765615325, 43.0259895904555), (-87.8952712312683, 43.0258908956642), (-87.9014974537059, 43.0256489102378), (-87.9019138211444, 43.0256665840823), (-87.9020716050894, 43.0257328227548), (-87.9025214951439, 43.0262642148668), (-87.9045992349755, 43.0285845312282), (-87.9066960542253, 43.0300814068203), (-87.9070511715865, 43.0302876283849), (-87.9073118439894, 43.030051719605), (-87.9076658328925, 43.0297306517531), (-87.9068274790034, 43.029005798025), (-87.9059352753945, 43.0282693473021), (-87.9053120927811, 43.0276337436292), (-87.9040409257394, 43.0261042047176), (-87.9038376811073, 43.0254228163374), (-87.9038274909182, 43.0252181691888), (-87.9038240649972, 43.0251493610363), (-87.903968731576, 43.0248343246086), (-87.9040694228797, 43.0245887798051), (-87.9046203390209, 43.0240985150312), (-87.9056222155999, 43.0230167333597), (-87.9059208668948, 43.022192962588), (-87.9058252193546, 43.0221927768522), (-87.9060125685162, 43.0213700911825), (-87.9056948447982, 43.0208410456378), (-87.9056097518967, 43.0207102834535), (-87.9055220292274, 43.0205804587258), (-87.9054316990889, 43.0204516015741), (-87.9053387789664, 43.0203237393279), (-87.9052432912188, 43.0201969003068), (-87.9051452557827, 43.0200711118851), (-87.9050446937897, 43.0199464023597), (-87.9049416264631, 43.0198227973274), (-87.9048360798391, 43.0197003251756), (-87.9047280726252, 43.0195790132553), (-87.9073918419167, 43.0195856046671), (-87.9073994247117, 43.0193638615069), (-87.9044596316379, 43.0193380156707), (-87.9033990297067, 43.0182510111322), (-87.9035127096451, 43.0181256413058), (-87.9036500154172, 43.018062082006), (-87.907598683618, 43.0180499322725), (-87.90758777845, 43.0178042406667), (-87.9030220914176, 43.0178289811934), (-87.9029150350307, 43.0177609106797), (-87.9028061532535, 43.0171829487417), (-87.902930307935, 43.0169397478461), (-87.9040652202439, 43.0148661380538), (-87.9044351647006, 43.0141501194899), (-87.9035679274205, 43.0139101599959), (-87.9031010835749, 43.0137754378664), (-87.8972683161025, 43.0084433717707), (-87.8970913139616, 43.0085392360077), (-87.8990547765385, 43.0130239518438), (-87.8992700895284, 43.013503593461), (-87.8992476837637, 43.0135146141002), (-87.9015972753557, 43.016750057004), (-87.9007330931527, 43.0167514208311), (-87.903306146343, 43.0210312598717), (-87.9027300800787, 43.0211292132512), (-87.9027083245325, 43.0213884634009), (-87.9027999354899, 43.021531782471), (-87.9032014919535, 43.0218318900567), (-87.9035935845112, 43.02203268364), (-87.9034741088152, 43.0221390597562), (-87.9034822332517, 43.0221836208102), (-87.9034941028736, 43.0222358957866), (-87.9034966655356, 43.0223116161222), (-87.9034804259003, 43.0223340178345), (-87.9020142771485, 43.0238623965267), (-87.9019736766598, 43.0238951582689), (-87.9019310397561, 43.0239264966085), (-87.9018864547312, 43.0239563420376), (-87.9018400220524, 43.0239846279742), (-87.9017918395184, 43.0240112940904), (-87.9017420159368, 43.024036281162), (-87.9016906549932, 43.0240595361735), (-87.9016378737733, 43.0240810090584), (-87.9015837844574, 43.0241006496596), (-87.9015285025043, 43.0241184195867), (-87.9014721520829, 43.0241342770083), (-87.9014148546006, 43.0241481890471), (-87.9013567363405, 43.0241601238161), (-87.9012979221127, 43.0241700566052), (-87.9012385378307, 43.0241779663266), (-87.9011787179322, 43.0241838338511), (-87.901118589249, 43.0241876471131), (-87.8983822999605, 43.0245287184131), (-87.8952106636911, 43.0249271439037), (-87.8947012147904, 43.0249417268351), (-87.8946743302809, 43.024923572728), (-87.8946439260146, 43.0249078746844), (-87.8942020014709, 43.0229024666697), (-87.8973605247343, 43.0201133677337), (-87.897027105636, 43.0193531675263), (-87.8947686188821, 43.0213321438838), (-87.8947371967184, 43.0213500787457), (-87.8946815347902, 43.02134904762), (-87.8946704242771, 43.0213373547029), (-87.8946430811844, 43.0213078562418), (-87.8942643689909, 43.0205273873908), (-87.8942644818512, 43.0205014969178), (-87.8942690044602, 43.0204889356369), (-87.8942763621674, 43.0204771175355), (-87.8967031881615, 43.0183508929299), (-87.8962780458174, 43.017401495405), (-87.8939055925024, 43.0195180028956), (-87.8938296546272, 43.0195414435989), (-87.8937646386701, 43.0195043122994), (-87.8930418350643, 43.0180767288881), (-87.8930427821196, 43.0180492933811), (-87.8930575121688, 43.0180259061321), (-87.8955351264966, 43.0158727554478), (-87.8938366092837, 43.012309970401), (-87.8913245095566, 43.0144858656712), (-87.8912167796494, 43.0144724208205), (-87.8911712221532, 43.014417430082), (-87.8937625420852, 43.0121101651748), (-87.8929852412528, 43.0103610140971), (-87.8926272359944, 43.0095638057487), (-87.8919618886251, 43.0081450818315), (-87.8917431694216, 43.0075834642557), (-87.8915956731154, 43.0071795328874), (-87.887802879368, 43.0081391479954), (-87.8876496871429, 43.0081269002373), (-87.8844859863251, 43.0049543739914), (-87.8843757566113, 43.0049099810525), (-87.8843708479128, 43.0047904205), (-87.8857216109939, 43.0038996374582), (-87.887885068978, 43.0023005195528), (-87.8866382417979, 43.0013404524279), (-87.886831528635, 43.0012037628194), (-87.8873615026569, 43.0008483073501), (-87.8877263405086, 43.0006014531186), (-87.887804815622, 43.0005256322135), (-87.8877072648303, 43.0004328849453), (-87.8876053905462, 43.0004649001875), (-87.8875152522406, 43.0005217943875), (-87.8871064332744, 43.0008060337), (-87.8858096425127, 42.9994803844466), (-87.8857662689072, 42.9993086747391), (-87.8857857390349, 42.9991904583422), (-87.8857768657791, 42.999106999483), (-87.885721448045, 42.9990263699308), (-87.8852087625103, 42.9985769137536), (-87.8846100522948, 42.9980914543015), (-87.8843132289496, 42.9979075556115), (-87.8841028589608, 42.9977988278547), (-87.883933171499, 42.9977278498443), (-87.8837126031355, 42.9976713371187), (-87.8834342297203, 42.997626101466), (-87.8832290614247, 42.9976099466825), (-87.882963444446, 42.9976419902736), (-87.8827644310143, 42.9976906834949), (-87.8826505031006, 42.9977070567365), (-87.8823337753101, 42.9973959725285), (-87.8823445137037, 42.9973283553303), (-87.8824065594931, 42.9972339518579), (-87.8825858935604, 42.9969043706223), (-87.8826082731067, 42.9967837334832), (-87.8824964210571, 42.9965699022135), (-87.88221092827, 42.9964427073945), (-87.8820850679095, 42.9962715995426), (-87.8820526777965, 42.99609595165), (-87.8818961567854, 42.9959443641884), (-87.8817973646677, 42.9959994329539), (-87.8816048999161, 42.9957655810934), (-87.8815094250639, 42.9956407463362), (-87.8813875423621, 42.9954298046088), (-87.8812675764299, 42.995256837258), (-87.8811830002091, 42.9951188820552), (-87.8809996382532, 42.9949115341197), (-87.8808118156693, 42.9947396731812), (-87.8806908592898, 42.9945320724512), (-87.8805903449324, 42.9943570971616), (-87.8803730421065, 42.9941040614285), (-87.8802140232319, 42.9939398488279), (-87.8800509605305, 42.9937992754159), (-87.8798682023088, 42.9936678179535), (-87.8797337507099, 42.9935928355456), (-87.8796781017734, 42.9935588574607), (-87.8795916558255, 42.9935506568637), (-87.8794911269355, 42.9936036786173), (-87.8793900633523, 42.993672063207), (-87.8793168129489, 42.9937146154676), (-87.8792030879592, 42.993716883889), (-87.8791236810699, 42.9936780721502), (-87.8790543073435, 42.9936087009762), (-87.8790144411447, 42.9935508629086), (-87.8789721184714, 42.9934776051514), (-87.8789356213647, 42.99340884777), (-87.8787895206387, 42.9932264577674), (-87.8786456326831, 42.9930634654916), (-87.8785445718611, 42.9929677333235), (-87.8784265190803, 42.9928359672595), (-87.878337595941, 42.9927267059337), (-87.8782542679718, 42.9926285258332), (-87.8781733990625, 42.9925457645106), (-87.8780850626543, 42.9924420392443), (-87.8780008228231, 42.9923701943125), (-87.8779395825338, 42.9923251304893), (-87.8778814843534, 42.9922757337153), (-87.877817177099, 42.9922328069831), (-87.8777909634288, 42.9922125536086), (-87.8777268856202, 42.9921630459343), (-87.8776715434479, 42.9921202857138), (-87.8775955098817, 42.9920705545792), (-87.8775157774697, 42.9919907594458), (-87.8773854525073, 42.9919204886871), (-87.8770785051098, 42.9917833208824), (-87.8765563243264, 42.9915276568033), (-87.8764650553356, 42.9914962691065), (-87.8762891716269, 42.9914081875667), (-87.8761186164316, 42.991332924596), (-87.8760449497252, 42.9912933876983), (-87.8759425880143, 42.9912490774339), (-87.875760642971, 42.9911693596828), (-87.8755851998737, 42.9910685624324), (-87.8751427598595, 42.9908440608528), (-87.8749048981149, 42.9907124187614), (-87.8748935099064, 42.9907079671603), (-87.8747734198595, 42.9906474766497), (-87.8747643154809, 42.9906359621089), (-87.8747721831051, 42.99062589071), (-87.874882693751, 42.9905004112815), (-87.8748551705185, 42.9904870492521), (-87.8748334323079, 42.9904737171096), (-87.8748029994518, 42.9904570346027), (-87.8747899640031, 42.9904503541085), (-87.8747624286485, 42.9904369891276), (-87.8747377926196, 42.9904247328448), (-87.8747189489181, 42.9904141688717), (-87.87469575728, 42.9904030255789), (-87.8746696654882, 42.9903907627534), (-87.8746500896827, 42.9903785326963), (-87.8746341209735, 42.9903641243418), (-87.8746166913783, 42.9903442020485), (-87.8746007414919, 42.9903352950498), (-87.8745804209557, 42.9903186531196), (-87.8745644415034, 42.9903003851128), (-87.8745484715962, 42.9902870726025), (-87.874538295143, 42.9902737937586), (-87.8745150695124, 42.9902571298723), (-87.8744983772213, 42.9902449105222), (-87.8744823969624, 42.9902293880398), (-87.8744591714575, 42.9902127214424), (-87.8744402928208, 42.9901993860019), (-87.8744228722267, 42.9901871584141), (-87.8744112529259, 42.9901782720947), (-87.8743923690358, 42.9901643818542), (-87.8743764028165, 42.9901532620468), (-87.874358968592, 42.9901421345756), (-87.8743430007516, 42.9901332172978), (-87.8743263056526, 42.9901242963129), (-87.8743132344593, 42.9901153981203), (-87.8742958004132, 42.9901042661399), (-87.8742798127277, 42.9900909388493), (-87.8742536565282, 42.9900698311415), (-87.8742304034438, 42.990051489093), (-87.8742100503921, 42.9900359306576), (-87.8741926108081, 42.9900236873692), (-87.8741751801366, 42.9900147561965), (-87.8741548306247, 42.990001393178), (-87.874123580592, 42.9899802423318), (-87.8741090349187, 42.9899691220575), (-87.8740915846744, 42.989955773669), (-87.874075600072, 42.9899468470334), (-87.8740523423034, 42.9899340130723), (-87.8740305291008, 42.9899195303575), (-87.8739941882308, 42.9899016420662), (-87.8739563683583, 42.9898749131178), (-87.8739265508039, 42.9898559627771), (-87.8739003772064, 42.9898430994193), (-87.8738756352431, 42.9898263808993), (-87.8738523535102, 42.9898107774822), (-87.8738305180646, 42.9897940764376), (-87.8738130425007, 42.9897807185254), (-87.8737926589605, 42.9897651252225), (-87.8737751845501, 42.9897528650064), (-87.8737526137397, 42.9897350524999), (-87.8737336924908, 42.9897244364776), (-87.8737162160856, 42.9897110686287), (-87.8736958296174, 42.9896976805194), (-87.8736783526721, 42.9896865188215), (-87.8736637866255, 42.9896764840804), (-87.8736448363217, 42.9896586870997), (-87.8736273494512, 42.989644208753), (-87.8736040256507, 42.989624168748), (-87.8735683049718, 42.9895935510837), (-87.8735391512643, 42.9895701503026), (-87.873505624547, 42.9895467180712), (-87.8734866793011, 42.9895344293717), (-87.8734590107611, 42.9895231884935), (-87.8734284167316, 42.9895074976109), (-87.8734036152592, 42.9894868842084), (-87.8733751806192, 42.9894678938726), (-87.8733474798827, 42.9894511180347), (-87.8733226879937, 42.9894343624344), (-87.8733066201612, 42.9894176675174), (-87.8732862048313, 42.9894053629643), (-87.8732614295268, 42.989395229765), (-87.8732439240458, 42.9893840467517), (-87.8732351340196, 42.9893701697114), (-87.8732118177378, 42.9893611506946), (-87.8731906565585, 42.9893466241897), (-87.8731687558255, 42.989328775482), (-87.8731439310059, 42.9893097923455), (-87.8731176722012, 42.9892952262041), (-87.8731001479191, 42.9892829262245), (-87.8730782570186, 42.9892694927192), (-87.8730607376937, 42.9892588515041), (-87.8730300762476, 42.9892387162958), (-87.8730132688618, 42.9892242118528), (-87.8729957486935, 42.9892141253049), (-87.8729796788696, 42.9892018354331), (-87.8729650585591, 42.989189555594), (-87.872940215131, 42.9891694518694), (-87.872918311975, 42.9891571148828), (-87.8728978649766, 42.9891453382435), (-87.8728759639657, 42.9891341052729), (-87.8728511125235, 42.9891162111474), (-87.8728321024393, 42.9891005704457), (-87.8728182115915, 42.9890893974264), (-87.8727992190115, 42.9890792913763), (-87.8727773118065, 42.989069155951), (-87.8727597807071, 42.9890601632396), (-87.8727466154552, 42.9890501014813), (-87.8727290802698, 42.9890405557958), (-87.8727071273904, 42.9890215669146), (-87.8726837402351, 42.9890080972026), (-87.8726603416122, 42.9889924156999), (-87.8726325757021, 42.9889789044882), (-87.8726142805352, 42.9889643667148), (-87.8725938087724, 42.9889531298406), (-87.872570396605, 42.9889368861674), (-87.8725513833015, 42.9889245546079), (-87.8725338118664, 42.9889100168693), (-87.8725206158139, 42.9888955124547), (-87.8725044954815, 42.9888798798968), (-87.8724883814115, 42.9888642438519), (-87.8724693360238, 42.9888474705255), (-87.8724466063066, 42.9888229192027), (-87.8724114379992, 42.988791613631), (-87.87237628753, 42.988766397406), (-87.8723499162128, 42.988745125822), (-87.8723206090897, 42.9887216110787), (-87.8723022770066, 42.9887037272892), (-87.8722612230239, 42.9886679197899), (-87.8721662832105, 42.9886111104264), (-87.87203257871, 42.9885536836972), (-87.8718998624703, 42.9884677914349), (-87.8717599906117, 42.9884285573208), (-87.87158924023, 42.9883216111461), (-87.8713755581864, 42.988254546401), (-87.8712696751298, 42.9881935672755), (-87.8711833741809, 42.9881268552318), (-87.8710924695981, 42.9880664709311), (-87.8710565933319, 42.9880436710634), (-87.8710281311243, 42.988021067782), (-87.8709878331525, 42.9879984767666), (-87.8709570123897, 42.9879863126133), (-87.8709214498838, 42.9879671916289), (-87.8708929999671, 42.9879498113105), (-87.8708550656475, 42.9879289511466), (-87.8708313525368, 42.9879133083788), (-87.8708028958279, 42.9878941845855), (-87.8707768203433, 42.9878785416445), (-87.8707507387743, 42.9878628976828), (-87.8707246614688, 42.9878507296371), (-87.8706962071173, 42.9878316103624), (-87.8706606417614, 42.9878090133972), (-87.8706321896655, 42.9877916293678), (-87.8705989963709, 42.9877759871152), (-87.8705729144518, 42.9877568636599), (-87.8705468321548, 42.9877394799135), (-87.8705136461709, 42.9877238404735), (-87.8704875598316, 42.9877081963594), (-87.8704519974767, 42.9876890797272), (-87.8704188055079, 42.9876682173775), (-87.8703832382648, 42.9876438814643), (-87.8703547834143, 42.9876230187665), (-87.8703121077831, 42.9876004225418), (-87.8702812896908, 42.9875830417831), (-87.8702504635319, 42.9875639184405), (-87.8702267532304, 42.9875482737924), (-87.8701983066678, 42.9875343700987), (-87.8701722253926, 42.987518726004), (-87.8701461420532, 42.9875013430422), (-87.8701129498208, 42.9874822221177), (-87.870082126436, 42.9874613644598), (-87.8700536746651, 42.9874439802853), (-87.8700181147034, 42.9874266014782), (-87.8699896593519, 42.9874092154189), (-87.869958840538, 42.9873900975343), (-87.8699280194796, 42.9873709741961), (-87.8698971934746, 42.9873518525573), (-87.8698548580064, 42.9873262576396), (-87.8697807958481, 42.9872812729084), (-87.8696581473911, 42.9872110594506), (-87.869570886765, 42.9871460723458), (-87.869506089802, 42.9871024840617), (-87.8694514191031, 42.9870880630591), (-87.8694057075628, 42.9870487804111), (-87.8693047284632, 42.9870008141216), (-87.8691860347083, 42.986946240879), (-87.8690681041597, 42.9868882816229), (-87.8690341115121, 42.9868593652637), (-87.8689196844511, 42.9868171579029), (-87.8688309597436, 42.9867536060099), (-87.8687847570332, 42.9867097403561), (-87.8687704111435, 42.9867011759676), (-87.8690860818043, 42.9864846501574), (-87.8697550846881, 42.9860276293046), (-87.8698115673497, 42.9860751956246), (-87.8701300659506, 42.9858580240026), (-87.8708970329072, 42.9865052845165), (-87.8713913171167, 42.9867614553276), (-87.8745045268673, 42.9850434747408), (-87.8746001566064, 42.9809349700943), (-87.8746221105788, 42.9809350594784), (-87.874632308918, 42.9805024407694), (-87.8802219457193, 42.9805362578458), (-87.8802223773878, 42.9804947305897), (-87.8820354010402, 42.9805054725939), (-87.8819698343239, 42.9804299795723), (-87.8824450243574, 42.9802120553125), (-87.8827457730582, 42.9805535800087), (-87.886719543531, 42.9805738010005), (-87.8867202104559, 42.9805408605893), (-87.886877761404, 42.9805416562305), (-87.8868769167826, 42.9805745951357), (-87.8888067585857, 42.9805843642906), (-87.8888330271658, 42.978741013896), (-87.8870729988753, 42.9787328089302), (-87.8870957811429, 42.9766172482938), (-87.8864590344749, 42.9766141394205), (-87.8864907963726, 42.9737132523547), (-87.8863173921904, 42.9737124210109), (-87.8863315622344, 42.9728056105423), (-87.8865099473821, 42.9728063374132), (-87.8865106545926, 42.9718988612465), (-87.8883889375898, 42.9719073956185), (-87.888386618342, 42.9732722438792), (-87.889286545455, 42.9732765634803), (-87.8892986778448, 42.9717667102057), (-87.8907285151335, 42.9717702030486), (-87.8907332684991, 42.9711551730782), (-87.8895495576758, 42.9711527915032), (-87.8895528141683, 42.9707487143507), (-87.8907367159924, 42.9707904052143), (-87.8907371143713, 42.9707406623997), (-87.8929131014287, 42.9708219137959), (-87.8929090545989, 42.9714451301628), (-87.8918344183542, 42.9714427253551), (-87.891821484303, 42.9732872576391), (-87.8940069700264, 42.9732829954567), (-87.894050695382, 42.9664545614546), (-87.8940552125295, 42.9661492249549), (-87.8896154756639, 42.9642773772983), (-87.8896817225815, 42.9591578194196), (-87.8832503404951, 42.9591276665437), (-87.8832702730546, 42.9564057395455), (-87.8840765472084, 42.9518366582223), (-87.8853101066539, 42.944576806242), (-87.8857103268858, 42.9423085210796), (-87.8856545578771, 42.9423021901012), (-87.8865652614371, 42.9373097048627), (-87.8878455882181, 42.9300336705714), (-87.8878853643757, 42.930034486557), (-87.889132628198, 42.9226881122232), (-87.8906774178946, 42.9226947961773), (-87.890321795621, 42.9300337260828), (-87.8987503723911, 42.9300698686397), (-87.9098832099637, 42.9301317526143), (-87.9193220166814, 42.9301751821538), (-87.9302527544884, 42.9302662093333), (-87.9304502860263, 42.9250142276931), (-87.9305973148284, 42.9208326457741), (-87.9404963104535, 42.920899442567), (-87.9403645675261, 42.9242830708753), (-87.9401494206882, 42.9303097707749), (-87.9493809423421, 42.9303720314639), (-87.9492423706357, 42.9376167348426), (-87.9587891907971, 42.9376296431531), (-87.9603811740208, 42.9376320753455), (-87.9640684285895, 42.9376378350149), (-87.9640526133791, 42.9383660127655), (-87.9646770945296, 42.9383642792594), (-87.9645008383998, 42.944885522339), (-87.9632751905517, 42.9448825441023), (-87.9633283186558, 42.9432869401327), (-87.9627605121789, 42.9432854999349), (-87.962764101951, 42.9431544842693), (-87.9623707091018, 42.9431534917953), (-87.9622920404544, 42.9430948411878), (-87.9620318351949, 42.9432836466269), (-87.9619314128399, 42.9432833922781), (-87.9616892352728, 42.9430949976962), (-87.9616078989632, 42.9431515650451), (-87.9614727040859, 42.9431512224795), (-87.9614684334567, 42.943282210617), (-87.9602189748687, 42.9432790169923), (-87.9601726471672, 42.9448749475485), (-87.9580465788659, 42.9448708627053), (-87.9580598617557, 42.9442284048532), (-87.9571777007976, 42.944228366066), (-87.9571870967623, 42.9436935417482), (-87.9490824339622, 42.9436865433217), (-87.9490642043182, 42.944378305256), (-87.9488863349788, 42.9516198030963), (-87.9487237560438, 42.9594049369518), (-87.9485777694389, 42.9674362527602), (-87.9484527631134, 42.9739355523995), (-87.9538916771362, 42.9739266604216), (-87.953873868821, 42.9750272278374), (-87.9560784327891, 42.974992261047), (-87.955963433578, 42.9751178334282), (-87.9532056487296, 42.9771538238032), (-87.9541359177156, 42.9778251823656), (-87.9539244782804, 42.9779815858384), (-87.9539150478542, 42.9785264167157), (-87.9533040935187, 42.978531161364), (-87.9532649436843, 42.9807027206762), (-87.9538774574561, 42.9806985298164), (-87.9538838946171, 42.9803267774547), (-87.9545569090685, 42.9803221124803), (-87.9545540192539, 42.9804866222575), (-87.9551092477252, 42.9804827914689), (-87.955107646039, 42.9805650624377), (-87.9557809905286, 42.9805604249221), (-87.9557769081679, 42.9807671877692), (-87.95633541316, 42.9807633648951), (-87.9563413344938, 42.9804747955066), (-87.9569027649058, 42.980470912676), (-87.9569174956755, 42.9797595464579), (-87.9570859965054, 42.9797583526553), (-87.9570848569724, 42.9798132103723), (-87.9576018522837, 42.9798095577048), (-87.9576433863395, 42.9778369159333), (-87.9581493664197, 42.9778359642377), (-87.9581801236598, 42.9763976925444), (-87.9601209653801, 42.9763890476835), (-87.9601381393069, 42.9751946408177), (-87.9647999183378, 42.9751863937466), (-87.9648337414668, 42.9738182987671), (-87.9677517738178, 42.9738126991907), (-87.9677585636145, 42.9734250301282), (-87.9673156648087, 42.973425391865), (-87.9673296467395, 42.972708773977), (-87.968343017414, 42.9727002588644), (-87.9683055260341, 42.9744157498958), (-87.9688795881349, 42.9744163705154), (-87.9688777608433, 42.9744854097), (-87.9699662312984, 42.9744848320938), (-87.9699445102, 42.9750793181776), (-87.9705703628217, 42.975079143285), (-87.9705509042835, 42.9761001560199), (-87.9706626666707, 42.9761004603665), (-87.9706145700947, 42.978621838087), (-87.9681948114499, 42.9786161246278), (-87.9679410558116, 42.9857042860347), (-87.9685910304591, 42.985708376818), (-87.968583311524, 42.9861762997544), (-87.9691683909273, 42.9861792147732), (-87.9691701329397, 42.9860633029058), (-87.970636823761, 42.9860705009461), (-87.9714315522684, 42.9855884554652), (-87.9718341359992, 42.9859461768407), (-87.9698935016231, 42.9871248006208), (-87.970259764655, 42.987454930565), (-87.9704945236671, 42.9874595153152), (-87.9704082593486, 42.9875118515166), (-87.9703965112193, 42.9878740568916), (-87.970803617524, 42.9878766968122), (-87.970823446745, 42.9872599432824), (-87.9711282562376, 42.9870749996513), (-87.9711132417565, 42.9875253278322), (-87.9716649642363, 42.9875196199173), (-87.9716534332714, 42.9878693840419), (-87.9722608850328, 42.9878709201734), (-87.9722817931596, 42.9870148767839), (-87.9716816450547, 42.9870136439263), (-87.9716656357857, 42.9874991988838), (-87.9714124751841, 42.9875018219849), (-87.9714327433199, 42.986890253877), (-87.9761179435202, 42.9840472495358), (-87.9757651345835, 42.983751052524), (-87.9759389927852, 42.9836433200052), (-87.9759145719789, 42.9836228218825), (-87.9759999721794, 42.9835698980847), (-87.9760243979557, 42.9835903944766), (-87.9770322429171, 42.9829658531445), (-87.97739555605, 42.9832719094937), (-87.980151071871, 42.9816012436665), (-87.9801534545867, 42.9806727676188), (-87.9810903785772, 42.980679048894), (-87.9811433325629, 42.9770272746112), (-87.9804322995664, 42.9770283417422), (-87.980445070755, 42.9764515531231), (-87.97995393921, 42.9764536964774), (-87.9799478465727, 42.9768079435954), (-87.9799105143332, 42.9768076964494), (-87.9798992945216, 42.9776262445104), (-87.9780416470577, 42.9776241254569), (-87.9780746513661, 42.9757247583831), (-87.9756089210035, 42.975719186493), (-87.9755607901179, 42.9786333582844), (-87.9736712624419, 42.9786289809781), (-87.9737037752062, 42.9785644702097), (-87.9737430797324, 42.9784843848571), (-87.9737731779519, 42.9784054832131), (-87.9737998402573, 42.9783197857921), (-87.973817296221, 42.9782352747904), (-87.9738289475649, 42.9781309772789), (-87.9738255507578, 42.9772298079299), (-87.9738252159588, 42.9771169403865), (-87.9738008726461, 42.9770146182852), (-87.9737617569701, 42.9768800143882), (-87.9736952206531, 42.97673618595), (-87.9736008775034, 42.9765947742564), (-87.9734670468115, 42.9764497439805), (-87.9733159955109, 42.9763306183358), (-87.9735066024558, 42.9761662829122), (-87.9734582696378, 42.9761267046521), (-87.9735800435748, 42.9760216798788), (-87.9731773364856, 42.9756927325501), (-87.9729670387529, 42.9758797215677), (-87.9727867536882, 42.9760748628851), (-87.9726224867526, 42.9760246603973), (-87.9724141228924, 42.9759622787585), (-87.9721332416381, 42.9758985991359), (-87.971931073942, 42.9758683256665), (-87.9716346296578, 42.9758363661947), (-87.9713483565573, 42.9758259193274), (-87.9709851483607, 42.9758380951104), (-87.9706669784491, 42.9758742962987), (-87.9706837204326, 42.9749967921974), (-87.9701577694161, 42.9749969435062), (-87.9701765007769, 42.974484721461), (-87.9703936168926, 42.9744846013388), (-87.9703955279956, 42.9739041377894), (-87.9723819107092, 42.9739061549688), (-87.9723831334378, 42.9733927720195), (-87.9731867226459, 42.9733913963993), (-87.9731963772887, 42.9729991216089), (-87.9733455378552, 42.9729991436198), (-87.9733269226437, 42.9737561760907), (-87.9748245818467, 42.9737576629872), (-87.9748439986776, 42.9730058305852), (-87.974016644624, 42.973005298212), (-87.9740721087193, 42.9708338351441), (-87.9775664601069, 42.9708304596134), (-87.9776944705836, 42.9666531562228), (-87.9784879864209, 42.9666512077496), (-87.9784615891123, 42.9675598976157), (-87.9832582291309, 42.9675463875751), (-87.9832946232974, 42.9666409315127), (-87.9882576319966, 42.9666301068677), (-87.9881198063249, 42.9702729283695), (-87.9845665597004, 42.9702808882209), (-87.9843187069464, 42.9702947040557), (-87.9831838081746, 42.9703579587823), (-87.9830659062723, 42.9739044885404), (-87.9836622542172, 42.9739035997183), (-87.983590297304, 42.9795282053113), (-87.9818749151909, 42.9805661912381), (-87.9822442855242, 42.9809666660246), (-87.9825922609607, 42.9807598133347), (-87.98246020701, 42.9806145529422), (-87.9841761861119, 42.9805985492054), (-87.9841846489281, 42.9801856514315), (-87.983970420751, 42.9801838145237), (-87.9839772250163, 42.9798221569897), (-87.9841920556233, 42.9798240217079), (-87.9841932104544, 42.9797677768266), (-87.9843784144429, 42.9797710035799), (-87.984381495526, 42.9795157957412), (-87.984707707181, 42.9795146414196), (-87.9854406077351, 42.9790772773269), (-87.9854434411573, 42.9788941432546), (-87.9860225326824, 42.9788905453011), (-87.9860291683403, 42.9780523320864), (-87.9849605415874, 42.9786990224787), (-87.9850284828441, 42.9739015449402), (-87.9839578430944, 42.9739031577644), (-87.9839708657291, 42.9733991011082), (-87.9837345998772, 42.9733994176699), (-87.9838190930884, 42.9707134248406), (-87.9843861800108, 42.9707122653469), (-87.9843928942372, 42.970498963016), (-87.9850445805128, 42.9704966878881), (-87.9850420249658, 42.9705652737834), (-87.9855762396886, 42.9705634026075), (-87.9855785516972, 42.9704948213949), (-87.9881481792902, 42.9704881318795), (-87.9881618326376, 42.9701500064453), (-87.9882169623959, 42.9701494010825), (-87.9882378561801, 42.9695971335112), (-87.9895948418224, 42.9695830982795), (-87.9896903094782, 42.9696616289813), (-87.9897554873977, 42.9697098870254), (-87.989831978126, 42.9697606495383), (-87.9899066795774, 42.9698049232205), (-87.9900197004658, 42.9698642957949), (-87.9901164396728, 42.9699094132419), (-87.9902383442527, 42.9699573261694), (-87.9903138442778, 42.9699834814143), (-87.9907228082868, 42.9701219145312), (-87.99138844404, 42.9701146020975), (-87.9913868953768, 42.9702453168105), (-87.9927729404644, 42.9702400784026), (-87.992699311694, 42.9720858292696), (-87.9901245570951, 42.9721058119677), (-87.9900603723804, 42.9738805582397), (-87.992870673631, 42.973860788859), (-87.9989573259059, 42.9700316676668), (-88.0080805076463, 42.9699326126465), (-88.0147678325859, 42.9698586199408), (-88.0147763599216, 42.9703169093295), (-88.0146878737425, 42.9703169926659), (-88.014699468245, 42.9719591983459), (-88.014640638806, 42.9719594479134), (-88.0146459194693, 42.9723780629721), (-88.0148012476154, 42.972377329751), (-88.0147693568242, 42.9737389815547), (-88.018498208454, 42.9737279003975), (-88.0274918948058, 42.9736962245801), (-88.0365747421212, 42.9736368078312), (-88.0376807081106, 42.9736294328446), (-88.0374926615381, 42.9808857618794), (-88.0372941395664, 42.9881059823347), (-88.0359359777478, 42.9881188555451), (-88.0274645955831, 42.9881987810763), (-88.0257952596215, 42.9882051845386), (-88.0161719804745, 42.9882417032311), (-88.0079863153348, 42.988272541206), (-88.0076448126074, 42.9882738131913), (-88.0072013365298, 42.9882773081708), (-88.0060119472906, 42.9882866722509), (-88.0020710572115, 42.9883176103928), (-88.002056815131, 42.989172482546), (-88.0019435020918, 42.9955715772832), (-88.0019159528516, 42.9972292972552), (-88.0018953481498, 42.9990001465015), (-88.0000489913979, 42.9990121723607), (-88.0000509693712, 42.9988381083664), (-87.9981349754065, 42.9988476704539), (-87.998132011679, 42.9990270657721), (-87.9975161101471, 42.9990329190257), (-87.9975172318203, 42.9987989189476), (-87.9957561850194, 42.9987993941657), (-87.9957554711895, 42.9988476525689), (-87.995008685803, 42.9988510164932), (-87.9950080068604, 42.9988864676008), (-87.9944571984651, 42.9988897188912), (-87.9944573751785, 42.9988806923561), (-87.994366199948, 42.998881099761), (-87.9925762797841, 42.9988891316971), (-87.9903270690922, 42.9988991812506), (-87.9901265841262, 42.9989000755352), (-87.9901269396087, 42.9988744506478), (-87.9895243711455, 42.9988779869035), (-87.9895266963526, 42.99876740022), (-87.9890326604928, 42.9987702981201), (-87.9888083074785, 42.9987405873376), (-87.988286922802, 42.9987429095831), (-87.9883068016396, 42.9977614946973), (-87.9882499359553, 42.9977516417313), (-87.987575989494, 42.997753523462), (-87.9875817000131, 42.9975055355259), (-87.9873749738457, 42.997505056394), (-87.9869985074009, 42.9975172739835), (-87.9867272911371, 42.9975523963351), (-87.9862891939419, 42.9976661369235), (-87.9858595529257, 42.9978369808144), (-87.9855322736643, 42.9980400139361), (-87.9853046506996, 42.9982166295403), (-87.9851462542438, 42.998389493031), (-87.9849703844142, 42.9986293250637), (-87.9848670870575, 42.9988293261521), (-87.9847151749754, 42.9991144340311), (-87.9845741955036, 42.9992941294818), (-87.9776412584169, 42.9992823781125), (-87.9775762705745, 43.0029530711549), (-87.9757857296196, 43.0029521700501), (-87.9775696455972, 43.0035561073706), (-87.9775663507349, 43.0038555867548), (-87.9685246520141, 43.0007754371653), (-87.968507301773, 43.0030024215351), (-87.9669500760801, 43.003010401602), (-87.9669529404288, 43.0029212836002), (-87.9654219973569, 43.0029399725631), (-87.9611398582138, 43.0029921424019), (-87.961066333745, 43.0065959297173), (-87.9610849879515, 43.0065957088942), (-87.9610193613579, 43.0098129734249), (-87.9627295214789, 43.0097938946951), (-87.9627306919112, 43.0102135173096), (-87.9663284064887, 43.0101635604926), (-87.9663225855948, 43.011145519063), (-87.9664129102489, 43.0122588996861), (-87.9627102735711, 43.0123137245699), (-87.9626974442368, 43.0132509406981), (-87.9665499308309, 43.0132290154484), (-87.9667036501483, 43.014317942293), (-87.9675112931505, 43.0143123757161), (-87.9674726110318, 43.0168494662375), (-87.9618411985306, 43.0168776492588), (-87.9616951033344, 43.0213940379028), (-87.9623933699563, 43.0213530687883), (-87.9624071828354, 43.0241649456422), (-87.9695139606136, 43.0241542478851), (-87.9695040840104, 43.02309185374), (-87.9696144740768, 43.0207571733373), (-87.9823290747978, 43.0184997024578), (-87.9824084766004, 43.0241264236867), (-87.9825911417988, 43.0241214920816), (-87.9829726146531, 43.0240808685306), (-87.9835334573168, 43.0240381578112), (-87.9840866146369, 43.024011108771), (-87.9847380167343, 43.0240079037646), (-87.987491242381, 43.0240632602732), (-87.9904208807013, 43.0241261309739), (-87.9974119581261, 43.0242760413181), (-87.9974125737588, 43.0241499501076), (-88.0072378441066, 43.0242204181013), (-88.0072395802798, 43.0240923100512), (-88.0085750281714, 43.0240502337033), (-88.0085811611582, 43.0241839712464), (-88.0172728446262, 43.0239479104684), (-88.0176902079474, 43.0239413963272), (-88.018140355215, 43.023934372522), (-88.0243038620534, 43.0238379890492), (-88.0243045679318, 43.024298404185), (-88.0251854470161, 43.0242849177552), (-88.0251786173596, 43.0249351310665), (-88.0273088856836, 43.0249730087762), (-88.0374857436737, 43.025166656793), (-88.0381532363451, 43.0252044702073), (-88.0390543169368, 43.0252980798506), (-88.0407092836383, 43.0255238298699), (-88.0419904427323, 43.0257422536007), (-88.043414822956, 43.0261303940302), (-88.0449001225068, 43.0266458182628), (-88.0459183586274, 43.0310115643014), (-88.0471732443888, 43.031007313948), (-88.0472147482258, 43.0338634575758), (-88.0470492142911, 43.0350763504947), (-88.0447989701903, 43.0349063373401), (-88.0422597757867, 43.0347144413069), (-88.0380177599286, 43.034942001361), (-88.0359526116677, 43.035044014549), (-88.0338060919178, 43.0351618579133), (-88.0314567191553, 43.0354554721668), (-88.0314670608362, 43.036461132478), (-88.0314947746791, 43.0387850789322), (-88.027424569655, 43.038784646197), (-88.0219302196925, 43.0389232813984), (-88.0218561562505, 43.0359313722677), (-88.0236300423525, 43.0359076892382), (-88.0235806083164, 43.031175089566), (-88.0173152633065, 43.0313150882288), (-88.0162458038808, 43.0313456056441), (-88.0162504663029, 43.0317547008447), (-88.0173268340119, 43.0317366232927), (-88.0173408343752, 43.0326662256612), (-88.0165876264577, 43.0347701161987), (-88.0161553015361, 43.0359804479196), (-88.0143461004619, 43.036007680151), (-88.0123413408436, 43.0354375946962), (-88.0113800488747, 43.035192413701), (-88.010391130807, 43.0349881272259), (-88.0096255885012, 43.0349476374241), (-88.0072984268736, 43.0352335352339), (-88.0041406032233, 43.0355841350282), (-88.0016731631768, 43.0357207266652), (-88.0016712732226, 43.0353656820027), (-88.0016955455308, 43.0353656061063), (-88.0016949241341, 43.0352506262251), (-88.0013297641022, 43.0352495346681), (-88.0013285295414, 43.0341214523058), (-87.9973917765598, 43.034093099764), (-87.9967647280345, 43.0340919037232), (-87.9967666256985, 43.035151549781), (-87.9968003662517, 43.035151605907), (-87.9968010613285, 43.0355384178425), (-87.9965258611551, 43.0355378783059), (-87.9965257563956, 43.035494225595), (-87.9959916055949, 43.0354931950684), (-87.9959913344656, 43.0354163370938), (-87.9955395776599, 43.0354154819244), (-87.9955408776217, 43.0360430201848), (-87.9951739389807, 43.0360624736097), (-87.9951757202288, 43.0365093570167), (-87.9949949280129, 43.0365092866164), (-87.9949941343434, 43.0363061273704), (-87.9945129007748, 43.0363059837202), (-87.9945146823512, 43.0366470067533), (-87.9933727260306, 43.0366464455733), (-87.9933704542662, 43.0361579976427), (-87.9917336718103, 43.0362446426931), (-87.9917357785054, 43.0367552582923), (-87.9910612966337, 43.0367548707953), (-87.9910618560062, 43.036892550659), (-87.9899343603472, 43.0368918035749), (-87.9899320265951, 43.0363399890889), (-87.9887195031263, 43.0364041436608), (-87.9887218589922, 43.037028505354), (-87.9880509225266, 43.0370279997989), (-87.9880497362612, 43.036439571358), (-87.9875076002217, 43.0364718818373), (-87.9875085854781, 43.0370011873811), (-87.9853468573141, 43.037011891354), (-87.9853468833766, 43.037149086593), (-87.9849797610834, 43.0371509015418), (-87.9849779330142, 43.037694705837), (-87.9847905547859, 43.0376951544415), (-87.9847888293291, 43.0384075758256), (-87.9842394133564, 43.0384109561808), (-87.9841585543678, 43.0387872290711), (-87.9845694744736, 43.0387867720579), (-87.9845690453661, 43.0392311829703), (-87.9843786100606, 43.0392305322839), (-87.984380605497, 43.0396459140373), (-87.9841212368453, 43.0396455138354), (-87.9840187769173, 43.0396561246651), (-87.9840231304434, 43.0402574580955), (-87.987516268206, 43.0402640905984), (-87.9875340228942, 43.0460907403969), (-87.9875460385368, 43.0486739618811), (-87.987566524106, 43.0530770293426), (-87.9875656357136, 43.0540982730489), (-87.9875486037593, 43.0602565004201), (-87.987536408791, 43.061389270295), (-87.9875058749412, 43.0643623770865), (-87.9892123029165, 43.0643667898538), (-87.9891795194181, 43.0676228474636), (-87.9893266289554, 43.0676224245823), (-87.9893266172146, 43.0675937629125), (-87.9921105337132, 43.0675906426785), (-87.9921251072983, 43.0661959411319), (-87.993555516173, 43.0662009171088), (-87.993534484607, 43.0680373077475), (-87.9962674240639, 43.068035716301), (-87.9971657375223, 43.0680352102055), (-88.0024421380738, 43.068037131082), (-88.0024203294573, 43.0694631076714), (-88.0074269231912, 43.0694764475753), (-88.0074411794851, 43.0676271226487), (-88.0080255350261, 43.0676167006906), (-88.0080246240368, 43.0675730764328), (-88.0174520937698, 43.0674219820938), (-88.0275238500885, 43.0672837336257), (-88.0275242981691, 43.0672620017321), (-88.0324718869825, 43.067192140226), (-88.0349866373277, 43.0671565481742), (-88.0371499193104, 43.0671258845403), (-88.0371418600379, 43.0671853466322), (-88.0371523913763, 43.0672459344316), (-88.0371624110353, 43.0672836320692), (-88.037190373215, 43.0673454381101), (-88.0372264003504, 43.0673890760524), (-88.0372788206875, 43.0674275024607), (-88.0373338207183, 43.0674632324842), (-88.0373774528429, 43.0675033404834), (-88.0374000584449, 43.0675375941249), (-88.0374077590411, 43.0675697619057), (-88.0374098230549, 43.0676024888557), (-88.0388255993574, 43.0675820681763), (-88.0388392681535, 43.0687891178908), (-88.036880381239, 43.0688308581708), (-88.036850124517, 43.0691515499426), (-88.0367660408378, 43.0695373475028), (-88.036710053723, 43.0697119172003), (-88.0365882569714, 43.0699746588296), (-88.0364347665216, 43.0701783453412), (-88.0362217388862, 43.0704056367048), (-88.0360326638572, 43.0705663314043), (-88.0358395865, 43.070728361357), (-88.0356232789263, 43.070945108806), (-88.0354832165793, 43.0711277392428), (-88.0353690907381, 43.0713383745609), (-88.035286018745, 43.0715849854304), (-88.0352270082942, 43.0719721864951), (-88.0352272433632, 43.0721799639231), (-88.0352518865257, 43.072380563329), (-88.0352843312172, 43.0725534242053), (-88.0353601512076, 43.0728816000878), (-88.0354151369154, 43.073105525447), (-88.0354608264189, 43.0732963531021), (-88.0355040876161, 43.0735784318243), (-88.0355282165399, 43.0738067388025), (-88.0355424713881, 43.0740363186579), (-88.0355495776652, 43.0743050862775), (-88.035542072729, 43.0747956284993), (-88.038372974205, 43.074753406534), (-88.0383874119691, 43.075152065066), (-88.0382940522268, 43.0753162451027), (-88.0377487273485, 43.0755037527519), (-88.0356184789709, 43.0755165010787), (-88.0356710381301, 43.0756763297552), (-88.0357274913724, 43.0758068712203), (-88.0357969306819, 43.075943440891), (-88.0358872209613, 43.0760847752576), (-88.0346020323718, 43.0765472976611), (-88.0345444833225, 43.0764561271204), (-88.0344654980545, 43.0763331005706), (-88.0343907948753, 43.0761889881901), (-88.0343186872773, 43.076026009186), (-88.0338645486681, 43.0761303429034), (-88.0340193251051, 43.0764414920376), (-88.0341070519504, 43.07660197321), (-88.0342342044403, 43.0767972431207), (-88.0343901885372, 43.0769930109229), (-88.0346130386332, 43.0772401846674), (-88.0347545217551, 43.0773820952934), (-88.0348333138774, 43.0774520784606), (-88.0349393783499, 43.0775446890427), (-88.0350545001595, 43.0776377773731), (-88.0346255889452, 43.0779479785465), (-88.0345557900434, 43.0778926715636), (-88.0341856774512, 43.0781264681963), (-88.0342644051926, 43.078295910409), (-88.0344880774376, 43.0782951081964), (-88.0347910681164, 43.0784599443108), (-88.0347890848163, 43.0786998866598), (-88.0354996422789, 43.0786956118086), (-88.0354993227061, 43.0785849994278), (-88.0354912804259, 43.0785395625533), (-88.0354624380949, 43.0784970882053), (-88.0354158941273, 43.0784613062518), (-88.0353720768377, 43.0784395601888), (-88.0352744911098, 43.0783828978145), (-88.0351294500576, 43.0782966188841), (-88.0349985444066, 43.0782144871574), (-88.034814006567, 43.0780893670915), (-88.035229825793, 43.0777681756044), (-88.0358612780695, 43.0781533196448), (-88.036872050701, 43.0784118398457), (-88.0368789151935, 43.0786873011941), (-88.0379092364564, 43.0786902841105), (-88.0379112949212, 43.0788596378584), (-88.0387392910356, 43.0789137308322), (-88.0389050604042, 43.0795610018732), (-88.0389210994, 43.0822635035206), (-88.0384086244955, 43.0822665599016), (-88.0383979011065, 43.0837783639795), (-88.037748999437, 43.0837756902355), (-88.0377471351929, 43.084112156891), (-88.0383955167918, 43.0841148405326), (-88.0383881581107, 43.0851523423673), (-88.0377413883175, 43.0851496209218), (-88.0377408009688, 43.0852563520612), (-88.0383874035374, 43.0852590751116), (-88.0383842687271, 43.0857009284147), (-88.0377383560379, 43.0856981912048), (-88.0377371216559, 43.085920706097), (-88.038382699533, 43.0859230395228), (-88.0383764930163, 43.0867982283499), (-88.0377322740824, 43.0867954475523), (-88.0377271283449, 43.0877243589474), (-88.0382531543237, 43.0877248970321), (-88.0382316863123, 43.0891932126439), (-88.0394747999219, 43.0896823745835), (-88.0477030020287, 43.0896698296788), (-88.0477033498459, 43.0902296396776), (-88.0433105078865, 43.0902138452107), (-88.0427028147041, 43.0906618782242), (-88.0426460080993, 43.0969654791708), (-88.0426603104304, 43.0980623869689), (-88.0376403844048, 43.0980671893268), (-88.0376410562349, 43.0979970966227), (-88.0309918925933, 43.0980018001346), (-88.0309965690842, 43.09764500026), (-88.030653597411, 43.0969489247934), (-88.0308770168873, 43.096883921106), (-88.0309974443302, 43.0968148402289), (-88.0348335934141, 43.0946669267255), (-88.0353599882899, 43.0951637470648), (-88.0363677182051, 43.0951695910257), (-88.0363498137981, 43.0968465715824), (-88.0369792669857, 43.0968462756615), (-88.0369826557445, 43.0963536635659), (-88.0374893653409, 43.0963493994057), (-88.0374901325964, 43.0961215696076), (-88.0369841524623, 43.0961211992932), (-88.0369900400015, 43.0953787694066), (-88.0374926168669, 43.0953800913762), (-88.0374934019052, 43.0951761948271), (-88.0369881032455, 43.0951770760232), (-88.0369963292648, 43.0941144573863), (-88.037409677984, 43.0938809530772), (-88.0365489354432, 43.0930518645435), (-88.0370873323383, 43.0927501369739), (-88.037096384566, 43.0918559852086), (-88.0375233289564, 43.0918567747322), (-88.0375278770604, 43.0914136583524), (-88.0371012507131, 43.091411592994), (-88.0371014024442, 43.0908454061572), (-88.037070950768, 43.090824633376), (-88.0366761810849, 43.0907386075359), (-88.0357975164329, 43.0907257787298), (-88.0358005801305, 43.0902016290905), (-88.0354394299327, 43.0901935344785), (-88.0354365722051, 43.0909574839516), (-88.0347177941538, 43.0909575263594), (-88.0347153731528, 43.0911925662687), (-88.0341016157295, 43.0911919295029), (-88.0341005895378, 43.0913096984648), (-88.0340465352194, 43.0913097309108), (-88.0340462301474, 43.0913537054369), (-88.0333749441999, 43.0913541068758), (-88.033374880844, 43.0914035745059), (-88.0327049360829, 43.0914043121214), (-88.0327166011657, 43.0901786669575), (-88.0330209710831, 43.090179443691), (-88.0330248423414, 43.0898461332829), (-88.0315957938286, 43.0898435673406), (-88.0315918613296, 43.0906389800996), (-88.031472574005, 43.0906385394708), (-88.0314718337164, 43.0915426054532), (-88.0308581613906, 43.091545379696), (-88.0308666630221, 43.090670335848), (-88.029639455436, 43.0906665978177), (-88.0296455977661, 43.0901960331428), (-88.0277102225181, 43.0901921952667), (-88.0276959497358, 43.0916226281374), (-88.027642482689, 43.0969802463247), (-88.0276365636853, 43.0973390012747), (-88.0275193798883, 43.1044420199989), (-88.0326347409387, 43.1044232228158), (-88.0326362114058, 43.1042554518007), (-88.0369077593833, 43.1042402466821), (-88.0369056423228, 43.104406973642), (-88.0381955384043, 43.1044193942553), (-88.0381936790654, 43.1042583704377), (-88.0407818340832, 43.1042409070129), (-88.0407809081113, 43.1043744175086), (-88.0476505711254, 43.1043298570995), (-88.0660245308255, 43.104218822155), (-88.0660152441956, 43.1047283377212), (-88.0657946814407, 43.1119888359592), (-88.0657360883315, 43.1134870687252), (-88.0655998713297, 43.1169696653843), (-88.0654559915149, 43.120656172235), (-88.0710158376195, 43.1215324188943), (-88.0707490678559, 43.1223877377532), (-88.0703202003894, 43.1227606602889), (-88.0702379399691, 43.1254849679776), (-88.0652434636429, 43.1254214582153), (-88.06474024899, 43.1407513536205), (-88.0640547381245, 43.1624590384434), (-88.0638568238666, 43.1696911547713), (-88.0634902904077, 43.1841126547883), (-88.0633524885247, 43.1921265689311)),), (((-88.0645715867077, 43.1921212485024), (-88.067372782852, 43.1947552897936), (-88.0633838976588, 43.1947727441311), (-88.0633524885247, 43.1921265689311), (-88.0645715867077, 43.1921212485024)),)]}]\n",
            "No module named 'pycrs'\n"
          ]
        }
      ]
    },
    {
      "cell_type": "markdown",
      "source": [
        "## 5. Get Sentinel 2 for the ROI and view the image"
      ],
      "metadata": {
        "id": "tNo-2YGGrzwH"
      }
    },
    {
      "cell_type": "code",
      "source": [
        "# Define function to mask clouds\n",
        "def maskS2clouds(image):\n",
        "    qa = image.select('QA60')\n",
        "    # Bits 10 and 11 are clouds and cirrus, respectively.\n",
        "    cloud_bit_mask = 1 << 10\n",
        "    cirrus_bit_mask = 1 << 11\n",
        "    # Both flags should be set to zero, indicating clear conditions.\n",
        "    mask = (\n",
        "        qa.bitwiseAnd(cloud_bit_mask)\n",
        "        .eq(0)\n",
        "        .And(qa.bitwiseAnd(cirrus_bit_mask).eq(0))\n",
        "    )\n",
        "    return image.updateMask(mask).divide(10000)\n",
        "\n",
        "# Define Sentinel-2 image collection\n",
        "milwaukeeS2 = ee.ImageCollection('COPERNICUS/S2_SR_HARMONIZED') \\\n",
        "    .filterDate(\"2022-05-01\", \"2022-08-01\") \\\n",
        "    .select(['B2', 'B3', 'B4', 'B8', 'B11', 'B12', 'QA60']) \\\n",
        "    .filter(ee.Filter.lt('CLOUDY_PIXEL_PERCENTAGE',5)) \\\n",
        "    .filterBounds(roiFeatureCol) \\\n",
        "    .map(maskS2clouds)\n",
        "\n",
        "# Print the number of images in the collection\n",
        "print(\"Number of images in the collection:\", milwaukeeS2.size().getInfo())\n",
        "\n",
        "milwaukeeS2 = milwaukeeS2.mean()\n",
        "\n",
        "# Clip the collection to the exact shape of the ROI\n",
        "milwaukeeS2 = milwaukeeS2.clip(roiFeatureCol)"
      ],
      "metadata": {
        "id": "OKeeQQBmAFft",
        "colab": {
          "base_uri": "https://localhost:8080/",
          "height": 34
        },
        "outputId": "bf17e934-47c8-435c-ebbb-d239e6075976"
      },
      "execution_count": 8,
      "outputs": [
        {
          "output_type": "display_data",
          "data": {
            "text/plain": [
              "<IPython.core.display.HTML object>"
            ],
            "text/html": [
              "\n",
              "            <style>\n",
              "                .geemap-dark {\n",
              "                    --jp-widgets-color: white;\n",
              "                    --jp-widgets-label-color: white;\n",
              "                    --jp-ui-font-color1: white;\n",
              "                    --jp-layout-color2: #454545;\n",
              "                    background-color: #383838;\n",
              "                }\n",
              "\n",
              "                .geemap-dark .jupyter-button {\n",
              "                    --jp-layout-color3: #383838;\n",
              "                }\n",
              "\n",
              "                .geemap-colab {\n",
              "                    background-color: var(--colab-primary-surface-color, white);\n",
              "                }\n",
              "\n",
              "                .geemap-colab .jupyter-button {\n",
              "                    --jp-layout-color3: var(--colab-primary-surface-color, white);\n",
              "                }\n",
              "            </style>\n",
              "            "
            ]
          },
          "metadata": {}
        },
        {
          "output_type": "stream",
          "name": "stdout",
          "text": [
            "Number of images in the collection: 9\n"
          ]
        }
      ]
    },
    {
      "cell_type": "code",
      "source": [
        "crs = milwaukeeS2.projection().getInfo()['crs']\n",
        "print(\"CRS of the image:\", crs)"
      ],
      "metadata": {
        "colab": {
          "base_uri": "https://localhost:8080/",
          "height": 34
        },
        "id": "8fAhZT4oI4Qq",
        "outputId": "29f88484-f675-4672-8793-a0cfb6c447ec"
      },
      "execution_count": 9,
      "outputs": [
        {
          "output_type": "display_data",
          "data": {
            "text/plain": [
              "<IPython.core.display.HTML object>"
            ],
            "text/html": [
              "\n",
              "            <style>\n",
              "                .geemap-dark {\n",
              "                    --jp-widgets-color: white;\n",
              "                    --jp-widgets-label-color: white;\n",
              "                    --jp-ui-font-color1: white;\n",
              "                    --jp-layout-color2: #454545;\n",
              "                    background-color: #383838;\n",
              "                }\n",
              "\n",
              "                .geemap-dark .jupyter-button {\n",
              "                    --jp-layout-color3: #383838;\n",
              "                }\n",
              "\n",
              "                .geemap-colab {\n",
              "                    background-color: var(--colab-primary-surface-color, white);\n",
              "                }\n",
              "\n",
              "                .geemap-colab .jupyter-button {\n",
              "                    --jp-layout-color3: var(--colab-primary-surface-color, white);\n",
              "                }\n",
              "            </style>\n",
              "            "
            ]
          },
          "metadata": {}
        },
        {
          "output_type": "stream",
          "name": "stdout",
          "text": [
            "CRS of the image: EPSG:4326\n"
          ]
        }
      ]
    },
    {
      "cell_type": "code",
      "source": [
        "# Set up display environment\n",
        "Map = geemap.Map()\n",
        "Map.addLayerControl()\n",
        "\n",
        "# Define visualization parameters for true color and false color\n",
        "visParams = {\n",
        "    'min': 0.0,\n",
        "    'max': 0.3,\n",
        "    'bands': ['B4', 'B3', 'B2']\n",
        "}\n",
        "\n",
        "visParamsFalseColor = {\n",
        "    'min': 0.0,\n",
        "    'max': 0.3,\n",
        "    'bands': ['B11', 'B8', 'B4'],\n",
        "}\n",
        "Map\n",
        "\n",
        "# Add Sentinel 2 imagery to the map\n",
        "Map.addLayer(milwaukeeS2, visParams, \"Sentinel 2 True Color\")\n",
        "\n",
        "# Add Sentinel 2 imagery to the map with false color\n",
        "Map.addLayer(milwaukeeS2, visParamsFalseColor, \"Sentinel 2 False Color\")\n",
        "\n",
        "# Center the map on the ROI at zoom level 11\n",
        "Map.centerObject(roiFeatureCol, 11)\n",
        "\n",
        "# Call the map to display it\n",
        "Map"
      ],
      "metadata": {
        "colab": {
          "base_uri": "https://localhost:8080/",
          "height": 621,
          "referenced_widgets": [
            "f7d581ce9c2146c1b7251c120a6474d9",
            "a34c33e6c6a24b37bace2ca51ba52cc2",
            "2aeb0748c1574b3a916eb3d95c7e577e",
            "85cf3ab9f53b450e85377c6b0691acdd",
            "8c2d3c51f59941b4a6381e70f8991eb4",
            "930416483f194922b52ac99ff0aec1ea",
            "6d9301c44d844d56a572c7a778ff13c5",
            "a705248cb6244c5b92f012f31f28d9c9",
            "275eaf420c334b3cb20ab2d6468ae538",
            "5a9be07427d044ecb02f712118566696",
            "1d21088275134df186d7acd587ce2c96",
            "808b17b0bb6540c7bb8cea7527d6d677",
            "1e8c1237068a4f72a1ac616196115788",
            "63f4b482c37b48e4ae482bdf1e5f36d0",
            "2ae5f23fc1684cf8868ef5b52b9555bd",
            "2658872b479e400b83ce5bf6405e2ec2",
            "f52ab1e199ff4299ad422ea9713450c4",
            "d5a5111822da407abdbea7bbf789b774",
            "a39a5a4f8a35469cb8605f2a2a152a64",
            "f5839d026066443ca11424a2772ee1c6",
            "abae63b666894b5daf4cd1bedf0d9660",
            "aa368852e5ae4860af4990fc81f134b3",
            "8c418342b6d1485ba97f0378f4b68ff5",
            "9a42b0f798e4480aa899fe1480b273c2",
            "9e4a43156c2848de8ea11a7802418f1f",
            "782b0d4c2d4044b2b0e7d440032eeee3",
            "90b806f7418545478a73985c2fcf0225",
            "acb17d48518445a58d277b20914b966d",
            "7a1c70c13f8947659668582882efd242",
            "bc64d73789ce490eb2c72b8fd5cafe9d",
            "d53280a52c494955bd3e0ef074765ada",
            "de90a90cabb1438b91dd5f97b1b06024",
            "f4f96b421d4042029425dcda5698bc27",
            "d5bfd0fab6974d5b8d374ea65d698a4d",
            "b6c3a04aa09244aa999fda96690d4ddc"
          ]
        },
        "id": "gJyA94vKCRKb",
        "outputId": "a655dda6-37e7-4c7b-8d77-b4bc342c8443"
      },
      "execution_count": 10,
      "outputs": [
        {
          "output_type": "display_data",
          "data": {
            "text/plain": [
              "<IPython.core.display.HTML object>"
            ],
            "text/html": [
              "\n",
              "            <style>\n",
              "                .geemap-dark {\n",
              "                    --jp-widgets-color: white;\n",
              "                    --jp-widgets-label-color: white;\n",
              "                    --jp-ui-font-color1: white;\n",
              "                    --jp-layout-color2: #454545;\n",
              "                    background-color: #383838;\n",
              "                }\n",
              "\n",
              "                .geemap-dark .jupyter-button {\n",
              "                    --jp-layout-color3: #383838;\n",
              "                }\n",
              "\n",
              "                .geemap-colab {\n",
              "                    background-color: var(--colab-primary-surface-color, white);\n",
              "                }\n",
              "\n",
              "                .geemap-colab .jupyter-button {\n",
              "                    --jp-layout-color3: var(--colab-primary-surface-color, white);\n",
              "                }\n",
              "            </style>\n",
              "            "
            ]
          },
          "metadata": {}
        },
        {
          "output_type": "display_data",
          "data": {
            "text/plain": [
              "Map(center=[43.06413159420459, -87.9672249167783], controls=(WidgetControl(options=['position', 'transparent_b…"
            ],
            "application/vnd.jupyter.widget-view+json": {
              "version_major": 2,
              "version_minor": 0,
              "model_id": "f7d581ce9c2146c1b7251c120a6474d9"
            }
          },
          "metadata": {
            "application/vnd.jupyter.widget-view+json": {
              "colab": {
                "custom_widget_manager": {
                  "url": "https://ssl.gstatic.com/colaboratory-static/widgets/colab-cdn-widget-manager/2b70e893a8ba7c0f/manager.min.js"
                }
              }
            }
          }
        }
      ]
    },
    {
      "cell_type": "markdown",
      "source": [
        "## 6. Add NDVI band to image to add additional information for classifying the image"
      ],
      "metadata": {
        "id": "wbRJqP66ByTs"
      }
    },
    {
      "cell_type": "code",
      "source": [
        "# Calculate NDVI\n",
        "ndvi = milwaukeeS2.normalizedDifference(['B8', 'B4']).rename('NDVI')\n",
        "\n",
        "# Add NDVI band to the image\n",
        "milwaukeeS2WithNDVI = milwaukeeS2.toFloat().addBands(ndvi)"
      ],
      "metadata": {
        "colab": {
          "base_uri": "https://localhost:8080/",
          "height": 17
        },
        "id": "-ezceB8gBxEV",
        "outputId": "de7b43a3-7517-4958-ccd8-edcddf062c64"
      },
      "execution_count": 11,
      "outputs": [
        {
          "output_type": "display_data",
          "data": {
            "text/plain": [
              "<IPython.core.display.HTML object>"
            ],
            "text/html": [
              "\n",
              "            <style>\n",
              "                .geemap-dark {\n",
              "                    --jp-widgets-color: white;\n",
              "                    --jp-widgets-label-color: white;\n",
              "                    --jp-ui-font-color1: white;\n",
              "                    --jp-layout-color2: #454545;\n",
              "                    background-color: #383838;\n",
              "                }\n",
              "\n",
              "                .geemap-dark .jupyter-button {\n",
              "                    --jp-layout-color3: #383838;\n",
              "                }\n",
              "\n",
              "                .geemap-colab {\n",
              "                    background-color: var(--colab-primary-surface-color, white);\n",
              "                }\n",
              "\n",
              "                .geemap-colab .jupyter-button {\n",
              "                    --jp-layout-color3: var(--colab-primary-surface-color, white);\n",
              "                }\n",
              "            </style>\n",
              "            "
            ]
          },
          "metadata": {}
        }
      ]
    },
    {
      "cell_type": "code",
      "source": [
        "# Define visualization parameters for true color and false color\n",
        "NDVIVisParams = {\n",
        "    'min': 0.0,\n",
        "    'max': 1.0,\n",
        "    'bands':['NDVI']\n",
        "    }\n",
        "\n",
        "# Add NAIP imagery to the map with false color\n",
        "Map.addLayer(milwaukeeS2WithNDVI, NDVIVisParams, \"Sentinel 2 NDVI\")\n",
        "\n",
        "#Center the map on the ROI at zoom level 11\n",
        "Map.centerObject(roiFeatureCol, 11)\n",
        "\n",
        "# call the map to view it\n",
        "Map"
      ],
      "metadata": {
        "colab": {
          "base_uri": "https://localhost:8080/",
          "height": 621,
          "referenced_widgets": [
            "f7d581ce9c2146c1b7251c120a6474d9",
            "a34c33e6c6a24b37bace2ca51ba52cc2",
            "2aeb0748c1574b3a916eb3d95c7e577e",
            "85cf3ab9f53b450e85377c6b0691acdd",
            "8c2d3c51f59941b4a6381e70f8991eb4",
            "930416483f194922b52ac99ff0aec1ea",
            "6d9301c44d844d56a572c7a778ff13c5",
            "a705248cb6244c5b92f012f31f28d9c9",
            "275eaf420c334b3cb20ab2d6468ae538",
            "5a9be07427d044ecb02f712118566696",
            "1d21088275134df186d7acd587ce2c96",
            "808b17b0bb6540c7bb8cea7527d6d677",
            "1e8c1237068a4f72a1ac616196115788",
            "63f4b482c37b48e4ae482bdf1e5f36d0",
            "2ae5f23fc1684cf8868ef5b52b9555bd",
            "acb17d48518445a58d277b20914b966d",
            "2658872b479e400b83ce5bf6405e2ec2",
            "d5a5111822da407abdbea7bbf789b774",
            "a39a5a4f8a35469cb8605f2a2a152a64",
            "f5839d026066443ca11424a2772ee1c6",
            "abae63b666894b5daf4cd1bedf0d9660",
            "aa368852e5ae4860af4990fc81f134b3",
            "8c418342b6d1485ba97f0378f4b68ff5",
            "9a42b0f798e4480aa899fe1480b273c2",
            "9e4a43156c2848de8ea11a7802418f1f",
            "782b0d4c2d4044b2b0e7d440032eeee3",
            "90b806f7418545478a73985c2fcf0225",
            "7a1c70c13f8947659668582882efd242",
            "bc64d73789ce490eb2c72b8fd5cafe9d",
            "d53280a52c494955bd3e0ef074765ada",
            "de90a90cabb1438b91dd5f97b1b06024",
            "f4f96b421d4042029425dcda5698bc27",
            "d5bfd0fab6974d5b8d374ea65d698a4d",
            "b6c3a04aa09244aa999fda96690d4ddc"
          ]
        },
        "id": "UHdz4doPCVOb",
        "outputId": "57b4d508-9671-4a10-83a6-0bd257f7c8c5"
      },
      "execution_count": 12,
      "outputs": [
        {
          "output_type": "display_data",
          "data": {
            "text/plain": [
              "<IPython.core.display.HTML object>"
            ],
            "text/html": [
              "\n",
              "            <style>\n",
              "                .geemap-dark {\n",
              "                    --jp-widgets-color: white;\n",
              "                    --jp-widgets-label-color: white;\n",
              "                    --jp-ui-font-color1: white;\n",
              "                    --jp-layout-color2: #454545;\n",
              "                    background-color: #383838;\n",
              "                }\n",
              "\n",
              "                .geemap-dark .jupyter-button {\n",
              "                    --jp-layout-color3: #383838;\n",
              "                }\n",
              "\n",
              "                .geemap-colab {\n",
              "                    background-color: var(--colab-primary-surface-color, white);\n",
              "                }\n",
              "\n",
              "                .geemap-colab .jupyter-button {\n",
              "                    --jp-layout-color3: var(--colab-primary-surface-color, white);\n",
              "                }\n",
              "            </style>\n",
              "            "
            ]
          },
          "metadata": {}
        },
        {
          "output_type": "display_data",
          "data": {
            "text/plain": [
              "Map(bottom=192835.0, center=[43.06413159420459, -87.9672249167783], controls=(WidgetControl(options=['position…"
            ],
            "application/vnd.jupyter.widget-view+json": {
              "version_major": 2,
              "version_minor": 0,
              "model_id": "f7d581ce9c2146c1b7251c120a6474d9"
            }
          },
          "metadata": {
            "application/vnd.jupyter.widget-view+json": {
              "colab": {
                "custom_widget_manager": {
                  "url": "https://ssl.gstatic.com/colaboratory-static/widgets/colab-cdn-widget-manager/2b70e893a8ba7c0f/manager.min.js"
                }
              }
            }
          }
        }
      ]
    },
    {
      "cell_type": "code",
      "source": [
        "# # Define the export parameters\n",
        "# # Export the image, specifying scale and region.\n",
        "\n",
        "task = ee.batch.Export.image.toDrive(**{\n",
        "    'image': milwaukeeS2WithNDVI,\n",
        "    'description': 'milwaukeeS2WithNDVI',\n",
        "    'folder':'MilwaukeeAerial',\n",
        "    'scale': 10,\n",
        "    'region': roiFeatureCol.geometry().bounds(),\n",
        "    'maxPixels': 703451232  # Increase maxPixels value\n",
        "})\n",
        "task.start()\n",
        "\n",
        "\n",
        "# Wait for the export task to complete\n",
        "while task.active():\n",
        "    print('Export task is still active...')\n",
        "    time.sleep(10)\n",
        "\n",
        "# Check if the export was successful\n",
        "if task.status()['state'] == 'COMPLETED':\n",
        "    print(\"Export completed successfully!\")\n",
        "else:\n",
        "    print(\"Export failed:\", task.status()['state'])\n",
        "    print(\"Error message:\", task.status()['error_message'])\n"
      ],
      "metadata": {
        "id": "sGIN7keQdWYc",
        "colab": {
          "base_uri": "https://localhost:8080/",
          "height": 384
        },
        "outputId": "24ab83bf-92ea-4058-b3b4-c11634c923a1"
      },
      "execution_count": 13,
      "outputs": [
        {
          "output_type": "display_data",
          "data": {
            "text/plain": [
              "<IPython.core.display.HTML object>"
            ],
            "text/html": [
              "\n",
              "            <style>\n",
              "                .geemap-dark {\n",
              "                    --jp-widgets-color: white;\n",
              "                    --jp-widgets-label-color: white;\n",
              "                    --jp-ui-font-color1: white;\n",
              "                    --jp-layout-color2: #454545;\n",
              "                    background-color: #383838;\n",
              "                }\n",
              "\n",
              "                .geemap-dark .jupyter-button {\n",
              "                    --jp-layout-color3: #383838;\n",
              "                }\n",
              "\n",
              "                .geemap-colab {\n",
              "                    background-color: var(--colab-primary-surface-color, white);\n",
              "                }\n",
              "\n",
              "                .geemap-colab .jupyter-button {\n",
              "                    --jp-layout-color3: var(--colab-primary-surface-color, white);\n",
              "                }\n",
              "            </style>\n",
              "            "
            ]
          },
          "metadata": {}
        },
        {
          "output_type": "stream",
          "name": "stdout",
          "text": [
            "Export task is still active...\n",
            "Export task is still active...\n",
            "Export task is still active...\n",
            "Export task is still active...\n",
            "Export task is still active...\n",
            "Export task is still active...\n",
            "Export task is still active...\n",
            "Export task is still active...\n",
            "Export task is still active...\n",
            "Export task is still active...\n"
          ]
        },
        {
          "output_type": "error",
          "ename": "KeyboardInterrupt",
          "evalue": "",
          "traceback": [
            "\u001b[0;31m---------------------------------------------------------------------------\u001b[0m",
            "\u001b[0;31mKeyboardInterrupt\u001b[0m                         Traceback (most recent call last)",
            "\u001b[0;32m<ipython-input-13-6393c5ce929d>\u001b[0m in \u001b[0;36m<cell line: 16>\u001b[0;34m()\u001b[0m\n\u001b[1;32m     16\u001b[0m \u001b[0;32mwhile\u001b[0m \u001b[0mtask\u001b[0m\u001b[0;34m.\u001b[0m\u001b[0mactive\u001b[0m\u001b[0;34m(\u001b[0m\u001b[0;34m)\u001b[0m\u001b[0;34m:\u001b[0m\u001b[0;34m\u001b[0m\u001b[0;34m\u001b[0m\u001b[0m\n\u001b[1;32m     17\u001b[0m     \u001b[0mprint\u001b[0m\u001b[0;34m(\u001b[0m\u001b[0;34m'Export task is still active...'\u001b[0m\u001b[0;34m)\u001b[0m\u001b[0;34m\u001b[0m\u001b[0;34m\u001b[0m\u001b[0m\n\u001b[0;32m---> 18\u001b[0;31m     \u001b[0mtime\u001b[0m\u001b[0;34m.\u001b[0m\u001b[0msleep\u001b[0m\u001b[0;34m(\u001b[0m\u001b[0;36m10\u001b[0m\u001b[0;34m)\u001b[0m\u001b[0;34m\u001b[0m\u001b[0;34m\u001b[0m\u001b[0m\n\u001b[0m\u001b[1;32m     19\u001b[0m \u001b[0;34m\u001b[0m\u001b[0m\n\u001b[1;32m     20\u001b[0m \u001b[0;31m# Check if the export was successful\u001b[0m\u001b[0;34m\u001b[0m\u001b[0;34m\u001b[0m\u001b[0m\n",
            "\u001b[0;31mKeyboardInterrupt\u001b[0m: "
          ]
        }
      ]
    },
    {
      "cell_type": "markdown",
      "source": [
        "## 7. Create a land cover classification using AUTOML."
      ],
      "metadata": {
        "id": "BUmoEHR09QwH"
      }
    },
    {
      "cell_type": "code",
      "source": [
        "!cp '/content/gdrive/MyDrive/MilwaukeeAerial/milwaukeeS2WithNDVI1.tif' .\n",
        "!cp '/content/gdrive/MyDrive/MilwaukeeAerial/milwaukeeS2WithNDVI2.tif' .\n",
        "!cp '/content/gdrive/MyDrive/MilwaukeeAerial/milwaukeeS2WithNDVI3.tif' .\n",
        "!cp '/content/gdrive/MyDrive/MilwaukeeAerial/milwaukeeS2WithNDVI4.tif' .\n",
        "!cp '/content/gdrive/MyDrive/MilwaukeeAerial/milwaukeeS2WithNDVI5.tif' .\n",
        "!cp '/content/gdrive/MyDrive/MilwaukeeAerial/milwaukeeS2WithNDVI6.tif' .\n",
        "!cp '/content/gdrive/MyDrive/MilwaukeeAerial/milwaukeeTrainingPoints.cpg' .\n",
        "!cp '/content/gdrive/MyDrive/MilwaukeeAerial/milwaukeeTrainingPoints.dbf' .\n",
        "!cp '/content/gdrive/MyDrive/MilwaukeeAerial/milwaukeeTrainingPoints.prj' .\n",
        "!cp '/content/gdrive/MyDrive/MilwaukeeAerial/milwaukeeTrainingPoints.shp' .\n",
        "!cp '/content/gdrive/MyDrive/MilwaukeeAerial/milwaukeeTrainingPoints.shx' .\n",
        "\n",
        "!ls"
      ],
      "metadata": {
        "id": "cULsfKCt-lFz",
        "colab": {
          "base_uri": "https://localhost:8080/",
          "height": 121
        },
        "outputId": "0bdee1be-0745-4b97-b45a-688a93f5766a"
      },
      "execution_count": 14,
      "outputs": [
        {
          "output_type": "display_data",
          "data": {
            "text/plain": [
              "<IPython.core.display.HTML object>"
            ],
            "text/html": [
              "\n",
              "            <style>\n",
              "                .geemap-dark {\n",
              "                    --jp-widgets-color: white;\n",
              "                    --jp-widgets-label-color: white;\n",
              "                    --jp-ui-font-color1: white;\n",
              "                    --jp-layout-color2: #454545;\n",
              "                    background-color: #383838;\n",
              "                }\n",
              "\n",
              "                .geemap-dark .jupyter-button {\n",
              "                    --jp-layout-color3: #383838;\n",
              "                }\n",
              "\n",
              "                .geemap-colab {\n",
              "                    background-color: var(--colab-primary-surface-color, white);\n",
              "                }\n",
              "\n",
              "                .geemap-colab .jupyter-button {\n",
              "                    --jp-layout-color3: var(--colab-primary-surface-color, white);\n",
              "                }\n",
              "            </style>\n",
              "            "
            ]
          },
          "metadata": {}
        },
        {
          "output_type": "stream",
          "name": "stdout",
          "text": [
            "gdrive\t\t\t     milwaukeeS2WithNDVI1.tif  milwaukeeTrainingPoints.cpg\n",
            "Milwaukee_City_Boundary.cpg  milwaukeeS2WithNDVI2.tif  milwaukeeTrainingPoints.dbf\n",
            "Milwaukee_City_Boundary.dbf  milwaukeeS2WithNDVI3.tif  milwaukeeTrainingPoints.prj\n",
            "Milwaukee_City_Boundary.prj  milwaukeeS2WithNDVI4.tif  milwaukeeTrainingPoints.shp\n",
            "Milwaukee_City_Boundary.shp  milwaukeeS2WithNDVI5.tif  milwaukeeTrainingPoints.shx\n",
            "Milwaukee_City_Boundary.shx  milwaukeeS2WithNDVI6.tif  sample_data\n"
          ]
        }
      ]
    },
    {
      "cell_type": "code",
      "source": [
        "# # # Open the classified raster file and visualize it\n",
        "# # with rasterio.open('milwaukeeS2WithNDVI1.tif') as src:\n",
        "# #     show(src)\n",
        "\n",
        "# make sure the shapefile and the summer image have the same CRS\n",
        "ds = rasterio.open('milwaukeeS2WithNDVI1.tif')\n",
        "print(ds.crs)\n",
        "\n",
        "shapefile = gpd.read_file('milwaukeeTrainingPoints.shp')\n",
        "print(shapefile.crs)\n",
        "\n",
        "ds.close()"
      ],
      "metadata": {
        "id": "9pu2EPGRBDRt",
        "colab": {
          "base_uri": "https://localhost:8080/",
          "height": 72
        },
        "outputId": "20c2f3f1-a351-4db4-9f9d-0b232616597e"
      },
      "execution_count": 15,
      "outputs": [
        {
          "output_type": "display_data",
          "data": {
            "text/plain": [
              "<IPython.core.display.HTML object>"
            ],
            "text/html": [
              "\n",
              "            <style>\n",
              "                .geemap-dark {\n",
              "                    --jp-widgets-color: white;\n",
              "                    --jp-widgets-label-color: white;\n",
              "                    --jp-ui-font-color1: white;\n",
              "                    --jp-layout-color2: #454545;\n",
              "                    background-color: #383838;\n",
              "                }\n",
              "\n",
              "                .geemap-dark .jupyter-button {\n",
              "                    --jp-layout-color3: #383838;\n",
              "                }\n",
              "\n",
              "                .geemap-colab {\n",
              "                    background-color: var(--colab-primary-surface-color, white);\n",
              "                }\n",
              "\n",
              "                .geemap-colab .jupyter-button {\n",
              "                    --jp-layout-color3: var(--colab-primary-surface-color, white);\n",
              "                }\n",
              "            </style>\n",
              "            "
            ]
          },
          "metadata": {}
        },
        {
          "output_type": "stream",
          "name": "stdout",
          "text": [
            "EPSG:4326\n",
            "GEOGCS[\"WGS 84\",DATUM[\"WGS_1984\",SPHEROID[\"WGS 84\",6378137,298.257223563,AUTHORITY[\"EPSG\",\"7030\"]],AUTHORITY[\"EPSG\",\"6326\"]],PRIMEM[\"Greenwich\",0,AUTHORITY[\"EPSG\",\"8901\"]],UNIT[\"degree\",0.0174532925199433],AXIS[\"Longitude\",EAST],AXIS[\"Latitude\",NORTH]]\n"
          ]
        }
      ]
    },
    {
      "cell_type": "code",
      "source": [
        "shapefile = shapefile.to_crs({'init': 'EPSG:4326'})\n",
        "print(shapefile.crs)"
      ],
      "metadata": {
        "id": "hj6OAG3wCG8H",
        "colab": {
          "base_uri": "https://localhost:8080/",
          "height": 34
        },
        "outputId": "d7b2d8fe-741a-4dc3-9d13-2a5d20d7b3a9"
      },
      "execution_count": 16,
      "outputs": [
        {
          "output_type": "display_data",
          "data": {
            "text/plain": [
              "<IPython.core.display.HTML object>"
            ],
            "text/html": [
              "\n",
              "            <style>\n",
              "                .geemap-dark {\n",
              "                    --jp-widgets-color: white;\n",
              "                    --jp-widgets-label-color: white;\n",
              "                    --jp-ui-font-color1: white;\n",
              "                    --jp-layout-color2: #454545;\n",
              "                    background-color: #383838;\n",
              "                }\n",
              "\n",
              "                .geemap-dark .jupyter-button {\n",
              "                    --jp-layout-color3: #383838;\n",
              "                }\n",
              "\n",
              "                .geemap-colab {\n",
              "                    background-color: var(--colab-primary-surface-color, white);\n",
              "                }\n",
              "\n",
              "                .geemap-colab .jupyter-button {\n",
              "                    --jp-layout-color3: var(--colab-primary-surface-color, white);\n",
              "                }\n",
              "            </style>\n",
              "            "
            ]
          },
          "metadata": {}
        },
        {
          "output_type": "stream",
          "name": "stdout",
          "text": [
            "+init=epsg:4326 +type=crs\n"
          ]
        }
      ]
    },
    {
      "cell_type": "code",
      "source": [
        "# let's print the feature count in the training shapefile\n",
        "print(len(shapefile))\n",
        "\n",
        "# finally open the shapefile and hold it in a \"geom\" variable\n",
        "# this generates a list of shapely geometries\n",
        "geoms = shapefile.geometry.values"
      ],
      "metadata": {
        "id": "t8cois3_CtAI",
        "colab": {
          "base_uri": "https://localhost:8080/",
          "height": 34
        },
        "outputId": "13641c63-89d5-426f-c7c2-988db3b5269e"
      },
      "execution_count": 17,
      "outputs": [
        {
          "output_type": "display_data",
          "data": {
            "text/plain": [
              "<IPython.core.display.HTML object>"
            ],
            "text/html": [
              "\n",
              "            <style>\n",
              "                .geemap-dark {\n",
              "                    --jp-widgets-color: white;\n",
              "                    --jp-widgets-label-color: white;\n",
              "                    --jp-ui-font-color1: white;\n",
              "                    --jp-layout-color2: #454545;\n",
              "                    background-color: #383838;\n",
              "                }\n",
              "\n",
              "                .geemap-dark .jupyter-button {\n",
              "                    --jp-layout-color3: #383838;\n",
              "                }\n",
              "\n",
              "                .geemap-colab {\n",
              "                    background-color: var(--colab-primary-surface-color, white);\n",
              "                }\n",
              "\n",
              "                .geemap-colab .jupyter-button {\n",
              "                    --jp-layout-color3: var(--colab-primary-surface-color, white);\n",
              "                }\n",
              "            </style>\n",
              "            "
            ]
          },
          "metadata": {}
        },
        {
          "output_type": "stream",
          "name": "stdout",
          "text": [
            "635\n"
          ]
        }
      ]
    },
    {
      "cell_type": "code",
      "source": [
        "import rasterio\n",
        "import numpy as np\n",
        "from rasterio.mask import mask\n",
        "from shapely.geometry import box, mapping\n",
        "\n",
        "# create empty numpy arrays to hold the X and y variables\n",
        "X = np.array([], dtype=np.int16).reshape(0, 8)  # pixels for training\n",
        "y = np.array([], dtype=np.int8)  # labels for training\n",
        "\n",
        "# List of image file paths\n",
        "image_files = [\n",
        "    'milwaukeeS2WithNDVI1.tif',\n",
        "    'milwaukeeS2WithNDVI2.tif',\n",
        "    'milwaukeeS2WithNDVI3.tif',\n",
        "    'milwaukeeS2WithNDVI4.tif',\n",
        "    'milwaukeeS2WithNDVI5.tif',\n",
        "    'milwaukeeS2WithNDVI6.tif'\n",
        "]\n",
        "\n",
        "# Iterate over each image source\n",
        "for image_path in image_files:\n",
        "    with rasterio.open(image_path) as src:\n",
        "        band_count = src.count\n",
        "        for index, geom in enumerate(geoms):\n",
        "            feature = [mapping(geom)]\n",
        "\n",
        "            # Create a Shapely geometry representing the bounds of the image\n",
        "            image_bounds = box(*src.bounds)\n",
        "\n",
        "            # Ensure the feature is within the bounds of the image\n",
        "            if image_bounds.contains(geom):\n",
        "                # the mask function returns an array of the raster pixels within this feature\n",
        "                out_image, out_transform = mask(src, feature, crop=True)\n",
        "\n",
        "                # eliminate all the pixels with 0 values for all bands - AKA not actually part of the shapefile\n",
        "                out_image_trimmed = out_image[:, ~np.all(out_image == 0, axis=0)]\n",
        "\n",
        "                # eliminate all the pixels with XXX values for all bands\n",
        "                # this would be done to remove missing data values (if any)\n",
        "                out_image_trimmed = out_image_trimmed[:, ~np.all(out_image_trimmed == 255, axis=0)]\n",
        "\n",
        "                # reshape the array to [pixel count, bands]\n",
        "                out_image_reshaped = out_image_trimmed.reshape(-1, band_count)\n",
        "\n",
        "                # append the labels to the y array\n",
        "                y = np.append(y, [shapefile[\"class\"][index]] * out_image_reshaped.shape[0])\n",
        "\n",
        "                # stack the pixels onto the pixel array\n",
        "                X = np.vstack((X, out_image_reshaped))\n",
        "\n",
        "    src.close()"
      ],
      "metadata": {
        "id": "7NDSRxCbAlLv",
        "colab": {
          "base_uri": "https://localhost:8080/",
          "height": 17
        },
        "outputId": "4772d45e-b46e-4af8-d13e-30379e93c1ba"
      },
      "execution_count": 18,
      "outputs": [
        {
          "output_type": "display_data",
          "data": {
            "text/plain": [
              "<IPython.core.display.HTML object>"
            ],
            "text/html": [
              "\n",
              "            <style>\n",
              "                .geemap-dark {\n",
              "                    --jp-widgets-color: white;\n",
              "                    --jp-widgets-label-color: white;\n",
              "                    --jp-ui-font-color1: white;\n",
              "                    --jp-layout-color2: #454545;\n",
              "                    background-color: #383838;\n",
              "                }\n",
              "\n",
              "                .geemap-dark .jupyter-button {\n",
              "                    --jp-layout-color3: #383838;\n",
              "                }\n",
              "\n",
              "                .geemap-colab {\n",
              "                    background-color: var(--colab-primary-surface-color, white);\n",
              "                }\n",
              "\n",
              "                .geemap-colab .jupyter-button {\n",
              "                    --jp-layout-color3: var(--colab-primary-surface-color, white);\n",
              "                }\n",
              "            </style>\n",
              "            "
            ]
          },
          "metadata": {}
        }
      ]
    },
    {
      "cell_type": "code",
      "source": [
        "# What are our classification labels?\n",
        "labels = np.unique(shapefile[\"class\"])\n",
        "print('The training data include {n} classes: {classes}\\n'.format(n=labels.size,\n",
        "                                                                classes=labels))\n",
        "\n",
        "# We will need a \"X\" matrix containing our features, and a \"y\" array containing our labels\n",
        "print('Our X matrix is sized: {sz}'.format(sz=X.shape))\n",
        "print('Our y array is sized: {sz}'.format(sz=y.shape))\n",
        "\n",
        "print(X)\n",
        "print(y)"
      ],
      "metadata": {
        "id": "cjmiFBjbAJX_",
        "colab": {
          "base_uri": "https://localhost:8080/",
          "height": 625
        },
        "outputId": "574938d0-1c69-482e-a88b-b2a8eb91aa0a"
      },
      "execution_count": 19,
      "outputs": [
        {
          "output_type": "display_data",
          "data": {
            "text/plain": [
              "<IPython.core.display.HTML object>"
            ],
            "text/html": [
              "\n",
              "            <style>\n",
              "                .geemap-dark {\n",
              "                    --jp-widgets-color: white;\n",
              "                    --jp-widgets-label-color: white;\n",
              "                    --jp-ui-font-color1: white;\n",
              "                    --jp-layout-color2: #454545;\n",
              "                    background-color: #383838;\n",
              "                }\n",
              "\n",
              "                .geemap-dark .jupyter-button {\n",
              "                    --jp-layout-color3: #383838;\n",
              "                }\n",
              "\n",
              "                .geemap-colab {\n",
              "                    background-color: var(--colab-primary-surface-color, white);\n",
              "                }\n",
              "\n",
              "                .geemap-colab .jupyter-button {\n",
              "                    --jp-layout-color3: var(--colab-primary-surface-color, white);\n",
              "                }\n",
              "            </style>\n",
              "            "
            ]
          },
          "metadata": {}
        },
        {
          "output_type": "stream",
          "name": "stdout",
          "text": [
            "The training data include 4 classes: [1 2 3 4]\n",
            "\n",
            "Our X matrix is sized: (635, 8)\n",
            "Our y array is sized: (635,)\n",
            "[[ 0.04725556  0.07626667  0.06531111 ...  0.14042222  0.\n",
            "   0.65354234]\n",
            " [ 0.042       0.07536667  0.06137778 ...  0.13115555  0.\n",
            "   0.6938934 ]\n",
            " [ 0.02897778  0.06254444  0.02686667 ...  0.08431111  0.\n",
            "   0.8820545 ]\n",
            " ...\n",
            " [ 0.02033333  0.03483333  0.02203333 ...  0.0193      0.\n",
            "   0.23804031]\n",
            " [ 0.01923333  0.02716667  0.01703333 ...  0.01616667  0.\n",
            "  -0.00689656]\n",
            " [ 0.26086667  0.22486667  0.1348     ...  0.1882      0.\n",
            "   0.06475487]]\n",
            "[1 1 1 1 1 1 1 1 1 1 1 1 1 1 1 1 1 2 2 2 2 2 2 2 2 2 2 2 2 2 2 2 3 3 3 3 3\n",
            " 3 3 3 3 3 3 3 3 3 3 3 3 3 3 3 3 3 3 3 3 3 3 3 3 3 3 3 3 3 3 3 3 3 3 3 3 3\n",
            " 3 3 3 3 3 3 3 3 3 3 3 3 3 3 3 3 3 3 3 3 3 3 3 3 3 3 3 3 3 3 3 3 3 3 3 3 2\n",
            " 2 2 2 2 2 2 2 3 3 3 3 3 3 3 3 3 3 3 3 3 3 4 4 4 4 4 4 4 4 4 4 4 4 4 4 1 1\n",
            " 1 1 1 1 1 2 2 2 2 2 2 3 3 3 3 3 3 3 3 3 3 3 3 3 3 3 3 3 3 3 3 3 3 3 3 3 3\n",
            " 3 3 3 3 3 3 3 3 3 3 3 3 3 3 3 3 3 3 3 3 3 3 3 3 4 4 4 4 4 4 4 4 4 4 4 4 4\n",
            " 4 4 4 4 4 4 4 4 4 4 4 4 4 4 4 4 4 4 4 4 4 4 4 4 4 4 4 4 1 1 1 1 1 1 1 1 1\n",
            " 1 1 1 1 1 1 1 1 1 1 1 1 1 1 1 1 1 1 1 1 1 1 1 1 1 1 1 1 1 1 1 1 1 1 1 1 1\n",
            " 1 1 1 1 1 1 1 1 1 1 1 1 1 1 1 1 1 1 1 1 1 1 1 1 1 1 2 2 2 2 2 2 2 2 2 2 2\n",
            " 2 2 2 2 2 2 2 2 2 2 2 2 2 2 2 2 2 2 2 2 2 2 2 2 2 2 2 3 3 3 3 3 3 3 3 3 3\n",
            " 3 3 3 3 3 3 3 3 3 3 3 3 3 3 3 3 3 3 3 3 3 3 3 3 3 3 3 3 3 3 3 3 3 3 3 3 3\n",
            " 3 3 3 3 3 3 3 3 3 3 3 3 3 3 3 3 3 3 3 3 3 3 3 3 3 3 3 3 3 3 3 3 3 3 3 3 3\n",
            " 3 3 3 3 3 3 3 3 3 3 3 3 3 3 3 3 3 3 3 3 3 3 3 3 3 3 3 3 3 3 3 3 3 3 3 3 3\n",
            " 3 3 3 3 3 3 3 3 3 3 3 3 3 3 3 3 3 3 3 3 3 3 3 3 3 3 3 3 3 3 3 3 3 3 3 3 3\n",
            " 3 3 3 3 3 3 3 3 3 3 3 3 3 3 3 3 3 3 3 3 3 3 3 3 3 3 3 3 3 4 4 4 4 4 4 4 4\n",
            " 4 4 4 4 4 4 4 4 4 4 4 4 4 4 4 4 4 4 4 4 4 4 4 4 4 4 4 4 4 4 4 4 4 4 4 4 4\n",
            " 4 4 4 4 4 4 4 4 4 4 4 4 4 4 4 4 4 4 4 1 1 1 1 1 1 1 1 1 1 1 1 1 1 1 1 1 1\n",
            " 1 1 2 2 2 2]\n"
          ]
        }
      ]
    },
    {
      "cell_type": "code",
      "source": [
        "# import a library for spliting data into random train and test subsets\n",
        "from sklearn.model_selection import train_test_split\n",
        "# i.e. 75 % training dataset and 25 % test datasets\n",
        "X_train, X_test, y_train, y_test = train_test_split(X, y, test_size = 0.25, random_state=1)\n",
        "print('training X size:',X_train.shape)\n",
        "print('training y size:',y_train.shape)\n",
        "print('test X size:',X_test.shape)\n",
        "print('test y size:',y_test.shape)"
      ],
      "metadata": {
        "id": "Q29lcL0-Ag5f",
        "colab": {
          "base_uri": "https://localhost:8080/",
          "height": 86
        },
        "outputId": "ede1709f-9aeb-4ce4-94fd-23f48da57d46"
      },
      "execution_count": 20,
      "outputs": [
        {
          "output_type": "display_data",
          "data": {
            "text/plain": [
              "<IPython.core.display.HTML object>"
            ],
            "text/html": [
              "\n",
              "            <style>\n",
              "                .geemap-dark {\n",
              "                    --jp-widgets-color: white;\n",
              "                    --jp-widgets-label-color: white;\n",
              "                    --jp-ui-font-color1: white;\n",
              "                    --jp-layout-color2: #454545;\n",
              "                    background-color: #383838;\n",
              "                }\n",
              "\n",
              "                .geemap-dark .jupyter-button {\n",
              "                    --jp-layout-color3: #383838;\n",
              "                }\n",
              "\n",
              "                .geemap-colab {\n",
              "                    background-color: var(--colab-primary-surface-color, white);\n",
              "                }\n",
              "\n",
              "                .geemap-colab .jupyter-button {\n",
              "                    --jp-layout-color3: var(--colab-primary-surface-color, white);\n",
              "                }\n",
              "            </style>\n",
              "            "
            ]
          },
          "metadata": {}
        },
        {
          "output_type": "stream",
          "name": "stdout",
          "text": [
            "training X size: (476, 8)\n",
            "training y size: (476,)\n",
            "test X size: (159, 8)\n",
            "test y size: (159,)\n"
          ]
        }
      ]
    },
    {
      "cell_type": "code",
      "source": [
        "# first install the library on the VM\n",
        "!pip install -q flaml"
      ],
      "metadata": {
        "id": "DasWTzBcAlOf",
        "colab": {
          "base_uri": "https://localhost:8080/",
          "height": 34
        },
        "outputId": "76573787-a68b-44a7-994c-d34ca29f9d9e"
      },
      "execution_count": 21,
      "outputs": [
        {
          "output_type": "display_data",
          "data": {
            "text/plain": [
              "<IPython.core.display.HTML object>"
            ],
            "text/html": [
              "\n",
              "            <style>\n",
              "                .geemap-dark {\n",
              "                    --jp-widgets-color: white;\n",
              "                    --jp-widgets-label-color: white;\n",
              "                    --jp-ui-font-color1: white;\n",
              "                    --jp-layout-color2: #454545;\n",
              "                    background-color: #383838;\n",
              "                }\n",
              "\n",
              "                .geemap-dark .jupyter-button {\n",
              "                    --jp-layout-color3: #383838;\n",
              "                }\n",
              "\n",
              "                .geemap-colab {\n",
              "                    background-color: var(--colab-primary-surface-color, white);\n",
              "                }\n",
              "\n",
              "                .geemap-colab .jupyter-button {\n",
              "                    --jp-layout-color3: var(--colab-primary-surface-color, white);\n",
              "                }\n",
              "            </style>\n",
              "            "
            ]
          },
          "metadata": {}
        },
        {
          "output_type": "stream",
          "name": "stdout",
          "text": [
            "\u001b[?25l     \u001b[90m━━━━━━━━━━━━━━━━━━━━━━━━━━━━━━━━━━━━━━━━\u001b[0m \u001b[32m0.0/296.7 kB\u001b[0m \u001b[31m?\u001b[0m eta \u001b[36m-:--:--\u001b[0m\r\u001b[2K     \u001b[91m━━━━━━━━━━━━━━━━━━━━━━━\u001b[0m\u001b[90m╺\u001b[0m\u001b[90m━━━━━━━━━━━━━━━━\u001b[0m \u001b[32m174.1/296.7 kB\u001b[0m \u001b[31m5.1 MB/s\u001b[0m eta \u001b[36m0:00:01\u001b[0m\r\u001b[2K     \u001b[90m━━━━━━━━━━━━━━━━━━━━━━━━━━━━━━━━━━━━━━━━\u001b[0m \u001b[32m296.7/296.7 kB\u001b[0m \u001b[31m5.5 MB/s\u001b[0m eta \u001b[36m0:00:00\u001b[0m\n",
            "\u001b[?25h"
          ]
        }
      ]
    },
    {
      "cell_type": "code",
      "source": [
        "# import the library and train\n",
        "from flaml import AutoML\n",
        "automl = AutoML()\n",
        "automl.fit(X_train, y_train, task=\"classification\", time_budget=60)"
      ],
      "metadata": {
        "id": "R7a1mUyRAlRP",
        "colab": {
          "base_uri": "https://localhost:8080/",
          "height": 1000
        },
        "outputId": "0982c696-28d0-41ee-de1d-47d0e1de9691"
      },
      "execution_count": 22,
      "outputs": [
        {
          "output_type": "display_data",
          "data": {
            "text/plain": [
              "<IPython.core.display.HTML object>"
            ],
            "text/html": [
              "\n",
              "            <style>\n",
              "                .geemap-dark {\n",
              "                    --jp-widgets-color: white;\n",
              "                    --jp-widgets-label-color: white;\n",
              "                    --jp-ui-font-color1: white;\n",
              "                    --jp-layout-color2: #454545;\n",
              "                    background-color: #383838;\n",
              "                }\n",
              "\n",
              "                .geemap-dark .jupyter-button {\n",
              "                    --jp-layout-color3: #383838;\n",
              "                }\n",
              "\n",
              "                .geemap-colab {\n",
              "                    background-color: var(--colab-primary-surface-color, white);\n",
              "                }\n",
              "\n",
              "                .geemap-colab .jupyter-button {\n",
              "                    --jp-layout-color3: var(--colab-primary-surface-color, white);\n",
              "                }\n",
              "            </style>\n",
              "            "
            ]
          },
          "metadata": {}
        },
        {
          "output_type": "stream",
          "name": "stdout",
          "text": [
            "[flaml.automl.logger: 05-06 20:15:51] {1680} INFO - task = classification\n",
            "[flaml.automl.logger: 05-06 20:15:51] {1691} INFO - Evaluation method: cv\n",
            "[flaml.automl.logger: 05-06 20:15:51] {1789} INFO - Minimizing error metric: log_loss\n",
            "[flaml.automl.logger: 05-06 20:15:51] {1901} INFO - List of ML learners in AutoML Run: ['lgbm', 'rf', 'xgboost', 'extra_tree', 'xgb_limitdepth', 'lrl1']\n",
            "[flaml.automl.logger: 05-06 20:15:51] {2219} INFO - iteration 0, current learner lgbm\n",
            "[flaml.automl.logger: 05-06 20:15:54] {2345} INFO - Estimated sufficient time budget=26614s. Estimated necessary time budget=613s.\n",
            "[flaml.automl.logger: 05-06 20:15:54] {2392} INFO -  at 2.8s,\testimator lgbm's best error=0.7761,\tbest estimator lgbm's best error=0.7761\n",
            "[flaml.automl.logger: 05-06 20:15:54] {2219} INFO - iteration 1, current learner lgbm\n",
            "[flaml.automl.logger: 05-06 20:15:54] {2392} INFO -  at 3.0s,\testimator lgbm's best error=0.7761,\tbest estimator lgbm's best error=0.7761\n",
            "[flaml.automl.logger: 05-06 20:15:54] {2219} INFO - iteration 2, current learner lgbm\n",
            "[flaml.automl.logger: 05-06 20:15:54] {2392} INFO -  at 3.3s,\testimator lgbm's best error=0.4994,\tbest estimator lgbm's best error=0.4994\n",
            "[flaml.automl.logger: 05-06 20:15:54] {2219} INFO - iteration 3, current learner lgbm\n",
            "[flaml.automl.logger: 05-06 20:15:55] {2392} INFO -  at 3.8s,\testimator lgbm's best error=0.3821,\tbest estimator lgbm's best error=0.3821\n",
            "[flaml.automl.logger: 05-06 20:15:55] {2219} INFO - iteration 4, current learner lgbm\n",
            "[flaml.automl.logger: 05-06 20:15:55] {2392} INFO -  at 4.5s,\testimator lgbm's best error=0.3821,\tbest estimator lgbm's best error=0.3821\n",
            "[flaml.automl.logger: 05-06 20:15:55] {2219} INFO - iteration 5, current learner lgbm\n",
            "[flaml.automl.logger: 05-06 20:15:56] {2392} INFO -  at 5.2s,\testimator lgbm's best error=0.3821,\tbest estimator lgbm's best error=0.3821\n",
            "[flaml.automl.logger: 05-06 20:15:56] {2219} INFO - iteration 6, current learner lgbm\n",
            "[flaml.automl.logger: 05-06 20:15:57] {2392} INFO -  at 5.7s,\testimator lgbm's best error=0.3821,\tbest estimator lgbm's best error=0.3821\n",
            "[flaml.automl.logger: 05-06 20:15:57] {2219} INFO - iteration 7, current learner lgbm\n",
            "[flaml.automl.logger: 05-06 20:15:57] {2392} INFO -  at 6.1s,\testimator lgbm's best error=0.3821,\tbest estimator lgbm's best error=0.3821\n",
            "[flaml.automl.logger: 05-06 20:15:57] {2219} INFO - iteration 8, current learner lgbm\n",
            "[flaml.automl.logger: 05-06 20:15:58] {2392} INFO -  at 7.3s,\testimator lgbm's best error=0.3664,\tbest estimator lgbm's best error=0.3664\n",
            "[flaml.automl.logger: 05-06 20:15:58] {2219} INFO - iteration 9, current learner lgbm\n",
            "[flaml.automl.logger: 05-06 20:15:59] {2392} INFO -  at 7.7s,\testimator lgbm's best error=0.3664,\tbest estimator lgbm's best error=0.3664\n",
            "[flaml.automl.logger: 05-06 20:15:59] {2219} INFO - iteration 10, current learner lgbm\n",
            "[flaml.automl.logger: 05-06 20:16:00] {2392} INFO -  at 8.6s,\testimator lgbm's best error=0.3664,\tbest estimator lgbm's best error=0.3664\n",
            "[flaml.automl.logger: 05-06 20:16:00] {2219} INFO - iteration 11, current learner lgbm\n",
            "[flaml.automl.logger: 05-06 20:16:00] {2392} INFO -  at 9.0s,\testimator lgbm's best error=0.3664,\tbest estimator lgbm's best error=0.3664\n",
            "[flaml.automl.logger: 05-06 20:16:00] {2219} INFO - iteration 12, current learner lgbm\n",
            "[flaml.automl.logger: 05-06 20:16:01] {2392} INFO -  at 9.7s,\testimator lgbm's best error=0.3664,\tbest estimator lgbm's best error=0.3664\n",
            "[flaml.automl.logger: 05-06 20:16:01] {2219} INFO - iteration 13, current learner lgbm\n",
            "[flaml.automl.logger: 05-06 20:16:01] {2392} INFO -  at 10.3s,\testimator lgbm's best error=0.3664,\tbest estimator lgbm's best error=0.3664\n",
            "[flaml.automl.logger: 05-06 20:16:01] {2219} INFO - iteration 14, current learner lgbm\n",
            "[flaml.automl.logger: 05-06 20:16:03] {2392} INFO -  at 11.6s,\testimator lgbm's best error=0.3664,\tbest estimator lgbm's best error=0.3664\n",
            "[flaml.automl.logger: 05-06 20:16:03] {2219} INFO - iteration 15, current learner lgbm\n",
            "[flaml.automl.logger: 05-06 20:16:05] {2392} INFO -  at 14.0s,\testimator lgbm's best error=0.3664,\tbest estimator lgbm's best error=0.3664\n",
            "[flaml.automl.logger: 05-06 20:16:05] {2219} INFO - iteration 16, current learner xgboost\n",
            "[flaml.automl.logger: 05-06 20:16:07] {2392} INFO -  at 15.7s,\testimator xgboost's best error=0.9737,\tbest estimator lgbm's best error=0.3664\n",
            "[flaml.automl.logger: 05-06 20:16:07] {2219} INFO - iteration 17, current learner xgboost\n",
            "[flaml.automl.logger: 05-06 20:16:10] {2392} INFO -  at 18.6s,\testimator xgboost's best error=0.9737,\tbest estimator lgbm's best error=0.3664\n",
            "[flaml.automl.logger: 05-06 20:16:10] {2219} INFO - iteration 18, current learner extra_tree\n",
            "[flaml.automl.logger: 05-06 20:16:10] {2392} INFO -  at 19.4s,\testimator extra_tree's best error=0.9389,\tbest estimator lgbm's best error=0.3664\n",
            "[flaml.automl.logger: 05-06 20:16:10] {2219} INFO - iteration 19, current learner extra_tree\n",
            "[flaml.automl.logger: 05-06 20:16:11] {2392} INFO -  at 20.1s,\testimator extra_tree's best error=0.7325,\tbest estimator lgbm's best error=0.3664\n",
            "[flaml.automl.logger: 05-06 20:16:11] {2219} INFO - iteration 20, current learner extra_tree\n",
            "[flaml.automl.logger: 05-06 20:16:11] {2392} INFO -  at 20.5s,\testimator extra_tree's best error=0.7325,\tbest estimator lgbm's best error=0.3664\n",
            "[flaml.automl.logger: 05-06 20:16:11] {2219} INFO - iteration 21, current learner lgbm\n",
            "[flaml.automl.logger: 05-06 20:16:13] {2392} INFO -  at 21.9s,\testimator lgbm's best error=0.3664,\tbest estimator lgbm's best error=0.3664\n",
            "[flaml.automl.logger: 05-06 20:16:13] {2219} INFO - iteration 22, current learner lgbm\n",
            "[flaml.automl.logger: 05-06 20:16:13] {2392} INFO -  at 22.1s,\testimator lgbm's best error=0.3664,\tbest estimator lgbm's best error=0.3664\n",
            "[flaml.automl.logger: 05-06 20:16:13] {2219} INFO - iteration 23, current learner extra_tree\n",
            "[flaml.automl.logger: 05-06 20:16:13] {2392} INFO -  at 22.4s,\testimator extra_tree's best error=0.7325,\tbest estimator lgbm's best error=0.3664\n",
            "[flaml.automl.logger: 05-06 20:16:13] {2219} INFO - iteration 24, current learner extra_tree\n",
            "[flaml.automl.logger: 05-06 20:16:14] {2392} INFO -  at 23.1s,\testimator extra_tree's best error=0.4636,\tbest estimator lgbm's best error=0.3664\n",
            "[flaml.automl.logger: 05-06 20:16:14] {2219} INFO - iteration 25, current learner extra_tree\n",
            "[flaml.automl.logger: 05-06 20:16:15] {2392} INFO -  at 23.9s,\testimator extra_tree's best error=0.4636,\tbest estimator lgbm's best error=0.3664\n",
            "[flaml.automl.logger: 05-06 20:16:15] {2219} INFO - iteration 26, current learner extra_tree\n",
            "[flaml.automl.logger: 05-06 20:16:15] {2392} INFO -  at 24.2s,\testimator extra_tree's best error=0.4636,\tbest estimator lgbm's best error=0.3664\n",
            "[flaml.automl.logger: 05-06 20:16:15] {2219} INFO - iteration 27, current learner extra_tree\n",
            "[flaml.automl.logger: 05-06 20:16:16] {2392} INFO -  at 24.7s,\testimator extra_tree's best error=0.4412,\tbest estimator lgbm's best error=0.3664\n",
            "[flaml.automl.logger: 05-06 20:16:16] {2219} INFO - iteration 28, current learner rf\n",
            "[flaml.automl.logger: 05-06 20:16:16] {2392} INFO -  at 24.9s,\testimator rf's best error=0.6391,\tbest estimator lgbm's best error=0.3664\n",
            "[flaml.automl.logger: 05-06 20:16:16] {2219} INFO - iteration 29, current learner rf\n",
            "[flaml.automl.logger: 05-06 20:16:16] {2392} INFO -  at 25.4s,\testimator rf's best error=0.5250,\tbest estimator lgbm's best error=0.3664\n",
            "[flaml.automl.logger: 05-06 20:16:16] {2219} INFO - iteration 30, current learner lgbm\n",
            "[flaml.automl.logger: 05-06 20:16:17] {2392} INFO -  at 25.6s,\testimator lgbm's best error=0.3664,\tbest estimator lgbm's best error=0.3664\n",
            "[flaml.automl.logger: 05-06 20:16:17] {2219} INFO - iteration 31, current learner lgbm\n",
            "[flaml.automl.logger: 05-06 20:16:17] {2392} INFO -  at 26.0s,\testimator lgbm's best error=0.3664,\tbest estimator lgbm's best error=0.3664\n",
            "[flaml.automl.logger: 05-06 20:16:17] {2219} INFO - iteration 32, current learner rf\n",
            "[flaml.automl.logger: 05-06 20:16:17] {2392} INFO -  at 26.3s,\testimator rf's best error=0.5250,\tbest estimator lgbm's best error=0.3664\n",
            "[flaml.automl.logger: 05-06 20:16:17] {2219} INFO - iteration 33, current learner xgboost\n",
            "[flaml.automl.logger: 05-06 20:16:18] {2392} INFO -  at 27.1s,\testimator xgboost's best error=0.6410,\tbest estimator lgbm's best error=0.3664\n",
            "[flaml.automl.logger: 05-06 20:16:18] {2219} INFO - iteration 34, current learner lgbm\n",
            "[flaml.automl.logger: 05-06 20:16:19] {2392} INFO -  at 28.2s,\testimator lgbm's best error=0.3565,\tbest estimator lgbm's best error=0.3565\n",
            "[flaml.automl.logger: 05-06 20:16:19] {2219} INFO - iteration 35, current learner rf\n",
            "[flaml.automl.logger: 05-06 20:16:20] {2392} INFO -  at 28.7s,\testimator rf's best error=0.4990,\tbest estimator lgbm's best error=0.3565\n",
            "[flaml.automl.logger: 05-06 20:16:20] {2219} INFO - iteration 36, current learner extra_tree\n",
            "[flaml.automl.logger: 05-06 20:16:20] {2392} INFO -  at 29.1s,\testimator extra_tree's best error=0.4412,\tbest estimator lgbm's best error=0.3565\n",
            "[flaml.automl.logger: 05-06 20:16:20] {2219} INFO - iteration 37, current learner xgboost\n",
            "[flaml.automl.logger: 05-06 20:16:22] {2392} INFO -  at 31.0s,\testimator xgboost's best error=0.3922,\tbest estimator lgbm's best error=0.3565\n",
            "[flaml.automl.logger: 05-06 20:16:22] {2219} INFO - iteration 38, current learner xgboost\n",
            "[flaml.automl.logger: 05-06 20:16:23] {2392} INFO -  at 32.1s,\testimator xgboost's best error=0.3922,\tbest estimator lgbm's best error=0.3565\n",
            "[flaml.automl.logger: 05-06 20:16:23] {2219} INFO - iteration 39, current learner xgboost\n",
            "[flaml.automl.logger: 05-06 20:16:23] {2392} INFO -  at 32.3s,\testimator xgboost's best error=0.3922,\tbest estimator lgbm's best error=0.3565\n",
            "[flaml.automl.logger: 05-06 20:16:23] {2219} INFO - iteration 40, current learner xgboost\n",
            "[flaml.automl.logger: 05-06 20:16:24] {2392} INFO -  at 32.6s,\testimator xgboost's best error=0.3807,\tbest estimator lgbm's best error=0.3565\n",
            "[flaml.automl.logger: 05-06 20:16:24] {2219} INFO - iteration 41, current learner extra_tree\n",
            "[flaml.automl.logger: 05-06 20:16:24] {2392} INFO -  at 33.0s,\testimator extra_tree's best error=0.4412,\tbest estimator lgbm's best error=0.3565\n",
            "[flaml.automl.logger: 05-06 20:16:24] {2219} INFO - iteration 42, current learner lgbm\n",
            "[flaml.automl.logger: 05-06 20:16:24] {2392} INFO -  at 33.4s,\testimator lgbm's best error=0.3494,\tbest estimator lgbm's best error=0.3494\n",
            "[flaml.automl.logger: 05-06 20:16:24] {2219} INFO - iteration 43, current learner lgbm\n",
            "[flaml.automl.logger: 05-06 20:16:26] {2392} INFO -  at 35.1s,\testimator lgbm's best error=0.3494,\tbest estimator lgbm's best error=0.3494\n",
            "[flaml.automl.logger: 05-06 20:16:26] {2219} INFO - iteration 44, current learner extra_tree\n",
            "[flaml.automl.logger: 05-06 20:16:27] {2392} INFO -  at 35.5s,\testimator extra_tree's best error=0.4412,\tbest estimator lgbm's best error=0.3494\n",
            "[flaml.automl.logger: 05-06 20:16:27] {2219} INFO - iteration 45, current learner rf\n",
            "[flaml.automl.logger: 05-06 20:16:27] {2392} INFO -  at 36.0s,\testimator rf's best error=0.4965,\tbest estimator lgbm's best error=0.3494\n",
            "[flaml.automl.logger: 05-06 20:16:27] {2219} INFO - iteration 46, current learner lgbm\n",
            "[flaml.automl.logger: 05-06 20:16:27] {2392} INFO -  at 36.1s,\testimator lgbm's best error=0.3494,\tbest estimator lgbm's best error=0.3494\n",
            "[flaml.automl.logger: 05-06 20:16:27] {2219} INFO - iteration 47, current learner xgboost\n",
            "[flaml.automl.logger: 05-06 20:16:27] {2392} INFO -  at 36.2s,\testimator xgboost's best error=0.3807,\tbest estimator lgbm's best error=0.3494\n",
            "[flaml.automl.logger: 05-06 20:16:27] {2219} INFO - iteration 48, current learner lgbm\n",
            "[flaml.automl.logger: 05-06 20:16:27] {2392} INFO -  at 36.4s,\testimator lgbm's best error=0.3494,\tbest estimator lgbm's best error=0.3494\n",
            "[flaml.automl.logger: 05-06 20:16:27] {2219} INFO - iteration 49, current learner lgbm\n",
            "[flaml.automl.logger: 05-06 20:16:28] {2392} INFO -  at 36.5s,\testimator lgbm's best error=0.3494,\tbest estimator lgbm's best error=0.3494\n",
            "[flaml.automl.logger: 05-06 20:16:28] {2219} INFO - iteration 50, current learner xgboost\n",
            "[flaml.automl.logger: 05-06 20:16:28] {2392} INFO -  at 36.7s,\testimator xgboost's best error=0.3807,\tbest estimator lgbm's best error=0.3494\n",
            "[flaml.automl.logger: 05-06 20:16:28] {2219} INFO - iteration 51, current learner lgbm\n",
            "[flaml.automl.logger: 05-06 20:16:28] {2392} INFO -  at 36.8s,\testimator lgbm's best error=0.3494,\tbest estimator lgbm's best error=0.3494\n",
            "[flaml.automl.logger: 05-06 20:16:28] {2219} INFO - iteration 52, current learner lgbm\n",
            "[flaml.automl.logger: 05-06 20:16:28] {2392} INFO -  at 37.0s,\testimator lgbm's best error=0.3494,\tbest estimator lgbm's best error=0.3494\n",
            "[flaml.automl.logger: 05-06 20:16:28] {2219} INFO - iteration 53, current learner lgbm\n",
            "[flaml.automl.logger: 05-06 20:16:28] {2392} INFO -  at 37.1s,\testimator lgbm's best error=0.3494,\tbest estimator lgbm's best error=0.3494\n",
            "[flaml.automl.logger: 05-06 20:16:28] {2219} INFO - iteration 54, current learner lgbm\n",
            "[flaml.automl.logger: 05-06 20:16:28] {2392} INFO -  at 37.2s,\testimator lgbm's best error=0.3494,\tbest estimator lgbm's best error=0.3494\n",
            "[flaml.automl.logger: 05-06 20:16:28] {2219} INFO - iteration 55, current learner lgbm\n",
            "[flaml.automl.logger: 05-06 20:16:28] {2392} INFO -  at 37.5s,\testimator lgbm's best error=0.3494,\tbest estimator lgbm's best error=0.3494\n",
            "[flaml.automl.logger: 05-06 20:16:28] {2219} INFO - iteration 56, current learner lgbm\n",
            "[flaml.automl.logger: 05-06 20:16:29] {2392} INFO -  at 37.6s,\testimator lgbm's best error=0.3494,\tbest estimator lgbm's best error=0.3494\n",
            "[flaml.automl.logger: 05-06 20:16:29] {2219} INFO - iteration 57, current learner lgbm\n",
            "[flaml.automl.logger: 05-06 20:16:29] {2392} INFO -  at 37.8s,\testimator lgbm's best error=0.3494,\tbest estimator lgbm's best error=0.3494\n",
            "[flaml.automl.logger: 05-06 20:16:29] {2219} INFO - iteration 58, current learner lgbm\n",
            "[flaml.automl.logger: 05-06 20:16:29] {2392} INFO -  at 37.9s,\testimator lgbm's best error=0.3494,\tbest estimator lgbm's best error=0.3494\n",
            "[flaml.automl.logger: 05-06 20:16:29] {2219} INFO - iteration 59, current learner lgbm\n",
            "[flaml.automl.logger: 05-06 20:16:29] {2392} INFO -  at 38.0s,\testimator lgbm's best error=0.3494,\tbest estimator lgbm's best error=0.3494\n",
            "[flaml.automl.logger: 05-06 20:16:29] {2219} INFO - iteration 60, current learner lgbm\n",
            "[flaml.automl.logger: 05-06 20:16:29] {2392} INFO -  at 38.3s,\testimator lgbm's best error=0.3494,\tbest estimator lgbm's best error=0.3494\n",
            "[flaml.automl.logger: 05-06 20:16:29] {2219} INFO - iteration 61, current learner lgbm\n",
            "[flaml.automl.logger: 05-06 20:16:29] {2392} INFO -  at 38.4s,\testimator lgbm's best error=0.3494,\tbest estimator lgbm's best error=0.3494\n",
            "[flaml.automl.logger: 05-06 20:16:29] {2219} INFO - iteration 62, current learner lgbm\n",
            "[flaml.automl.logger: 05-06 20:16:30] {2392} INFO -  at 38.6s,\testimator lgbm's best error=0.3494,\tbest estimator lgbm's best error=0.3494\n",
            "[flaml.automl.logger: 05-06 20:16:30] {2219} INFO - iteration 63, current learner xgboost\n",
            "[flaml.automl.logger: 05-06 20:16:30] {2392} INFO -  at 38.7s,\testimator xgboost's best error=0.3807,\tbest estimator lgbm's best error=0.3494\n",
            "[flaml.automl.logger: 05-06 20:16:30] {2219} INFO - iteration 64, current learner lgbm\n",
            "[flaml.automl.logger: 05-06 20:16:30] {2392} INFO -  at 38.8s,\testimator lgbm's best error=0.3494,\tbest estimator lgbm's best error=0.3494\n",
            "[flaml.automl.logger: 05-06 20:16:30] {2219} INFO - iteration 65, current learner lgbm\n",
            "[flaml.automl.logger: 05-06 20:16:30] {2392} INFO -  at 39.1s,\testimator lgbm's best error=0.3494,\tbest estimator lgbm's best error=0.3494\n",
            "[flaml.automl.logger: 05-06 20:16:30] {2219} INFO - iteration 66, current learner xgboost\n",
            "[flaml.automl.logger: 05-06 20:16:30] {2392} INFO -  at 39.2s,\testimator xgboost's best error=0.3653,\tbest estimator lgbm's best error=0.3494\n",
            "[flaml.automl.logger: 05-06 20:16:30] {2219} INFO - iteration 67, current learner xgboost\n",
            "[flaml.automl.logger: 05-06 20:16:30] {2392} INFO -  at 39.3s,\testimator xgboost's best error=0.3653,\tbest estimator lgbm's best error=0.3494\n",
            "[flaml.automl.logger: 05-06 20:16:30] {2219} INFO - iteration 68, current learner lgbm\n",
            "[flaml.automl.logger: 05-06 20:16:30] {2392} INFO -  at 39.4s,\testimator lgbm's best error=0.3494,\tbest estimator lgbm's best error=0.3494\n",
            "[flaml.automl.logger: 05-06 20:16:30] {2219} INFO - iteration 69, current learner xgboost\n",
            "[flaml.automl.logger: 05-06 20:16:30] {2392} INFO -  at 39.5s,\testimator xgboost's best error=0.3653,\tbest estimator lgbm's best error=0.3494\n",
            "[flaml.automl.logger: 05-06 20:16:30] {2219} INFO - iteration 70, current learner xgboost\n",
            "[flaml.automl.logger: 05-06 20:16:31] {2392} INFO -  at 39.6s,\testimator xgboost's best error=0.3653,\tbest estimator lgbm's best error=0.3494\n",
            "[flaml.automl.logger: 05-06 20:16:31] {2219} INFO - iteration 71, current learner xgboost\n",
            "[flaml.automl.logger: 05-06 20:16:31] {2392} INFO -  at 39.7s,\testimator xgboost's best error=0.3653,\tbest estimator lgbm's best error=0.3494\n",
            "[flaml.automl.logger: 05-06 20:16:31] {2219} INFO - iteration 72, current learner xgboost\n",
            "[flaml.automl.logger: 05-06 20:16:31] {2392} INFO -  at 39.8s,\testimator xgboost's best error=0.3653,\tbest estimator lgbm's best error=0.3494\n",
            "[flaml.automl.logger: 05-06 20:16:31] {2219} INFO - iteration 73, current learner xgboost\n",
            "[flaml.automl.logger: 05-06 20:16:31] {2392} INFO -  at 39.9s,\testimator xgboost's best error=0.3653,\tbest estimator lgbm's best error=0.3494\n",
            "[flaml.automl.logger: 05-06 20:16:31] {2219} INFO - iteration 74, current learner xgboost\n",
            "[flaml.automl.logger: 05-06 20:16:31] {2392} INFO -  at 40.0s,\testimator xgboost's best error=0.3653,\tbest estimator lgbm's best error=0.3494\n",
            "[flaml.automl.logger: 05-06 20:16:31] {2219} INFO - iteration 75, current learner lgbm\n",
            "[flaml.automl.logger: 05-06 20:16:31] {2392} INFO -  at 40.1s,\testimator lgbm's best error=0.3494,\tbest estimator lgbm's best error=0.3494\n",
            "[flaml.automl.logger: 05-06 20:16:31] {2219} INFO - iteration 76, current learner lgbm\n",
            "[flaml.automl.logger: 05-06 20:16:31] {2392} INFO -  at 40.4s,\testimator lgbm's best error=0.3494,\tbest estimator lgbm's best error=0.3494\n",
            "[flaml.automl.logger: 05-06 20:16:31] {2219} INFO - iteration 77, current learner xgboost\n",
            "[flaml.automl.logger: 05-06 20:16:31] {2392} INFO -  at 40.5s,\testimator xgboost's best error=0.3653,\tbest estimator lgbm's best error=0.3494\n",
            "[flaml.automl.logger: 05-06 20:16:32] {2219} INFO - iteration 78, current learner xgboost\n",
            "[flaml.automl.logger: 05-06 20:16:32] {2392} INFO -  at 40.6s,\testimator xgboost's best error=0.3653,\tbest estimator lgbm's best error=0.3494\n",
            "[flaml.automl.logger: 05-06 20:16:32] {2219} INFO - iteration 79, current learner lgbm\n",
            "[flaml.automl.logger: 05-06 20:16:32] {2392} INFO -  at 40.8s,\testimator lgbm's best error=0.3494,\tbest estimator lgbm's best error=0.3494\n",
            "[flaml.automl.logger: 05-06 20:16:32] {2219} INFO - iteration 80, current learner extra_tree\n",
            "[flaml.automl.logger: 05-06 20:16:32] {2392} INFO -  at 41.0s,\testimator extra_tree's best error=0.4412,\tbest estimator lgbm's best error=0.3494\n",
            "[flaml.automl.logger: 05-06 20:16:32] {2219} INFO - iteration 81, current learner rf\n",
            "[flaml.automl.logger: 05-06 20:16:32] {2392} INFO -  at 41.3s,\testimator rf's best error=0.4965,\tbest estimator lgbm's best error=0.3494\n",
            "[flaml.automl.logger: 05-06 20:16:32] {2219} INFO - iteration 82, current learner xgboost\n",
            "[flaml.automl.logger: 05-06 20:16:32] {2392} INFO -  at 41.4s,\testimator xgboost's best error=0.3653,\tbest estimator lgbm's best error=0.3494\n",
            "[flaml.automl.logger: 05-06 20:16:32] {2219} INFO - iteration 83, current learner xgboost\n",
            "[flaml.automl.logger: 05-06 20:16:33] {2392} INFO -  at 41.5s,\testimator xgboost's best error=0.3653,\tbest estimator lgbm's best error=0.3494\n",
            "[flaml.automl.logger: 05-06 20:16:33] {2219} INFO - iteration 84, current learner xgboost\n",
            "[flaml.automl.logger: 05-06 20:16:33] {2392} INFO -  at 41.7s,\testimator xgboost's best error=0.3653,\tbest estimator lgbm's best error=0.3494\n",
            "[flaml.automl.logger: 05-06 20:16:33] {2219} INFO - iteration 85, current learner xgboost\n",
            "[flaml.automl.logger: 05-06 20:16:33] {2392} INFO -  at 41.8s,\testimator xgboost's best error=0.3653,\tbest estimator lgbm's best error=0.3494\n",
            "[flaml.automl.logger: 05-06 20:16:33] {2219} INFO - iteration 86, current learner xgboost\n",
            "[flaml.automl.logger: 05-06 20:16:33] {2392} INFO -  at 42.0s,\testimator xgboost's best error=0.3653,\tbest estimator lgbm's best error=0.3494\n",
            "[flaml.automl.logger: 05-06 20:16:33] {2219} INFO - iteration 87, current learner lgbm\n",
            "[flaml.automl.logger: 05-06 20:16:33] {2392} INFO -  at 42.3s,\testimator lgbm's best error=0.3494,\tbest estimator lgbm's best error=0.3494\n",
            "[flaml.automl.logger: 05-06 20:16:33] {2219} INFO - iteration 88, current learner lgbm\n",
            "[flaml.automl.logger: 05-06 20:16:34] {2392} INFO -  at 43.0s,\testimator lgbm's best error=0.3494,\tbest estimator lgbm's best error=0.3494\n",
            "[flaml.automl.logger: 05-06 20:16:34] {2219} INFO - iteration 89, current learner xgboost\n",
            "[flaml.automl.logger: 05-06 20:16:34] {2392} INFO -  at 43.2s,\testimator xgboost's best error=0.3653,\tbest estimator lgbm's best error=0.3494\n",
            "[flaml.automl.logger: 05-06 20:16:34] {2219} INFO - iteration 90, current learner xgboost\n",
            "[flaml.automl.logger: 05-06 20:16:34] {2392} INFO -  at 43.5s,\testimator xgboost's best error=0.3653,\tbest estimator lgbm's best error=0.3494\n",
            "[flaml.automl.logger: 05-06 20:16:34] {2219} INFO - iteration 91, current learner extra_tree\n",
            "[flaml.automl.logger: 05-06 20:16:35] {2392} INFO -  at 43.8s,\testimator extra_tree's best error=0.3910,\tbest estimator lgbm's best error=0.3494\n",
            "[flaml.automl.logger: 05-06 20:16:35] {2219} INFO - iteration 92, current learner extra_tree\n",
            "[flaml.automl.logger: 05-06 20:16:35] {2392} INFO -  at 44.0s,\testimator extra_tree's best error=0.3760,\tbest estimator lgbm's best error=0.3494\n",
            "[flaml.automl.logger: 05-06 20:16:35] {2219} INFO - iteration 93, current learner extra_tree\n",
            "[flaml.automl.logger: 05-06 20:16:35] {2392} INFO -  at 44.3s,\testimator extra_tree's best error=0.3760,\tbest estimator lgbm's best error=0.3494\n",
            "[flaml.automl.logger: 05-06 20:16:35] {2219} INFO - iteration 94, current learner lgbm\n",
            "[flaml.automl.logger: 05-06 20:16:36] {2392} INFO -  at 45.4s,\testimator lgbm's best error=0.3494,\tbest estimator lgbm's best error=0.3494\n",
            "[flaml.automl.logger: 05-06 20:16:36] {2219} INFO - iteration 95, current learner extra_tree\n",
            "[flaml.automl.logger: 05-06 20:16:37] {2392} INFO -  at 45.6s,\testimator extra_tree's best error=0.3760,\tbest estimator lgbm's best error=0.3494\n",
            "[flaml.automl.logger: 05-06 20:16:37] {2219} INFO - iteration 96, current learner xgboost\n",
            "[flaml.automl.logger: 05-06 20:16:37] {2392} INFO -  at 45.7s,\testimator xgboost's best error=0.3653,\tbest estimator lgbm's best error=0.3494\n",
            "[flaml.automl.logger: 05-06 20:16:37] {2219} INFO - iteration 97, current learner extra_tree\n",
            "[flaml.automl.logger: 05-06 20:16:37] {2392} INFO -  at 45.9s,\testimator extra_tree's best error=0.3760,\tbest estimator lgbm's best error=0.3494\n",
            "[flaml.automl.logger: 05-06 20:16:37] {2219} INFO - iteration 98, current learner xgboost\n",
            "[flaml.automl.logger: 05-06 20:16:37] {2392} INFO -  at 46.0s,\testimator xgboost's best error=0.3653,\tbest estimator lgbm's best error=0.3494\n",
            "[flaml.automl.logger: 05-06 20:16:37] {2219} INFO - iteration 99, current learner rf\n",
            "[flaml.automl.logger: 05-06 20:16:37] {2392} INFO -  at 46.2s,\testimator rf's best error=0.4965,\tbest estimator lgbm's best error=0.3494\n",
            "[flaml.automl.logger: 05-06 20:16:37] {2219} INFO - iteration 100, current learner extra_tree\n",
            "[flaml.automl.logger: 05-06 20:16:37] {2392} INFO -  at 46.4s,\testimator extra_tree's best error=0.3760,\tbest estimator lgbm's best error=0.3494\n",
            "[flaml.automl.logger: 05-06 20:16:37] {2219} INFO - iteration 101, current learner extra_tree\n",
            "[flaml.automl.logger: 05-06 20:16:38] {2392} INFO -  at 46.6s,\testimator extra_tree's best error=0.3760,\tbest estimator lgbm's best error=0.3494\n",
            "[flaml.automl.logger: 05-06 20:16:38] {2219} INFO - iteration 102, current learner lgbm\n",
            "[flaml.automl.logger: 05-06 20:16:38] {2392} INFO -  at 46.7s,\testimator lgbm's best error=0.3494,\tbest estimator lgbm's best error=0.3494\n",
            "[flaml.automl.logger: 05-06 20:16:38] {2219} INFO - iteration 103, current learner extra_tree\n",
            "[flaml.automl.logger: 05-06 20:16:38] {2392} INFO -  at 46.9s,\testimator extra_tree's best error=0.3760,\tbest estimator lgbm's best error=0.3494\n",
            "[flaml.automl.logger: 05-06 20:16:38] {2219} INFO - iteration 104, current learner xgboost\n",
            "[flaml.automl.logger: 05-06 20:16:38] {2392} INFO -  at 47.0s,\testimator xgboost's best error=0.3653,\tbest estimator lgbm's best error=0.3494\n",
            "[flaml.automl.logger: 05-06 20:16:38] {2219} INFO - iteration 105, current learner xgboost\n",
            "[flaml.automl.logger: 05-06 20:16:38] {2392} INFO -  at 47.1s,\testimator xgboost's best error=0.3653,\tbest estimator lgbm's best error=0.3494\n",
            "[flaml.automl.logger: 05-06 20:16:38] {2219} INFO - iteration 106, current learner extra_tree\n",
            "[flaml.automl.logger: 05-06 20:16:38] {2392} INFO -  at 47.3s,\testimator extra_tree's best error=0.3760,\tbest estimator lgbm's best error=0.3494\n",
            "[flaml.automl.logger: 05-06 20:16:38] {2219} INFO - iteration 107, current learner xgboost\n",
            "[flaml.automl.logger: 05-06 20:16:38] {2392} INFO -  at 47.4s,\testimator xgboost's best error=0.3653,\tbest estimator lgbm's best error=0.3494\n",
            "[flaml.automl.logger: 05-06 20:16:38] {2219} INFO - iteration 108, current learner extra_tree\n",
            "[flaml.automl.logger: 05-06 20:16:39] {2392} INFO -  at 47.6s,\testimator extra_tree's best error=0.3760,\tbest estimator lgbm's best error=0.3494\n",
            "[flaml.automl.logger: 05-06 20:16:39] {2219} INFO - iteration 109, current learner xgboost\n",
            "[flaml.automl.logger: 05-06 20:16:39] {2392} INFO -  at 47.7s,\testimator xgboost's best error=0.3653,\tbest estimator lgbm's best error=0.3494\n",
            "[flaml.automl.logger: 05-06 20:16:39] {2219} INFO - iteration 110, current learner lgbm\n",
            "[flaml.automl.logger: 05-06 20:16:39] {2392} INFO -  at 48.0s,\testimator lgbm's best error=0.3494,\tbest estimator lgbm's best error=0.3494\n",
            "[flaml.automl.logger: 05-06 20:16:39] {2219} INFO - iteration 111, current learner extra_tree\n",
            "[flaml.automl.logger: 05-06 20:16:39] {2392} INFO -  at 48.2s,\testimator extra_tree's best error=0.3760,\tbest estimator lgbm's best error=0.3494\n",
            "[flaml.automl.logger: 05-06 20:16:39] {2219} INFO - iteration 112, current learner xgboost\n",
            "[flaml.automl.logger: 05-06 20:16:39] {2392} INFO -  at 48.3s,\testimator xgboost's best error=0.3653,\tbest estimator lgbm's best error=0.3494\n",
            "[flaml.automl.logger: 05-06 20:16:39] {2219} INFO - iteration 113, current learner extra_tree\n",
            "[flaml.automl.logger: 05-06 20:16:40] {2392} INFO -  at 48.6s,\testimator extra_tree's best error=0.3760,\tbest estimator lgbm's best error=0.3494\n",
            "[flaml.automl.logger: 05-06 20:16:40] {2219} INFO - iteration 114, current learner lgbm\n",
            "[flaml.automl.logger: 05-06 20:16:40] {2392} INFO -  at 48.7s,\testimator lgbm's best error=0.3494,\tbest estimator lgbm's best error=0.3494\n",
            "[flaml.automl.logger: 05-06 20:16:40] {2219} INFO - iteration 115, current learner lgbm\n",
            "[flaml.automl.logger: 05-06 20:16:40] {2392} INFO -  at 49.0s,\testimator lgbm's best error=0.3494,\tbest estimator lgbm's best error=0.3494\n",
            "[flaml.automl.logger: 05-06 20:16:40] {2219} INFO - iteration 116, current learner extra_tree\n",
            "[flaml.automl.logger: 05-06 20:16:40] {2392} INFO -  at 49.2s,\testimator extra_tree's best error=0.3760,\tbest estimator lgbm's best error=0.3494\n",
            "[flaml.automl.logger: 05-06 20:16:40] {2219} INFO - iteration 117, current learner xgboost\n",
            "[flaml.automl.logger: 05-06 20:16:40] {2392} INFO -  at 49.3s,\testimator xgboost's best error=0.3653,\tbest estimator lgbm's best error=0.3494\n",
            "[flaml.automl.logger: 05-06 20:16:40] {2219} INFO - iteration 118, current learner lgbm\n",
            "[flaml.automl.logger: 05-06 20:16:41] {2392} INFO -  at 49.6s,\testimator lgbm's best error=0.3494,\tbest estimator lgbm's best error=0.3494\n",
            "[flaml.automl.logger: 05-06 20:16:41] {2219} INFO - iteration 119, current learner extra_tree\n",
            "[flaml.automl.logger: 05-06 20:16:41] {2392} INFO -  at 49.8s,\testimator extra_tree's best error=0.3760,\tbest estimator lgbm's best error=0.3494\n",
            "[flaml.automl.logger: 05-06 20:16:41] {2219} INFO - iteration 120, current learner extra_tree\n",
            "[flaml.automl.logger: 05-06 20:16:41] {2392} INFO -  at 50.0s,\testimator extra_tree's best error=0.3760,\tbest estimator lgbm's best error=0.3494\n",
            "[flaml.automl.logger: 05-06 20:16:41] {2219} INFO - iteration 121, current learner extra_tree\n",
            "[flaml.automl.logger: 05-06 20:16:41] {2392} INFO -  at 50.2s,\testimator extra_tree's best error=0.3760,\tbest estimator lgbm's best error=0.3494\n",
            "[flaml.automl.logger: 05-06 20:16:41] {2219} INFO - iteration 122, current learner xgboost\n",
            "[flaml.automl.logger: 05-06 20:16:41] {2392} INFO -  at 50.3s,\testimator xgboost's best error=0.3653,\tbest estimator lgbm's best error=0.3494\n",
            "[flaml.automl.logger: 05-06 20:16:41] {2219} INFO - iteration 123, current learner lgbm\n",
            "[flaml.automl.logger: 05-06 20:16:41] {2392} INFO -  at 50.4s,\testimator lgbm's best error=0.3494,\tbest estimator lgbm's best error=0.3494\n",
            "[flaml.automl.logger: 05-06 20:16:41] {2219} INFO - iteration 124, current learner lgbm\n",
            "[flaml.automl.logger: 05-06 20:16:42] {2392} INFO -  at 50.7s,\testimator lgbm's best error=0.3494,\tbest estimator lgbm's best error=0.3494\n",
            "[flaml.automl.logger: 05-06 20:16:42] {2219} INFO - iteration 125, current learner lgbm\n",
            "[flaml.automl.logger: 05-06 20:16:42] {2392} INFO -  at 50.8s,\testimator lgbm's best error=0.3494,\tbest estimator lgbm's best error=0.3494\n",
            "[flaml.automl.logger: 05-06 20:16:42] {2219} INFO - iteration 126, current learner lgbm\n",
            "[flaml.automl.logger: 05-06 20:16:42] {2392} INFO -  at 51.0s,\testimator lgbm's best error=0.3494,\tbest estimator lgbm's best error=0.3494\n",
            "[flaml.automl.logger: 05-06 20:16:42] {2219} INFO - iteration 127, current learner lgbm\n",
            "[flaml.automl.logger: 05-06 20:16:42] {2392} INFO -  at 51.1s,\testimator lgbm's best error=0.3494,\tbest estimator lgbm's best error=0.3494\n",
            "[flaml.automl.logger: 05-06 20:16:42] {2219} INFO - iteration 128, current learner extra_tree\n",
            "[flaml.automl.logger: 05-06 20:16:42] {2392} INFO -  at 51.3s,\testimator extra_tree's best error=0.3760,\tbest estimator lgbm's best error=0.3494\n",
            "[flaml.automl.logger: 05-06 20:16:42] {2219} INFO - iteration 129, current learner xgboost\n",
            "[flaml.automl.logger: 05-06 20:16:42] {2392} INFO -  at 51.4s,\testimator xgboost's best error=0.3653,\tbest estimator lgbm's best error=0.3494\n",
            "[flaml.automl.logger: 05-06 20:16:42] {2219} INFO - iteration 130, current learner xgboost\n",
            "[flaml.automl.logger: 05-06 20:16:42] {2392} INFO -  at 51.5s,\testimator xgboost's best error=0.3653,\tbest estimator lgbm's best error=0.3494\n",
            "[flaml.automl.logger: 05-06 20:16:42] {2219} INFO - iteration 131, current learner extra_tree\n",
            "[flaml.automl.logger: 05-06 20:16:43] {2392} INFO -  at 51.7s,\testimator extra_tree's best error=0.3742,\tbest estimator lgbm's best error=0.3494\n",
            "[flaml.automl.logger: 05-06 20:16:43] {2219} INFO - iteration 132, current learner lgbm\n",
            "[flaml.automl.logger: 05-06 20:16:43] {2392} INFO -  at 51.8s,\testimator lgbm's best error=0.3494,\tbest estimator lgbm's best error=0.3494\n",
            "[flaml.automl.logger: 05-06 20:16:43] {2219} INFO - iteration 133, current learner lgbm\n",
            "[flaml.automl.logger: 05-06 20:16:43] {2392} INFO -  at 52.0s,\testimator lgbm's best error=0.3494,\tbest estimator lgbm's best error=0.3494\n",
            "[flaml.automl.logger: 05-06 20:16:43] {2219} INFO - iteration 134, current learner xgboost\n",
            "[flaml.automl.logger: 05-06 20:16:43] {2392} INFO -  at 52.1s,\testimator xgboost's best error=0.3653,\tbest estimator lgbm's best error=0.3494\n",
            "[flaml.automl.logger: 05-06 20:16:43] {2219} INFO - iteration 135, current learner extra_tree\n",
            "[flaml.automl.logger: 05-06 20:16:43] {2392} INFO -  at 52.3s,\testimator extra_tree's best error=0.3742,\tbest estimator lgbm's best error=0.3494\n",
            "[flaml.automl.logger: 05-06 20:16:43] {2219} INFO - iteration 136, current learner xgboost\n",
            "[flaml.automl.logger: 05-06 20:16:43] {2392} INFO -  at 52.4s,\testimator xgboost's best error=0.3653,\tbest estimator lgbm's best error=0.3494\n",
            "[flaml.automl.logger: 05-06 20:16:43] {2219} INFO - iteration 137, current learner lgbm\n",
            "[flaml.automl.logger: 05-06 20:16:43] {2392} INFO -  at 52.5s,\testimator lgbm's best error=0.3494,\tbest estimator lgbm's best error=0.3494\n",
            "[flaml.automl.logger: 05-06 20:16:43] {2219} INFO - iteration 138, current learner xgboost\n",
            "[flaml.automl.logger: 05-06 20:16:44] {2392} INFO -  at 52.6s,\testimator xgboost's best error=0.3653,\tbest estimator lgbm's best error=0.3494\n",
            "[flaml.automl.logger: 05-06 20:16:44] {2219} INFO - iteration 139, current learner lgbm\n",
            "[flaml.automl.logger: 05-06 20:16:44] {2392} INFO -  at 52.8s,\testimator lgbm's best error=0.3494,\tbest estimator lgbm's best error=0.3494\n",
            "[flaml.automl.logger: 05-06 20:16:44] {2219} INFO - iteration 140, current learner xgboost\n",
            "[flaml.automl.logger: 05-06 20:16:44] {2392} INFO -  at 52.9s,\testimator xgboost's best error=0.3653,\tbest estimator lgbm's best error=0.3494\n",
            "[flaml.automl.logger: 05-06 20:16:44] {2219} INFO - iteration 141, current learner lgbm\n",
            "[flaml.automl.logger: 05-06 20:16:44] {2392} INFO -  at 53.2s,\testimator lgbm's best error=0.3494,\tbest estimator lgbm's best error=0.3494\n",
            "[flaml.automl.logger: 05-06 20:16:44] {2219} INFO - iteration 142, current learner xgboost\n",
            "[flaml.automl.logger: 05-06 20:16:44] {2392} INFO -  at 53.3s,\testimator xgboost's best error=0.3653,\tbest estimator lgbm's best error=0.3494\n",
            "[flaml.automl.logger: 05-06 20:16:44] {2219} INFO - iteration 143, current learner xgboost\n",
            "[flaml.automl.logger: 05-06 20:16:44] {2392} INFO -  at 53.4s,\testimator xgboost's best error=0.3653,\tbest estimator lgbm's best error=0.3494\n",
            "[flaml.automl.logger: 05-06 20:16:44] {2219} INFO - iteration 144, current learner xgboost\n",
            "[flaml.automl.logger: 05-06 20:16:45] {2392} INFO -  at 53.5s,\testimator xgboost's best error=0.3653,\tbest estimator lgbm's best error=0.3494\n",
            "[flaml.automl.logger: 05-06 20:16:45] {2219} INFO - iteration 145, current learner lgbm\n",
            "[flaml.automl.logger: 05-06 20:16:45] {2392} INFO -  at 53.6s,\testimator lgbm's best error=0.3494,\tbest estimator lgbm's best error=0.3494\n",
            "[flaml.automl.logger: 05-06 20:16:45] {2219} INFO - iteration 146, current learner lgbm\n",
            "[flaml.automl.logger: 05-06 20:16:45] {2392} INFO -  at 53.8s,\testimator lgbm's best error=0.3494,\tbest estimator lgbm's best error=0.3494\n",
            "[flaml.automl.logger: 05-06 20:16:45] {2219} INFO - iteration 147, current learner lgbm\n",
            "[flaml.automl.logger: 05-06 20:16:45] {2392} INFO -  at 54.0s,\testimator lgbm's best error=0.3494,\tbest estimator lgbm's best error=0.3494\n",
            "[flaml.automl.logger: 05-06 20:16:45] {2219} INFO - iteration 148, current learner lgbm\n",
            "[flaml.automl.logger: 05-06 20:16:45] {2392} INFO -  at 54.1s,\testimator lgbm's best error=0.3494,\tbest estimator lgbm's best error=0.3494\n",
            "[flaml.automl.logger: 05-06 20:16:45] {2219} INFO - iteration 149, current learner lgbm\n",
            "[flaml.automl.logger: 05-06 20:16:45] {2392} INFO -  at 54.3s,\testimator lgbm's best error=0.3494,\tbest estimator lgbm's best error=0.3494\n",
            "[flaml.automl.logger: 05-06 20:16:45] {2219} INFO - iteration 150, current learner lgbm\n",
            "[flaml.automl.logger: 05-06 20:16:45] {2392} INFO -  at 54.4s,\testimator lgbm's best error=0.3494,\tbest estimator lgbm's best error=0.3494\n",
            "[flaml.automl.logger: 05-06 20:16:45] {2219} INFO - iteration 151, current learner xgboost\n",
            "[flaml.automl.logger: 05-06 20:16:45] {2392} INFO -  at 54.5s,\testimator xgboost's best error=0.3653,\tbest estimator lgbm's best error=0.3494\n",
            "[flaml.automl.logger: 05-06 20:16:45] {2219} INFO - iteration 152, current learner xgboost\n",
            "[flaml.automl.logger: 05-06 20:16:46] {2392} INFO -  at 54.6s,\testimator xgboost's best error=0.3653,\tbest estimator lgbm's best error=0.3494\n",
            "[flaml.automl.logger: 05-06 20:16:46] {2219} INFO - iteration 153, current learner lgbm\n",
            "[flaml.automl.logger: 05-06 20:16:46] {2392} INFO -  at 54.7s,\testimator lgbm's best error=0.3494,\tbest estimator lgbm's best error=0.3494\n",
            "[flaml.automl.logger: 05-06 20:16:46] {2219} INFO - iteration 154, current learner lgbm\n",
            "[flaml.automl.logger: 05-06 20:16:46] {2392} INFO -  at 55.1s,\testimator lgbm's best error=0.3494,\tbest estimator lgbm's best error=0.3494\n",
            "[flaml.automl.logger: 05-06 20:16:46] {2219} INFO - iteration 155, current learner extra_tree\n",
            "[flaml.automl.logger: 05-06 20:16:46] {2392} INFO -  at 55.3s,\testimator extra_tree's best error=0.3742,\tbest estimator lgbm's best error=0.3494\n",
            "[flaml.automl.logger: 05-06 20:16:46] {2219} INFO - iteration 156, current learner xgboost\n",
            "[flaml.automl.logger: 05-06 20:16:46] {2392} INFO -  at 55.4s,\testimator xgboost's best error=0.3653,\tbest estimator lgbm's best error=0.3494\n",
            "[flaml.automl.logger: 05-06 20:16:46] {2219} INFO - iteration 157, current learner lgbm\n",
            "[flaml.automl.logger: 05-06 20:16:46] {2392} INFO -  at 55.5s,\testimator lgbm's best error=0.3494,\tbest estimator lgbm's best error=0.3494\n",
            "[flaml.automl.logger: 05-06 20:16:47] {2219} INFO - iteration 158, current learner lgbm\n",
            "[flaml.automl.logger: 05-06 20:16:47] {2392} INFO -  at 55.8s,\testimator lgbm's best error=0.3494,\tbest estimator lgbm's best error=0.3494\n",
            "[flaml.automl.logger: 05-06 20:16:47] {2219} INFO - iteration 159, current learner xgboost\n",
            "[flaml.automl.logger: 05-06 20:16:47] {2392} INFO -  at 56.1s,\testimator xgboost's best error=0.3556,\tbest estimator lgbm's best error=0.3494\n",
            "[flaml.automl.logger: 05-06 20:16:47] {2219} INFO - iteration 160, current learner lgbm\n",
            "[flaml.automl.logger: 05-06 20:16:47] {2392} INFO -  at 56.4s,\testimator lgbm's best error=0.3494,\tbest estimator lgbm's best error=0.3494\n",
            "[flaml.automl.logger: 05-06 20:16:47] {2219} INFO - iteration 161, current learner xgboost\n",
            "[flaml.automl.logger: 05-06 20:16:48] {2392} INFO -  at 57.2s,\testimator xgboost's best error=0.3556,\tbest estimator lgbm's best error=0.3494\n",
            "[flaml.automl.logger: 05-06 20:16:48] {2219} INFO - iteration 162, current learner extra_tree\n",
            "[flaml.automl.logger: 05-06 20:16:48] {2392} INFO -  at 57.4s,\testimator extra_tree's best error=0.3742,\tbest estimator lgbm's best error=0.3494\n",
            "[flaml.automl.logger: 05-06 20:16:48] {2219} INFO - iteration 163, current learner xgboost\n",
            "[flaml.automl.logger: 05-06 20:16:49] {2392} INFO -  at 58.3s,\testimator xgboost's best error=0.3556,\tbest estimator lgbm's best error=0.3494\n",
            "[flaml.automl.logger: 05-06 20:16:49] {2219} INFO - iteration 164, current learner lgbm\n",
            "[flaml.automl.logger: 05-06 20:16:49] {2392} INFO -  at 58.4s,\testimator lgbm's best error=0.3494,\tbest estimator lgbm's best error=0.3494\n",
            "[flaml.automl.logger: 05-06 20:16:49] {2219} INFO - iteration 165, current learner xgboost\n",
            "[flaml.automl.logger: 05-06 20:16:50] {2392} INFO -  at 59.0s,\testimator xgboost's best error=0.3556,\tbest estimator lgbm's best error=0.3494\n",
            "[flaml.automl.logger: 05-06 20:16:50] {2219} INFO - iteration 166, current learner xgboost\n",
            "[flaml.automl.logger: 05-06 20:16:50] {2392} INFO -  at 59.2s,\testimator xgboost's best error=0.3556,\tbest estimator lgbm's best error=0.3494\n",
            "[flaml.automl.logger: 05-06 20:16:50] {2219} INFO - iteration 167, current learner xgboost\n",
            "[flaml.automl.logger: 05-06 20:16:50] {2392} INFO -  at 59.4s,\testimator xgboost's best error=0.3556,\tbest estimator lgbm's best error=0.3494\n",
            "[flaml.automl.logger: 05-06 20:16:50] {2219} INFO - iteration 168, current learner lgbm\n",
            "[flaml.automl.logger: 05-06 20:16:51] {2392} INFO -  at 59.8s,\testimator lgbm's best error=0.3494,\tbest estimator lgbm's best error=0.3494\n",
            "[flaml.automl.logger: 05-06 20:16:51] {2219} INFO - iteration 169, current learner extra_tree\n",
            "[flaml.automl.logger: 05-06 20:16:51] {2392} INFO -  at 60.0s,\testimator extra_tree's best error=0.3742,\tbest estimator lgbm's best error=0.3494\n",
            "[flaml.automl.logger: 05-06 20:16:51] {2219} INFO - iteration 170, current learner xgb_limitdepth\n",
            "[flaml.automl.logger: 05-06 20:16:51] {2392} INFO -  at 60.0s,\testimator xgb_limitdepth's best error=0.9936,\tbest estimator lgbm's best error=0.3494\n",
            "[flaml.automl.logger: 05-06 20:16:51] {2628} INFO - retrain lgbm for 0.0s\n",
            "[flaml.automl.logger: 05-06 20:16:51] {2631} INFO - retrained model: LGBMClassifier(colsample_bytree=0.7622839098563244,\n",
            "               learning_rate=0.16075432906282125, max_bin=1023,\n",
            "               min_child_samples=3, n_estimators=1, n_jobs=-1, num_leaves=4,\n",
            "               reg_alpha=0.004577823970660193, reg_lambda=0.4809257969279843,\n",
            "               verbose=-1)\n",
            "[flaml.automl.logger: 05-06 20:16:51] {1931} INFO - fit succeeded\n",
            "[flaml.automl.logger: 05-06 20:16:51] {1932} INFO - Time taken to find the best model: 33.42983341217041\n"
          ]
        }
      ]
    },
    {
      "cell_type": "code",
      "source": [
        "# get best model\n",
        "print('best model is:',automl.best_estimator)\n",
        "\n",
        "# print the parameters of the best model\n",
        "print(automl.best_config)"
      ],
      "metadata": {
        "id": "akmbaQnSIiME",
        "colab": {
          "base_uri": "https://localhost:8080/",
          "height": 52
        },
        "outputId": "1ea6fb9c-ffa3-4306-f025-6798162b065e"
      },
      "execution_count": 23,
      "outputs": [
        {
          "output_type": "display_data",
          "data": {
            "text/plain": [
              "<IPython.core.display.HTML object>"
            ],
            "text/html": [
              "\n",
              "            <style>\n",
              "                .geemap-dark {\n",
              "                    --jp-widgets-color: white;\n",
              "                    --jp-widgets-label-color: white;\n",
              "                    --jp-ui-font-color1: white;\n",
              "                    --jp-layout-color2: #454545;\n",
              "                    background-color: #383838;\n",
              "                }\n",
              "\n",
              "                .geemap-dark .jupyter-button {\n",
              "                    --jp-layout-color3: #383838;\n",
              "                }\n",
              "\n",
              "                .geemap-colab {\n",
              "                    background-color: var(--colab-primary-surface-color, white);\n",
              "                }\n",
              "\n",
              "                .geemap-colab .jupyter-button {\n",
              "                    --jp-layout-color3: var(--colab-primary-surface-color, white);\n",
              "                }\n",
              "            </style>\n",
              "            "
            ]
          },
          "metadata": {}
        },
        {
          "output_type": "stream",
          "name": "stdout",
          "text": [
            "best model is: lgbm\n",
            "{'n_estimators': 30, 'num_leaves': 4, 'min_child_samples': 3, 'learning_rate': 0.16075432906282125, 'log_max_bin': 10, 'colsample_bytree': 0.7622839098563244, 'reg_alpha': 0.004577823970660193, 'reg_lambda': 0.4809257969279843}\n"
          ]
        }
      ]
    },
    {
      "cell_type": "code",
      "source": [
        "# make predictions\n",
        "y_pred = automl.predict(X_test)\n",
        "\n",
        "# metrics are used to find accuracy or error\n",
        "from sklearn import metrics\n",
        "print()\n",
        "\n",
        "# using metrics module for accuracy calculation\n",
        "print(\"ACCURACY OF THE SELECTED MODEL: \", metrics.accuracy_score(y_test, y_pred))\n",
        "\n",
        "# also plot the confusion matrix to see class-specific errors\n",
        "cm = metrics.confusion_matrix(y_test, y_pred, labels = automl.classes_)\n",
        "disp = metrics.ConfusionMatrixDisplay(confusion_matrix = cm, display_labels = automl.classes_)\n",
        "disp.plot()"
      ],
      "metadata": {
        "id": "gsDPzfw1ObiX",
        "colab": {
          "base_uri": "https://localhost:8080/",
          "height": 501
        },
        "outputId": "7862d72f-b490-484b-b7a7-73c9edb4b7a7"
      },
      "execution_count": 24,
      "outputs": [
        {
          "output_type": "display_data",
          "data": {
            "text/plain": [
              "<IPython.core.display.HTML object>"
            ],
            "text/html": [
              "\n",
              "            <style>\n",
              "                .geemap-dark {\n",
              "                    --jp-widgets-color: white;\n",
              "                    --jp-widgets-label-color: white;\n",
              "                    --jp-ui-font-color1: white;\n",
              "                    --jp-layout-color2: #454545;\n",
              "                    background-color: #383838;\n",
              "                }\n",
              "\n",
              "                .geemap-dark .jupyter-button {\n",
              "                    --jp-layout-color3: #383838;\n",
              "                }\n",
              "\n",
              "                .geemap-colab {\n",
              "                    background-color: var(--colab-primary-surface-color, white);\n",
              "                }\n",
              "\n",
              "                .geemap-colab .jupyter-button {\n",
              "                    --jp-layout-color3: var(--colab-primary-surface-color, white);\n",
              "                }\n",
              "            </style>\n",
              "            "
            ]
          },
          "metadata": {}
        },
        {
          "output_type": "stream",
          "name": "stdout",
          "text": [
            "\n",
            "ACCURACY OF THE SELECTED MODEL:  0.9119496855345912\n"
          ]
        },
        {
          "output_type": "execute_result",
          "data": {
            "text/plain": [
              "<sklearn.metrics._plot.confusion_matrix.ConfusionMatrixDisplay at 0x7bc2bef8ddb0>"
            ]
          },
          "metadata": {},
          "execution_count": 24
        },
        {
          "output_type": "display_data",
          "data": {
            "text/plain": [
              "<Figure size 640x480 with 2 Axes>"
            ],
            "image/png": "[encoded data removed]"
          },
          "metadata": {}
        }
      ]
    },
    {
      "cell_type": "markdown",
      "source": [
        "## Create a moving window to classify each image individually.\n",
        "#### This prevents exceeding the available RAM in Google Colab for large images."
      ],
      "metadata": {
        "id": "2CMp8iIZ07KO"
      }
    },
    {
      "cell_type": "code",
      "source": [
        "patch_size = (256, 256)\n",
        "\n",
        "def classify_image(image_path):\n",
        "    # Open the image\n",
        "    with rasterio.open(image_path) as ds:\n",
        "        # Get image properties\n",
        "        rows, cols = ds.shape\n",
        "        bands = ds.count\n",
        "\n",
        "        # Initialize an empty array for predictions\n",
        "        preds = np.zeros((rows, cols), dtype=np.uint8)\n",
        "\n",
        "        # Iterate over image patches\n",
        "        for start_row in range(0, rows, patch_size[0]):\n",
        "\n",
        "            end_row = min(start_row + patch_size[0], rows)\n",
        "\n",
        "            for start_col in range(0, cols, patch_size[1]):\n",
        "\n",
        "                end_col = min(start_col + patch_size[1], cols)\n",
        "\n",
        "                height = end_row-start_row\n",
        "                width = end_col-start_col\n",
        "                # print(height)\n",
        "                # print(width)\n",
        "\n",
        "                # Read the patch\n",
        "                w = rasterio.windows.Window(start_col, start_row, patch_size[1], patch_size[0])\n",
        "                patch = ds.read(window=w)\n",
        "                # print(patch.shape)\n",
        "\n",
        "                transposedPatch = patch.transpose(1, 2, 0)\n",
        "                # print(transposedPatch.shape)\n",
        "\n",
        "                # Reshape the patch for classification\n",
        "                reshapedPatch = transposedPatch.reshape(height*width, bands)\n",
        "\n",
        "                # Classify the patch\n",
        "                patch_preds = automl.predict(reshapedPatch)\n",
        "\n",
        "                # Reshape and place the patch predictions in the output array\n",
        "                # reshape the array with size of window\n",
        "                patch_preds = patch_preds.reshape(height, width)\n",
        "                # print(patch_preds.shape)\n",
        "                # add predictions to preds array from row start to\n",
        "                preds[start_row:end_row, start_col:end_col] = patch_preds\n",
        "\n",
        "        ds.close()\n",
        "\n",
        "    return preds\n",
        "\n",
        "#classify each iamge\n",
        "image1 = 'milwaukeeS2WithNDVI1.tif'\n",
        "preds1 = classify_image(image1)\n",
        "print(preds1.shape)\n",
        "\n",
        "image2 = 'milwaukeeS2WithNDVI2.tif'\n",
        "preds2 = classify_image(image2)\n",
        "print(preds2.shape)\n",
        "\n",
        "image3 = 'milwaukeeS2WithNDVI3.tif'\n",
        "preds3 = classify_image(image3)\n",
        "print(preds3.shape)\n",
        "\n",
        "image4 = 'milwaukeeS2WithNDVI4.tif'\n",
        "preds4 = classify_image(image4)\n",
        "print(preds4.shape)\n",
        "\n",
        "image5 = 'milwaukeeS2WithNDVI5.tif'\n",
        "preds5 = classify_image(image5)\n",
        "print(preds5.shape)\n",
        "\n",
        "image6 = 'milwaukeeS2WithNDVI6.tif'\n",
        "preds6 = classify_image(image6)\n",
        "print(preds6.shape)"
      ],
      "metadata": {
        "id": "UBukiYF2Oj-B",
        "colab": {
          "base_uri": "https://localhost:8080/",
          "height": 121
        },
        "outputId": "2ab9f833-66e7-4682-a2b8-5ef092bc9501"
      },
      "execution_count": 25,
      "outputs": [
        {
          "output_type": "display_data",
          "data": {
            "text/plain": [
              "<IPython.core.display.HTML object>"
            ],
            "text/html": [
              "\n",
              "            <style>\n",
              "                .geemap-dark {\n",
              "                    --jp-widgets-color: white;\n",
              "                    --jp-widgets-label-color: white;\n",
              "                    --jp-ui-font-color1: white;\n",
              "                    --jp-layout-color2: #454545;\n",
              "                    background-color: #383838;\n",
              "                }\n",
              "\n",
              "                .geemap-dark .jupyter-button {\n",
              "                    --jp-layout-color3: #383838;\n",
              "                }\n",
              "\n",
              "                .geemap-colab {\n",
              "                    background-color: var(--colab-primary-surface-color, white);\n",
              "                }\n",
              "\n",
              "                .geemap-colab .jupyter-button {\n",
              "                    --jp-layout-color3: var(--colab-primary-surface-color, white);\n",
              "                }\n",
              "            </style>\n",
              "            "
            ]
          },
          "metadata": {}
        },
        {
          "output_type": "stream",
          "name": "stdout",
          "text": [
            "(11776, 11776)\n",
            "(11776, 11291)\n",
            "(11776, 11776)\n",
            "(11776, 11291)\n",
            "(6944, 11776)\n",
            "(6944, 11291)\n"
          ]
        }
      ]
    },
    {
      "cell_type": "code",
      "source": [
        "def export_image(preds, input_image_path, output_image_path):\n",
        "    # Open the classified image and get shape\n",
        "    ds = gdal.Open(input_image_path, gdal.GA_ReadOnly)\n",
        "    im = ds.GetRasterBand(1).ReadAsArray()  # read the first band\n",
        "    [cols, rows] = im.shape\n",
        "\n",
        "    # Use the GeoTiff driver\n",
        "    driver = gdal.GetDriverByName(\"GTiff\")\n",
        "    # Create an output file data object\n",
        "    outdata = driver.Create(output_image_path, rows, cols, 1, gdal.GDT_Byte, ['COMPRESS=LZW'])\n",
        "    outdata.SetGeoTransform(ds.GetGeoTransform())  # sets same geotransform as input\n",
        "    outdata.SetProjection(ds.GetProjection())  # sets same projection as input\n",
        "    outdata.GetRasterBand(1).WriteArray(preds)  # this is where you actually write the image to the file on disk\n",
        "    outdata.GetRasterBand(1).SetNoDataValue(0)  # if you want these values transparent\n",
        "    outdata.FlushCache()  # saves to disk!!\n",
        "    outdata = None  # closes the file\n",
        "\n",
        "export_image(preds1, 'milwaukeeS2WithNDVI1.tif', 'milwaukeeClassification1.tif')\n",
        "export_image(preds2, 'milwaukeeS2WithNDVI2.tif', 'milwaukeeClassification2.tif')\n",
        "export_image(preds3, 'milwaukeeS2WithNDVI3.tif', 'milwaukeeClassification3.tif')\n",
        "export_image(preds4, 'milwaukeeS2WithNDVI4.tif', 'milwaukeeClassification4.tif')\n",
        "export_image(preds5, 'milwaukeeS2WithNDVI5.tif', 'milwaukeeClassification5.tif')\n",
        "export_image(preds6, 'milwaukeeS2WithNDVI6.tif', 'milwaukeeClassification6.tif')\n",
        "\n",
        "!ls"
      ],
      "metadata": {
        "colab": {
          "base_uri": "https://localhost:8080/",
          "height": 156
        },
        "id": "P4_fUqD05Stk",
        "outputId": "4e24a7bb-f109-4e58-8597-95560f4a83d2"
      },
      "execution_count": 26,
      "outputs": [
        {
          "output_type": "display_data",
          "data": {
            "text/plain": [
              "<IPython.core.display.HTML object>"
            ],
            "text/html": [
              "\n",
              "            <style>\n",
              "                .geemap-dark {\n",
              "                    --jp-widgets-color: white;\n",
              "                    --jp-widgets-label-color: white;\n",
              "                    --jp-ui-font-color1: white;\n",
              "                    --jp-layout-color2: #454545;\n",
              "                    background-color: #383838;\n",
              "                }\n",
              "\n",
              "                .geemap-dark .jupyter-button {\n",
              "                    --jp-layout-color3: #383838;\n",
              "                }\n",
              "\n",
              "                .geemap-colab {\n",
              "                    background-color: var(--colab-primary-surface-color, white);\n",
              "                }\n",
              "\n",
              "                .geemap-colab .jupyter-button {\n",
              "                    --jp-layout-color3: var(--colab-primary-surface-color, white);\n",
              "                }\n",
              "            </style>\n",
              "            "
            ]
          },
          "metadata": {}
        },
        {
          "output_type": "stream",
          "name": "stdout",
          "text": [
            "gdrive\t\t\t      milwaukeeClassification3.tif  milwaukeeS2WithNDVI5.tif\n",
            "Milwaukee_City_Boundary.cpg   milwaukeeClassification4.tif  milwaukeeS2WithNDVI6.tif\n",
            "Milwaukee_City_Boundary.dbf   milwaukeeClassification5.tif  milwaukeeTrainingPoints.cpg\n",
            "Milwaukee_City_Boundary.prj   milwaukeeClassification6.tif  milwaukeeTrainingPoints.dbf\n",
            "Milwaukee_City_Boundary.shp   milwaukeeS2WithNDVI1.tif\t    milwaukeeTrainingPoints.prj\n",
            "Milwaukee_City_Boundary.shx   milwaukeeS2WithNDVI2.tif\t    milwaukeeTrainingPoints.shp\n",
            "milwaukeeClassification1.tif  milwaukeeS2WithNDVI3.tif\t    milwaukeeTrainingPoints.shx\n",
            "milwaukeeClassification2.tif  milwaukeeS2WithNDVI4.tif\t    sample_data\n"
          ]
        }
      ]
    },
    {
      "cell_type": "markdown",
      "source": [
        "### **After downloading, upload the images to GEE**"
      ],
      "metadata": {
        "id": "VNtjR2ivrLZY"
      }
    },
    {
      "cell_type": "code",
      "source": [
        "# export the images to your Google Drive\n",
        "from google.colab import files\n",
        "\n",
        "files.download('milwaukeeClassification1.tif')\n",
        "files.download('milwaukeeClassification2.tif')\n",
        "files.download('milwaukeeClassification3.tif')\n",
        "files.download('milwaukeeClassification4.tif')\n",
        "files.download('milwaukeeClassification5.tif')\n",
        "files.download('milwaukeeClassification6.tif')"
      ],
      "metadata": {
        "id": "CT5QjiSTh2lR",
        "colab": {
          "base_uri": "https://localhost:8080/",
          "height": 17
        },
        "outputId": "2fd2ed15-29ce-4dfa-9e5e-babaee1a26f9"
      },
      "execution_count": 27,
      "outputs": [
        {
          "output_type": "display_data",
          "data": {
            "text/plain": [
              "<IPython.core.display.HTML object>"
            ],
            "text/html": [
              "\n",
              "            <style>\n",
              "                .geemap-dark {\n",
              "                    --jp-widgets-color: white;\n",
              "                    --jp-widgets-label-color: white;\n",
              "                    --jp-ui-font-color1: white;\n",
              "                    --jp-layout-color2: #454545;\n",
              "                    background-color: #383838;\n",
              "                }\n",
              "\n",
              "                .geemap-dark .jupyter-button {\n",
              "                    --jp-layout-color3: #383838;\n",
              "                }\n",
              "\n",
              "                .geemap-colab {\n",
              "                    background-color: var(--colab-primary-surface-color, white);\n",
              "                }\n",
              "\n",
              "                .geemap-colab .jupyter-button {\n",
              "                    --jp-layout-color3: var(--colab-primary-surface-color, white);\n",
              "                }\n",
              "            </style>\n",
              "            "
            ]
          },
          "metadata": {}
        },
        {
          "output_type": "display_data",
          "data": {
            "text/plain": [
              "<IPython.core.display.Javascript object>"
            ],
            "application/javascript": [
              "\n",
              "    async function download(id, filename, size) {\n",
              "      if (!google.colab.kernel.accessAllowed) {\n",
              "        return;\n",
              "      }\n",
              "      const div = document.createElement('div');\n",
              "      const label = document.createElement('label');\n",
              "      label.textContent = `Downloading \"${filename}\": `;\n",
              "      div.appendChild(label);\n",
              "      const progress = document.createElement('progress');\n",
              "      progress.max = size;\n",
              "      div.appendChild(progress);\n",
              "      document.body.appendChild(div);\n",
              "\n",
              "      const buffers = [];\n",
              "      let downloaded = 0;\n",
              "\n",
              "      const channel = await google.colab.kernel.comms.open(id);\n",
              "      // Send a message to notify the kernel that we're ready.\n",
              "      channel.send({})\n",
              "\n",
              "      for await (const message of channel.messages) {\n",
              "        // Send a message to notify the kernel that we're ready.\n",
              "        channel.send({})\n",
              "        if (message.buffers) {\n",
              "          for (const buffer of message.buffers) {\n",
              "            buffers.push(buffer);\n",
              "            downloaded += buffer.byteLength;\n",
              "            progress.value = downloaded;\n",
              "          }\n",
              "        }\n",
              "      }\n",
              "      const blob = new Blob(buffers, {type: 'application/binary'});\n",
              "      const a = document.createElement('a');\n",
              "      a.href = window.URL.createObjectURL(blob);\n",
              "      a.download = filename;\n",
              "      div.appendChild(a);\n",
              "      a.click();\n",
              "      div.remove();\n",
              "    }\n",
              "  "
            ]
          },
          "metadata": {}
        },
        {
          "output_type": "display_data",
          "data": {
            "text/plain": [
              "<IPython.core.display.Javascript object>"
            ],
            "application/javascript": [
              "download(\"download_52c902e4-b817-46ca-adab-ce0ded59ad34\", \"milwaukeeClassification1.tif\", 5862177)"
            ]
          },
          "metadata": {}
        },
        {
          "output_type": "display_data",
          "data": {
            "text/plain": [
              "<IPython.core.display.Javascript object>"
            ],
            "application/javascript": [
              "\n",
              "    async function download(id, filename, size) {\n",
              "      if (!google.colab.kernel.accessAllowed) {\n",
              "        return;\n",
              "      }\n",
              "      const div = document.createElement('div');\n",
              "      const label = document.createElement('label');\n",
              "      label.textContent = `Downloading \"${filename}\": `;\n",
              "      div.appendChild(label);\n",
              "      const progress = document.createElement('progress');\n",
              "      progress.max = size;\n",
              "      div.appendChild(progress);\n",
              "      document.body.appendChild(div);\n",
              "\n",
              "      const buffers = [];\n",
              "      let downloaded = 0;\n",
              "\n",
              "      const channel = await google.colab.kernel.comms.open(id);\n",
              "      // Send a message to notify the kernel that we're ready.\n",
              "      channel.send({})\n",
              "\n",
              "      for await (const message of channel.messages) {\n",
              "        // Send a message to notify the kernel that we're ready.\n",
              "        channel.send({})\n",
              "        if (message.buffers) {\n",
              "          for (const buffer of message.buffers) {\n",
              "            buffers.push(buffer);\n",
              "            downloaded += buffer.byteLength;\n",
              "            progress.value = downloaded;\n",
              "          }\n",
              "        }\n",
              "      }\n",
              "      const blob = new Blob(buffers, {type: 'application/binary'});\n",
              "      const a = document.createElement('a');\n",
              "      a.href = window.URL.createObjectURL(blob);\n",
              "      a.download = filename;\n",
              "      div.appendChild(a);\n",
              "      a.click();\n",
              "      div.remove();\n",
              "    }\n",
              "  "
            ]
          },
          "metadata": {}
        },
        {
          "output_type": "display_data",
          "data": {
            "text/plain": [
              "<IPython.core.display.Javascript object>"
            ],
            "application/javascript": [
              "download(\"download_c9c9cca7-348c-4aca-8407-6dd26dd8e09a\", \"milwaukeeClassification2.tif\", 3513318)"
            ]
          },
          "metadata": {}
        },
        {
          "output_type": "display_data",
          "data": {
            "text/plain": [
              "<IPython.core.display.Javascript object>"
            ],
            "application/javascript": [
              "\n",
              "    async function download(id, filename, size) {\n",
              "      if (!google.colab.kernel.accessAllowed) {\n",
              "        return;\n",
              "      }\n",
              "      const div = document.createElement('div');\n",
              "      const label = document.createElement('label');\n",
              "      label.textContent = `Downloading \"${filename}\": `;\n",
              "      div.appendChild(label);\n",
              "      const progress = document.createElement('progress');\n",
              "      progress.max = size;\n",
              "      div.appendChild(progress);\n",
              "      document.body.appendChild(div);\n",
              "\n",
              "      const buffers = [];\n",
              "      let downloaded = 0;\n",
              "\n",
              "      const channel = await google.colab.kernel.comms.open(id);\n",
              "      // Send a message to notify the kernel that we're ready.\n",
              "      channel.send({})\n",
              "\n",
              "      for await (const message of channel.messages) {\n",
              "        // Send a message to notify the kernel that we're ready.\n",
              "        channel.send({})\n",
              "        if (message.buffers) {\n",
              "          for (const buffer of message.buffers) {\n",
              "            buffers.push(buffer);\n",
              "            downloaded += buffer.byteLength;\n",
              "            progress.value = downloaded;\n",
              "          }\n",
              "        }\n",
              "      }\n",
              "      const blob = new Blob(buffers, {type: 'application/binary'});\n",
              "      const a = document.createElement('a');\n",
              "      a.href = window.URL.createObjectURL(blob);\n",
              "      a.download = filename;\n",
              "      div.appendChild(a);\n",
              "      a.click();\n",
              "      div.remove();\n",
              "    }\n",
              "  "
            ]
          },
          "metadata": {}
        },
        {
          "output_type": "display_data",
          "data": {
            "text/plain": [
              "<IPython.core.display.Javascript object>"
            ],
            "application/javascript": [
              "download(\"download_c32d1d37-ac66-4ae4-9200-0de2d6646c11\", \"milwaukeeClassification3.tif\", 4556519)"
            ]
          },
          "metadata": {}
        },
        {
          "output_type": "display_data",
          "data": {
            "text/plain": [
              "<IPython.core.display.Javascript object>"
            ],
            "application/javascript": [
              "\n",
              "    async function download(id, filename, size) {\n",
              "      if (!google.colab.kernel.accessAllowed) {\n",
              "        return;\n",
              "      }\n",
              "      const div = document.createElement('div');\n",
              "      const label = document.createElement('label');\n",
              "      label.textContent = `Downloading \"${filename}\": `;\n",
              "      div.appendChild(label);\n",
              "      const progress = document.createElement('progress');\n",
              "      progress.max = size;\n",
              "      div.appendChild(progress);\n",
              "      document.body.appendChild(div);\n",
              "\n",
              "      const buffers = [];\n",
              "      let downloaded = 0;\n",
              "\n",
              "      const channel = await google.colab.kernel.comms.open(id);\n",
              "      // Send a message to notify the kernel that we're ready.\n",
              "      channel.send({})\n",
              "\n",
              "      for await (const message of channel.messages) {\n",
              "        // Send a message to notify the kernel that we're ready.\n",
              "        channel.send({})\n",
              "        if (message.buffers) {\n",
              "          for (const buffer of message.buffers) {\n",
              "            buffers.push(buffer);\n",
              "            downloaded += buffer.byteLength;\n",
              "            progress.value = downloaded;\n",
              "          }\n",
              "        }\n",
              "      }\n",
              "      const blob = new Blob(buffers, {type: 'application/binary'});\n",
              "      const a = document.createElement('a');\n",
              "      a.href = window.URL.createObjectURL(blob);\n",
              "      a.download = filename;\n",
              "      div.appendChild(a);\n",
              "      a.click();\n",
              "      div.remove();\n",
              "    }\n",
              "  "
            ]
          },
          "metadata": {}
        },
        {
          "output_type": "display_data",
          "data": {
            "text/plain": [
              "<IPython.core.display.Javascript object>"
            ],
            "application/javascript": [
              "download(\"download_f61364a2-3a16-4dd3-ac1b-c1e6406460ec\", \"milwaukeeClassification4.tif\", 5638781)"
            ]
          },
          "metadata": {}
        },
        {
          "output_type": "display_data",
          "data": {
            "text/plain": [
              "<IPython.core.display.Javascript object>"
            ],
            "application/javascript": [
              "\n",
              "    async function download(id, filename, size) {\n",
              "      if (!google.colab.kernel.accessAllowed) {\n",
              "        return;\n",
              "      }\n",
              "      const div = document.createElement('div');\n",
              "      const label = document.createElement('label');\n",
              "      label.textContent = `Downloading \"${filename}\": `;\n",
              "      div.appendChild(label);\n",
              "      const progress = document.createElement('progress');\n",
              "      progress.max = size;\n",
              "      div.appendChild(progress);\n",
              "      document.body.appendChild(div);\n",
              "\n",
              "      const buffers = [];\n",
              "      let downloaded = 0;\n",
              "\n",
              "      const channel = await google.colab.kernel.comms.open(id);\n",
              "      // Send a message to notify the kernel that we're ready.\n",
              "      channel.send({})\n",
              "\n",
              "      for await (const message of channel.messages) {\n",
              "        // Send a message to notify the kernel that we're ready.\n",
              "        channel.send({})\n",
              "        if (message.buffers) {\n",
              "          for (const buffer of message.buffers) {\n",
              "            buffers.push(buffer);\n",
              "            downloaded += buffer.byteLength;\n",
              "            progress.value = downloaded;\n",
              "          }\n",
              "        }\n",
              "      }\n",
              "      const blob = new Blob(buffers, {type: 'application/binary'});\n",
              "      const a = document.createElement('a');\n",
              "      a.href = window.URL.createObjectURL(blob);\n",
              "      a.download = filename;\n",
              "      div.appendChild(a);\n",
              "      a.click();\n",
              "      div.remove();\n",
              "    }\n",
              "  "
            ]
          },
          "metadata": {}
        },
        {
          "output_type": "display_data",
          "data": {
            "text/plain": [
              "<IPython.core.display.Javascript object>"
            ],
            "application/javascript": [
              "download(\"download_a4de508b-bd18-436f-958a-352bd59f2e77\", \"milwaukeeClassification5.tif\", 1765219)"
            ]
          },
          "metadata": {}
        },
        {
          "output_type": "display_data",
          "data": {
            "text/plain": [
              "<IPython.core.display.Javascript object>"
            ],
            "application/javascript": [
              "\n",
              "    async function download(id, filename, size) {\n",
              "      if (!google.colab.kernel.accessAllowed) {\n",
              "        return;\n",
              "      }\n",
              "      const div = document.createElement('div');\n",
              "      const label = document.createElement('label');\n",
              "      label.textContent = `Downloading \"${filename}\": `;\n",
              "      div.appendChild(label);\n",
              "      const progress = document.createElement('progress');\n",
              "      progress.max = size;\n",
              "      div.appendChild(progress);\n",
              "      document.body.appendChild(div);\n",
              "\n",
              "      const buffers = [];\n",
              "      let downloaded = 0;\n",
              "\n",
              "      const channel = await google.colab.kernel.comms.open(id);\n",
              "      // Send a message to notify the kernel that we're ready.\n",
              "      channel.send({})\n",
              "\n",
              "      for await (const message of channel.messages) {\n",
              "        // Send a message to notify the kernel that we're ready.\n",
              "        channel.send({})\n",
              "        if (message.buffers) {\n",
              "          for (const buffer of message.buffers) {\n",
              "            buffers.push(buffer);\n",
              "            downloaded += buffer.byteLength;\n",
              "            progress.value = downloaded;\n",
              "          }\n",
              "        }\n",
              "      }\n",
              "      const blob = new Blob(buffers, {type: 'application/binary'});\n",
              "      const a = document.createElement('a');\n",
              "      a.href = window.URL.createObjectURL(blob);\n",
              "      a.download = filename;\n",
              "      div.appendChild(a);\n",
              "      a.click();\n",
              "      div.remove();\n",
              "    }\n",
              "  "
            ]
          },
          "metadata": {}
        },
        {
          "output_type": "display_data",
          "data": {
            "text/plain": [
              "<IPython.core.display.Javascript object>"
            ],
            "application/javascript": [
              "download(\"download_c5a75a18-06fb-450f-83a2-c74d04abd317\", \"milwaukeeClassification6.tif\", 3057349)"
            ]
          },
          "metadata": {}
        }
      ]
    },
    {
      "cell_type": "markdown",
      "source": [
        "### View the images"
      ],
      "metadata": {
        "id": "vlU0AYBPPY2g"
      }
    },
    {
      "cell_type": "code",
      "source": [
        "# open the thermal images as GEE Images using the asset IDs\n",
        "# change the path to your asset ID from the share asset link in GEE\n",
        "\n",
        "milwaukeeClassification1 = ee.Image(\"projects/ee-cvanorio/assets/milwaukeeClassification1\")\n",
        "milwaukeeClassification2 = ee.Image(\"projects/ee-cvanorio/assets/milwaukeeClassification2\")\n",
        "milwaukeeClassification3 = ee.Image(\"projects/ee-cvanorio/assets/milwaukeeClassification3\")\n",
        "milwaukeeClassification4 = ee.Image(\"projects/ee-cvanorio/assets/milwaukeeClassification4\")\n",
        "milwaukeeClassification5 = ee.Image(\"projects/ee-cvanorio/assets/milwaukeeClassification5\")\n",
        "milwaukeeClassification6 = ee.Image(\"projects/ee-cvanorio/assets/milwaukeeClassification6\")"
      ],
      "metadata": {
        "colab": {
          "base_uri": "https://localhost:8080/",
          "height": 17
        },
        "id": "ilR8rKu-rySB",
        "outputId": "02b3b6a9-80aa-4afb-ea2d-5656169f48e5"
      },
      "execution_count": 28,
      "outputs": [
        {
          "output_type": "display_data",
          "data": {
            "text/plain": [
              "<IPython.core.display.HTML object>"
            ],
            "text/html": [
              "\n",
              "            <style>\n",
              "                .geemap-dark {\n",
              "                    --jp-widgets-color: white;\n",
              "                    --jp-widgets-label-color: white;\n",
              "                    --jp-ui-font-color1: white;\n",
              "                    --jp-layout-color2: #454545;\n",
              "                    background-color: #383838;\n",
              "                }\n",
              "\n",
              "                .geemap-dark .jupyter-button {\n",
              "                    --jp-layout-color3: #383838;\n",
              "                }\n",
              "\n",
              "                .geemap-colab {\n",
              "                    background-color: var(--colab-primary-surface-color, white);\n",
              "                }\n",
              "\n",
              "                .geemap-colab .jupyter-button {\n",
              "                    --jp-layout-color3: var(--colab-primary-surface-color, white);\n",
              "                }\n",
              "            </style>\n",
              "            "
            ]
          },
          "metadata": {}
        }
      ]
    },
    {
      "cell_type": "code",
      "source": [
        "# Create an image collection from the individual images\n",
        "image_collection = ee.ImageCollection([milwaukeeClassification1,\n",
        "                                       milwaukeeClassification2,\n",
        "                                        milwaukeeClassification3,\n",
        "                                        milwaukeeClassification4,\n",
        "                                        milwaukeeClassification5,\n",
        "                                        milwaukeeClassification6])\n",
        "\n",
        "# # Mosaic the images\n",
        "classMosaic = image_collection.mosaic().clip(roiFeatureCol)\n",
        "\n",
        "# Classes\n",
        "# '0': 'Outside of ROI',\n",
        "# '1': 'Grass',\n",
        "# '2': 'Water',\n",
        "# '3': 'Impervious',\n",
        "# '4': 'Trees'\n",
        "\n",
        "\n",
        "# Display the class mosaic on the map with the legend\n",
        "Map.addLayer(classMosaic, {'min': 1, 'max': 4, 'palette': ['yellow', 'blue', 'red', 'green']}, 'Classification')\n",
        "Map.centerObject(roiFeatureCol, 11)  # Center the map on the mosaic image with zoom level 10\n",
        "Map"
      ],
      "metadata": {
        "colab": {
          "base_uri": "https://localhost:8080/",
          "height": 621,
          "referenced_widgets": [
            "f7d581ce9c2146c1b7251c120a6474d9",
            "a34c33e6c6a24b37bace2ca51ba52cc2",
            "2aeb0748c1574b3a916eb3d95c7e577e",
            "85cf3ab9f53b450e85377c6b0691acdd",
            "8c2d3c51f59941b4a6381e70f8991eb4",
            "930416483f194922b52ac99ff0aec1ea",
            "6d9301c44d844d56a572c7a778ff13c5",
            "a705248cb6244c5b92f012f31f28d9c9",
            "275eaf420c334b3cb20ab2d6468ae538",
            "5a9be07427d044ecb02f712118566696",
            "1d21088275134df186d7acd587ce2c96",
            "808b17b0bb6540c7bb8cea7527d6d677",
            "1e8c1237068a4f72a1ac616196115788",
            "63f4b482c37b48e4ae482bdf1e5f36d0",
            "2ae5f23fc1684cf8868ef5b52b9555bd",
            "acb17d48518445a58d277b20914b966d",
            "7a1c70c13f8947659668582882efd242",
            "2658872b479e400b83ce5bf6405e2ec2",
            "d5a5111822da407abdbea7bbf789b774",
            "a39a5a4f8a35469cb8605f2a2a152a64",
            "f5839d026066443ca11424a2772ee1c6",
            "abae63b666894b5daf4cd1bedf0d9660",
            "aa368852e5ae4860af4990fc81f134b3",
            "8c418342b6d1485ba97f0378f4b68ff5",
            "9a42b0f798e4480aa899fe1480b273c2",
            "9e4a43156c2848de8ea11a7802418f1f",
            "782b0d4c2d4044b2b0e7d440032eeee3",
            "90b806f7418545478a73985c2fcf0225",
            "bc64d73789ce490eb2c72b8fd5cafe9d",
            "d53280a52c494955bd3e0ef074765ada",
            "de90a90cabb1438b91dd5f97b1b06024",
            "f4f96b421d4042029425dcda5698bc27",
            "d5bfd0fab6974d5b8d374ea65d698a4d",
            "b6c3a04aa09244aa999fda96690d4ddc"
          ]
        },
        "id": "Rqg9V40rtG6L",
        "outputId": "07174f08-5bb1-4fae-a02a-b75bd79198dd"
      },
      "execution_count": 29,
      "outputs": [
        {
          "output_type": "display_data",
          "data": {
            "text/plain": [
              "<IPython.core.display.HTML object>"
            ],
            "text/html": [
              "\n",
              "            <style>\n",
              "                .geemap-dark {\n",
              "                    --jp-widgets-color: white;\n",
              "                    --jp-widgets-label-color: white;\n",
              "                    --jp-ui-font-color1: white;\n",
              "                    --jp-layout-color2: #454545;\n",
              "                    background-color: #383838;\n",
              "                }\n",
              "\n",
              "                .geemap-dark .jupyter-button {\n",
              "                    --jp-layout-color3: #383838;\n",
              "                }\n",
              "\n",
              "                .geemap-colab {\n",
              "                    background-color: var(--colab-primary-surface-color, white);\n",
              "                }\n",
              "\n",
              "                .geemap-colab .jupyter-button {\n",
              "                    --jp-layout-color3: var(--colab-primary-surface-color, white);\n",
              "                }\n",
              "            </style>\n",
              "            "
            ]
          },
          "metadata": {}
        },
        {
          "output_type": "display_data",
          "data": {
            "text/plain": [
              "Map(bottom=385651.0, center=[43.06413159420459, -87.9672249167783], controls=(WidgetControl(options=['position…"
            ],
            "application/vnd.jupyter.widget-view+json": {
              "version_major": 2,
              "version_minor": 0,
              "model_id": "f7d581ce9c2146c1b7251c120a6474d9"
            }
          },
          "metadata": {
            "application/vnd.jupyter.widget-view+json": {
              "colab": {
                "custom_widget_manager": {
                  "url": "https://ssl.gstatic.com/colaboratory-static/widgets/colab-cdn-widget-manager/2b70e893a8ba7c0f/manager.min.js"
                }
              }
            }
          }
        }
      ]
    },
    {
      "cell_type": "markdown",
      "source": [
        "## 8. Upload thermal imagery to GEE and view them.\n",
        "### This code can be adjusted to use more or fewer images."
      ],
      "metadata": {
        "id": "awTHjdgA3NUF"
      }
    },
    {
      "cell_type": "markdown",
      "source": [
        "## **Go to your [GEE account](https://code.earthengine.google.com/) and upload your thermal images as assets.**\n",
        "### There is no way to upload local files as assets in GEE from python.\n"
      ],
      "metadata": {
        "id": "WVb8nPOkUNqL"
      }
    },
    {
      "cell_type": "code",
      "source": [
        "# open the thermal images as GEE Images using the asset IDs\n",
        "# change the path to your asset ID from the share asset link in GEE\n",
        "\n",
        "morningTemp = ee.Image(\"projects/ee-cvanorio/assets/Milwaukee2022SummerMorningAirTemperatureDegreesF\")\n",
        "\n",
        "afternoonTemp = ee.Image(\"projects/ee-cvanorio/assets/Milwaukee2022SummerAfternoonAirTemperatureDegreesF\")\n",
        "\n",
        "eveningTemp = ee.Image(\"projects/ee-cvanorio/assets/Milwaukee2022SummerEveningAirTemperatureDegreesF\")"
      ],
      "metadata": {
        "id": "pIubOnq1-n5p",
        "colab": {
          "base_uri": "https://localhost:8080/",
          "height": 17
        },
        "outputId": "4d280066-1601-440c-98e4-38ce328ccebc"
      },
      "execution_count": 30,
      "outputs": [
        {
          "output_type": "display_data",
          "data": {
            "text/plain": [
              "<IPython.core.display.HTML object>"
            ],
            "text/html": [
              "\n",
              "            <style>\n",
              "                .geemap-dark {\n",
              "                    --jp-widgets-color: white;\n",
              "                    --jp-widgets-label-color: white;\n",
              "                    --jp-ui-font-color1: white;\n",
              "                    --jp-layout-color2: #454545;\n",
              "                    background-color: #383838;\n",
              "                }\n",
              "\n",
              "                .geemap-dark .jupyter-button {\n",
              "                    --jp-layout-color3: #383838;\n",
              "                }\n",
              "\n",
              "                .geemap-colab {\n",
              "                    background-color: var(--colab-primary-surface-color, white);\n",
              "                }\n",
              "\n",
              "                .geemap-colab .jupyter-button {\n",
              "                    --jp-layout-color3: var(--colab-primary-surface-color, white);\n",
              "                }\n",
              "            </style>\n",
              "            "
            ]
          },
          "metadata": {}
        }
      ]
    },
    {
      "cell_type": "code",
      "source": [
        "# Add thermal images as layers to the map\n",
        "\n",
        "Map.addLayer(morningTemp, {'bands':[\"b1\"], 'min': 68, 'max': 75, 'palette': [\n",
        "    '0502b8', '0502ce', '0502e6',\n",
        "    '0602ff', '235cb1', '307ef3', '269db1', '30c8e2', '32d3ef',\n",
        "    '3be285', '3ff38f', '86e26f', '3ae237', 'b5e22e', 'd6e21f',\n",
        "    'fff705', 'ffd611', 'ffb613', 'ff8b13', 'ff6e08', 'ff500d',\n",
        "    'ff0000', 'de0101', 'c21301', 'a71001', '911003'\n",
        "]}, 'Morning Air Temp')\n",
        "\n",
        "Map.addLayer(afternoonTemp, {'bands':[\"b1\"], 'min': 85, 'max': 95, 'palette': [\n",
        "    '0502b8', '0502ce', '0502e6',\n",
        "    '0602ff', '235cb1', '307ef3', '269db1', '30c8e2', '32d3ef',\n",
        "    '3be285', '3ff38f', '86e26f', '3ae237', 'b5e22e', 'd6e21f',\n",
        "    'fff705', 'ffd611', 'ffb613', 'ff8b13', 'ff6e08', 'ff500d',\n",
        "    'ff0000', 'de0101', 'c21301', 'a71001', '911003'\n",
        "]}, 'Afternoon Air Temp')\n",
        "\n",
        "Map.addLayer(eveningTemp, {'bands':[\"b1\"], 'min': 75, 'max': 90, 'palette': [\n",
        "    '0502b8', '0502ce', '0502e6',\n",
        "    '0602ff', '235cb1', '307ef3', '269db1', '30c8e2', '32d3ef',\n",
        "    '3be285', '3ff38f', '86e26f', '3ae237', 'b5e22e', 'd6e21f',\n",
        "    'fff705', 'ffd611', 'ffb613', 'ff8b13', 'ff6e08', 'ff500d',\n",
        "    'ff0000', 'de0101', 'c21301', 'a71001', '911003'\n",
        "]}, 'Evening Air Temp')\n",
        "\n",
        "\n",
        "#Center the map on the ROI at zoom level 11\n",
        "Map.centerObject(roiFeatureCol, 11)\n",
        "# Display the map\n",
        "Map"
      ],
      "metadata": {
        "id": "x9EiTqM2Ja20",
        "colab": {
          "base_uri": "https://localhost:8080/",
          "height": 621,
          "referenced_widgets": [
            "f7d581ce9c2146c1b7251c120a6474d9",
            "a34c33e6c6a24b37bace2ca51ba52cc2",
            "2aeb0748c1574b3a916eb3d95c7e577e",
            "85cf3ab9f53b450e85377c6b0691acdd",
            "8c2d3c51f59941b4a6381e70f8991eb4",
            "930416483f194922b52ac99ff0aec1ea",
            "6d9301c44d844d56a572c7a778ff13c5",
            "a705248cb6244c5b92f012f31f28d9c9",
            "275eaf420c334b3cb20ab2d6468ae538",
            "5a9be07427d044ecb02f712118566696",
            "1d21088275134df186d7acd587ce2c96",
            "808b17b0bb6540c7bb8cea7527d6d677",
            "1e8c1237068a4f72a1ac616196115788",
            "63f4b482c37b48e4ae482bdf1e5f36d0",
            "2ae5f23fc1684cf8868ef5b52b9555bd",
            "acb17d48518445a58d277b20914b966d",
            "7a1c70c13f8947659668582882efd242",
            "bc64d73789ce490eb2c72b8fd5cafe9d",
            "d53280a52c494955bd3e0ef074765ada",
            "de90a90cabb1438b91dd5f97b1b06024",
            "2658872b479e400b83ce5bf6405e2ec2",
            "d5a5111822da407abdbea7bbf789b774",
            "a39a5a4f8a35469cb8605f2a2a152a64",
            "f5839d026066443ca11424a2772ee1c6",
            "abae63b666894b5daf4cd1bedf0d9660",
            "aa368852e5ae4860af4990fc81f134b3",
            "8c418342b6d1485ba97f0378f4b68ff5",
            "9a42b0f798e4480aa899fe1480b273c2",
            "9e4a43156c2848de8ea11a7802418f1f",
            "782b0d4c2d4044b2b0e7d440032eeee3",
            "90b806f7418545478a73985c2fcf0225",
            "f4f96b421d4042029425dcda5698bc27",
            "d5bfd0fab6974d5b8d374ea65d698a4d",
            "b6c3a04aa09244aa999fda96690d4ddc"
          ]
        },
        "outputId": "37eba5ce-3bb4-4ea5-a88a-bd5ec0ff98d6"
      },
      "execution_count": 31,
      "outputs": [
        {
          "output_type": "display_data",
          "data": {
            "text/plain": [
              "<IPython.core.display.HTML object>"
            ],
            "text/html": [
              "\n",
              "            <style>\n",
              "                .geemap-dark {\n",
              "                    --jp-widgets-color: white;\n",
              "                    --jp-widgets-label-color: white;\n",
              "                    --jp-ui-font-color1: white;\n",
              "                    --jp-layout-color2: #454545;\n",
              "                    background-color: #383838;\n",
              "                }\n",
              "\n",
              "                .geemap-dark .jupyter-button {\n",
              "                    --jp-layout-color3: #383838;\n",
              "                }\n",
              "\n",
              "                .geemap-colab {\n",
              "                    background-color: var(--colab-primary-surface-color, white);\n",
              "                }\n",
              "\n",
              "                .geemap-colab .jupyter-button {\n",
              "                    --jp-layout-color3: var(--colab-primary-surface-color, white);\n",
              "                }\n",
              "            </style>\n",
              "            "
            ]
          },
          "metadata": {}
        },
        {
          "output_type": "display_data",
          "data": {
            "text/plain": [
              "Map(bottom=385323.0, center=[43.06413159420459, -87.9672249167783], controls=(WidgetControl(options=['position…"
            ],
            "application/vnd.jupyter.widget-view+json": {
              "version_major": 2,
              "version_minor": 0,
              "model_id": "f7d581ce9c2146c1b7251c120a6474d9"
            }
          },
          "metadata": {
            "application/vnd.jupyter.widget-view+json": {
              "colab": {
                "custom_widget_manager": {
                  "url": "https://ssl.gstatic.com/colaboratory-static/widgets/colab-cdn-widget-manager/2b70e893a8ba7c0f/manager.min.js"
                }
              }
            }
          }
        }
      ]
    },
    {
      "cell_type": "markdown",
      "source": [
        "## 9. Create an average thermal image."
      ],
      "metadata": {
        "id": "BijNQGNo89ib"
      }
    },
    {
      "cell_type": "code",
      "source": [
        "# Stack the three raster images into one multi-band image\n",
        "stacked = ee.ImageCollection([morningTemp, afternoonTemp, eveningTemp]).toBands()\n",
        "\n",
        "# Calculate the average temperature\n",
        "averageTemp = stacked.reduce(ee.Reducer.mean())\n",
        "\n",
        "# Clip the average temperature to the region of interest (roi)\n",
        "averageTemp = ee.Image(averageTemp)\n",
        "\n",
        "# Rename the band\n",
        "averageTemp = averageTemp.rename('b1')\n",
        "\n",
        "# Add the layer to the map\n",
        "Map.addLayer(averageTemp, {'min': 80, 'max': 86, 'palette': [\n",
        "    '0502b8', '0502ce', '0502e6',\n",
        "    '0602ff', '235cb1', '307ef3', '269db1', '30c8e2', '32d3ef',\n",
        "    '3be285', '3ff38f', '86e26f', '3ae237', 'b5e22e', 'd6e21f',\n",
        "    'fff705', 'ffd611', 'ffb613', 'ff8b13', 'ff6e08', 'ff500d',\n",
        "    'ff0000', 'de0101', 'c21301', 'a71001', '911003'\n",
        "]}, 'Average Air Temp')\n",
        "\n",
        "\n",
        "#Center the map on the ROI at zoom level 11\n",
        "Map.centerObject(roiFeatureCol, 11)\n",
        "# Display the map\n",
        "Map"
      ],
      "metadata": {
        "id": "v8M6xiVBzP7A",
        "colab": {
          "base_uri": "https://localhost:8080/",
          "height": 621,
          "referenced_widgets": [
            "f7d581ce9c2146c1b7251c120a6474d9",
            "a34c33e6c6a24b37bace2ca51ba52cc2",
            "2aeb0748c1574b3a916eb3d95c7e577e",
            "85cf3ab9f53b450e85377c6b0691acdd",
            "8c2d3c51f59941b4a6381e70f8991eb4",
            "930416483f194922b52ac99ff0aec1ea",
            "6d9301c44d844d56a572c7a778ff13c5",
            "a705248cb6244c5b92f012f31f28d9c9",
            "275eaf420c334b3cb20ab2d6468ae538",
            "5a9be07427d044ecb02f712118566696",
            "1d21088275134df186d7acd587ce2c96",
            "808b17b0bb6540c7bb8cea7527d6d677",
            "1e8c1237068a4f72a1ac616196115788",
            "63f4b482c37b48e4ae482bdf1e5f36d0",
            "2ae5f23fc1684cf8868ef5b52b9555bd",
            "acb17d48518445a58d277b20914b966d",
            "7a1c70c13f8947659668582882efd242",
            "bc64d73789ce490eb2c72b8fd5cafe9d",
            "d53280a52c494955bd3e0ef074765ada",
            "de90a90cabb1438b91dd5f97b1b06024",
            "f4f96b421d4042029425dcda5698bc27",
            "2658872b479e400b83ce5bf6405e2ec2",
            "d5a5111822da407abdbea7bbf789b774",
            "a39a5a4f8a35469cb8605f2a2a152a64",
            "f5839d026066443ca11424a2772ee1c6",
            "abae63b666894b5daf4cd1bedf0d9660",
            "aa368852e5ae4860af4990fc81f134b3",
            "8c418342b6d1485ba97f0378f4b68ff5",
            "9a42b0f798e4480aa899fe1480b273c2",
            "9e4a43156c2848de8ea11a7802418f1f",
            "782b0d4c2d4044b2b0e7d440032eeee3",
            "90b806f7418545478a73985c2fcf0225",
            "d5bfd0fab6974d5b8d374ea65d698a4d",
            "b6c3a04aa09244aa999fda96690d4ddc"
          ]
        },
        "outputId": "34b81073-dd2e-4adb-9815-5492376e8412"
      },
      "execution_count": 32,
      "outputs": [
        {
          "output_type": "display_data",
          "data": {
            "text/plain": [
              "<IPython.core.display.HTML object>"
            ],
            "text/html": [
              "\n",
              "            <style>\n",
              "                .geemap-dark {\n",
              "                    --jp-widgets-color: white;\n",
              "                    --jp-widgets-label-color: white;\n",
              "                    --jp-ui-font-color1: white;\n",
              "                    --jp-layout-color2: #454545;\n",
              "                    background-color: #383838;\n",
              "                }\n",
              "\n",
              "                .geemap-dark .jupyter-button {\n",
              "                    --jp-layout-color3: #383838;\n",
              "                }\n",
              "\n",
              "                .geemap-colab {\n",
              "                    background-color: var(--colab-primary-surface-color, white);\n",
              "                }\n",
              "\n",
              "                .geemap-colab .jupyter-button {\n",
              "                    --jp-layout-color3: var(--colab-primary-surface-color, white);\n",
              "                }\n",
              "            </style>\n",
              "            "
            ]
          },
          "metadata": {}
        },
        {
          "output_type": "display_data",
          "data": {
            "text/plain": [
              "Map(bottom=192840.0, center=[43.06413159420459, -87.9672249167783], controls=(WidgetControl(options=['position…"
            ],
            "application/vnd.jupyter.widget-view+json": {
              "version_major": 2,
              "version_minor": 0,
              "model_id": "f7d581ce9c2146c1b7251c120a6474d9"
            }
          },
          "metadata": {
            "application/vnd.jupyter.widget-view+json": {
              "colab": {
                "custom_widget_manager": {
                  "url": "https://ssl.gstatic.com/colaboratory-static/widgets/colab-cdn-widget-manager/2b70e893a8ba7c0f/manager.min.js"
                }
              }
            }
          }
        }
      ]
    },
    {
      "cell_type": "markdown",
      "source": [
        "## 10. Get Landsat 8 thermal imagery for your ROI."
      ],
      "metadata": {
        "id": "6DqIu6o2-eAg"
      }
    },
    {
      "cell_type": "code",
      "source": [
        "# Define cloud mask function\n",
        "def maskL8sr(image):\n",
        "    # Bits 3 and 5 are cloud shadow and cloud, respectively.\n",
        "    cloudShadowBitMask = (1 << 3)\n",
        "    cloudsBitMask = (1 << 5)\n",
        "    # Get the pixel QA band.\n",
        "    qa = image.select('QA_PIXEL')\n",
        "    # Both flags should be set to zero, indicating clear conditions.\n",
        "    mask = qa.bitwiseAnd(cloudShadowBitMask).eq(0) \\\n",
        "             .And(qa.bitwiseAnd(cloudsBitMask).eq(0))\n",
        "    return image.updateMask(mask)"
      ],
      "metadata": {
        "id": "906f0GQp3zFT",
        "colab": {
          "base_uri": "https://localhost:8080/",
          "height": 17
        },
        "outputId": "5c148268-3ef3-4e36-bbde-7ad5bf69033f"
      },
      "execution_count": 33,
      "outputs": [
        {
          "output_type": "display_data",
          "data": {
            "text/plain": [
              "<IPython.core.display.HTML object>"
            ],
            "text/html": [
              "\n",
              "            <style>\n",
              "                .geemap-dark {\n",
              "                    --jp-widgets-color: white;\n",
              "                    --jp-widgets-label-color: white;\n",
              "                    --jp-ui-font-color1: white;\n",
              "                    --jp-layout-color2: #454545;\n",
              "                    background-color: #383838;\n",
              "                }\n",
              "\n",
              "                .geemap-dark .jupyter-button {\n",
              "                    --jp-layout-color3: #383838;\n",
              "                }\n",
              "\n",
              "                .geemap-colab {\n",
              "                    background-color: var(--colab-primary-surface-color, white);\n",
              "                }\n",
              "\n",
              "                .geemap-colab .jupyter-button {\n",
              "                    --jp-layout-color3: var(--colab-primary-surface-color, white);\n",
              "                }\n",
              "            </style>\n",
              "            "
            ]
          },
          "metadata": {}
        }
      ]
    },
    {
      "cell_type": "code",
      "source": [
        "# Load the collection\n",
        "landsatCol = ee.ImageCollection('LANDSAT/LC08/C02/T1_L2') \\\n",
        "    .map(maskL8sr) \\\n",
        "    .filterDate('2022-06-01','2022-08-01') \\\n",
        "    .filterBounds(roiFeatureCol)\n",
        "\n",
        "# Reduce to median image\n",
        "image = landsatCol.median()"
      ],
      "metadata": {
        "id": "PNs-o1g230bA",
        "colab": {
          "base_uri": "https://localhost:8080/",
          "height": 17
        },
        "outputId": "749fed57-d467-443b-89cb-8e59ffe14ce5"
      },
      "execution_count": 34,
      "outputs": [
        {
          "output_type": "display_data",
          "data": {
            "text/plain": [
              "<IPython.core.display.HTML object>"
            ],
            "text/html": [
              "\n",
              "            <style>\n",
              "                .geemap-dark {\n",
              "                    --jp-widgets-color: white;\n",
              "                    --jp-widgets-label-color: white;\n",
              "                    --jp-ui-font-color1: white;\n",
              "                    --jp-layout-color2: #454545;\n",
              "                    background-color: #383838;\n",
              "                }\n",
              "\n",
              "                .geemap-dark .jupyter-button {\n",
              "                    --jp-layout-color3: #383838;\n",
              "                }\n",
              "\n",
              "                .geemap-colab {\n",
              "                    background-color: var(--colab-primary-surface-color, white);\n",
              "                }\n",
              "\n",
              "                .geemap-colab .jupyter-button {\n",
              "                    --jp-layout-color3: var(--colab-primary-surface-color, white);\n",
              "                }\n",
              "            </style>\n",
              "            "
            ]
          },
          "metadata": {}
        }
      ]
    },
    {
      "cell_type": "code",
      "source": [
        "# Calculate NDVI\n",
        "ndvi = image.normalizedDifference(['SR_B5', 'SR_B4']).rename('NDVI')\n",
        "\n",
        "# Select thermal band 10 and convert to brightness temperature\n",
        "thermal = image.select('ST_B10').multiply(0.00341802).add(149)"
      ],
      "metadata": {
        "id": "L3WLYRwz38UI",
        "colab": {
          "base_uri": "https://localhost:8080/",
          "height": 17
        },
        "outputId": "e63fd617-eba4-42e0-a15a-124649bbe75d"
      },
      "execution_count": 35,
      "outputs": [
        {
          "output_type": "display_data",
          "data": {
            "text/plain": [
              "<IPython.core.display.HTML object>"
            ],
            "text/html": [
              "\n",
              "            <style>\n",
              "                .geemap-dark {\n",
              "                    --jp-widgets-color: white;\n",
              "                    --jp-widgets-label-color: white;\n",
              "                    --jp-ui-font-color1: white;\n",
              "                    --jp-layout-color2: #454545;\n",
              "                    background-color: #383838;\n",
              "                }\n",
              "\n",
              "                .geemap-dark .jupyter-button {\n",
              "                    --jp-layout-color3: #383838;\n",
              "                }\n",
              "\n",
              "                .geemap-colab {\n",
              "                    background-color: var(--colab-primary-surface-color, white);\n",
              "                }\n",
              "\n",
              "                .geemap-colab .jupyter-button {\n",
              "                    --jp-layout-color3: var(--colab-primary-surface-color, white);\n",
              "                }\n",
              "            </style>\n",
              "            "
            ]
          },
          "metadata": {}
        }
      ]
    },
    {
      "cell_type": "code",
      "source": [
        "# Find the min and max of NDVI\n",
        "min_ndvi = ndvi.reduceRegion(\n",
        "    reducer=ee.Reducer.min(),\n",
        "    geometry=roiFeatureCol,\n",
        "    scale=30,\n",
        "    maxPixels=1e9\n",
        ").get('NDVI')\n",
        "\n",
        "min_ndvi = ee.Number(min_ndvi)\n",
        "\n",
        "max_ndvi = ndvi.reduceRegion(\n",
        "    reducer=ee.Reducer.max(),\n",
        "    geometry=roiFeatureCol,\n",
        "    scale=30,\n",
        "    maxPixels=1e9\n",
        ").get('NDVI')\n",
        "\n",
        "max_ndvi = ee.Number(max_ndvi)"
      ],
      "metadata": {
        "id": "afrHuhqq3-B4",
        "colab": {
          "base_uri": "https://localhost:8080/",
          "height": 17
        },
        "outputId": "c93daabf-791f-47c0-c9e2-7c81b05a5c8c"
      },
      "execution_count": 36,
      "outputs": [
        {
          "output_type": "display_data",
          "data": {
            "text/plain": [
              "<IPython.core.display.HTML object>"
            ],
            "text/html": [
              "\n",
              "            <style>\n",
              "                .geemap-dark {\n",
              "                    --jp-widgets-color: white;\n",
              "                    --jp-widgets-label-color: white;\n",
              "                    --jp-ui-font-color1: white;\n",
              "                    --jp-layout-color2: #454545;\n",
              "                    background-color: #383838;\n",
              "                }\n",
              "\n",
              "                .geemap-dark .jupyter-button {\n",
              "                    --jp-layout-color3: #383838;\n",
              "                }\n",
              "\n",
              "                .geemap-colab {\n",
              "                    background-color: var(--colab-primary-surface-color, white);\n",
              "                }\n",
              "\n",
              "                .geemap-colab .jupyter-button {\n",
              "                    --jp-layout-color3: var(--colab-primary-surface-color, white);\n",
              "                }\n",
              "            </style>\n",
              "            "
            ]
          },
          "metadata": {}
        }
      ]
    },
    {
      "cell_type": "code",
      "source": [
        "# Calculate fractional vegetation\n",
        "fv = ndvi.subtract(min_ndvi).divide(max_ndvi.subtract(min_ndvi)).pow(ee.Number(2)).rename('FV')\n",
        "\n",
        "# Calculate emissivity\n",
        "a = ee.Number(0.004)\n",
        "b = ee.Number(0.986)\n",
        "EM = fv.multiply(a).add(b).rename('EMM')"
      ],
      "metadata": {
        "id": "cY2sumDT4AC-",
        "colab": {
          "base_uri": "https://localhost:8080/",
          "height": 17
        },
        "outputId": "d5f37de7-cd35-4b79-ab95-4749b6d81aac"
      },
      "execution_count": 37,
      "outputs": [
        {
          "output_type": "display_data",
          "data": {
            "text/plain": [
              "<IPython.core.display.HTML object>"
            ],
            "text/html": [
              "\n",
              "            <style>\n",
              "                .geemap-dark {\n",
              "                    --jp-widgets-color: white;\n",
              "                    --jp-widgets-label-color: white;\n",
              "                    --jp-ui-font-color1: white;\n",
              "                    --jp-layout-color2: #454545;\n",
              "                    background-color: #383838;\n",
              "                }\n",
              "\n",
              "                .geemap-dark .jupyter-button {\n",
              "                    --jp-layout-color3: #383838;\n",
              "                }\n",
              "\n",
              "                .geemap-colab {\n",
              "                    background-color: var(--colab-primary-surface-color, white);\n",
              "                }\n",
              "\n",
              "                .geemap-colab .jupyter-button {\n",
              "                    --jp-layout-color3: var(--colab-primary-surface-color, white);\n",
              "                }\n",
              "            </style>\n",
              "            "
            ]
          },
          "metadata": {}
        }
      ]
    },
    {
      "cell_type": "code",
      "source": [
        "# Calculate Land Surface Temperature (LST) in degrees Fahrenheit\n",
        "LST = thermal.expression(\n",
        "    '((Tb/(1 + (0.00115* (Tb / 1.438))*log(Ep)))-273.15)*(9/5)+32', {\n",
        "     'Tb': thermal.select('ST_B10'),\n",
        "    'Ep': EM.select('EMM')\n",
        "  }).rename('b1')"
      ],
      "metadata": {
        "id": "gOjrGKgJ4DD-",
        "colab": {
          "base_uri": "https://localhost:8080/",
          "height": 17
        },
        "outputId": "fc6491b7-9e1b-4438-d10e-6047871d0eae"
      },
      "execution_count": 38,
      "outputs": [
        {
          "output_type": "display_data",
          "data": {
            "text/plain": [
              "<IPython.core.display.HTML object>"
            ],
            "text/html": [
              "\n",
              "            <style>\n",
              "                .geemap-dark {\n",
              "                    --jp-widgets-color: white;\n",
              "                    --jp-widgets-label-color: white;\n",
              "                    --jp-ui-font-color1: white;\n",
              "                    --jp-layout-color2: #454545;\n",
              "                    background-color: #383838;\n",
              "                }\n",
              "\n",
              "                .geemap-dark .jupyter-button {\n",
              "                    --jp-layout-color3: #383838;\n",
              "                }\n",
              "\n",
              "                .geemap-colab {\n",
              "                    background-color: var(--colab-primary-surface-color, white);\n",
              "                }\n",
              "\n",
              "                .geemap-colab .jupyter-button {\n",
              "                    --jp-layout-color3: var(--colab-primary-surface-color, white);\n",
              "                }\n",
              "            </style>\n",
              "            "
            ]
          },
          "metadata": {}
        }
      ]
    },
    {
      "cell_type": "code",
      "source": [
        "# Clip LST to region of interest\n",
        "LST = LST.clip(roiFeatureCol)\n",
        "\n",
        "# Convert the image data type from double to float\n",
        "LST = LST.toFloat()\n",
        "\n",
        "# Visualize LST\n",
        "LST_vis_params = {'min': 70, 'max': 100, 'palette': [\n",
        "    '0502b8', '0502ce', '0502e6',\n",
        "    '0602ff', '235cb1', '307ef3', '269db1', '30c8e2', '32d3ef',\n",
        "    '3be285', '3ff38f', '86e26f', '3ae237', 'b5e22e', 'd6e21f',\n",
        "    'fff705', 'ffd611', 'ffb613', 'ff8b13', 'ff6e08', 'ff500d',\n",
        "    'ff0000', 'de0101', 'c21301', 'a71001', '911003'\n",
        "]}\n",
        "\n",
        "Map.addLayer(LST, LST_vis_params, 'Landsat LST')\n",
        "Map"
      ],
      "metadata": {
        "id": "VvJFhK9_4Ft4",
        "colab": {
          "base_uri": "https://localhost:8080/",
          "height": 621,
          "referenced_widgets": [
            "f7d581ce9c2146c1b7251c120a6474d9",
            "a34c33e6c6a24b37bace2ca51ba52cc2",
            "2aeb0748c1574b3a916eb3d95c7e577e",
            "85cf3ab9f53b450e85377c6b0691acdd",
            "8c2d3c51f59941b4a6381e70f8991eb4",
            "930416483f194922b52ac99ff0aec1ea",
            "6d9301c44d844d56a572c7a778ff13c5",
            "a705248cb6244c5b92f012f31f28d9c9",
            "275eaf420c334b3cb20ab2d6468ae538",
            "5a9be07427d044ecb02f712118566696",
            "1d21088275134df186d7acd587ce2c96",
            "808b17b0bb6540c7bb8cea7527d6d677",
            "1e8c1237068a4f72a1ac616196115788",
            "63f4b482c37b48e4ae482bdf1e5f36d0",
            "2ae5f23fc1684cf8868ef5b52b9555bd",
            "acb17d48518445a58d277b20914b966d",
            "7a1c70c13f8947659668582882efd242",
            "bc64d73789ce490eb2c72b8fd5cafe9d",
            "d53280a52c494955bd3e0ef074765ada",
            "de90a90cabb1438b91dd5f97b1b06024",
            "f4f96b421d4042029425dcda5698bc27",
            "d5bfd0fab6974d5b8d374ea65d698a4d",
            "2658872b479e400b83ce5bf6405e2ec2",
            "d5a5111822da407abdbea7bbf789b774",
            "a39a5a4f8a35469cb8605f2a2a152a64",
            "f5839d026066443ca11424a2772ee1c6",
            "abae63b666894b5daf4cd1bedf0d9660",
            "aa368852e5ae4860af4990fc81f134b3",
            "8c418342b6d1485ba97f0378f4b68ff5",
            "9a42b0f798e4480aa899fe1480b273c2",
            "9e4a43156c2848de8ea11a7802418f1f",
            "782b0d4c2d4044b2b0e7d440032eeee3",
            "90b806f7418545478a73985c2fcf0225",
            "b6c3a04aa09244aa999fda96690d4ddc"
          ]
        },
        "outputId": "630333c3-bb10-4175-ce68-eb58d0dacdc0"
      },
      "execution_count": 39,
      "outputs": [
        {
          "output_type": "display_data",
          "data": {
            "text/plain": [
              "<IPython.core.display.HTML object>"
            ],
            "text/html": [
              "\n",
              "            <style>\n",
              "                .geemap-dark {\n",
              "                    --jp-widgets-color: white;\n",
              "                    --jp-widgets-label-color: white;\n",
              "                    --jp-ui-font-color1: white;\n",
              "                    --jp-layout-color2: #454545;\n",
              "                    background-color: #383838;\n",
              "                }\n",
              "\n",
              "                .geemap-dark .jupyter-button {\n",
              "                    --jp-layout-color3: #383838;\n",
              "                }\n",
              "\n",
              "                .geemap-colab {\n",
              "                    background-color: var(--colab-primary-surface-color, white);\n",
              "                }\n",
              "\n",
              "                .geemap-colab .jupyter-button {\n",
              "                    --jp-layout-color3: var(--colab-primary-surface-color, white);\n",
              "                }\n",
              "            </style>\n",
              "            "
            ]
          },
          "metadata": {}
        },
        {
          "output_type": "display_data",
          "data": {
            "text/plain": [
              "Map(bottom=192849.0, center=[43.05032512283074, -87.97336578369142], controls=(WidgetControl(options=['positio…"
            ],
            "application/vnd.jupyter.widget-view+json": {
              "version_major": 2,
              "version_minor": 0,
              "model_id": "f7d581ce9c2146c1b7251c120a6474d9"
            }
          },
          "metadata": {
            "application/vnd.jupyter.widget-view+json": {
              "colab": {
                "custom_widget_manager": {
                  "url": "https://ssl.gstatic.com/colaboratory-static/widgets/colab-cdn-widget-manager/2b70e893a8ba7c0f/manager.min.js"
                }
              }
            }
          }
        }
      ]
    },
    {
      "cell_type": "code",
      "source": [
        "# # Define the export parameters\n",
        "# # Export the image, specifying scale and region.\n",
        "\n",
        "task = ee.batch.Export.image.toDrive(**{\n",
        "    'image': LST,\n",
        "    'description': 'milwaukeeLandsatLST',\n",
        "    'folder':'MilwaukeeAerial',\n",
        "    'scale': 100,\n",
        "    'region': roiFeatureCol.geometry().bounds(),\n",
        "    'maxPixels': 703451232  # Increase maxPixels value\n",
        "})\n",
        "task.start()\n",
        "\n",
        "\n",
        "# Wait for the export task to complete\n",
        "while task.active():\n",
        "    print('Export task is still active...')\n",
        "    time.sleep(10)\n",
        "\n",
        "# Check if the export was successful\n",
        "if task.status()['state'] == 'COMPLETED':\n",
        "    print(\"Export completed successfully!\")\n",
        "else:\n",
        "    print(\"Export failed:\", task.status()['state'])\n",
        "    print(\"Error message:\", task.status()['error_message'])"
      ],
      "metadata": {
        "colab": {
          "base_uri": "https://localhost:8080/",
          "height": 69
        },
        "id": "wvumSMbpSTCT",
        "outputId": "e3a30e1f-5451-4e6a-dcc3-d5be500c1434"
      },
      "execution_count": 40,
      "outputs": [
        {
          "output_type": "display_data",
          "data": {
            "text/plain": [
              "<IPython.core.display.HTML object>"
            ],
            "text/html": [
              "\n",
              "            <style>\n",
              "                .geemap-dark {\n",
              "                    --jp-widgets-color: white;\n",
              "                    --jp-widgets-label-color: white;\n",
              "                    --jp-ui-font-color1: white;\n",
              "                    --jp-layout-color2: #454545;\n",
              "                    background-color: #383838;\n",
              "                }\n",
              "\n",
              "                .geemap-dark .jupyter-button {\n",
              "                    --jp-layout-color3: #383838;\n",
              "                }\n",
              "\n",
              "                .geemap-colab {\n",
              "                    background-color: var(--colab-primary-surface-color, white);\n",
              "                }\n",
              "\n",
              "                .geemap-colab .jupyter-button {\n",
              "                    --jp-layout-color3: var(--colab-primary-surface-color, white);\n",
              "                }\n",
              "            </style>\n",
              "            "
            ]
          },
          "metadata": {}
        },
        {
          "output_type": "stream",
          "name": "stdout",
          "text": [
            "Export task is still active...\n",
            "Export task is still active...\n",
            "Export completed successfully!\n"
          ]
        }
      ]
    },
    {
      "cell_type": "markdown",
      "source": [
        "# 11. Analyze spatial statistics"
      ],
      "metadata": {
        "id": "eRpMvtzOyuah"
      }
    },
    {
      "cell_type": "code",
      "source": [
        "!cp '/content/gdrive/MyDrive/MilwaukeeAerial/Milwaukee2022SummerAfternoonAirTemp.tiff' 'afternoonTemp.tif'\n",
        "!cp '/content/gdrive/MyDrive/MilwaukeeAerial/Milwaukee2022SummerEveningAirTemp.tiff' 'eveningTemp.tif'\n",
        "!cp '/content/gdrive/MyDrive/MilwaukeeAerial/Milwaukee2022SummerMorningAirTemp.tiff' 'morningTemp.tif'\n",
        "!cp '/content/gdrive/MyDrive/MilwaukeeAerial/milwaukeeLandsatLST.tif' 'landsatLST.tif'\n",
        "\n",
        "!cp '/content/gdrive/MyDrive/MilwaukeeAerial/Classified/milwaukeeClassification1.tif' .\n",
        "!cp '/content/gdrive/MyDrive/MilwaukeeAerial/Classified/milwaukeeClassification2.tif' .\n",
        "!cp '/content/gdrive/MyDrive/MilwaukeeAerial/Classified/milwaukeeClassification3.tif' .\n",
        "!cp '/content/gdrive/MyDrive/MilwaukeeAerial/Classified/milwaukeeClassification4.tif' .\n",
        "!cp '/content/gdrive/MyDrive/MilwaukeeAerial/Classified/milwaukeeClassification5.tif' .\n",
        "!cp '/content/gdrive/MyDrive/MilwaukeeAerial/Classified/milwaukeeClassification6.tif' .\n",
        "\n",
        "!ls"
      ],
      "metadata": {
        "colab": {
          "base_uri": "https://localhost:8080/",
          "height": 191
        },
        "id": "3PiIuCU-LJAU",
        "outputId": "bc900651-d894-4ed3-e84e-988b71b39ab9"
      },
      "execution_count": 41,
      "outputs": [
        {
          "output_type": "display_data",
          "data": {
            "text/plain": [
              "<IPython.core.display.HTML object>"
            ],
            "text/html": [
              "\n",
              "            <style>\n",
              "                .geemap-dark {\n",
              "                    --jp-widgets-color: white;\n",
              "                    --jp-widgets-label-color: white;\n",
              "                    --jp-ui-font-color1: white;\n",
              "                    --jp-layout-color2: #454545;\n",
              "                    background-color: #383838;\n",
              "                }\n",
              "\n",
              "                .geemap-dark .jupyter-button {\n",
              "                    --jp-layout-color3: #383838;\n",
              "                }\n",
              "\n",
              "                .geemap-colab {\n",
              "                    background-color: var(--colab-primary-surface-color, white);\n",
              "                }\n",
              "\n",
              "                .geemap-colab .jupyter-button {\n",
              "                    --jp-layout-color3: var(--colab-primary-surface-color, white);\n",
              "                }\n",
              "            </style>\n",
              "            "
            ]
          },
          "metadata": {}
        },
        {
          "output_type": "stream",
          "name": "stdout",
          "text": [
            "afternoonTemp.tif\t      milwaukeeClassification2.tif  milwaukeeS2WithNDVI6.tif\n",
            "eveningTemp.tif\t\t      milwaukeeClassification3.tif  milwaukeeTrainingPoints.cpg\n",
            "gdrive\t\t\t      milwaukeeClassification4.tif  milwaukeeTrainingPoints.dbf\n",
            "landsatLST.tif\t\t      milwaukeeClassification5.tif  milwaukeeTrainingPoints.prj\n",
            "Milwaukee_City_Boundary.cpg   milwaukeeClassification6.tif  milwaukeeTrainingPoints.shp\n",
            "Milwaukee_City_Boundary.dbf   milwaukeeS2WithNDVI1.tif\t    milwaukeeTrainingPoints.shx\n",
            "Milwaukee_City_Boundary.prj   milwaukeeS2WithNDVI2.tif\t    morningTemp.tif\n",
            "Milwaukee_City_Boundary.shp   milwaukeeS2WithNDVI3.tif\t    sample_data\n",
            "Milwaukee_City_Boundary.shx   milwaukeeS2WithNDVI4.tif\n",
            "milwaukeeClassification1.tif  milwaukeeS2WithNDVI5.tif\n"
          ]
        }
      ]
    },
    {
      "cell_type": "markdown",
      "source": [
        "## Diurnal Temperature Range"
      ],
      "metadata": {
        "id": "W2bbaZWHd_xp"
      }
    },
    {
      "cell_type": "code",
      "source": [
        "########## DIURNAL TEMP RANGE\n",
        "\n",
        "thermalImages = ['morningTemp.tif', 'afternoonTemp.tif', 'eveningTemp.tif']\n",
        "\n",
        "# Open first GeoTIFF image\n",
        "image = rasterio.open(thermalImages[0])\n",
        "\n",
        "# Get image dimensions\n",
        "rows, cols = image.shape\n",
        "\n",
        "minValues = image.read(1)\n",
        "\n",
        "print(minValues)\n",
        "\n",
        "maxValues = np.copy(minValues)\n",
        "\n",
        "image.close()\n",
        "\n",
        "for i in range(1, len(thermalImages)):\n",
        "\n",
        "    image = rasterio.open(thermalImages[i])\n",
        "\n",
        "    # Loop through each pixel\n",
        "    for row in range(rows):\n",
        "        for col in range(cols):\n",
        "            # Get temperature values at the current pixel from all three images\n",
        "            currPixelTemp = image.read(1, window=((row, row+1), (col, col+1)))[0][0]\n",
        "\n",
        "            # Update minimum and maximum values for the current pixel\n",
        "            currMin = minValues[row, col]\n",
        "            currMax = maxValues[row, col]\n",
        "            minValues[row, col] = min(currMin, currPixelTemp)\n",
        "            maxValues[row, col] = max(currMax, currPixelTemp)\n",
        "\n",
        "    image.close()\n",
        "\n",
        "\n",
        "# Subtract the min value array from the max value array\n",
        "diurnalRange = maxValues - minValues\n",
        "\n",
        "# Display the difference array\n",
        "plt.imshow(diurnalRange, cmap='viridis')  # Choose a colormap\n",
        "plt.colorbar(label='Diurnal Temp Range (deg F)')\n",
        "plt.title('Diurnal Air Temp Range')\n",
        "plt.xlabel('Column')\n",
        "plt.ylabel('Row')\n",
        "plt.show()\n",
        "\n",
        "\n"
      ],
      "metadata": {
        "colab": {
          "base_uri": "https://localhost:8080/",
          "height": 594
        },
        "id": "UQ7TTHSOla7_",
        "outputId": "86a79eb1-cb07-4717-fcc3-d6a113dee6d9"
      },
      "execution_count": 42,
      "outputs": [
        {
          "output_type": "display_data",
          "data": {
            "text/plain": [
              "<IPython.core.display.HTML object>"
            ],
            "text/html": [
              "\n",
              "            <style>\n",
              "                .geemap-dark {\n",
              "                    --jp-widgets-color: white;\n",
              "                    --jp-widgets-label-color: white;\n",
              "                    --jp-ui-font-color1: white;\n",
              "                    --jp-layout-color2: #454545;\n",
              "                    background-color: #383838;\n",
              "                }\n",
              "\n",
              "                .geemap-dark .jupyter-button {\n",
              "                    --jp-layout-color3: #383838;\n",
              "                }\n",
              "\n",
              "                .geemap-colab {\n",
              "                    background-color: var(--colab-primary-surface-color, white);\n",
              "                }\n",
              "\n",
              "                .geemap-colab .jupyter-button {\n",
              "                    --jp-layout-color3: var(--colab-primary-surface-color, white);\n",
              "                }\n",
              "            </style>\n",
              "            "
            ]
          },
          "metadata": {}
        },
        {
          "output_type": "stream",
          "name": "stdout",
          "text": [
            "[[-3.4e+38 -3.4e+38 -3.4e+38 ... -3.4e+38 -3.4e+38 -3.4e+38]\n",
            " [-3.4e+38 -3.4e+38 -3.4e+38 ... -3.4e+38 -3.4e+38 -3.4e+38]\n",
            " [-3.4e+38 -3.4e+38 -3.4e+38 ... -3.4e+38 -3.4e+38 -3.4e+38]\n",
            " ...\n",
            " [-3.4e+38 -3.4e+38 -3.4e+38 ... -3.4e+38 -3.4e+38 -3.4e+38]\n",
            " [-3.4e+38 -3.4e+38 -3.4e+38 ... -3.4e+38 -3.4e+38 -3.4e+38]\n",
            " [-3.4e+38 -3.4e+38 -3.4e+38 ... -3.4e+38 -3.4e+38 -3.4e+38]]\n"
          ]
        },
        {
          "output_type": "display_data",
          "data": {
            "text/plain": [
              "<Figure size 640x480 with 2 Axes>"
            ],
            "image/png": "[encoded data removed]"
          },
          "metadata": {}
        }
      ]
    },
    {
      "cell_type": "code",
      "source": [
        "export_image(diurnalRange, 'morningTemp.tif', 'milwaukeeDiurnalRange.tif')\n",
        "\n",
        "# export the images to your Google Drive\n",
        "from google.colab import files\n",
        "\n",
        "files.download('milwaukeeDiurnalRange.tif')"
      ],
      "metadata": {
        "colab": {
          "base_uri": "https://localhost:8080/",
          "height": 17
        },
        "id": "sR_nZhtLw6FM",
        "outputId": "c2f19dee-60f9-4735-b610-9e827d0dd54a"
      },
      "execution_count": 43,
      "outputs": [
        {
          "output_type": "display_data",
          "data": {
            "text/plain": [
              "<IPython.core.display.HTML object>"
            ],
            "text/html": [
              "\n",
              "            <style>\n",
              "                .geemap-dark {\n",
              "                    --jp-widgets-color: white;\n",
              "                    --jp-widgets-label-color: white;\n",
              "                    --jp-ui-font-color1: white;\n",
              "                    --jp-layout-color2: #454545;\n",
              "                    background-color: #383838;\n",
              "                }\n",
              "\n",
              "                .geemap-dark .jupyter-button {\n",
              "                    --jp-layout-color3: #383838;\n",
              "                }\n",
              "\n",
              "                .geemap-colab {\n",
              "                    background-color: var(--colab-primary-surface-color, white);\n",
              "                }\n",
              "\n",
              "                .geemap-colab .jupyter-button {\n",
              "                    --jp-layout-color3: var(--colab-primary-surface-color, white);\n",
              "                }\n",
              "            </style>\n",
              "            "
            ]
          },
          "metadata": {}
        },
        {
          "output_type": "display_data",
          "data": {
            "text/plain": [
              "<IPython.core.display.Javascript object>"
            ],
            "application/javascript": [
              "\n",
              "    async function download(id, filename, size) {\n",
              "      if (!google.colab.kernel.accessAllowed) {\n",
              "        return;\n",
              "      }\n",
              "      const div = document.createElement('div');\n",
              "      const label = document.createElement('label');\n",
              "      label.textContent = `Downloading \"${filename}\": `;\n",
              "      div.appendChild(label);\n",
              "      const progress = document.createElement('progress');\n",
              "      progress.max = size;\n",
              "      div.appendChild(progress);\n",
              "      document.body.appendChild(div);\n",
              "\n",
              "      const buffers = [];\n",
              "      let downloaded = 0;\n",
              "\n",
              "      const channel = await google.colab.kernel.comms.open(id);\n",
              "      // Send a message to notify the kernel that we're ready.\n",
              "      channel.send({})\n",
              "\n",
              "      for await (const message of channel.messages) {\n",
              "        // Send a message to notify the kernel that we're ready.\n",
              "        channel.send({})\n",
              "        if (message.buffers) {\n",
              "          for (const buffer of message.buffers) {\n",
              "            buffers.push(buffer);\n",
              "            downloaded += buffer.byteLength;\n",
              "            progress.value = downloaded;\n",
              "          }\n",
              "        }\n",
              "      }\n",
              "      const blob = new Blob(buffers, {type: 'application/binary'});\n",
              "      const a = document.createElement('a');\n",
              "      a.href = window.URL.createObjectURL(blob);\n",
              "      a.download = filename;\n",
              "      div.appendChild(a);\n",
              "      a.click();\n",
              "      div.remove();\n",
              "    }\n",
              "  "
            ]
          },
          "metadata": {}
        },
        {
          "output_type": "display_data",
          "data": {
            "text/plain": [
              "<IPython.core.display.Javascript object>"
            ],
            "application/javascript": [
              "download(\"download_f075717e-49e1-4ec0-844c-c195ad5a8f45\", \"milwaukeeDiurnalRange.tif\", 10723)"
            ]
          },
          "metadata": {}
        }
      ]
    },
    {
      "cell_type": "code",
      "source": [
        "diurnalRange = ee.Image(\"projects/ee-cvanorio/assets/milwaukeeDiurnalRange\")\n",
        "# Clip LST to region of interest\n",
        "diurnalRange = diurnalRange.clip(roiFeatureCol)\n",
        "\n",
        "# Get the min and max values of the image\n",
        "min_max_values = diurnalRange.reduceRegion(reducer=ee.Reducer.minMax(), geometry=roiFeatureCol, scale=10)\n",
        "\n",
        "# Extract min and max values from the dictionary\n",
        "min_value = min_max_values.get('b1_min')  # Replace 'image_band_name' with the actual band name\n",
        "max_value = min_max_values.get('b1_max')  # Replace 'image_band_name' with the actual band name\n",
        "\n",
        "# Define visualization parameters\n",
        "vis_params = {\n",
        "    'min': min_value.getInfo(),\n",
        "    'max': max_value.getInfo(),\n",
        "    'palette': [\n",
        "    '0502b8', '0502ce', '0502e6',\n",
        "    '0602ff', '235cb1', '307ef3', '269db1', '30c8e2', '32d3ef',\n",
        "    '3be285', '3ff38f', '86e26f', '3ae237', 'b5e22e', 'd6e21f',\n",
        "    'fff705', 'ffd611', 'ffb613', 'ff8b13', 'ff6e08', 'ff500d',\n",
        "    'ff0000', 'de0101', 'c21301', 'a71001', '911003'\n",
        "]}\n",
        "\n",
        "# Visualize the image\n",
        "Map.addLayer(diurnalRange, vis_params, 'Diurnal Temp Range')\n",
        "Map.centerObject(diurnalRange, 11)\n",
        "Map"
      ],
      "metadata": {
        "colab": {
          "base_uri": "https://localhost:8080/",
          "height": 621,
          "referenced_widgets": [
            "f7d581ce9c2146c1b7251c120a6474d9",
            "a34c33e6c6a24b37bace2ca51ba52cc2",
            "2aeb0748c1574b3a916eb3d95c7e577e",
            "85cf3ab9f53b450e85377c6b0691acdd",
            "8c2d3c51f59941b4a6381e70f8991eb4",
            "930416483f194922b52ac99ff0aec1ea",
            "6d9301c44d844d56a572c7a778ff13c5",
            "a705248cb6244c5b92f012f31f28d9c9",
            "275eaf420c334b3cb20ab2d6468ae538",
            "5a9be07427d044ecb02f712118566696",
            "1d21088275134df186d7acd587ce2c96",
            "808b17b0bb6540c7bb8cea7527d6d677",
            "1e8c1237068a4f72a1ac616196115788",
            "63f4b482c37b48e4ae482bdf1e5f36d0",
            "2ae5f23fc1684cf8868ef5b52b9555bd",
            "acb17d48518445a58d277b20914b966d",
            "7a1c70c13f8947659668582882efd242",
            "bc64d73789ce490eb2c72b8fd5cafe9d",
            "d53280a52c494955bd3e0ef074765ada",
            "de90a90cabb1438b91dd5f97b1b06024",
            "f4f96b421d4042029425dcda5698bc27",
            "d5bfd0fab6974d5b8d374ea65d698a4d",
            "b6c3a04aa09244aa999fda96690d4ddc",
            "2658872b479e400b83ce5bf6405e2ec2",
            "d5a5111822da407abdbea7bbf789b774",
            "a39a5a4f8a35469cb8605f2a2a152a64",
            "f5839d026066443ca11424a2772ee1c6",
            "abae63b666894b5daf4cd1bedf0d9660",
            "aa368852e5ae4860af4990fc81f134b3",
            "8c418342b6d1485ba97f0378f4b68ff5",
            "9a42b0f798e4480aa899fe1480b273c2",
            "9e4a43156c2848de8ea11a7802418f1f",
            "782b0d4c2d4044b2b0e7d440032eeee3",
            "90b806f7418545478a73985c2fcf0225"
          ]
        },
        "id": "Awr2TRwTxxPM",
        "outputId": "67a83a67-5a14-4361-b52f-adb9ee54b1f1"
      },
      "execution_count": 44,
      "outputs": [
        {
          "output_type": "display_data",
          "data": {
            "text/plain": [
              "<IPython.core.display.HTML object>"
            ],
            "text/html": [
              "\n",
              "            <style>\n",
              "                .geemap-dark {\n",
              "                    --jp-widgets-color: white;\n",
              "                    --jp-widgets-label-color: white;\n",
              "                    --jp-ui-font-color1: white;\n",
              "                    --jp-layout-color2: #454545;\n",
              "                    background-color: #383838;\n",
              "                }\n",
              "\n",
              "                .geemap-dark .jupyter-button {\n",
              "                    --jp-layout-color3: #383838;\n",
              "                }\n",
              "\n",
              "                .geemap-colab {\n",
              "                    background-color: var(--colab-primary-surface-color, white);\n",
              "                }\n",
              "\n",
              "                .geemap-colab .jupyter-button {\n",
              "                    --jp-layout-color3: var(--colab-primary-surface-color, white);\n",
              "                }\n",
              "            </style>\n",
              "            "
            ]
          },
          "metadata": {}
        },
        {
          "output_type": "display_data",
          "data": {
            "text/plain": [
              "Map(bottom=192834.0, center=[43.0579715742369, -87.96704999311083], controls=(WidgetControl(options=['position…"
            ],
            "application/vnd.jupyter.widget-view+json": {
              "version_major": 2,
              "version_minor": 0,
              "model_id": "f7d581ce9c2146c1b7251c120a6474d9"
            }
          },
          "metadata": {
            "application/vnd.jupyter.widget-view+json": {
              "colab": {
                "custom_widget_manager": {
                  "url": "https://ssl.gstatic.com/colaboratory-static/widgets/colab-cdn-widget-manager/2b70e893a8ba7c0f/manager.min.js"
                }
              }
            }
          }
        }
      ]
    },
    {
      "cell_type": "markdown",
      "source": [
        "## Average Temperature by Class"
      ],
      "metadata": {
        "id": "eBf0vu3eeG1h"
      }
    },
    {
      "cell_type": "code",
      "source": [
        "##### Temp by class\n",
        "\n",
        "# Define the class value you want to keep\n",
        "class_values = [1, 2, 3, 4]  # Change this to your desired class value\n",
        "\n",
        "# Create an empty image collection to store the masked images\n",
        "masked_images = ee.ImageCollection([])\n",
        "\n",
        "# Loop over the class values\n",
        "for class_value in class_values:\n",
        "    # Create a mask based on the specified class value\n",
        "    mask = classMosaic.eq(class_value)\n",
        "\n",
        "    # Apply the mask to the image\n",
        "    masked_image = classMosaic.updateMask(mask)\n",
        "\n",
        "    # Add the masked image to the image collection\n",
        "    masked_images = masked_images.merge(masked_image)\n"
      ],
      "metadata": {
        "colab": {
          "base_uri": "https://localhost:8080/",
          "height": 17
        },
        "id": "Bsud8PwGreD6",
        "outputId": "e392ab88-c673-4820-8cac-d936d91b72e3"
      },
      "execution_count": 45,
      "outputs": [
        {
          "output_type": "display_data",
          "data": {
            "text/plain": [
              "<IPython.core.display.HTML object>"
            ],
            "text/html": [
              "\n",
              "            <style>\n",
              "                .geemap-dark {\n",
              "                    --jp-widgets-color: white;\n",
              "                    --jp-widgets-label-color: white;\n",
              "                    --jp-ui-font-color1: white;\n",
              "                    --jp-layout-color2: #454545;\n",
              "                    background-color: #383838;\n",
              "                }\n",
              "\n",
              "                .geemap-dark .jupyter-button {\n",
              "                    --jp-layout-color3: #383838;\n",
              "                }\n",
              "\n",
              "                .geemap-colab {\n",
              "                    background-color: var(--colab-primary-surface-color, white);\n",
              "                }\n",
              "\n",
              "                .geemap-colab .jupyter-button {\n",
              "                    --jp-layout-color3: var(--colab-primary-surface-color, white);\n",
              "                }\n",
              "            </style>\n",
              "            "
            ]
          },
          "metadata": {}
        }
      ]
    },
    {
      "cell_type": "code",
      "source": [
        "########## AVG TEMP BY LAND COVER\n",
        "\n",
        "# Define the image IDs of the classification images\n",
        "classificationCol = masked_images\n",
        "\n",
        "# Define the image IDs of the temperature images\n",
        "temperature_images = [morningTemp, afternoonTemp, eveningTemp, averageTemp, LST]\n",
        "\n",
        "# Define the number of classes\n",
        "num_classes = 4\n",
        "\n",
        "classLabels = ['Grass', 'Water', 'Impervious', 'Trees']\n",
        "\n",
        "# Define the scale\n",
        "scale = 10  # Choose an appropriate scale\n",
        "\n",
        "# Initialize a list to store the average temperature for each class\n",
        "average_temperatures_by_class = []\n",
        "\n",
        "# Loop through each classification image in the collection\n",
        "# Iterate through each image in the collection\n",
        "for currClass in range(num_classes):\n",
        "    # Get the image at index i\n",
        "    singleClassImage = ee.Image(image_collection.toList(num_classes).get(currClass))\n",
        "\n",
        "    average_temperatures_by_image = []\n",
        "\n",
        "    # Iterate over each temperature image in the list\n",
        "    for temperature_image in temperature_images:\n",
        "\n",
        "        # Mask out the temperature values using the classification image for the current class\n",
        "        masked_temperature = temperature_image.updateMask(singleClassImage)\n",
        "\n",
        "        # Reduce the mean temperature within the class to get the average temperature\n",
        "        classAvgTemp = masked_temperature.reduceRegion(\n",
        "            reducer=ee.Reducer.mean(),  # Compute the mean temperature\n",
        "            geometry=singleClassImage.geometry(),  # Optionally, specify a region of interest\n",
        "            scale=scale,  # Specify the scale\n",
        "            bestEffort=True,  # Use multiple pixels to estimate the mean if needed\n",
        "        )\n",
        "\n",
        "        # Append the average temperature to the list\n",
        "        average_temperatures_by_image.append(classAvgTemp.get('b1').getInfo())\n",
        "\n",
        "    # Append the average temperature to the list\n",
        "    average_temperatures_by_class.append(average_temperatures_by_image)\n",
        "\n",
        "    # Plot the bar chart for the current class\n",
        "    plt.figure(figsize=(10, 6))\n",
        "    bars = plt.bar(range(len(temperature_images)), average_temperatures_by_image, color='blue')\n",
        "    plt.xlabel('Image')\n",
        "    plt.ylabel('Average Temperature (deg F)')\n",
        "    plt.title(f'Average Temperature of Each Image for Class {classLabels[currClass]}')\n",
        "\n",
        "    x_values = [0, 1, 2, 3, 4]\n",
        "    labels = ['morningTemp', 'afternoonTemp', 'eveningTemp', 'averageTemp', 'Landsat LST']\n",
        "    plt.xticks(x_values, labels)\n",
        "\n",
        "    plt.grid(axis='y', linestyle='--', alpha=0.7)\n",
        "\n",
        "    # Add bar values over each bar\n",
        "    for bar, value in zip(bars, average_temperatures_by_image):\n",
        "        plt.text(bar.get_x() + bar.get_width() / 2, bar.get_height(), round(value, 2),\n",
        "                 ha='center', va='bottom')\n",
        "    plt.show()\n",
        "\n"
      ],
      "metadata": {
        "colab": {
          "base_uri": "https://localhost:8080/",
          "height": 1000
        },
        "id": "f-z-JDldmHwg",
        "outputId": "68dbe152-2525-4827-c075-e84f42c89aa7"
      },
      "execution_count": 46,
      "outputs": [
        {
          "output_type": "display_data",
          "data": {
            "text/plain": [
              "<IPython.core.display.HTML object>"
            ],
            "text/html": [
              "\n",
              "            <style>\n",
              "                .geemap-dark {\n",
              "                    --jp-widgets-color: white;\n",
              "                    --jp-widgets-label-color: white;\n",
              "                    --jp-ui-font-color1: white;\n",
              "                    --jp-layout-color2: #454545;\n",
              "                    background-color: #383838;\n",
              "                }\n",
              "\n",
              "                .geemap-dark .jupyter-button {\n",
              "                    --jp-layout-color3: #383838;\n",
              "                }\n",
              "\n",
              "                .geemap-colab {\n",
              "                    background-color: var(--colab-primary-surface-color, white);\n",
              "                }\n",
              "\n",
              "                .geemap-colab .jupyter-button {\n",
              "                    --jp-layout-color3: var(--colab-primary-surface-color, white);\n",
              "                }\n",
              "            </style>\n",
              "            "
            ]
          },
          "metadata": {}
        },
        {
          "output_type": "display_data",
          "data": {
            "text/plain": [
              "<Figure size 1000x600 with 1 Axes>"
            ],
            "image/png": "[encoded data removed]"
          },
          "metadata": {}
        },
        {
          "output_type": "display_data",
          "data": {
            "text/plain": [
              "<Figure size 1000x600 with 1 Axes>"
            ],
            "image/png": "[encoded data removed]"
          },
          "metadata": {}
        },
        {
          "output_type": "display_data",
          "data": {
            "text/plain": [
              "<Figure size 1000x600 with 1 Axes>"
            ],
            "image/png": "[encoded data removed]"
          },
          "metadata": {}
        },
        {
          "output_type": "display_data",
          "data": {
            "text/plain": [
              "<Figure size 1000x600 with 1 Axes>"
            ],
            "image/png": "[encoded data removed]"
          },
          "metadata": {}
        }
      ]
    },
    {
      "cell_type": "code",
      "source": [
        "## Check acquisition time for the landsat imagery\n",
        "\n",
        "import pytz\n",
        "from datetime import datetime\n",
        "\n",
        "# Get the first image in the collection\n",
        "firstLandsatImage = ee.Image(landsatCol.first())\n",
        "\n",
        "# Get the acquisition time of the first image (in milliseconds)\n",
        "acquisition_time_ms = firstLandsatImage.get('system:time_start').getInfo()\n",
        "\n",
        "# Convert milliseconds to a Python datetime object\n",
        "acquisition_datetime_utc = datetime.utcfromtimestamp(acquisition_time_ms / 1000)\n",
        "\n",
        "# Define the UTC timezone\n",
        "utc_timezone = pytz.timezone('UTC')\n",
        "\n",
        "# Localize the acquisition datetime to the UTC timezone\n",
        "acquisition_datetime_utc = utc_timezone.localize(acquisition_datetime_utc)\n",
        "\n",
        "# Define the US Central Time (CST) timezone\n",
        "cst_timezone = pytz.timezone('America/Chicago')\n",
        "\n",
        "# Convert the acquisition datetime from UTC to US Central Time (CST)\n",
        "acquisition_datetime_cst = acquisition_datetime_utc.astimezone(cst_timezone)\n",
        "\n",
        "# Print the acquisition time in US Central Time (CST)\n",
        "print(\"Acquisition Time (CST):\", acquisition_datetime_cst)"
      ],
      "metadata": {
        "colab": {
          "base_uri": "https://localhost:8080/",
          "height": 34
        },
        "id": "7oZ4iiD86lML",
        "outputId": "28a1a00b-0f06-44fe-9e40-d2d613e7a843"
      },
      "execution_count": 47,
      "outputs": [
        {
          "output_type": "display_data",
          "data": {
            "text/plain": [
              "<IPython.core.display.HTML object>"
            ],
            "text/html": [
              "\n",
              "            <style>\n",
              "                .geemap-dark {\n",
              "                    --jp-widgets-color: white;\n",
              "                    --jp-widgets-label-color: white;\n",
              "                    --jp-ui-font-color1: white;\n",
              "                    --jp-layout-color2: #454545;\n",
              "                    background-color: #383838;\n",
              "                }\n",
              "\n",
              "                .geemap-dark .jupyter-button {\n",
              "                    --jp-layout-color3: #383838;\n",
              "                }\n",
              "\n",
              "                .geemap-colab {\n",
              "                    background-color: var(--colab-primary-surface-color, white);\n",
              "                }\n",
              "\n",
              "                .geemap-colab .jupyter-button {\n",
              "                    --jp-layout-color3: var(--colab-primary-surface-color, white);\n",
              "                }\n",
              "            </style>\n",
              "            "
            ]
          },
          "metadata": {}
        },
        {
          "output_type": "stream",
          "name": "stdout",
          "text": [
            "Acquisition Time (CST): 2022-06-09 11:34:48.722000-05:00\n"
          ]
        }
      ]
    },
    {
      "cell_type": "markdown",
      "source": [
        "\\\n",
        "\\\n",
        "\\\n",
        "\\\n",
        "\\\n",
        "\\\n",
        "\\\n",
        "\\\n",
        "\\\n",
        "\\\n",
        "\\"
      ],
      "metadata": {
        "id": "3WAvDP_0eT8C"
      }
    },
    {
      "cell_type": "markdown",
      "source": [
        "\n",
        "\n",
        "1.   make image stack of all data -> convert to csv?\n",
        "4.   get hot spots of all thermal -> stack and display 2 bands?\n",
        "6.   see how correlated each image is to land cover\n",
        "\n"
      ],
      "metadata": {
        "id": "RkDiO-OYZbZy"
      }
    },
    {
      "cell_type": "code",
      "source": [
        "########## HOTSPOT\n",
        "\n",
        "from skimage import filters\n",
        "\n",
        "# Open the GeoTIFF image\n",
        "with rasterio.open('morning.tif') as src:\n",
        "    # Read the image as a numpy array\n",
        "    image = src.read()\n",
        "\n",
        "    src.close()\n",
        "\n",
        "# Flatten the image to a 1D array\n",
        "flat_image = image.flatten()\n",
        "\n",
        "# Calculate local standard deviation using a filter (e.g., gaussian filter)\n",
        "# You can choose other filters or methods depending on your requirements\n",
        "local_std = filters.gaussian(flat_image, sigma=5)\n",
        "\n",
        "# Reshape the result to the original image shape\n",
        "local_std = local_std.reshape(image.shape)\n",
        "\n",
        "# Define a threshold for hot spots\n",
        "threshold = 2.0  # Adjust as needed\n",
        "\n",
        "# Find hot spots (areas with high local standard deviation)\n",
        "hot_spots = local_std > threshold\n",
        "\n",
        "# Optionally, you can save the hot spot mask to a new GeoTIFF file\n",
        "with rasterio.open('hot_spots.tif', 'w', **src.profile) as dst:\n",
        "    dst.write(hot_spots.astype(np.uint8), 1)\n",
        "\n",
        "# Optionally, you can visualize the hot spots using matplotlib or other plotting libraries\n",
        "import matplotlib.pyplot as plt\n",
        "\n",
        "plt.imshow(hot_spots, cmap='hot', interpolation='nearest')\n",
        "plt.colorbar()\n",
        "plt.show()"
      ],
      "metadata": {
        "id": "QML5gohWZags"
      },
      "execution_count": null,
      "outputs": []
    },
    {
      "cell_type": "code",
      "source": [
        "########## CORRELATION"
      ],
      "metadata": {
        "id": "4XPBU4xOlonl"
      },
      "execution_count": null,
      "outputs": []
    },
    {
      "cell_type": "code",
      "source": [
        "# Install necessary packages\n",
        "!apt-get install python-gdal\n",
        "!pip install rasterio"
      ],
      "metadata": {
        "id": "1mkP61P1HlKN"
      },
      "execution_count": null,
      "outputs": []
    },
    {
      "cell_type": "code",
      "source": [
        "!ls"
      ],
      "metadata": {
        "id": "y1ExjyLIL2hT"
      },
      "execution_count": null,
      "outputs": []
    },
    {
      "cell_type": "code",
      "source": [
        "# Import libraries\n",
        "import numpy as np\n",
        "import rasterio\n",
        "from scipy.stats import gaussian_kde\n",
        "from rasterio.mask import mask as rio_mask\n",
        "\n",
        "imageList = ['morningTemp.tif', 'afternoonTemp.tif', 'eveningTemp.tif', 'landsatLST.tif']\n",
        "\n",
        "shapefile_path = 'Milwaukee_City_Boundary.shp'\n",
        "\n",
        "# Read the shapefile\n",
        "roi = gpd.read_file(shapefile_path)\n",
        "\n",
        "for image in imageList:\n",
        "# Read TIF image\n",
        "    tif_path = image\n",
        "    with rasterio.open(tif_path) as src:\n",
        "        data, transform = rio_mask(src, roi.geometry, crop=True)\n",
        "        data = data[0]  # Extract the masked data\n",
        "        shape = data.shape\n",
        "\n",
        "    src.close()\n",
        "    shape = data.shape\n",
        "    print(shape)\n",
        "    print(image.shape)\n",
        "    # Flatten the data\n",
        "    flat_data = data.flatten()\n",
        "\n",
        "    # Perform Getis-Ord analysis\n",
        "    z_scores = gaussian_kde(flat_data).evaluate(flat_data)\n",
        "\n",
        "    # Reshape Z scores back to the original shape\n",
        "    z_scores = z_scores.reshape(shape)\n",
        "\n",
        "    # Plot the results\n",
        "    plt.figure(figsize=(10, 8))\n",
        "    plt.imshow(z_scores, cmap='coolwarm', interpolation='nearest')\n",
        "    plt.colorbar(label='Getis-Ord Z Score')\n",
        "    plt.title(f'Getis-Ord Analysis Results for {tif_path}')\n",
        "    plt.show()\n",
        "\n",
        "    # # # plt.hist(z_scores, bins=50)\n",
        "    # # # plt.xlabel('Z Score')\n",
        "    # # # plt.ylabel('Frequency')\n",
        "    # # # plt.title(f'Histogram of Getis-Ord Z Scores for {tif_path}')\n",
        "    # # # plt.show()\n",
        "\n"
      ],
      "metadata": {
        "id": "OVMoqepo89xS"
      },
      "execution_count": null,
      "outputs": []
    },
    {
      "cell_type": "code",
      "source": [],
      "metadata": {
        "id": "ZRw31lP-LTyS"
      },
      "execution_count": null,
      "outputs": []
    },
    {
      "cell_type": "markdown",
      "source": [
        "Mosaic the classification images"
      ],
      "metadata": {
        "id": "IQkhNbTFhy5o"
      }
    },
    {
      "cell_type": "code",
      "source": [
        "from rasterio.enums import Resampling\n",
        "from rasterio.merge import merge\n",
        "from rasterio.plot import show\n",
        "\n",
        "# Open the six images\n",
        "image_files = ['milwaukeeClassification1.tif',\n",
        "               'milwaukeeClassification2.tif',\n",
        "               'milwaukeeClassification3.tif',\n",
        "               'milwaukeeClassification4.tif',\n",
        "               'milwaukeeClassification5.tif',\n",
        "               'milwaukeeClassification6.tif']\n",
        "\n",
        "src_files_to_mosaic = []\n",
        "\n",
        "for file in image_files:\n",
        "    src = rasterio.open(file)\n",
        "    src_files_to_mosaic.append(src)\n",
        "\n",
        "# Mosaic the images\n",
        "classMosaic, out_trans = merge(src_files_to_mosaic)\n",
        "\n",
        "src.close()\n",
        "\n",
        "# Display the mosaic\n",
        "#show(mosaic, cmap='gray')\n",
        "\n",
        "# Assuming your 3D array\n",
        "num_bands, x_size, y_size = classMosaic.shape\n",
        "\n",
        "# Transpose the flattened image data\n",
        "#transposed_image = classMosaic.transpose(1, 2, 0)\n",
        "\n",
        "# Reshape the array to 2D\n",
        "flattened_image = np.reshape(classMosaic, (num_bands, x_size * y_size))\n",
        "\n",
        "print(flattened_image.size)\n",
        "################################\n",
        "from PIL import Image\n",
        "\n",
        "# Open the image\n",
        "image = Image.open('morningTemp.tif')\n",
        "\n",
        "# Get the dimensions of the image\n",
        "width, height = image.size\n",
        "\n",
        "# Calculate the number of pixels\n",
        "num_pixels = width * height\n",
        "\n",
        "print(\"Number of pixels in the image:\", num_pixels)\n",
        "image.close()\n",
        "##################################################################\n",
        "export_image(flattened_image, 'morningTemp.tif', 'milwaukeeClassficationMosaic.tif')\n",
        "\n",
        "# # export the images to your Google Drive\n",
        "files.download('milwaukeeClassficationMosaic.tif')"
      ],
      "metadata": {
        "id": "olI_iyxJf9bN"
      },
      "execution_count": null,
      "outputs": []
    },
    {
      "cell_type": "code",
      "source": [
        "from PIL import Image\n",
        "import csv\n",
        "\n",
        "# Open the six images\n",
        "images = [\n",
        "    Image.open(\"morningTemp.tif\"),\n",
        "    Image.open(\"afternoonTemp.tif\"),\n",
        "    Image.open(\"eveningTemp.tif\"),\n",
        "    Image.open(\"landsatLST.tif\"),\n",
        "    Image.open(classMosaic)\n",
        "]\n",
        "\n",
        "# Get the dimensions of the images\n",
        "image_width, image_height = images[0].size\n",
        "\n",
        "# Create a CSV file and write the header\n",
        "with open(\"milwaukee_image_data.csv\", \"w\", newline=\"\") as csvfile:\n",
        "    writer = csv.writer(csvfile)\n",
        "\n",
        "    # Write header row\n",
        "    header = ['Pixel_X', 'Pixel_Y', 'morningTemp', 'afternoonTemp', 'eveningTemp', 'landsatLST', 'LCclass']\n",
        "    writer.writerow(header)\n",
        "\n",
        "    # Iterate through each pixel of the images and write to CSV\n",
        "    for y in range(image_height):\n",
        "        for x in range(image_width):\n",
        "            pixel_data = [x, y]\n",
        "            for image in images:\n",
        "                pixel_value = image.getpixel((x, y))\n",
        "                pixel_data.append(pixel_value)\n",
        "            writer.writerow(pixel_data)\n",
        "\n",
        "print(\"CSV file generated successfully.\")\n",
        "!ls"
      ],
      "metadata": {
        "id": "kV5Tj2kU2HpF"
      },
      "execution_count": null,
      "outputs": []
    }
  ]
}
